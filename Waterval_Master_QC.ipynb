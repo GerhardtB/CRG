{
 "cells": [
  {
   "cell_type": "markdown",
   "metadata": {},
   "source": [
    "# Data Analysis for Rustenburg (Waterval)"
   ]
  },
  {
   "cell_type": "markdown",
   "metadata": {
    "toc": true
   },
   "source": [
    "<h1>Table of Contents<span class=\"tocSkip\"></span></h1>\n",
    "<div class=\"toc\"><ul class=\"toc-item\"><li><span><a href=\"#Data-Analysis-for-Rustenburg-(Waterval)\" data-toc-modified-id=\"Data-Analysis-for-Rustenburg-(Waterval)-1\"><span class=\"toc-item-num\">1&nbsp;&nbsp;</span>Data Analysis for Rustenburg (Waterval)</a></span><ul class=\"toc-item\"><li><span><a href=\"#Load-libraries-and-functions-\" data-toc-modified-id=\"Load-libraries-and-functions--1.1\"><span class=\"toc-item-num\">1.1&nbsp;&nbsp;</span>Load libraries and functions <a name=\"libraries\"></a></a></span></li><li><span><a href=\"#Loading-Google-sheets\" data-toc-modified-id=\"Loading-Google-sheets-1.2\"><span class=\"toc-item-num\">1.2&nbsp;&nbsp;</span>Loading Google sheets</a></span></li><li><span><a href=\"#Defaults-and-functions\" data-toc-modified-id=\"Defaults-and-functions-1.3\"><span class=\"toc-item-num\">1.3&nbsp;&nbsp;</span>Defaults and functions</a></span></li><li><span><a href=\"#Define-directories\" data-toc-modified-id=\"Define-directories-1.4\"><span class=\"toc-item-num\">1.4&nbsp;&nbsp;</span>Define directories</a></span></li></ul></li><li><span><a href=\"#Waterval-AQMS-Logger-data-\" data-toc-modified-id=\"Waterval-AQMS-Logger-data--2\"><span class=\"toc-item-num\">2&nbsp;&nbsp;</span>Waterval AQMS Logger data <a id=\"importingWaterval\"></a></a></span><ul class=\"toc-item\"><li><ul class=\"toc-item\"><li><span><a href=\"#Exploring-the-Rustenburg-(Waterval)-data-directory-\" data-toc-modified-id=\"Exploring-the-Rustenburg-(Waterval)-data-directory--2.0.1\"><span class=\"toc-item-num\">2.0.1&nbsp;&nbsp;</span>Exploring the Rustenburg (Waterval) data directory <a id=\"exploringWaterval\"></a></a></span></li><li><span><a href=\"#Importing-and-formatting-the-logger-data-\" data-toc-modified-id=\"Importing-and-formatting-the-logger-data--2.0.2\"><span class=\"toc-item-num\">2.0.2&nbsp;&nbsp;</span>Importing and formatting the logger data <a id=\"importingWatervalLogger\"></a></a></span></li><li><span><a href=\"#Troubleshoot-problematic-files\" data-toc-modified-id=\"Troubleshoot-problematic-files-2.0.3\"><span class=\"toc-item-num\">2.0.3&nbsp;&nbsp;</span>Troubleshoot problematic files</a></span></li></ul></li></ul></li><li><span><a href=\"#Waterval-E-Bam-data-\" data-toc-modified-id=\"Waterval-E-Bam-data--3\"><span class=\"toc-item-num\">3&nbsp;&nbsp;</span>Waterval E-Bam data <a id=\"exploringImportingeBam\"></a></a></span><ul class=\"toc-item\"><li><ul class=\"toc-item\"><li><span><a href=\"#Importing-and-formatting-the-eBam-data-\" data-toc-modified-id=\"Importing-and-formatting-the-eBam-data--3.0.1\"><span class=\"toc-item-num\">3.0.1&nbsp;&nbsp;</span>Importing and formatting the eBam data <a id=\"importingeBam\"></a></a></span></li></ul></li><li><span><a href=\"#Data-quality-control-and-assurance-\" data-toc-modified-id=\"Data-quality-control-and-assurance--3.1\"><span class=\"toc-item-num\">3.1&nbsp;&nbsp;</span>Data quality control and assurance <a id=\"qcac\"></a></a></span><ul class=\"toc-item\"><li><span><a href=\"#Set-raw-variables\" data-toc-modified-id=\"Set-raw-variables-3.1.1\"><span class=\"toc-item-num\">3.1.1&nbsp;&nbsp;</span>Set raw variables</a></span></li><li><span><a href=\"#Apply-documented-problems\" data-toc-modified-id=\"Apply-documented-problems-3.1.2\"><span class=\"toc-item-num\">3.1.2&nbsp;&nbsp;</span>Apply documented problems</a></span></li><li><span><a href=\"#Line/battery-voltage-\" data-toc-modified-id=\"Line/battery-voltage--3.1.3\"><span class=\"toc-item-num\">3.1.3&nbsp;&nbsp;</span>Line/battery voltage <a id=\"lbVqc\"></a></a></span></li><li><span><a href=\"#PM-\" data-toc-modified-id=\"PM--3.1.4\"><span class=\"toc-item-num\">3.1.4&nbsp;&nbsp;</span>PM <a id=\"pmqc\"></a></a></span></li><li><span><a href=\"#SO2-\" data-toc-modified-id=\"SO2--3.1.5\"><span class=\"toc-item-num\">3.1.5&nbsp;&nbsp;</span>SO2 <a id=\"SO2qc\"></a></a></span></li><li><span><a href=\"#O3-\" data-toc-modified-id=\"O3--3.1.6\"><span class=\"toc-item-num\">3.1.6&nbsp;&nbsp;</span>O3 <a id=\"O3qc\"></a></a></span></li><li><span><a href=\"#NO-\" data-toc-modified-id=\"NO--3.1.7\"><span class=\"toc-item-num\">3.1.7&nbsp;&nbsp;</span>NO <a id=\"NOqc\"></a></a></span></li><li><span><a href=\"#CO-\" data-toc-modified-id=\"CO--3.1.8\"><span class=\"toc-item-num\">3.1.8&nbsp;&nbsp;</span>CO <a id=\"coqc\"></a></a></span></li><li><span><a href=\"#Wind-speed-and--direction-\" data-toc-modified-id=\"Wind-speed-and--direction--3.1.9\"><span class=\"toc-item-num\">3.1.9&nbsp;&nbsp;</span>Wind speed and -direction <a id=\"wswd\"></a></a></span></li><li><span><a href=\"#Temperature-and-relative-humidity-\" data-toc-modified-id=\"Temperature-and-relative-humidity--3.1.10\"><span class=\"toc-item-num\">3.1.10&nbsp;&nbsp;</span>Temperature and relative humidity <a id=\"temprelhum\"></a></a></span></li></ul></li><li><span><a href=\"#Merging-and-exporting-the-3-data-streams--\" data-toc-modified-id=\"Merging-and-exporting-the-3-data-streams---3.2\"><span class=\"toc-item-num\">3.2&nbsp;&nbsp;</span>Merging and exporting the 3 data streams  <a id=\"mergeExportStreams\"></a></a></span><ul class=\"toc-item\"><li><span><a href=\"#Merging-the-data-\" data-toc-modified-id=\"Merging-the-data--3.2.1\"><span class=\"toc-item-num\">3.2.1&nbsp;&nbsp;</span>Merging the data <a id=\"mergeStreams\"></a></a></span></li></ul></li></ul></li><li><span><a href=\"#Visualization\" data-toc-modified-id=\"Visualization-4\"><span class=\"toc-item-num\">4&nbsp;&nbsp;</span>Visualization</a></span></li><li><span><a href=\"#Source-Apporiment-Met-Data-Spring\" data-toc-modified-id=\"Source-Apporiment-Met-Data-Spring-5\"><span class=\"toc-item-num\">5&nbsp;&nbsp;</span>Source Apporiment Met Data Spring</a></span></li></ul></div>"
   ]
  },
  {
   "cell_type": "markdown",
   "metadata": {},
   "source": [
    "## Load libraries and functions <a name=\"libraries\"></a>"
   ]
  },
  {
   "cell_type": "code",
   "execution_count": 1,
   "metadata": {},
   "outputs": [],
   "source": [
    "# The pandas data science library that gives a 'spreadsheet'-like capabilities to python\n",
    "import pandas as pd\n",
    "# The matplotlih library is used to visualize data\n",
    "import matplotlib.pyplot as plt\n",
    "# The pathlib library is used to manage access to disk. It helps us to keep things the same between Windows and Linux\n",
    "from pathlib import Path\n",
    "# The os library is used to list and access files and directories on the hard drive\n",
    "import os\n",
    "# Numpy is the numerical library. It is used by many of the ones before, but we import it for in case\n",
    "import numpy as np\n",
    "# From Numpy we also import the nan 'missing-value' object that we use alot\n",
    "from numpy import nan\n",
    "# For fancy matching of strings, we use re\n",
    "import re\n",
    "# String libary for temporary file import\n",
    "from io import StringIO\n",
    "# Create tooltips for interactive plots\n",
    "import mpld3\n",
    "# For connect to google sheet\n",
    "import gspread\n",
    "from oauth2client.service_account import ServiceAccountCredentials\n",
    "\n",
    "from scipy import interpolate\n",
    "from windrose import WindroseAxes\n",
    "from matplotlib.colors import BoundaryNorm\n",
    "from matplotlib.ticker import MaxNLocator\n",
    "import matplotlib.cm as cm\n",
    "\n",
    "import ipywidgets as widgets\n",
    "from ipywidgets import interact, interact_manual\n",
    "\n",
    "import seaborn as sns\n",
    "sns.set_theme(style=\"darkgrid\")"
   ]
  },
  {
   "cell_type": "code",
   "execution_count": 2,
   "metadata": {},
   "outputs": [],
   "source": [
    "import seaborn as sns\n",
    "#sns.set_theme(style=\"darkgrid\")"
   ]
  },
  {
   "cell_type": "code",
   "execution_count": 3,
   "metadata": {},
   "outputs": [],
   "source": [
    "# This 'widget' is used to give us interactive graph capabilities in the matplotlib figures\n",
    "%matplotlib widget"
   ]
  },
  {
   "cell_type": "markdown",
   "metadata": {},
   "source": [
    "## Loading Google sheets"
   ]
  },
  {
   "cell_type": "code",
   "execution_count": 4,
   "metadata": {},
   "outputs": [],
   "source": [
    "# Configure the connection \n",
    "scope = ['https://spreadsheets.google.com/feeds']\n",
    "\n",
    "# Give the path to the Service Account Credential json file \n",
    "# 1. Go to Google Development Console (https://console.developers.google.com/project)\n",
    "# 2. Create new project\n",
    "# 3. Go to “APIs & Services > Credentials” and choose “Create credentials > Service account key”.\n",
    "# 4. Fill out the form\n",
    "# 5. Click “Create key”\n",
    "# 6. Select “JSON” and click “Create”\n",
    "\n",
    "credentials = ServiceAccountCredentials.from_json_keyfile_name('key/crgprojects-b66f872bd816.json',\n",
    "                                                               scope)\n",
    "# Authorise your Notebook\n",
    "gc = gspread.authorize(credentials)\n",
    "\n",
    "# The sprad sheet ID, which can be taken from the link to the sheet\n",
    "#https://docs.google.com/spreadsheets/d/1Fe1P2QEiCjl7KK6YEckzGLC_VqOuGtaChaDGbn2SOhE/edit?usp=sharing\n",
    "#spreadsheet_key = '1pwJDzIl1O8gQSHD8SekW6442rrLRgLVTYA90dQb7chg'\n",
    "spreadsheet_key = '1Fe1P2QEiCjl7KK6YEckzGLC_VqOuGtaChaDGbn2SOhE'\n",
    "\n",
    "#Opening the worksheet by using Worksheet ID\n",
    "def readSheet():\n",
    "    workbook = gc.open_by_key(spreadsheet_key)#Selecting which sheet to pulling the data\n",
    "    reports = workbook.worksheet('Instrument Failure report')#Pulling the data and transform it to the data frame\n",
    "    values = reports.get_all_values()\n",
    "    Reports = pd.DataFrame(values[1:], columns=values[0])\n",
    "    Reports=Reports[Reports['What is the site']=='Waterkloof AQMS']\n",
    "    return(reports,Reports)\n",
    "reports, Reports = readSheet()"
   ]
  },
  {
   "cell_type": "code",
   "execution_count": 271,
   "metadata": {},
   "outputs": [
    {
     "data": {
      "text/html": [
       "<div>\n",
       "<style scoped>\n",
       "    .dataframe tbody tr th:only-of-type {\n",
       "        vertical-align: middle;\n",
       "    }\n",
       "\n",
       "    .dataframe tbody tr th {\n",
       "        vertical-align: top;\n",
       "    }\n",
       "\n",
       "    .dataframe thead th {\n",
       "        text-align: right;\n",
       "    }\n",
       "</style>\n",
       "<table border=\"1\" class=\"dataframe\">\n",
       "  <thead>\n",
       "    <tr style=\"text-align: right;\">\n",
       "      <th></th>\n",
       "      <th>Timestamp</th>\n",
       "      <th>What is the site</th>\n",
       "      <th>Which instrument failed?</th>\n",
       "      <th>When did the instrument start failing?</th>\n",
       "      <th>What time did the instrument start to fail?</th>\n",
       "      <th>Have you fixed the problem?</th>\n",
       "      <th>When was the instrument failure fixed?</th>\n",
       "      <th>What time was the instrument failure fixed?</th>\n",
       "      <th>Give a description of the failure</th>\n",
       "      <th>Who is doing this report</th>\n",
       "      <th>If No, was the current status of the instrument.</th>\n",
       "    </tr>\n",
       "  </thead>\n",
       "  <tbody>\n",
       "    <tr>\n",
       "      <th>28</th>\n",
       "      <td>1/26/2021 16:31:50</td>\n",
       "      <td>Waterkloof AQMS</td>\n",
       "      <td>PM10 (ug/m3)</td>\n",
       "      <td>10/28/2020</td>\n",
       "      <td>12:15</td>\n",
       "      <td>Yes</td>\n",
       "      <td>2/20/2021</td>\n",
       "      <td>9:42</td>\n",
       "      <td>Unknown</td>\n",
       "      <td>Roelof Burger</td>\n",
       "      <td></td>\n",
       "    </tr>\n",
       "  </tbody>\n",
       "</table>\n",
       "</div>"
      ],
      "text/plain": [
       "             Timestamp What is the site Which instrument failed?  \\\n",
       "28  1/26/2021 16:31:50  Waterkloof AQMS             PM10 (ug/m3)   \n",
       "\n",
       "   When did the instrument start failing?  \\\n",
       "28                             10/28/2020   \n",
       "\n",
       "   What time did the instrument start to fail? Have you fixed the problem?  \\\n",
       "28                                       12:15                         Yes   \n",
       "\n",
       "   When was the instrument failure fixed?  \\\n",
       "28                              2/20/2021   \n",
       "\n",
       "   What time was the instrument failure fixed?  \\\n",
       "28                                        9:42   \n",
       "\n",
       "   Give a description of the failure Who is doing this report  \\\n",
       "28                           Unknown            Roelof Burger   \n",
       "\n",
       "   If No, was the current status of the instrument.  \n",
       "28                                                   "
      ]
     },
     "execution_count": 271,
     "metadata": {},
     "output_type": "execute_result"
    }
   ],
   "source": [
    "Reports"
   ]
  },
  {
   "cell_type": "markdown",
   "metadata": {},
   "source": [
    "## Defaults and functions"
   ]
  },
  {
   "cell_type": "code",
   "execution_count": 6,
   "metadata": {},
   "outputs": [],
   "source": [
    "def head(filename,N=10):\n",
    "    n=0\n",
    "    with open(Path(filename)) as fp:\n",
    "        for l in fp.readlines():\n",
    "            if n<N:\n",
    "                print(l,end=\"\")\n",
    "                n=n+1\n",
    "                \n",
    "def tail(filename,N=10):\n",
    "    n=0\n",
    "    with open(Path(filename)) as fp:\n",
    "        lines=[i for i in fp.readlines()]\n",
    "        Nlines=len(lines)\n",
    "        for l in lines[Nlines-N:]:\n",
    "            if n<N:\n",
    "                print(l,end=\"\")\n",
    "                n=n+1\n",
    "                \n",
    "def ConvertNumeric(df,var):\n",
    "    df[var]= pd.to_numeric(df[var],errors='coerce')\n",
    "\n",
    "def testLogger(filename):\n",
    "    Sep=\",\"\n",
    "    Data=[]\n",
    "    with open(filename) as fp:\n",
    "        for line in fp.readlines():\n",
    "            row=line.split(Sep)\n",
    "            Data.append(len(row))\n",
    "    print(pd.DataFrame({\"Columns\":Data}).describe())\n",
    "    \n",
    "def ncolumnsLogger(filename):\n",
    "    Sep=\",\"\n",
    "    Data=[]\n",
    "    with open(filename) as fp:\n",
    "        for line in fp.readlines():\n",
    "            row=line.split(Sep)\n",
    "            Data.append(len(row))\n",
    "    return(np.median(np.array(Data)))\n",
    "\n",
    "def readLogger(filename, nLines=18):\n",
    "    DataString=\"\"\n",
    "    Sep=\",\"\n",
    "    with open(filename) as fp:\n",
    "        for line in fp.readlines():\n",
    "            row=line.split(Sep)\n",
    "            if isinstance(nLines, list):\n",
    "                if len(row) in nLines and re.match('\\W*(\\d{4})[/.-](\\d{2})[/.-](\\d{2})\\s{1}(\\d{2}):(\\d{2}):(\\d{2})\\W*',row[0]):\n",
    "                    DataString=DataString+line                \n",
    "            else:\n",
    "                if len(row) == nLines and re.match('\\W*(\\d{4})[/.-](\\d{2})[/.-](\\d{2})\\s{1}(\\d{2}):(\\d{2}):(\\d{2})\\W*',row[0]):\n",
    "                    DataString=DataString+line\n",
    "    return(DataString)\n",
    "\n",
    "def readRM(filename, nLines=18):\n",
    "    DataString=\"\"\n",
    "    Sep=\",\"\n",
    "    with open(filename) as fp:\n",
    "        for line in fp.readlines():\n",
    "            row=line.split(Sep)\n",
    "            if len(row) == nLines and re.match('\\W*(\\d{4})[/.-](\\d{2})[/.-](\\d{2})\\s{1}(\\d{2}):(\\d{2}):(\\d{2})\\W*',row[0]):\n",
    "                DataString=DataString+line\n",
    "    return(DataString)\n",
    "\n",
    "def lsR(dir,pattern=\".csv\",prefix=\"\",postfix=\"\"):\n",
    "    list=[]\n",
    "    for path,dirs,files in os.walk(Path(dir)):\n",
    "        for f in files:\n",
    "            if f.count(pattern) > 0 and f.startswith(prefix) and f.endswith(postfix):\n",
    "                list.append(os.path.join(path,f))\n",
    "    return(list)"
   ]
  },
  {
   "cell_type": "markdown",
   "metadata": {},
   "source": [
    "## Define directories"
   ]
  },
  {
   "cell_type": "code",
   "execution_count": 17,
   "metadata": {},
   "outputs": [],
   "source": [
    "HomeDir=Path('/home/roelof/Dropbox (NWU)')\n",
    "DataDir = Path(HomeDir / 'CRG_Projects/01_Research_Campaigns/Anglo_SA/01_Field Campaigns')\n",
    "FinalDataDir=Path(HomeDir / 'CRG_Projects/01_Research_Campaigns/Anglo_SA/03_FinalData')"
   ]
  },
  {
   "cell_type": "code",
   "execution_count": 18,
   "metadata": {},
   "outputs": [],
   "source": [
    "# Rustenburg\n",
    "Rustenburg_StartDate='2020-08-05'"
   ]
  },
  {
   "cell_type": "markdown",
   "metadata": {},
   "source": [
    "# Waterval AQMS Logger data <a id=\"importingWaterval\"></a>\n",
    "[Go to the top](#top)"
   ]
  },
  {
   "cell_type": "markdown",
   "metadata": {},
   "source": [
    "### Exploring the Rustenburg (Waterval) data directory <a id=\"exploringWaterval\"></a>"
   ]
  },
  {
   "cell_type": "code",
   "execution_count": 8,
   "metadata": {},
   "outputs": [
    {
     "data": {
      "text/plain": [
       "['GM_All_Locations',\n",
       " 'Northam - Main AQMS',\n",
       " 'Road Traffic Nata - NOVA',\n",
       " 'ES642-data.csv',\n",
       " 'ANGLO SA Project - Coordinates.kml',\n",
       " 'ES642 - All Locations',\n",
       " '03_3032_ASA_Winter',\n",
       " 'Rustenburg - Main AQMS',\n",
       " 'Anglo SA AQMS - Field Logs.xlsx',\n",
       " 'Northam-test.csv',\n",
       " '02_2021_ASA_Autumn',\n",
       " '01_2020_ASA_Spring',\n",
       " 'ES642-summary.csv',\n",
       " 'ES642']"
      ]
     },
     "execution_count": 8,
     "metadata": {},
     "output_type": "execute_result"
    }
   ],
   "source": [
    "os.listdir(DataDir)"
   ]
  },
  {
   "cell_type": "code",
   "execution_count": 9,
   "metadata": {},
   "outputs": [
    {
     "data": {
      "text/plain": [
       "['20200812',\n",
       " '20200821',\n",
       " '20200828',\n",
       " '20200902',\n",
       " '20200910',\n",
       " '20200918',\n",
       " '20200922',\n",
       " '20201002',\n",
       " '20201008',\n",
       " '20201015',\n",
       " '20201021',\n",
       " '20201104',\n",
       " '20201105',\n",
       " '20201112',\n",
       " '20201118',\n",
       " '20201126',\n",
       " '20201202',\n",
       " '20201210',\n",
       " '20201215',\n",
       " '20210114',\n",
       " '20210120',\n",
       " '20210129',\n",
       " '20210210',\n",
       " '20210224',\n",
       " '20210309',\n",
       " '20210318',\n",
       " '20210330',\n",
       " '20210414',\n",
       " '20210422',\n",
       " '20210504',\n",
       " '20210510',\n",
       " '20210520',\n",
       " '20210601',\n",
       " '20210608',\n",
       " '20210614',\n",
       " '20210620',\n",
       " '20210630',\n",
       " '20210806',\n",
       " '20210820',\n",
       " '20210831']"
      ]
     },
     "execution_count": 9,
     "metadata": {},
     "output_type": "execute_result"
    }
   ],
   "source": [
    "sorted(os.listdir(Path(DataDir / 'Rustenburg - Main AQMS/Logger Data' )))"
   ]
  },
  {
   "cell_type": "markdown",
   "metadata": {},
   "source": [
    "18 fields\n",
    "4 header lines"
   ]
  },
  {
   "cell_type": "code",
   "execution_count": 278,
   "metadata": {
    "scrolled": true
   },
   "outputs": [
    {
     "data": {
      "text/plain": [
       "['/home/roelof/Dropbox (NWU)/CRG_Projects/01_Research_Campaigns/Anglo_SA/01_Field Campaigns/Rustenburg - Main AQMS/Logger Data/20200812/CR1000_Rustenburg_AngloSA_Table1_2020_08_12_10_53_28.dat',\n",
       " '/home/roelof/Dropbox (NWU)/CRG_Projects/01_Research_Campaigns/Anglo_SA/01_Field Campaigns/Rustenburg - Main AQMS/Logger Data/20200821/CR1000_Rustenburg_AngloSA_Table1_2020_08_21_16_13_22.dat',\n",
       " '/home/roelof/Dropbox (NWU)/CRG_Projects/01_Research_Campaigns/Anglo_SA/01_Field Campaigns/Rustenburg - Main AQMS/Logger Data/20200828/CR1000_Rustenburg_AngloSA_Table1_2020_08_28_09_48.dat',\n",
       " '/home/roelof/Dropbox (NWU)/CRG_Projects/01_Research_Campaigns/Anglo_SA/01_Field Campaigns/Rustenburg - Main AQMS/Logger Data/20200902/CR1000_Rustenburg_AngloSA_Table1_2020_08_28_09_48_2020_09_02_16_42_22.dat',\n",
       " '/home/roelof/Dropbox (NWU)/CRG_Projects/01_Research_Campaigns/Anglo_SA/01_Field Campaigns/Rustenburg - Main AQMS/Logger Data/20200910/CR1000_Rustenburg_AngloSA_Table1_2020_09_10_07_50_2020_09_10_07_51_51.dat',\n",
       " '/home/roelof/Dropbox (NWU)/CRG_Projects/01_Research_Campaigns/Anglo_SA/01_Field Campaigns/Rustenburg - Main AQMS/Logger Data/20200918/CR1000_Rustenburg_AngloSA_Table1_2020_09_18_07_50_2020_09_18_07_54_55.dat',\n",
       " '/home/roelof/Dropbox (NWU)/CRG_Projects/01_Research_Campaigns/Anglo_SA/01_Field Campaigns/Rustenburg - Main AQMS/Logger Data/20200922/CR1000_Rustenburg_AngloSA_Table1_2020_09_22_09_47_2020_09_22_09_48_21.dat',\n",
       " '/home/roelof/Dropbox (NWU)/CRG_Projects/01_Research_Campaigns/Anglo_SA/01_Field Campaigns/Rustenburg - Main AQMS/Logger Data/20201002/CR1000_Rustenburg_AngloSA_Table1_2020_10_02_09_43_59.dat',\n",
       " '/home/roelof/Dropbox (NWU)/CRG_Projects/01_Research_Campaigns/Anglo_SA/01_Field Campaigns/Rustenburg - Main AQMS/Logger Data/20201008/CR1000_Rustenburg_AngloSA_Table1_2020_10_08_07_07_06.dat',\n",
       " '/home/roelof/Dropbox (NWU)/CRG_Projects/01_Research_Campaigns/Anglo_SA/01_Field Campaigns/Rustenburg - Main AQMS/Logger Data/20201015/CR1000_Rustenburg_AngloSA_Table1_2020_10_15_11_37_38.dat',\n",
       " '/home/roelof/Dropbox (NWU)/CRG_Projects/01_Research_Campaigns/Anglo_SA/01_Field Campaigns/Rustenburg - Main AQMS/Logger Data/20201021/CR1000_Rustenburg_AngloSA_Table1_2020_10_21_11_32_51.dat',\n",
       " '/home/roelof/Dropbox (NWU)/CRG_Projects/01_Research_Campaigns/Anglo_SA/01_Field Campaigns/Rustenburg - Main AQMS/Logger Data/20201104/CR1000_Rustenburg_AngloSA_Table1_2020_11_04_08_23_57.dat',\n",
       " '/home/roelof/Dropbox (NWU)/CRG_Projects/01_Research_Campaigns/Anglo_SA/01_Field Campaigns/Rustenburg - Main AQMS/Logger Data/20201105/CR1000_Rustenburg_AngloSA_Table1_2020_11_05_10_48_00.dat',\n",
       " '/home/roelof/Dropbox (NWU)/CRG_Projects/01_Research_Campaigns/Anglo_SA/01_Field Campaigns/Rustenburg - Main AQMS/Logger Data/20201112/CR1000_Rustenburg_AngloSA_Table1_2020_11_12_08_36_53.dat',\n",
       " '/home/roelof/Dropbox (NWU)/CRG_Projects/01_Research_Campaigns/Anglo_SA/01_Field Campaigns/Rustenburg - Main AQMS/Logger Data/20201118/CR1000_Rustenburg_AngloSA_Table1_2020_11_18_13_29_56.dat',\n",
       " '/home/roelof/Dropbox (NWU)/CRG_Projects/01_Research_Campaigns/Anglo_SA/01_Field Campaigns/Rustenburg - Main AQMS/Logger Data/20201126/CR1000_Rustenburg_AngloSA_Table1_2020_11_26_12_53_15.dat',\n",
       " '/home/roelof/Dropbox (NWU)/CRG_Projects/01_Research_Campaigns/Anglo_SA/01_Field Campaigns/Rustenburg - Main AQMS/Logger Data/20201202/CR1000_Rustenburg_AngloSA_Table1_2020_12_02_07_28_55.dat',\n",
       " '/home/roelof/Dropbox (NWU)/CRG_Projects/01_Research_Campaigns/Anglo_SA/01_Field Campaigns/Rustenburg - Main AQMS/Logger Data/20201210/CR1000_Rustenburg_AngloSA_Table1_2020_12_10_09_03_32.dat',\n",
       " '/home/roelof/Dropbox (NWU)/CRG_Projects/01_Research_Campaigns/Anglo_SA/01_Field Campaigns/Rustenburg - Main AQMS/Logger Data/20201215/CR1000_Rustenburg_AngloSA_Table1_2020_12_15_12_30_38.dat',\n",
       " '/home/roelof/Dropbox (NWU)/CRG_Projects/01_Research_Campaigns/Anglo_SA/01_Field Campaigns/Rustenburg - Main AQMS/Logger Data/20210114/CR1000_Rustenburg_AngloSA_Table1_2021_01_14_09_07_19.dat',\n",
       " '/home/roelof/Dropbox (NWU)/CRG_Projects/01_Research_Campaigns/Anglo_SA/01_Field Campaigns/Rustenburg - Main AQMS/Logger Data/20210120/CR1000_Rustenburg_AngloSA_Table1_2021_01_20_14_15_51.dat',\n",
       " '/home/roelof/Dropbox (NWU)/CRG_Projects/01_Research_Campaigns/Anglo_SA/01_Field Campaigns/Rustenburg - Main AQMS/Logger Data/20210129/CR1000_Rustenburg_AngloSA_Table1_2021_01_29_08_30_27.dat',\n",
       " '/home/roelof/Dropbox (NWU)/CRG_Projects/01_Research_Campaigns/Anglo_SA/01_Field Campaigns/Rustenburg - Main AQMS/Logger Data/20210210/CR1000_Rustenburg_AngloSA_Table1_2021_02_10_09_40_12.dat',\n",
       " '/home/roelof/Dropbox (NWU)/CRG_Projects/01_Research_Campaigns/Anglo_SA/01_Field Campaigns/Rustenburg - Main AQMS/Logger Data/20210224/CR1000_Rustenburg_AngloSA_Table1_2021_02_24_09_07_50.dat',\n",
       " '/home/roelof/Dropbox (NWU)/CRG_Projects/01_Research_Campaigns/Anglo_SA/01_Field Campaigns/Rustenburg - Main AQMS/Logger Data/20210309/CR1000_Rustenburg_AngloSA_Table1_2021_03_09_15_04_23.dat',\n",
       " '/home/roelof/Dropbox (NWU)/CRG_Projects/01_Research_Campaigns/Anglo_SA/01_Field Campaigns/Rustenburg - Main AQMS/Logger Data/20210318/CR1000_Rustenburg_AngloSA_Table1_2021_03_18_16_08_14.dat',\n",
       " '/home/roelof/Dropbox (NWU)/CRG_Projects/01_Research_Campaigns/Anglo_SA/01_Field Campaigns/Rustenburg - Main AQMS/Logger Data/20210330/CR1000_Rustenburg_AngloSA_Table1_2021_03_30_10_52_03.dat',\n",
       " '/home/roelof/Dropbox (NWU)/CRG_Projects/01_Research_Campaigns/Anglo_SA/01_Field Campaigns/Rustenburg - Main AQMS/Logger Data/20210422/CR1000_Rustenburg_AngloSA_Table1_2021_04_22_10_08_01.dat',\n",
       " '/home/roelof/Dropbox (NWU)/CRG_Projects/01_Research_Campaigns/Anglo_SA/01_Field Campaigns/Rustenburg - Main AQMS/Logger Data/20210504/CR1000_Rustenburg_Table1.dat',\n",
       " '/home/roelof/Dropbox (NWU)/CRG_Projects/01_Research_Campaigns/Anglo_SA/01_Field Campaigns/Rustenburg - Main AQMS/Logger Data/20210510/CR1000_Rustenburg_AngloSA_Table1_2021_05_10_11_52_42.dat',\n",
       " '/home/roelof/Dropbox (NWU)/CRG_Projects/01_Research_Campaigns/Anglo_SA/01_Field Campaigns/Rustenburg - Main AQMS/Logger Data/20210520/CR1000_Rustenburg_Table1.dat',\n",
       " '/home/roelof/Dropbox (NWU)/CRG_Projects/01_Research_Campaigns/Anglo_SA/01_Field Campaigns/Rustenburg - Main AQMS/Logger Data/20210601/CR1000_Rustenburg_Table1.dat',\n",
       " '/home/roelof/Dropbox (NWU)/CRG_Projects/01_Research_Campaigns/Anglo_SA/01_Field Campaigns/Rustenburg - Main AQMS/Logger Data/20210608/CR1000_Rustenburg_Table1.dat',\n",
       " '/home/roelof/Dropbox (NWU)/CRG_Projects/01_Research_Campaigns/Anglo_SA/01_Field Campaigns/Rustenburg - Main AQMS/Logger Data/20210614/CR1000_Rustenburg_Table1.dat',\n",
       " '/home/roelof/Dropbox (NWU)/CRG_Projects/01_Research_Campaigns/Anglo_SA/01_Field Campaigns/Rustenburg - Main AQMS/Logger Data/20210620/CR1000_Rustenburg_Table1.dat',\n",
       " '/home/roelof/Dropbox (NWU)/CRG_Projects/01_Research_Campaigns/Anglo_SA/01_Field Campaigns/Rustenburg - Main AQMS/Logger Data/20210630/CR1000_Rustenburg_Table1.dat',\n",
       " '/home/roelof/Dropbox (NWU)/CRG_Projects/01_Research_Campaigns/Anglo_SA/01_Field Campaigns/Rustenburg - Main AQMS/Logger Data/20210806/CR1000_Rustenburg_Table1.dat',\n",
       " '/home/roelof/Dropbox (NWU)/CRG_Projects/01_Research_Campaigns/Anglo_SA/01_Field Campaigns/Rustenburg - Main AQMS/Logger Data/20210820/CR1000_Rustenburg_Table1.dat',\n",
       " '/home/roelof/Dropbox (NWU)/CRG_Projects/01_Research_Campaigns/Anglo_SA/01_Field Campaigns/Rustenburg - Main AQMS/Logger Data/20210831/CR1000_Rustenburg_Table1.dat']"
      ]
     },
     "execution_count": 278,
     "metadata": {},
     "output_type": "execute_result"
    }
   ],
   "source": [
    "#List the logger files in the tree\n",
    "sorted(lsR(Path(DataDir / 'Rustenburg - Main AQMS/Logger Data'),\"Table1\")) "
   ]
  },
  {
   "cell_type": "code",
   "execution_count": 28,
   "metadata": {},
   "outputs": [
    {
     "name": "stdout",
     "output_type": "stream",
     "text": [
      "\"2021-08-20 08:27:00\",483781,0.79,0.499,320,19.93,14.27,12.61,38.38,0,13.99116,2.710028,1.467932,0.3387535,3.048782,7.987244,-360.2585,216.0062,13.25649,49.65223,19.08311\n",
      "\"2021-08-20 08:28:00\",483782,0.86,0.479,342,26.88,14.41,12.64,38.32,0,13.99853,2.710028,1.016261,0.1129178,3.048782,8.691286,-360.3714,215.9893,13.38226,49.31348,19.98646\n",
      "\"2021-08-20 08:29:00\",483783,0.59,0.413,331,20.4,14.48,12.69,38.36,0,13.99391,2.710028,0.7904249,0.5645892,3.048782,8.909782,-359.3551,215.8368,13.50746,49.76515,18.85728\n",
      "\"2021-08-20 08:30:00\",483784,0.74,0.425,303.9,27.97,14.73,12.74,38.14,0,13.99299,2.710028,0.2258356,0.2258357,3.274617,7.914412,-359.1293,215.7521,13.6417,49.65223,19.87354\n",
      "\"2021-08-20 08:31:00\",483785,0.26,0.161,359,56.71,14.87,12.79,37.74,0,13.99668,2.710028,0.1129179,1.355014,3.274617,9.492438,-359.2422,215.7691,13.78497,49.31348,19.30895\n",
      "\"2021-08-20 08:32:00\",483786,0.59,0.394,144.6,61.85,15.01,12.88,37.78,0,13.99671,2.710028,0.4516713,0.3387535,2.484193,9.29822,-358.7906,215.7013,13.9194,49.53931,20.32521\n",
      "\"2021-08-20 08:33:00\",483787,0.63,0.337,87,79.33,15.16,13.01,37.67,0,14.00071,2.710028,-0.1129177,0.1129178,2.484193,8.958337,-360.3714,215.5997,14.0461,49.53931,18.85728\n",
      "\"2021-08-20 08:34:00\",483788,0.76,0.522,58.31,71.64,15.34,13.2,37.24,0,13.99633,3.500453,0.7904249,0.677507,3.048782,9.783767,-359.8068,215.5658,14.1777,49.76515,19.6477\n",
      "\"2021-08-20 08:35:00\",483789,0.86,0.653,304.9,28.17,15.52,13.31,36.47,0,13.99684,4.065042,1.242096,1.242096,3.274617,8.958337,-360.0326,215.5658,14.31646,49.4264,18.85728\n",
      "\"2021-08-20 08:36:00\",483790,0.97,0.706,307.3,24.95,15.65,13.31,36.53,0,13.99596,4.065042,-0.3387535,0.7904248,2.822946,11.43462,-360.0326,215.3625,14.4554,50.1039,19.76062\n"
     ]
    }
   ],
   "source": [
    "tail('/home/roelof/Dropbox (NWU)/CRG_Projects/01_Research_Campaigns/Anglo_SA/01_Field Campaigns/Rustenburg - Main AQMS/Logger Data/20210820/CR1000_Rustenburg_Table1.dat')"
   ]
  },
  {
   "cell_type": "markdown",
   "metadata": {},
   "source": [
    "### Importing and formatting the logger data <a id=\"importingWatervalLogger\"></a>"
   ]
  },
  {
   "cell_type": "code",
   "execution_count": 19,
   "metadata": {},
   "outputs": [
    {
     "name": "stdout",
     "output_type": "stream",
     "text": [
      "CR1000_Rustenburg_AngloSA_Table1_2020_08_28_09_48_2020_09_02_16_42_22.dat\n",
      "Reading...\n"
     ]
    },
    {
     "name": "stderr",
     "output_type": "stream",
     "text": [
      "/home/roelof/jupyter/envs/conda-python3-env/lib/python3.7/site-packages/IPython/core/interactiveshell.py:2714: DtypeWarning: Columns (3,6) have mixed types.Specify dtype option on import or set low_memory=False.\n",
      "  interactivity=interactivity, compiler=compiler, result=result)\n"
     ]
    },
    {
     "name": "stdout",
     "output_type": "stream",
     "text": [
      "CR1000_Rustenburg_AngloSA_Table1_2020_08_28_09_48.dat\n",
      "Reading...\n",
      "combine\n",
      "CR1000_Rustenburg_AngloSA_Table1_2020_10_15_11_37_38.dat\n",
      "Reading...\n",
      "combine\n",
      "CR1000_Rustenburg_AngloSA_Table1_2021_02_10_09_40_12.dat\n",
      "Reading...\n",
      "combine\n",
      "CR1000_Rustenburg_Table1.dat\n",
      "Reading...\n"
     ]
    },
    {
     "name": "stderr",
     "output_type": "stream",
     "text": [
      "/home/roelof/jupyter/envs/conda-python3-env/lib/python3.7/site-packages/IPython/core/interactiveshell.py:2714: DtypeWarning: Columns (15) have mixed types.Specify dtype option on import or set low_memory=False.\n",
      "  interactivity=interactivity, compiler=compiler, result=result)\n"
     ]
    },
    {
     "name": "stdout",
     "output_type": "stream",
     "text": [
      "combine\n",
      "CR1000_Rustenburg_Table1.dat\n",
      "Reading...\n",
      "combine\n",
      "CR1000_Rustenburg_AngloSA_Table1_2020_11_26_12_53_15.dat\n",
      "Reading...\n",
      "combine\n",
      "CR1000_Rustenburg_AngloSA_Table1_2020_08_12_10_53_28.dat\n",
      "Reading...\n",
      "combine\n",
      "CR1000_Rustenburg_AngloSA_Table1_2020_11_12_08_36_53.dat\n",
      "Reading...\n",
      "combine\n",
      "CR1000_Rustenburg_AngloSA_Table1_2021_01_29_08_30_27.dat\n",
      "Reading...\n",
      "combine\n",
      "CR1000_Rustenburg_Table1.dat\n",
      "Reading...\n",
      "combine\n",
      "CR1000_Rustenburg_Table1.dat\n",
      "Reading...\n",
      "combine\n",
      "CR1000_Rustenburg_AngloSA_Table1_2020_08_21_16_13_22.dat\n",
      "Reading...\n",
      "combine\n",
      "CR1000_Rustenburg_AngloSA_Table1_2020_12_15_12_30_38.dat\n",
      "Reading...\n",
      "combine\n",
      "CR1000_Rustenburg_AngloSA_Table1_2021_01_20_14_15_51.dat\n",
      "Reading...\n",
      "combine\n",
      "CR1000_Rustenburg_AngloSA_Table1_2020_10_08_07_07_06.dat\n",
      "Reading...\n",
      "combine\n",
      "CR1000_Rustenburg_Table1.dat\n",
      "Reading...\n",
      "combine\n",
      "CR1000_Rustenburg_AngloSA_Table1_2020_12_10_09_03_32.dat\n",
      "Reading...\n",
      "combine\n",
      "CR1000_Rustenburg_Table1.dat\n",
      "Reading...\n",
      "combine\n",
      "CR1000_Rustenburg_Table1.dat\n",
      "Reading...\n",
      "combine\n",
      "CR1000_Rustenburg_AngloSA_Table1_2020_11_04_08_23_57.dat\n",
      "Reading...\n",
      "combine\n",
      "CR1000_Rustenburg_Table1.dat\n",
      "Reading...\n",
      "combine\n",
      "CR1000_Rustenburg_AngloSA_Table1_2020_09_18_07_50_2020_09_18_07_54_55.dat\n",
      "Reading...\n",
      "combine\n",
      "CR1000_Rustenburg_AngloSA_Table1_2020_10_21_11_32_51.dat\n",
      "Reading...\n",
      "combine\n",
      "CR1000_Rustenburg_AngloSA_Table1_2021_05_10_11_52_42.dat\n",
      "Reading...\n",
      "combine\n",
      "CR1000_Rustenburg_AngloSA_Table1_2021_02_24_09_07_50.dat\n",
      "Reading...\n",
      "combine\n",
      "CR1000_Rustenburg_Table1.dat\n",
      "Reading...\n",
      "combine\n",
      "CR1000_Rustenburg_AngloSA_Table1_2020_11_05_10_48_00.dat\n",
      "Reading...\n"
     ]
    },
    {
     "name": "stderr",
     "output_type": "stream",
     "text": [
      "/home/roelof/jupyter/envs/conda-python3-env/lib/python3.7/site-packages/IPython/core/interactiveshell.py:2714: DtypeWarning: Columns (2,3,6,7) have mixed types.Specify dtype option on import or set low_memory=False.\n",
      "  interactivity=interactivity, compiler=compiler, result=result)\n"
     ]
    },
    {
     "name": "stdout",
     "output_type": "stream",
     "text": [
      "combine\n",
      "CR1000_Rustenburg_AngloSA_Table1_2021_03_30_10_52_03.dat\n",
      "Reading...\n",
      "combine\n",
      "CR1000_Rustenburg_AngloSA_Table1_2020_12_02_07_28_55.dat\n",
      "Reading...\n",
      "combine\n",
      "CR1000_Rustenburg_AngloSA_Table1_2021_04_22_10_08_01.dat\n",
      "Reading...\n",
      "combine\n",
      "CR1000_Rustenburg_Table1.dat\n",
      "Reading...\n",
      "combine\n",
      "CR1000_Rustenburg_AngloSA_Table1_2021_03_09_15_04_23.dat\n",
      "Reading...\n",
      "combine\n",
      "CR1000_Rustenburg_AngloSA_Table1_2021_01_14_09_07_19.dat\n",
      "Reading...\n",
      "combine\n",
      "CR1000_Rustenburg_AngloSA_Table1_2020_09_22_09_47_2020_09_22_09_48_21.dat\n",
      "Reading...\n",
      "combine\n",
      "CR1000_Rustenburg_AngloSA_Table1_2021_03_18_16_08_14.dat\n",
      "Reading...\n",
      "combine\n",
      "CR1000_Rustenburg_AngloSA_Table1_2020_10_02_09_43_59.dat\n",
      "Reading...\n",
      "combine\n",
      "CR1000_Rustenburg_AngloSA_Table1_2020_09_10_07_50_2020_09_10_07_51_51.dat\n",
      "Reading...\n",
      "combine\n",
      "CR1000_Rustenburg_AngloSA_Table1_2020_11_18_13_29_56.dat\n",
      "Reading...\n",
      "combine\n"
     ]
    }
   ],
   "source": [
    "LoggerVariables=[\"TIMESTAMP\",\"RECORD\",\"Wind_Speed_Max (m/s)\",\n",
    "                 \"Wind_Speed_Std (m/s)\",\"Wind_Direction (deg)\",\n",
    "                 \"Wind_Direction_Std (deg)\",\"Temperature (degC)\",\n",
    "                 \"Ambient_Temperature (degC)\",\"Relative_Humidity (%)\",\n",
    "                 \"Rainfall (mm)\",\"Battery_Voltage (V)\",\"SO2 (ppb)\",\n",
    "                 \"NO (ppb)\",\"NO2 (ppb)\",\"O3 (ppb)\",\"CO (ppm)\",\n",
    "                 \"Line_Voltage (V)\",\"Logger_Temperature (degC)\",\n",
    "                 \"PM10 (ug/m3)\",\"PM2.5 (ug/m3)\"]\n",
    "\n",
    "df1=pd.DataFrame()\n",
    "for path,dirs,files in os.walk(Path(DataDir / 'Rustenburg - Main AQMS/Logger Data' )):\n",
    "    for f in files:\n",
    "        fullpath = os.path.join(path,f)\n",
    "        if f.count(\"Table1\") > 0:\n",
    "            print(f)\n",
    "            Data = readLogger(fullpath,[18, 20, 21])  \n",
    "            if len(Data) > 0:\n",
    "                ncols = len(Data.split('\\n')[0].split(\",\"))\n",
    "                if ncols == 20:\n",
    "                    LoggerVariables=[\"TIMESTAMP\",\n",
    "                                     \"RECORD\",\n",
    "                                     \"Wind_Speed (m/s)\",\n",
    "                                     \"Wind_Speed_Std (m/s)\",\n",
    "                                     \"Wind_Direction (deg)\",\n",
    "                                     \"Wind_Direction_Std (deg)\",\n",
    "                                     \"Temperature (degC)\",\n",
    "                                     \"Ambient_Temperature (degC)\",\n",
    "                                     \"Relative_Humidity (%)\",\n",
    "                                     \"Rainfall (mm)\",\n",
    "                                     \"Battery_Voltage (V)\",\n",
    "                                     \"SO2 (ppb)\",\n",
    "                                     \"NO (ppb)\",\n",
    "                                     \"NO2 (ppb)\",\n",
    "                                     \"O3 (ppb)\",\n",
    "                                     \"CO (ppm)\",\n",
    "                                     \"Line_Voltage (V)\",\n",
    "                                     \"Logger_Temperature (degC)\",\n",
    "                                     \"PM10 (ug/m3)\",\n",
    "                                     \"PM2.5_logger (ug/m3)\"]\n",
    "                elif ncols == 21:\n",
    "                    LoggerVariables=[\"TIMESTAMP\",\n",
    "                                     \"RECORD\",\n",
    "                                     \"Wind_Speed (m/s)\",\n",
    "                                     \"Wind_Speed_Std (m/s)\",\n",
    "                                     \"Wind_Direction (deg)\",\n",
    "                                     \"Wind_Direction_Std (deg)\",\n",
    "                                     \"Temperature (degC)\",\n",
    "                                     \"Ambient_Temperature (degC)\",\n",
    "                                     \"Relative_Humidity (%)\",\n",
    "                                     \"Rainfall (mm)\",\n",
    "                                     \"Battery_Voltage (V)\",\n",
    "                                     \"SO2 (ppb)\",\n",
    "                                     \"NO (ppb)\",\n",
    "                                     \"NO2 (ppb)\",\n",
    "                                     \"NOx (ppb)\",\n",
    "                                     \"O3 (ppb)\",\n",
    "                                     \"CO (ppm)\",\n",
    "                                     \"Line_Voltage (V)\",\n",
    "                                     \"Logger_Temperature (degC)\",\n",
    "                                     \"PM10 (ug/m3)\",\n",
    "                                     \"PM2.5_logger (ug/m3)\"]\n",
    "                elif ncols == 18:\n",
    "                    LoggerVariables=[\"TIMESTAMP\",\n",
    "                                     \"RECORD\",\n",
    "                                     \"Wind_Speed (m/s)\",\n",
    "                                     \"Wind_Speed_Std (m/s)\",\n",
    "                                     \"Wind_Direction (deg)\",\n",
    "                                     \"Wind_Direction_Std (deg)\",\n",
    "                                     \"Temperature (degC)\",\n",
    "                                     \"Ambient_Temperature (degC)\",\n",
    "                                     \"Relative_Humidity (%)\",\n",
    "                                     \"Rainfall (mm)\",\n",
    "                                     \"Battery_Voltage (V)\",\n",
    "                                     \"SO2 (ppb)\",\n",
    "                                     \"NO (ppb)\",\n",
    "                                     \"NO2 (ppb)\",\n",
    "                                     \"O3 (ppb)\",\n",
    "                                     \"CO (ppm)\",\n",
    "                                     \"Line_Voltage (V)\",\n",
    "                                     \"Logger_Temperature (degC)\"]              \n",
    "                print(\"Reading...\")\n",
    "                dftmp = pd.read_csv(StringIO(Data), parse_dates=[0], index_col=0,names=LoggerVariables)    \n",
    "                if len(df1) == 0:\n",
    "                    #print(\"initialize\")\n",
    "                    df1 = dftmp\n",
    "                else:\n",
    "                    print(\"combine\")\n",
    "                    #print(dftmp.tail)\n",
    "                    df1 = df1.combine_first(dftmp)\n",
    "\n",
    "                    \n",
    "#identify and remove the incorrectly labelled data(year 2024)\n",
    "#df1.index.name=\"Date\"\n",
    "df1.drop(columns=['RECORD'],inplace=True)\n",
    "df1=df1[Rustenburg_StartDate:\"2022-09-18 07:55:00\"]\n",
    "df1=df1.resample('1min').first()"
   ]
  },
  {
   "cell_type": "code",
   "execution_count": 20,
   "metadata": {},
   "outputs": [
    {
     "name": "stdout",
     "output_type": "stream",
     "text": [
      "Fixing var Ambient_Temperature (degC)\n",
      "Fixing var O3 (ppb)\n",
      "Fixing var Temperature (degC)\n",
      "Fixing var Wind_Speed (m/s)\n",
      "Fixing var Wind_Speed_Std (m/s)\n"
     ]
    }
   ],
   "source": [
    "for col in df1:\n",
    "    if df1[col].dtypes != 'float64':\n",
    "        print(\"Fixing var\",col)\n",
    "        df1[col]=pd.to_numeric(df1[col],errors='coerce')"
   ]
  },
  {
   "cell_type": "code",
   "execution_count": 21,
   "metadata": {},
   "outputs": [
    {
     "name": "stdout",
     "output_type": "stream",
     "text": [
      "<class 'pandas.core.frame.DataFrame'>\n",
      "DatetimeIndex: 546882 entries, 2020-08-05 13:55:00 to 2021-08-20 08:36:00\n",
      "Freq: T\n",
      "Data columns (total 19 columns):\n",
      " #   Column                      Non-Null Count   Dtype  \n",
      "---  ------                      --------------   -----  \n",
      " 0   Ambient_Temperature (degC)  515574 non-null  float64\n",
      " 1   Battery_Voltage (V)         542041 non-null  float64\n",
      " 2   CO (ppm)                    542041 non-null  float64\n",
      " 3   Line_Voltage (V)            542041 non-null  float64\n",
      " 4   Logger_Temperature (degC)   542041 non-null  float64\n",
      " 5   NO (ppb)                    542041 non-null  float64\n",
      " 6   NO2 (ppb)                   542041 non-null  float64\n",
      " 7   NOx (ppb)                   479062 non-null  float64\n",
      " 8   O3 (ppb)                    542037 non-null  float64\n",
      " 9   PM10 (ug/m3)                542041 non-null  float64\n",
      " 10  PM2.5_logger (ug/m3)        542041 non-null  float64\n",
      " 11  Rainfall (mm)               542041 non-null  float64\n",
      " 12  Relative_Humidity (%)       542041 non-null  float64\n",
      " 13  SO2 (ppb)                   542041 non-null  float64\n",
      " 14  Temperature (degC)          487239 non-null  float64\n",
      " 15  Wind_Direction (deg)        542041 non-null  float64\n",
      " 16  Wind_Direction_Std (deg)    542041 non-null  float64\n",
      " 17  Wind_Speed (m/s)            487249 non-null  float64\n",
      " 18  Wind_Speed_Std (m/s)        487239 non-null  float64\n",
      "dtypes: float64(19)\n",
      "memory usage: 83.4 MB\n"
     ]
    }
   ],
   "source": [
    "df1.info()"
   ]
  },
  {
   "cell_type": "markdown",
   "metadata": {},
   "source": [
    "### Troubleshoot problematic files\n",
    "\n",
    "If no problems, skip this section"
   ]
  },
  {
   "cell_type": "code",
   "execution_count": 291,
   "metadata": {},
   "outputs": [],
   "source": [
    "#ncolumnsLogger((Path(DataDir / 'Rustenburg - Main AQMS/Logger Data/20210120/CR1000_Rustenburg_AngloSA_Table1_2020_09_10_07_50_2020_09_10_07_51_51.dat'))"
   ]
  },
  {
   "cell_type": "code",
   "execution_count": 22,
   "metadata": {
    "scrolled": false
   },
   "outputs": [
    {
     "data": {
      "text/html": [
       "<div>\n",
       "<style scoped>\n",
       "    .dataframe tbody tr th:only-of-type {\n",
       "        vertical-align: middle;\n",
       "    }\n",
       "\n",
       "    .dataframe tbody tr th {\n",
       "        vertical-align: top;\n",
       "    }\n",
       "\n",
       "    .dataframe thead th {\n",
       "        text-align: right;\n",
       "    }\n",
       "</style>\n",
       "<table border=\"1\" class=\"dataframe\">\n",
       "  <thead>\n",
       "    <tr style=\"text-align: right;\">\n",
       "      <th></th>\n",
       "      <th>Ambient_Temperature (degC)</th>\n",
       "      <th>Battery_Voltage (V)</th>\n",
       "      <th>CO (ppm)</th>\n",
       "      <th>Line_Voltage (V)</th>\n",
       "      <th>Logger_Temperature (degC)</th>\n",
       "      <th>NO (ppb)</th>\n",
       "      <th>NO2 (ppb)</th>\n",
       "      <th>NOx (ppb)</th>\n",
       "      <th>O3 (ppb)</th>\n",
       "      <th>PM10 (ug/m3)</th>\n",
       "      <th>PM2.5_logger (ug/m3)</th>\n",
       "      <th>Rainfall (mm)</th>\n",
       "      <th>Relative_Humidity (%)</th>\n",
       "      <th>SO2 (ppb)</th>\n",
       "      <th>Temperature (degC)</th>\n",
       "      <th>Wind_Direction (deg)</th>\n",
       "      <th>Wind_Direction_Std (deg)</th>\n",
       "      <th>Wind_Speed (m/s)</th>\n",
       "      <th>Wind_Speed_Std (m/s)</th>\n",
       "    </tr>\n",
       "  </thead>\n",
       "  <tbody>\n",
       "    <tr>\n",
       "      <th>count</th>\n",
       "      <td>515574.000000</td>\n",
       "      <td>542041.000000</td>\n",
       "      <td>542041.000000</td>\n",
       "      <td>542041.000000</td>\n",
       "      <td>542041.000000</td>\n",
       "      <td>542041.000000</td>\n",
       "      <td>542041.000000</td>\n",
       "      <td>479062.000000</td>\n",
       "      <td>542037.000000</td>\n",
       "      <td>542041.000000</td>\n",
       "      <td>542041.000000</td>\n",
       "      <td>542041.000000</td>\n",
       "      <td>542041.000000</td>\n",
       "      <td>542041.000000</td>\n",
       "      <td>487239.000000</td>\n",
       "      <td>542041.000000</td>\n",
       "      <td>542041.000000</td>\n",
       "      <td>487249.000000</td>\n",
       "      <td>487239.000000</td>\n",
       "    </tr>\n",
       "    <tr>\n",
       "      <th>mean</th>\n",
       "      <td>19.788107</td>\n",
       "      <td>13.079200</td>\n",
       "      <td>-344.389576</td>\n",
       "      <td>178.401689</td>\n",
       "      <td>21.767905</td>\n",
       "      <td>-20.554878</td>\n",
       "      <td>-67.855630</td>\n",
       "      <td>3.489845</td>\n",
       "      <td>24.982464</td>\n",
       "      <td>-0.100508</td>\n",
       "      <td>-19.170238</td>\n",
       "      <td>0.000889</td>\n",
       "      <td>52.997564</td>\n",
       "      <td>-0.353234</td>\n",
       "      <td>19.259258</td>\n",
       "      <td>146.815160</td>\n",
       "      <td>13.803839</td>\n",
       "      <td>2.993581</td>\n",
       "      <td>2.130948</td>\n",
       "    </tr>\n",
       "    <tr>\n",
       "      <th>std</th>\n",
       "      <td>7.530206</td>\n",
       "      <td>0.843829</td>\n",
       "      <td>20.665043</td>\n",
       "      <td>77.706135</td>\n",
       "      <td>6.541833</td>\n",
       "      <td>86.339839</td>\n",
       "      <td>190.505083</td>\n",
       "      <td>13.834479</td>\n",
       "      <td>50.310942</td>\n",
       "      <td>85.577331</td>\n",
       "      <td>66.227957</td>\n",
       "      <td>0.018819</td>\n",
       "      <td>24.119174</td>\n",
       "      <td>53.478331</td>\n",
       "      <td>7.361103</td>\n",
       "      <td>97.553479</td>\n",
       "      <td>11.157579</td>\n",
       "      <td>2.092426</td>\n",
       "      <td>1.536460</td>\n",
       "    </tr>\n",
       "    <tr>\n",
       "      <th>min</th>\n",
       "      <td>-0.919000</td>\n",
       "      <td>11.018410</td>\n",
       "      <td>-361.323800</td>\n",
       "      <td>-0.203459</td>\n",
       "      <td>-1.886700</td>\n",
       "      <td>-359.286700</td>\n",
       "      <td>-604.110000</td>\n",
       "      <td>-11.719630</td>\n",
       "      <td>-371.546600</td>\n",
       "      <td>-1996.988000</td>\n",
       "      <td>-1456.093000</td>\n",
       "      <td>0.000000</td>\n",
       "      <td>0.000000</td>\n",
       "      <td>-940.460200</td>\n",
       "      <td>-0.575000</td>\n",
       "      <td>0.000000</td>\n",
       "      <td>0.000000</td>\n",
       "      <td>0.040000</td>\n",
       "      <td>0.020000</td>\n",
       "    </tr>\n",
       "    <tr>\n",
       "      <th>25%</th>\n",
       "      <td>14.580000</td>\n",
       "      <td>12.267520</td>\n",
       "      <td>-357.830800</td>\n",
       "      <td>209.433000</td>\n",
       "      <td>18.024080</td>\n",
       "      <td>-2.593595</td>\n",
       "      <td>0.112841</td>\n",
       "      <td>1.240507</td>\n",
       "      <td>3.277435</td>\n",
       "      <td>1.538016</td>\n",
       "      <td>-67.567580</td>\n",
       "      <td>0.000000</td>\n",
       "      <td>34.600000</td>\n",
       "      <td>0.000000</td>\n",
       "      <td>14.180000</td>\n",
       "      <td>67.830000</td>\n",
       "      <td>7.820000</td>\n",
       "      <td>1.500000</td>\n",
       "      <td>1.051000</td>\n",
       "    </tr>\n",
       "    <tr>\n",
       "      <th>50%</th>\n",
       "      <td>20.020000</td>\n",
       "      <td>13.256810</td>\n",
       "      <td>-353.207400</td>\n",
       "      <td>212.094100</td>\n",
       "      <td>21.406170</td>\n",
       "      <td>0.225530</td>\n",
       "      <td>1.014199</td>\n",
       "      <td>2.028408</td>\n",
       "      <td>15.033900</td>\n",
       "      <td>13.939410</td>\n",
       "      <td>2.783415</td>\n",
       "      <td>0.000000</td>\n",
       "      <td>53.470000</td>\n",
       "      <td>1.354298</td>\n",
       "      <td>19.630000</td>\n",
       "      <td>157.400000</td>\n",
       "      <td>11.910000</td>\n",
       "      <td>2.440000</td>\n",
       "      <td>1.733000</td>\n",
       "    </tr>\n",
       "    <tr>\n",
       "      <th>75%</th>\n",
       "      <td>24.940000</td>\n",
       "      <td>13.993030</td>\n",
       "      <td>-336.531800</td>\n",
       "      <td>213.427900</td>\n",
       "      <td>25.263660</td>\n",
       "      <td>2.708192</td>\n",
       "      <td>1.240835</td>\n",
       "      <td>4.182208</td>\n",
       "      <td>29.457040</td>\n",
       "      <td>33.591730</td>\n",
       "      <td>16.545400</td>\n",
       "      <td>0.000000</td>\n",
       "      <td>72.300000</td>\n",
       "      <td>4.172304</td>\n",
       "      <td>24.430000</td>\n",
       "      <td>212.400000</td>\n",
       "      <td>17.150000</td>\n",
       "      <td>3.930000</td>\n",
       "      <td>2.798000</td>\n",
       "    </tr>\n",
       "    <tr>\n",
       "      <th>max</th>\n",
       "      <td>41.150000</td>\n",
       "      <td>14.008560</td>\n",
       "      <td>1062.331000</td>\n",
       "      <td>228.622300</td>\n",
       "      <td>52.932140</td>\n",
       "      <td>617.647200</td>\n",
       "      <td>617.196400</td>\n",
       "      <td>621.703900</td>\n",
       "      <td>4622.155000</td>\n",
       "      <td>996.866800</td>\n",
       "      <td>747.013900</td>\n",
       "      <td>2.000000</td>\n",
       "      <td>97.700000</td>\n",
       "      <td>1208.164000</td>\n",
       "      <td>37.790000</td>\n",
       "      <td>360.000000</td>\n",
       "      <td>103.500000</td>\n",
       "      <td>34.790000</td>\n",
       "      <td>25.290000</td>\n",
       "    </tr>\n",
       "  </tbody>\n",
       "</table>\n",
       "</div>"
      ],
      "text/plain": [
       "       Ambient_Temperature (degC)  Battery_Voltage (V)       CO (ppm)  \\\n",
       "count               515574.000000        542041.000000  542041.000000   \n",
       "mean                    19.788107            13.079200    -344.389576   \n",
       "std                      7.530206             0.843829      20.665043   \n",
       "min                     -0.919000            11.018410    -361.323800   \n",
       "25%                     14.580000            12.267520    -357.830800   \n",
       "50%                     20.020000            13.256810    -353.207400   \n",
       "75%                     24.940000            13.993030    -336.531800   \n",
       "max                     41.150000            14.008560    1062.331000   \n",
       "\n",
       "       Line_Voltage (V)  Logger_Temperature (degC)       NO (ppb)  \\\n",
       "count     542041.000000              542041.000000  542041.000000   \n",
       "mean         178.401689                  21.767905     -20.554878   \n",
       "std           77.706135                   6.541833      86.339839   \n",
       "min           -0.203459                  -1.886700    -359.286700   \n",
       "25%          209.433000                  18.024080      -2.593595   \n",
       "50%          212.094100                  21.406170       0.225530   \n",
       "75%          213.427900                  25.263660       2.708192   \n",
       "max          228.622300                  52.932140     617.647200   \n",
       "\n",
       "           NO2 (ppb)      NOx (ppb)       O3 (ppb)   PM10 (ug/m3)  \\\n",
       "count  542041.000000  479062.000000  542037.000000  542041.000000   \n",
       "mean      -67.855630       3.489845      24.982464      -0.100508   \n",
       "std       190.505083      13.834479      50.310942      85.577331   \n",
       "min      -604.110000     -11.719630    -371.546600   -1996.988000   \n",
       "25%         0.112841       1.240507       3.277435       1.538016   \n",
       "50%         1.014199       2.028408      15.033900      13.939410   \n",
       "75%         1.240835       4.182208      29.457040      33.591730   \n",
       "max       617.196400     621.703900    4622.155000     996.866800   \n",
       "\n",
       "       PM2.5_logger (ug/m3)  Rainfall (mm)  Relative_Humidity (%)  \\\n",
       "count         542041.000000  542041.000000          542041.000000   \n",
       "mean             -19.170238       0.000889              52.997564   \n",
       "std               66.227957       0.018819              24.119174   \n",
       "min            -1456.093000       0.000000               0.000000   \n",
       "25%              -67.567580       0.000000              34.600000   \n",
       "50%                2.783415       0.000000              53.470000   \n",
       "75%               16.545400       0.000000              72.300000   \n",
       "max              747.013900       2.000000              97.700000   \n",
       "\n",
       "           SO2 (ppb)  Temperature (degC)  Wind_Direction (deg)  \\\n",
       "count  542041.000000       487239.000000         542041.000000   \n",
       "mean       -0.353234           19.259258            146.815160   \n",
       "std        53.478331            7.361103             97.553479   \n",
       "min      -940.460200           -0.575000              0.000000   \n",
       "25%         0.000000           14.180000             67.830000   \n",
       "50%         1.354298           19.630000            157.400000   \n",
       "75%         4.172304           24.430000            212.400000   \n",
       "max      1208.164000           37.790000            360.000000   \n",
       "\n",
       "       Wind_Direction_Std (deg)  Wind_Speed (m/s)  Wind_Speed_Std (m/s)  \n",
       "count             542041.000000     487249.000000         487239.000000  \n",
       "mean                  13.803839          2.993581              2.130948  \n",
       "std                   11.157579          2.092426              1.536460  \n",
       "min                    0.000000          0.040000              0.020000  \n",
       "25%                    7.820000          1.500000              1.051000  \n",
       "50%                   11.910000          2.440000              1.733000  \n",
       "75%                   17.150000          3.930000              2.798000  \n",
       "max                  103.500000         34.790000             25.290000  "
      ]
     },
     "execution_count": 22,
     "metadata": {},
     "output_type": "execute_result"
    }
   ],
   "source": [
    "df1.describe()"
   ]
  },
  {
   "cell_type": "code",
   "execution_count": 24,
   "metadata": {},
   "outputs": [
    {
     "data": {
      "text/html": [
       "<div>\n",
       "<style scoped>\n",
       "    .dataframe tbody tr th:only-of-type {\n",
       "        vertical-align: middle;\n",
       "    }\n",
       "\n",
       "    .dataframe tbody tr th {\n",
       "        vertical-align: top;\n",
       "    }\n",
       "\n",
       "    .dataframe thead th {\n",
       "        text-align: right;\n",
       "    }\n",
       "</style>\n",
       "<table border=\"1\" class=\"dataframe\">\n",
       "  <thead>\n",
       "    <tr style=\"text-align: right;\">\n",
       "      <th></th>\n",
       "      <th>Ambient_Temperature (degC)</th>\n",
       "      <th>Battery_Voltage (V)</th>\n",
       "      <th>CO (ppm)</th>\n",
       "      <th>Line_Voltage (V)</th>\n",
       "      <th>Logger_Temperature (degC)</th>\n",
       "      <th>NO (ppb)</th>\n",
       "      <th>NO2 (ppb)</th>\n",
       "      <th>NOx (ppb)</th>\n",
       "      <th>O3 (ppb)</th>\n",
       "      <th>PM10 (ug/m3)</th>\n",
       "      <th>PM2.5_logger (ug/m3)</th>\n",
       "      <th>Rainfall (mm)</th>\n",
       "      <th>Relative_Humidity (%)</th>\n",
       "      <th>SO2 (ppb)</th>\n",
       "      <th>Temperature (degC)</th>\n",
       "      <th>Wind_Direction (deg)</th>\n",
       "      <th>Wind_Direction_Std (deg)</th>\n",
       "      <th>Wind_Speed (m/s)</th>\n",
       "      <th>Wind_Speed_Std (m/s)</th>\n",
       "    </tr>\n",
       "    <tr>\n",
       "      <th>TIMESTAMP</th>\n",
       "      <th></th>\n",
       "      <th></th>\n",
       "      <th></th>\n",
       "      <th></th>\n",
       "      <th></th>\n",
       "      <th></th>\n",
       "      <th></th>\n",
       "      <th></th>\n",
       "      <th></th>\n",
       "      <th></th>\n",
       "      <th></th>\n",
       "      <th></th>\n",
       "      <th></th>\n",
       "      <th></th>\n",
       "      <th></th>\n",
       "      <th></th>\n",
       "      <th></th>\n",
       "      <th></th>\n",
       "      <th></th>\n",
       "    </tr>\n",
       "  </thead>\n",
       "  <tbody>\n",
       "    <tr>\n",
       "      <th>2021-08-20 08:32:00</th>\n",
       "      <td>12.88</td>\n",
       "      <td>13.99671</td>\n",
       "      <td>-358.7906</td>\n",
       "      <td>215.7013</td>\n",
       "      <td>13.91940</td>\n",
       "      <td>0.451671</td>\n",
       "      <td>0.338753</td>\n",
       "      <td>2.484193</td>\n",
       "      <td>9.298220</td>\n",
       "      <td>49.53931</td>\n",
       "      <td>20.32521</td>\n",
       "      <td>0.0</td>\n",
       "      <td>37.78</td>\n",
       "      <td>2.710028</td>\n",
       "      <td>15.01</td>\n",
       "      <td>144.60</td>\n",
       "      <td>61.85</td>\n",
       "      <td>0.59</td>\n",
       "      <td>0.394</td>\n",
       "    </tr>\n",
       "    <tr>\n",
       "      <th>2021-08-20 08:33:00</th>\n",
       "      <td>13.01</td>\n",
       "      <td>14.00071</td>\n",
       "      <td>-360.3714</td>\n",
       "      <td>215.5997</td>\n",
       "      <td>14.04610</td>\n",
       "      <td>-0.112918</td>\n",
       "      <td>0.112918</td>\n",
       "      <td>2.484193</td>\n",
       "      <td>8.958337</td>\n",
       "      <td>49.53931</td>\n",
       "      <td>18.85728</td>\n",
       "      <td>0.0</td>\n",
       "      <td>37.67</td>\n",
       "      <td>2.710028</td>\n",
       "      <td>15.16</td>\n",
       "      <td>87.00</td>\n",
       "      <td>79.33</td>\n",
       "      <td>0.63</td>\n",
       "      <td>0.337</td>\n",
       "    </tr>\n",
       "    <tr>\n",
       "      <th>2021-08-20 08:34:00</th>\n",
       "      <td>13.20</td>\n",
       "      <td>13.99633</td>\n",
       "      <td>-359.8068</td>\n",
       "      <td>215.5658</td>\n",
       "      <td>14.17770</td>\n",
       "      <td>0.790425</td>\n",
       "      <td>0.677507</td>\n",
       "      <td>3.048782</td>\n",
       "      <td>9.783767</td>\n",
       "      <td>49.76515</td>\n",
       "      <td>19.64770</td>\n",
       "      <td>0.0</td>\n",
       "      <td>37.24</td>\n",
       "      <td>3.500453</td>\n",
       "      <td>15.34</td>\n",
       "      <td>58.31</td>\n",
       "      <td>71.64</td>\n",
       "      <td>0.76</td>\n",
       "      <td>0.522</td>\n",
       "    </tr>\n",
       "    <tr>\n",
       "      <th>2021-08-20 08:35:00</th>\n",
       "      <td>13.31</td>\n",
       "      <td>13.99684</td>\n",
       "      <td>-360.0326</td>\n",
       "      <td>215.5658</td>\n",
       "      <td>14.31646</td>\n",
       "      <td>1.242096</td>\n",
       "      <td>1.242096</td>\n",
       "      <td>3.274617</td>\n",
       "      <td>8.958337</td>\n",
       "      <td>49.42640</td>\n",
       "      <td>18.85728</td>\n",
       "      <td>0.0</td>\n",
       "      <td>36.47</td>\n",
       "      <td>4.065042</td>\n",
       "      <td>15.52</td>\n",
       "      <td>304.90</td>\n",
       "      <td>28.17</td>\n",
       "      <td>0.86</td>\n",
       "      <td>0.653</td>\n",
       "    </tr>\n",
       "    <tr>\n",
       "      <th>2021-08-20 08:36:00</th>\n",
       "      <td>13.31</td>\n",
       "      <td>13.99596</td>\n",
       "      <td>-360.0326</td>\n",
       "      <td>215.3625</td>\n",
       "      <td>14.45540</td>\n",
       "      <td>-0.338753</td>\n",
       "      <td>0.790425</td>\n",
       "      <td>2.822946</td>\n",
       "      <td>11.434620</td>\n",
       "      <td>50.10390</td>\n",
       "      <td>19.76062</td>\n",
       "      <td>0.0</td>\n",
       "      <td>36.53</td>\n",
       "      <td>4.065042</td>\n",
       "      <td>15.65</td>\n",
       "      <td>307.30</td>\n",
       "      <td>24.95</td>\n",
       "      <td>0.97</td>\n",
       "      <td>0.706</td>\n",
       "    </tr>\n",
       "  </tbody>\n",
       "</table>\n",
       "</div>"
      ],
      "text/plain": [
       "                     Ambient_Temperature (degC)  Battery_Voltage (V)  \\\n",
       "TIMESTAMP                                                              \n",
       "2021-08-20 08:32:00                       12.88             13.99671   \n",
       "2021-08-20 08:33:00                       13.01             14.00071   \n",
       "2021-08-20 08:34:00                       13.20             13.99633   \n",
       "2021-08-20 08:35:00                       13.31             13.99684   \n",
       "2021-08-20 08:36:00                       13.31             13.99596   \n",
       "\n",
       "                     CO (ppm)  Line_Voltage (V)  Logger_Temperature (degC)  \\\n",
       "TIMESTAMP                                                                    \n",
       "2021-08-20 08:32:00 -358.7906          215.7013                   13.91940   \n",
       "2021-08-20 08:33:00 -360.3714          215.5997                   14.04610   \n",
       "2021-08-20 08:34:00 -359.8068          215.5658                   14.17770   \n",
       "2021-08-20 08:35:00 -360.0326          215.5658                   14.31646   \n",
       "2021-08-20 08:36:00 -360.0326          215.3625                   14.45540   \n",
       "\n",
       "                     NO (ppb)  NO2 (ppb)  NOx (ppb)   O3 (ppb)  PM10 (ug/m3)  \\\n",
       "TIMESTAMP                                                                      \n",
       "2021-08-20 08:32:00  0.451671   0.338753   2.484193   9.298220      49.53931   \n",
       "2021-08-20 08:33:00 -0.112918   0.112918   2.484193   8.958337      49.53931   \n",
       "2021-08-20 08:34:00  0.790425   0.677507   3.048782   9.783767      49.76515   \n",
       "2021-08-20 08:35:00  1.242096   1.242096   3.274617   8.958337      49.42640   \n",
       "2021-08-20 08:36:00 -0.338753   0.790425   2.822946  11.434620      50.10390   \n",
       "\n",
       "                     PM2.5_logger (ug/m3)  Rainfall (mm)  \\\n",
       "TIMESTAMP                                                  \n",
       "2021-08-20 08:32:00              20.32521            0.0   \n",
       "2021-08-20 08:33:00              18.85728            0.0   \n",
       "2021-08-20 08:34:00              19.64770            0.0   \n",
       "2021-08-20 08:35:00              18.85728            0.0   \n",
       "2021-08-20 08:36:00              19.76062            0.0   \n",
       "\n",
       "                     Relative_Humidity (%)  SO2 (ppb)  Temperature (degC)  \\\n",
       "TIMESTAMP                                                                   \n",
       "2021-08-20 08:32:00                  37.78   2.710028               15.01   \n",
       "2021-08-20 08:33:00                  37.67   2.710028               15.16   \n",
       "2021-08-20 08:34:00                  37.24   3.500453               15.34   \n",
       "2021-08-20 08:35:00                  36.47   4.065042               15.52   \n",
       "2021-08-20 08:36:00                  36.53   4.065042               15.65   \n",
       "\n",
       "                     Wind_Direction (deg)  Wind_Direction_Std (deg)  \\\n",
       "TIMESTAMP                                                             \n",
       "2021-08-20 08:32:00                144.60                     61.85   \n",
       "2021-08-20 08:33:00                 87.00                     79.33   \n",
       "2021-08-20 08:34:00                 58.31                     71.64   \n",
       "2021-08-20 08:35:00                304.90                     28.17   \n",
       "2021-08-20 08:36:00                307.30                     24.95   \n",
       "\n",
       "                     Wind_Speed (m/s)  Wind_Speed_Std (m/s)  \n",
       "TIMESTAMP                                                    \n",
       "2021-08-20 08:32:00              0.59                 0.394  \n",
       "2021-08-20 08:33:00              0.63                 0.337  \n",
       "2021-08-20 08:34:00              0.76                 0.522  \n",
       "2021-08-20 08:35:00              0.86                 0.653  \n",
       "2021-08-20 08:36:00              0.97                 0.706  "
      ]
     },
     "execution_count": 24,
     "metadata": {},
     "output_type": "execute_result"
    }
   ],
   "source": [
    "df1.tail()"
   ]
  },
  {
   "cell_type": "code",
   "execution_count": 23,
   "metadata": {},
   "outputs": [
    {
     "data": {
      "application/vnd.jupyter.widget-view+json": {
       "model_id": "42b6c53cc7da4fb8bfdb954a41b5c6e8",
       "version_major": 2,
       "version_minor": 0
      },
      "text/plain": [
       "Canvas(toolbar=Toolbar(toolitems=[('Home', 'Reset original view', 'home', 'home'), ('Back', 'Back to previous …"
      ]
     },
     "metadata": {},
     "output_type": "display_data"
    },
    {
     "data": {
      "application/vnd.jupyter.widget-view+json": {
       "model_id": "fbbebf0eeb9e4634a1a5e24ad1b1ce9e",
       "version_major": 2,
       "version_minor": 0
      },
      "text/plain": [
       "Canvas(toolbar=Toolbar(toolitems=[('Home', 'Reset original view', 'home', 'home'), ('Back', 'Back to previous …"
      ]
     },
     "metadata": {},
     "output_type": "display_data"
    },
    {
     "data": {
      "text/plain": [
       "<AxesSubplot:xlabel='TIMESTAMP'>"
      ]
     },
     "execution_count": 23,
     "metadata": {},
     "output_type": "execute_result"
    }
   ],
   "source": [
    "# get a first look at the data\n",
    "df1[['PM10 (ug/m3)']].plot()\n",
    "df1[['PM2.5_logger (ug/m3)']].plot()"
   ]
  },
  {
   "cell_type": "code",
   "execution_count": 295,
   "metadata": {},
   "outputs": [
    {
     "data": {
      "application/vnd.jupyter.widget-view+json": {
       "model_id": "de6b087de22d4d3480589c30e09acbbb",
       "version_major": 2,
       "version_minor": 0
      },
      "text/plain": [
       "Canvas(toolbar=Toolbar(toolitems=[('Home', 'Reset original view', 'home', 'home'), ('Back', 'Back to previous …"
      ]
     },
     "metadata": {},
     "output_type": "display_data"
    },
    {
     "data": {
      "text/plain": [
       "array([<AxesSubplot:xlabel='TIMESTAMP'>, <AxesSubplot:xlabel='TIMESTAMP'>,\n",
       "       <AxesSubplot:xlabel='TIMESTAMP'>, <AxesSubplot:xlabel='TIMESTAMP'>,\n",
       "       <AxesSubplot:xlabel='TIMESTAMP'>, <AxesSubplot:xlabel='TIMESTAMP'>,\n",
       "       <AxesSubplot:xlabel='TIMESTAMP'>, <AxesSubplot:xlabel='TIMESTAMP'>,\n",
       "       <AxesSubplot:xlabel='TIMESTAMP'>, <AxesSubplot:xlabel='TIMESTAMP'>,\n",
       "       <AxesSubplot:xlabel='TIMESTAMP'>, <AxesSubplot:xlabel='TIMESTAMP'>,\n",
       "       <AxesSubplot:xlabel='TIMESTAMP'>, <AxesSubplot:xlabel='TIMESTAMP'>,\n",
       "       <AxesSubplot:xlabel='TIMESTAMP'>, <AxesSubplot:xlabel='TIMESTAMP'>,\n",
       "       <AxesSubplot:xlabel='TIMESTAMP'>, <AxesSubplot:xlabel='TIMESTAMP'>,\n",
       "       <AxesSubplot:xlabel='TIMESTAMP'>], dtype=object)"
      ]
     },
     "execution_count": 295,
     "metadata": {},
     "output_type": "execute_result"
    }
   ],
   "source": [
    "# get a first look at the data\n",
    "APVars=df1.columns \n",
    "df1[APVars].plot(subplots=True)"
   ]
  },
  {
   "cell_type": "code",
   "execution_count": 300,
   "metadata": {},
   "outputs": [],
   "source": [
    "plt.clf()"
   ]
  },
  {
   "cell_type": "markdown",
   "metadata": {},
   "source": [
    "# Waterval E-Bam data <a id=\"exploringImportingeBam\"></a>\n",
    "[Go to the top](#top)"
   ]
  },
  {
   "cell_type": "markdown",
   "metadata": {},
   "source": [
    "EBAM errors\n",
    "\n",
    "- 0 = No Errors\n",
    "- 1 = Tape Break\n",
    "- 2 = Beta Count Test Failed\n",
    "- 4 = Delta Pressure/Vacuum Failed\n",
    "- 8 = Pressure Test Failed\n",
    "- 16 = Flow Less than 5 LPM for greater than 2 minutes\n",
    "- 32 = Nozzle Failed up/down movement\n",
    "- 64 = Internal Communication  Down\n",
    "- 128 = Low Battery\n",
    "- 256 = Delta T Alarm\n",
    "- 512 = Pump Over Temperature Alarm"
   ]
  },
  {
   "cell_type": "code",
   "execution_count": 301,
   "metadata": {},
   "outputs": [
    {
     "data": {
      "text/plain": [
       "['20210210', '20201126', '20201210', '20201202', '20201118']"
      ]
     },
     "execution_count": 301,
     "metadata": {},
     "output_type": "execute_result"
    }
   ],
   "source": [
    "os.listdir(Path(DataDir / 'Rustenburg - Main AQMS/E-BAM' ))"
   ]
  },
  {
   "cell_type": "code",
   "execution_count": 302,
   "metadata": {},
   "outputs": [
    {
     "data": {
      "text/plain": [
       "['/home/roelof/Dropbox (NWU)/CRG_Projects/01_Research_Campaigns/Anglo_SA/01_Field Campaigns/Rustenburg - Main AQMS/E-BAM/20210210/Data.CSV',\n",
       " '/home/roelof/Dropbox (NWU)/CRG_Projects/01_Research_Campaigns/Anglo_SA/01_Field Campaigns/Rustenburg - Main AQMS/E-BAM/20201126/PM2.5/Data.CSV',\n",
       " '/home/roelof/Dropbox (NWU)/CRG_Projects/01_Research_Campaigns/Anglo_SA/01_Field Campaigns/Rustenburg - Main AQMS/E-BAM/20201210/Data.CSV',\n",
       " '/home/roelof/Dropbox (NWU)/CRG_Projects/01_Research_Campaigns/Anglo_SA/01_Field Campaigns/Rustenburg - Main AQMS/E-BAM/20201202/Data.CSV',\n",
       " '/home/roelof/Dropbox (NWU)/CRG_Projects/01_Research_Campaigns/Anglo_SA/01_Field Campaigns/Rustenburg - Main AQMS/E-BAM/20201118/Data.CSV']"
      ]
     },
     "execution_count": 302,
     "metadata": {},
     "output_type": "execute_result"
    }
   ],
   "source": [
    "#List the eBam files in the tree\n",
    "lsR(Path(DataDir / 'Rustenburg - Main AQMS/E-BAM' ),'.CSV')"
   ]
  },
  {
   "cell_type": "markdown",
   "metadata": {},
   "source": [
    "### Importing and formatting the eBam data <a id=\"importingeBam\"></a>"
   ]
  },
  {
   "cell_type": "code",
   "execution_count": 303,
   "metadata": {},
   "outputs": [
    {
     "name": "stdout",
     "output_type": "stream",
     "text": [
      "Reading  /home/roelof/Dropbox (NWU)/CRG_Projects/01_Research_Campaigns/Anglo_SA/01_Field Campaigns/Rustenburg - Main AQMS/E-BAM/20210210/Data.CSV\n",
      "Reading  /home/roelof/Dropbox (NWU)/CRG_Projects/01_Research_Campaigns/Anglo_SA/01_Field Campaigns/Rustenburg - Main AQMS/E-BAM/20201126/PM2.5/Data.CSV\n",
      "Reading  /home/roelof/Dropbox (NWU)/CRG_Projects/01_Research_Campaigns/Anglo_SA/01_Field Campaigns/Rustenburg - Main AQMS/E-BAM/20201210/Data.CSV\n",
      "Reading  /home/roelof/Dropbox (NWU)/CRG_Projects/01_Research_Campaigns/Anglo_SA/01_Field Campaigns/Rustenburg - Main AQMS/E-BAM/20201202/Data.CSV\n",
      "Reading  /home/roelof/Dropbox (NWU)/CRG_Projects/01_Research_Campaigns/Anglo_SA/01_Field Campaigns/Rustenburg - Main AQMS/E-BAM/20201118/Data.CSV\n"
     ]
    }
   ],
   "source": [
    "PM25Variables=[\"Time\",\"PM2.5 (ug/m3)\",\"PM2.5_ConcHR (ug/m3)\",\"PM2.5_Flow (lpm)\",\"PM2.5_Wind_Speed (m/s)\",\"PM2.5_Wind_Direction (Deg)\",\"PM2.5_Ambient_Temperature (C)\",\"PM2.5_Relative_Humidity (%)\",\"PM2.5_BP (mmHg)\",\"PM2.5_FT (C)\",\"PM2.5_FRH (%)\",\"PM2.5_Battery_Voltage (V)\",\"PM2.5_PM (none)\",\"PM2.5_Status (none)\",\"Dummy\"]\n",
    "\n",
    "df2=pd.DataFrame()\n",
    "for f in lsR(Path(DataDir / 'Rustenburg - Main AQMS/E-BAM' ),'.CSV'):\n",
    "    #if f.count(\"PM2.5\") > 0:\n",
    "    print(\"Reading \",f)\n",
    "    Data = readLogger(f,14)                                                                                                                                                                                                                                        \n",
    "    dftmp = pd.read_csv(StringIO(Data), parse_dates=[0], index_col=0,names=PM25Variables, skiprows=1)    \n",
    "    if len(df2) == 0:\n",
    "        df2 = dftmp\n",
    "    else:\n",
    "        df2 = df2.combine_first(dftmp)\n",
    "df2.index.name=\"Date\"\n",
    "df2.drop(columns=['Dummy'],inplace=True)\n",
    "df2=df2.resample('5min').first()\n",
    "\n",
    "df2=df2.resample('1min').bfill(limit=5)\n",
    "df2=df2[Rustenburg_StartDate:]\n",
    "df2['PM2.5 (ug/m3)']=df2['PM2.5 (ug/m3)']*1000"
   ]
  },
  {
   "cell_type": "markdown",
   "metadata": {},
   "source": [
    "#### Troubleshoot problematic files - skip if not needed"
   ]
  },
  {
   "cell_type": "code",
   "execution_count": 304,
   "metadata": {},
   "outputs": [
    {
     "data": {
      "text/plain": [
       "'2020-11-18 14:15:00,0.018,0.028,16.7,0.3,1,37.2,1,18,14.3,38.2,0,0,\\n2020-11-18 14:20:00,0.066,0.028,16.7,0.3,1,37,1,17,14.3,38.5,0,0,\\n2020-11-18 14:25:00,0.008,0.028,16.7,0.3,1,36.3,1,17,14.3,38.8,0,0,\\n2020-11-18 14:30:00,0.032,0.028,16.7,0.3,1,36.1,1,16,14.3,38.9,0,0,\\n2020-11-18 14:35:00,0.061,0.028,16.7,0.3,1,36.6,1,16,14.3,39.2,0,0,\\n2020-11-18 14:40:00,-0.005,0.028,16.7,0.3,1,37.3,1,16,14.3,39.4,0,0,\\n2020-11-18 14:45:00,0.01,0.028,16.7,0.3,1,36.9,1,15,14.3,39.7,0,0,\\n2020-11-18 14:50:00,0.044,0.028,16.7,0.3,1,36.1,1,15,14.3,39.9,0,0,\\n2020-11-18 14:55:00,0.064,0.028,16.7,0.3,1,35.9,1,15,14.2,39.9,0,0,\\n2020-11-18 15:00:00,0.035,0.026,16.7,0.3,1,36.1,1,15,14.2,40,0,0,\\n2020-11-18 15:05:00,0.008,0.026,16.7,0.3,1,36.7,1,15,14.2,40.2,0,0,\\n2020-11-18 15:10:00,0.028,0.026,16.7,0.3,1,36.8,1,15,14.3,40.3,0,0,\\n2020-11-18 15:15:00,0.04,0.026,16.7,0.3,1,36.6,1,15,14.3,40.4,0,0,\\n2020-11-18 15:20:00,0.036,0.026,16.7,0.3,1,36.1,1,15,14.3,40.5,0,0,\\n2020-11-18 15:25:00,0.021,0.026,16.7,0.3,1,36.5,1,15,14.3,40.6,0,0,\\n2020-11-18 15:30:00,0.027,0.026,16.7,0.3,1,37.2,1,15,14.3,40.7,0,0,\\n2020-11-18 15:35:00,-0.005,0.026,16.7,0.3,1,37.6,1,15,14.2,40.8,0,0,\\n2020-11-18 15:40:00,0.008,0.026,16.7,0.3,1,37.4,1,15,14.3,40.8,0,0,\\n2020-11-18 15:45:00,0.058,0.026,16.7,0.3,1,37.2,1,15,14.3,40.8,0,0,\\n2020-11-18 15:50:00,0.002,0.026,16.7,0.3,1,37.1,1,14,14.2,40.8,0,0,\\n2020-11-18 15:55:00,-0.005,0.026,16.7,0.3,1,37.2,1,14,14.2,40.8,0,0,\\n2020-11-18 16:00:00,0.021,0.021,16.7,0.3,1,37.1,1,14,14.2,40.8,0,0,\\n2020-11-18 16:05:00,0.043,0.021,16.7,0.3,1,36.9,1,14,14.2,40.8,0,0,\\n2020-11-18 16:10:00,0.078,0.021,16.7,0.3,1,36.6,1,14,14.2,40.8,0,0,\\n2020-11-18 16:15:00,0.034,0.021,16.7,0.3,1,36.5,1,14,14.2,40.9,0,0,\\n2020-11-18 16:20:00,-0.005,0.021,16.7,0.3,1,36.5,1,14,14.2,40.9,0,0,\\n2020-11-18 16:25:00,0.019,0.021,16.7,0.3,1,36.6,1,14,14.3,40.9,0,0,\\n2020-11-18 16:30:00,0.031,0.021,16.7,0.3,1,36.7,1,14,14.3,41,0,0,\\n2020-11-18 16:35:00,0.041,0.021,16.7,0.3,1,36.4,1,13,14.3,41.1,0,0,\\n2020-11-18 16:40:00,0.059,0.021,16.7,0.3,1,36.4,1,13,14.3,41.1,0,0,\\n2020-11-18 16:45:00,0.022,0.021,16.7,0.3,1,36.3,1,14,14.3,41.1,0,0,\\n2020-11-18 16:50:00,0,0.021,16.7,0.3,1,36.3,1,14,14.3,41,0,0,\\n2020-11-18 16:55:00,0.054,0.021,16.7,0.3,1,36,1,14,14.3,40.8,0,0,\\n2020-11-18 17:00:00,0.053,0.035,16.7,0.3,1,35.6,1,14,14.3,40.6,0,0,\\n2020-11-18 17:05:00,0.028,0.035,16.7,0.3,1,35,1,14,14.3,40.3,0,0,\\n2020-11-18 17:10:00,0.03,0.035,16.7,0.3,1,35,1,14,14.3,39.9,0,0,\\n2020-11-18 17:15:00,0.025,0.035,16.7,0.3,1,35.3,1,15,14.3,39.6,0,0,\\n2020-11-18 17:20:00,-0.005,0.035,16.7,0.3,1,35.4,1,15,14.3,39.3,0,0,\\n2020-11-18 17:25:00,-0.005,0.035,16.7,0.3,1,35.3,1,15,14.3,39,0,0,\\n2020-11-18 17:30:00,0.017,0.035,16.7,0.3,1,34.8,1,15,14.3,38.6,0,0,\\n2020-11-18 17:35:00,0.045,0.035,16.7,0.3,1,34.4,1,16,14.3,38.3,0,0,\\n2020-11-18 17:40:00,0.017,0.035,16.7,0.3,1,33.9,1,16,14.3,37.8,0,0,\\n2020-11-18 17:45:00,0.006,0.035,16.7,0.3,1,33.6,1,16,14.3,37.4,0,0,\\n2020-11-18 17:50:00,0.031,0.035,16.7,0.3,1,33.4,1,16,14.3,37,0,0,\\n2020-11-18 17:55:00,0.027,0.035,16.7,0.3,1,33.2,1,17,14.3,36.6,0,0,\\n2020-11-18 18:00:00,0.026,0.014,16.7,0.3,1,32.9,1,17,14.3,36.2,0,0,\\n2020-11-18 18:05:00,-0.005,0.014,15.8,0.3,1,32.8,1,18,14.4,35.7,0,0,\\n2020-11-18 18:10:00,-0.005,0.014,16.7,0.3,1,32.7,1,19,14.4,35.3,0,0,\\n2020-11-18 18:15:00,-0.001,0.014,16.7,0.3,1,32.5,1,19,14.4,34.9,0,0,\\n2020-11-18 18:20:00,-0.005,0.014,16.7,0.3,1,32.2,1,19,14.4,34.5,0,0,\\n2020-11-18 18:25:00,0.004,0.014,16.7,0.3,1,32.2,1,20,14.4,34.1,0,0,\\n2020-11-18 18:30:00,0.014,0.014,16.7,0.3,1,32,1,20,14.4,33.7,0,0,\\n2020-11-18 18:35:00,-0.005,0.014,16.7,0.3,1,31.8,1,21,14.4,33.3,0,0,\\n2020-11-18 18:40:00,0.016,0.014,16.7,0.3,1,31.4,1,21,14.4,33,0,0,\\n2020-11-18 18:45:00,0.065,0.014,16.7,0.3,1,31.1,1,22,14.4,32.7,0,0,\\n2020-11-18 18:50:00,0.076,0.014,16.7,0.3,1,30.8,1,22,14.4,32.4,0,0,\\n2020-11-18 18:55:00,0.026,0.014,16.7,0.3,1,30.5,1,23,14.4,32.2,0,0,\\n2020-11-18 19:00:00,0.019,0.022,16.7,0.3,1,30.3,1,23,14.4,31.9,0,0,\\n2020-11-18 19:05:00,0.031,0.022,16.7,0.3,1,30.2,1,23,14.4,31.8,0,0,\\n2020-11-18 19:10:00,-0.005,0.022,16.7,0.3,1,30.1,1,23,14.4,31.5,0,0,\\n2020-11-18 19:15:00,-0.005,0.022,16.7,0.3,1,30,1,23,14.4,31.4,0,0,\\n2020-11-18 19:20:00,0.015,0.022,16.7,0.3,1,29.9,1,23,14.4,31.2,0,0,\\n2020-11-18 19:25:00,0.04,0.022,16.7,0.3,1,29.7,1,23,14.4,31.1,0,0,\\n2020-11-18 19:30:00,0.052,0.022,16.7,0.3,1,29.7,1,24,14.4,30.9,0,0,\\n2020-11-18 19:35:00,0.015,0.022,16.7,0.3,1,29.7,1,24,14.4,30.8,0,0,\\n2020-11-18 19:40:00,-0.005,0.022,16.7,0.3,1,29.6,1,24,14.4,30.7,0,0,\\n2020-11-18 19:45:00,0.064,0.022,16.7,0.3,1,29.4,1,25,14.4,30.6,0,0,\\n2020-11-18 19:50:00,0.043,0.022,16.7,0.3,1,29.1,1,25,14.4,30.5,0,0,\\n2020-11-18 19:55:00,0.047,0.022,16.7,0.3,1,28.7,1,25,14.4,30.4,0,0,\\n2020-11-18 20:00:00,0.014,0.018,16.7,0.3,1,28.5,1,25,14.3,30.3,0,0,\\n2020-11-18 20:05:00,0.06,0.018,16.7,0.3,1,28.3,1,25,14.3,30.2,0,0,\\n2020-11-18 20:10:00,0.041,0.018,16.7,0.3,1,28.1,1,25,14.3,30.1,0,0,\\n2020-11-18 20:15:00,0.01,0.018,16.7,0.3,1,27.9,1,25,14.3,30,0,0,\\n2020-11-18 20:20:00,0.067,0.018,16.7,0.3,1,27.7,1,26,14.3,30,0,0,\\n2020-11-18 20:25:00,0.08,0.018,16.7,0.3,1,27.5,1,25,14.3,29.9,0,0,\\n2020-11-18 20:30:00,0.057,0.018,16.7,0.3,1,27.4,1,25,14.3,29.8,0,0,\\n2020-11-18 20:35:00,-0.003,0.018,16.7,0.3,1,27.2,1,25,14.3,29.8,0,0,\\n2020-11-18 20:40:00,0.05,0.018,16.7,0.3,1,27.1,1,25,14.3,29.7,0,0,\\n2020-11-18 20:45:00,0.04,0.018,16.7,0.3,1,27.1,1,24,14.3,29.6,0,0,\\n2020-11-18 20:50:00,0.049,0.018,16.7,0.3,1,27.3,1,25,14.3,29.6,0,0,\\n2020-11-18 20:55:00,0.022,0.018,16.7,0.3,1,27.3,1,27,14.3,29.6,0,0,\\n2020-11-18 21:00:00,0.084,0.052,16.7,0.3,1,27.1,0,28,14.3,29.6,0,0,\\n2020-11-18 21:05:00,0.118,0.052,16.7,0.3,1,26.5,1,29,14.3,29.5,0,0,\\n2020-11-18 21:10:00,0.079,0.052,16.7,0.3,1,26.6,1,26,14.3,29.5,0,0,\\n2020-11-18 21:15:00,0.024,0.052,16.7,0.3,1,26.6,1,26,14.3,29.5,0,0,\\n2020-11-18 21:20:00,-0.002,0.052,16.7,0.3,1,26.5,1,26,14.3,29.5,0,0,\\n2020-11-18 21:25:00,0.042,0.052,16.7,0.3,1,26.5,0,26,14.3,29.5,0,0,\\n2020-11-18 21:30:00,0.047,0.052,16.7,0.3,1,26.4,1,26,14.3,29.5,0,0,\\n2020-11-18 21:35:00,-0.005,0.052,16.7,0.3,1,26.3,1,26,14.3,29.5,0,0,\\n2020-11-18 21:40:00,0.011,0.052,16.7,0.3,1,26.1,1,26,14.3,29.5,0,0,\\n2020-11-18 21:45:00,0.009,0.052,16.7,0.3,1,26,1,26,14.3,29.4,0,0,\\n2020-11-18 21:50:00,0.002,0.052,16.7,0.3,1,25.8,1,26,14.3,29.4,0,0,\\n2020-11-18 21:55:00,0.055,0.052,16.7,0.3,1,25.7,1,26,14.3,29.4,0,0,\\n2020-11-18 22:00:00,0.01,0.021,16.7,0.3,1,25.6,1,27,14.3,29.4,0,0,\\n2020-11-18 22:05:00,0.008,0.021,16.7,0.3,1,25.5,1,27,14.3,29.3,0,0,\\n2020-11-18 22:10:00,0.024,0.021,16.7,0.3,1,25.6,1,26,14.3,29.3,0,0,\\n2020-11-18 22:15:00,-0.005,0.021,16.7,0.3,1,26,1,26,14.3,29.4,0,0,\\n2020-11-18 22:20:00,-0.005,0.021,16.7,0.3,1,26.2,1,26,14.3,29.4,0,0,\\n2020-11-18 22:25:00,0.006,0.021,16.7,0.3,1,26.2,1,26,14.3,29.4,0,0,\\n2020-11-18 22:30:00,0.035,0.021,16.7,0.3,1,26.1,1,26,14.3,29.5,0,0,\\n2020-11-18 22:35:00,0.032,0.021,16.7,0.3,1,25.9,1,26,14.3,29.5,0,0,\\n2020-11-18 22:40:00,-0.005,0.021,16.7,0.3,1,25.7,1,26,14.3,29.5,0,0,\\n2020-11-18 22:45:00,0.023,0.021,16.7,0.3,1,25.6,1,26,14.3,29.4,0,0,\\n2020-11-18 22:50:00,0,0.021,16.7,0.3,1,25.6,1,25,14.3,29.5,0,0,\\n2020-11-18 22:55:00,-0.005,0.021,16.7,0.3,1,25.5,1,25,14.3,29.4,0,0,\\n2020-11-18 23:00:00,-0.005,0.006,16.7,0.3,1,25.4,1,25,14.3,29.4,0,0,\\n2020-11-18 23:05:00,0.016,0.006,16.7,0.3,1,25.5,1,25,14.3,29.4,0,0,\\n2020-11-18 23:10:00,0.049,0.006,16.7,0.3,1,25.4,0,25,14.3,29.3,0,0,\\n2020-11-18 23:15:00,-0.001,0.006,16.7,0.3,1,25.3,1,25,14.3,29.4,0,0,\\n2020-11-18 23:20:00,0.006,0.006,16.7,0.3,1,25.2,1,25,14.3,29.3,0,0,\\n2020-11-18 23:25:00,0.005,0.006,16.7,0.3,1,25.1,1,25,14.3,29.3,0,0,\\n2020-11-18 23:30:00,0.022,0.006,16.7,0.3,1,25.1,1,25,14.3,29.3,0,0,\\n2020-11-18 23:35:00,-0.005,0.006,16.7,0.3,1,25.2,1,25,14.3,29.3,0,0,\\n2020-11-18 23:40:00,0.008,0.006,16.7,0.3,1,25.3,1,25,14.3,29.3,0,0,\\n2020-11-18 23:45:00,0.015,0.006,16.7,0.3,1,25.3,1,25,14.3,29.4,0,0,\\n2020-11-18 23:50:00,-0.005,0.006,16.7,0.3,1,25.3,1,25,14.3,29.4,0,0,\\n2020-11-18 23:55:00,-0.005,0.006,16.7,0.3,1,25.3,1,25,14.3,29.4,0,0,\\n2020-11-19 00:00:00,-0.005,0.015,16.7,0.3,1,25.3,1,25,14.3,29.4,0,0,\\n2020-11-19 00:05:00,0.041,0.015,15.7,0.3,1,25.3,1,26,14.4,29.3,0,0,\\n2020-11-19 00:10:00,0.03,0.015,16.7,0.3,1,25.3,1,26,14.4,29.3,0,0,\\n2020-11-19 00:15:00,0.011,0.015,16.7,0.3,1,25.3,1,26,14.4,29.3,0,0,\\n2020-11-19 00:20:00,0.049,0.015,16.7,0.3,1,25.3,1,27,14.4,29.2,0,0,\\n2020-11-19 00:25:00,-0.005,0.015,16.7,0.3,1,25.4,1,27,14.4,29.2,0,0,\\n2020-11-19 00:30:00,-0.005,0.015,16.7,0.3,1,25.4,1,27,14.4,29.1,0,0,\\n2020-11-19 00:35:00,0.003,0.015,16.7,0.3,1,25.5,1,27,14.4,29.1,0,0,\\n2020-11-19 00:40:00,-0.004,0.015,16.7,0.3,1,25.6,1,27,14.4,29.1,0,0,\\n2020-11-19 00:45:00,0.011,0.015,16.7,0.3,1,25.5,1,27,14.4,29,0,0,\\n2020-11-19 00:50:00,-0.005,0.015,16.7,0.3,1,25.5,1,28,14.4,28.9,0,0,\\n2020-11-19 00:55:00,0.016,0.015,16.7,0.3,1,25.4,1,28,14.4,28.9,0,0,\\n2020-11-19 01:00:00,0.037,0.007,16.7,0.3,1,25.2,1,29,14.4,28.9,0,0,\\n2020-11-19 01:05:00,0.005,0.007,16.7,0.3,1,25.1,1,30,14.4,28.8,0,0,\\n2020-11-19 01:10:00,-0.004,0.007,16.7,0.3,1,24.9,1,30,14.4,28.8,0,0,\\n2020-11-19 01:15:00,0.004,0.007,16.7,0.3,1,24.7,1,30,14.4,28.8,0,0,\\n2020-11-19 01:20:00,0.007,0.007,16.7,0.3,1,24.7,1,29,14.4,28.7,0,0,\\n2020-11-19 01:25:00,0.023,0.007,16.7,0.3,1,24.7,1,29,14.4,28.7,0,0,\\n2020-11-19 01:30:00,0.006,0.007,16.7,0.3,1,24.9,0,29,14.4,28.7,0,0,\\n2020-11-19 01:35:00,-0.005,0.007,16.7,0.3,1,24.9,1,29,14.4,28.7,0,0,\\n2020-11-19 01:40:00,0.016,0.007,16.7,0.3,1,24.6,1,31,14.4,28.6,0,0,\\n2020-11-19 01:45:00,0.001,0.007,16.7,0.3,1,24.2,1,31,14.4,28.5,0,0,\\n2020-11-19 01:50:00,0.017,0.007,16.7,0.3,1,24,1,32,14.4,28.4,0,0,\\n2020-11-19 01:55:00,0.005,0.007,16.7,0.3,1,23.8,1,32,14.4,28.3,0,0,\\n2020-11-19 02:00:00,0.017,0.004,16.7,0.3,1,23.6,1,33,14.4,28.2,0,0,\\n2020-11-19 02:05:00,0.017,0.004,16.7,0.3,1,23.5,1,33,14.4,28.1,0,0,\\n2020-11-19 02:10:00,0,0.004,16.7,0.3,1,23.5,1,32,14.4,28.1,0,0,\\n2020-11-19 02:15:00,0.011,0.004,16.7,0.3,1,23.5,1,33,14.4,27.9,0,0,\\n2020-11-19 02:20:00,-0.005,0.004,16.7,0.3,1,23.3,1,33,14.4,27.9,0,0,\\n2020-11-19 02:25:00,0.005,0.004,16.7,0.3,1,23.1,1,33,14.4,27.8,0,0,\\n2020-11-19 02:30:00,0.061,0.004,16.7,0.3,1,23,1,34,14.4,27.8,0,0,\\n2020-11-19 02:35:00,-0.001,0.004,16.7,0.3,1,22.9,1,33,14.4,27.7,0,0,\\n2020-11-19 02:40:00,-0.005,0.004,16.7,0.3,1,22.9,1,33,14.4,27.7,0,0,\\n2020-11-19 02:45:00,0.029,0.004,16.7,0.3,1,23,1,33,14.4,27.6,0,0,\\n2020-11-19 02:50:00,0.011,0.004,16.7,0.3,1,22.8,1,33,14.4,27.5,0,0,\\n2020-11-19 02:55:00,-0.005,0.004,16.7,0.3,1,22.8,1,33,14.4,27.5,0,0,\\n2020-11-19 03:00:00,-0.004,0.006,16.7,0.3,1,22.9,1,33,14.4,27.5,0,0,\\n2020-11-19 03:05:00,0.003,0.006,16.7,0.3,1,22.8,1,34,14.4,27.4,0,0,\\n2020-11-19 03:10:00,-0.005,0.006,16.7,0.3,1,22.9,1,34,14.4,27.4,0,0,\\n2020-11-19 03:15:00,0.002,0.006,16.7,0.3,1,22.8,1,34,14.4,27.4,0,0,\\n2020-11-19 03:20:00,0.019,0.006,16.7,0.3,1,22.6,1,34,14.4,27.3,0,0,\\n2020-11-19 03:25:00,0.027,0.006,16.7,0.3,1,22.5,1,35,14.4,27.3,0,0,\\n2020-11-19 03:30:00,-0.005,0.006,16.7,0.3,1,22.4,1,35,14.4,27.3,0,0,\\n2020-11-19 03:35:00,0.026,0.006,16.7,0.3,1,22.3,1,34,14.4,27.2,0,0,\\n2020-11-19 03:40:00,0.045,0.006,16.7,0.3,1,22.2,1,35,14.4,27.2,0,0,\\n2020-11-19 03:45:00,-0.003,0.006,16.7,0.3,1,22.1,1,35,14.4,27.2,0,0,\\n2020-11-19 03:50:00,-0.004,0.006,16.7,0.3,1,22.1,1,35,14.4,27.1,0,0,\\n2020-11-19 03:55:00,-0.005,0.006,16.7,0.3,1,22,1,35,14.4,27,0,0,\\n2020-11-19 04:00:00,0.012,0.007,16.7,0.3,1,21.8,1,36,14.4,27,0,0,\\n2020-11-19 04:05:00,0.034,0.007,16.7,0.3,1,21.8,1,35,14.4,26.9,0,0,\\n2020-11-19 04:10:00,0.022,0.007,16.7,0.3,1,21.7,1,35,14.4,26.9,0,0,\\n2020-11-19 04:15:00,-0.005,0.007,16.7,0.3,1,21.6,1,35,14.4,26.8,0,0,\\n2020-11-19 04:20:00,0.019,0.007,16.7,0.3,1,21.7,1,35,14.4,26.7,0,0,\\n2020-11-19 04:25:00,0.029,0.007,16.7,0.3,1,21.7,1,35,14.4,26.7,0,0,\\n2020-11-19 04:30:00,-0.005,0.007,16.7,0.3,1,21.5,1,36,14.4,26.7,0,0,\\n2020-11-19 04:35:00,0.004,0.007,16.7,0.3,1,21.2,1,36,14.4,26.7,0,0,\\n2020-11-19 04:40:00,0.023,0.007,16.7,0.3,1,20.8,1,37,14.4,26.7,0,0,\\n2020-11-19 04:45:00,0.04,0.007,16.7,0.3,1,20.5,1,37,14.4,26.7,0,0,\\n2020-11-19 04:50:00,0.002,0.007,16.7,0.3,1,20.4,1,37,14.4,26.6,0,0,\\n2020-11-19 04:55:00,0.026,0.007,16.7,0.3,1,20.4,0,36,14.4,26.5,0,0,\\n2020-11-19 05:00:00,-0.001,0.016,16.7,0.3,1,20.4,1,36,14.4,26.5,0,0,\\n2020-11-19 05:05:00,0.005,0.016,16.7,0.3,1,20.4,1,36,14.4,26.5,0,0,\\n2020-11-19 05:10:00,0.014,0.016,16.7,0.3,1,20.5,1,36,14.3,26.5,0,0,\\n2020-11-19 05:15:00,0.022,0.016,16.7,0.3,1,20.4,1,36,14.4,26.5,0,0,\\n2020-11-19 05:20:00,0.008,0.016,16.7,0.3,1,20.3,1,37,14.4,26.4,0,0,\\n2020-11-19 05:25:00,0.018,0.016,16.7,0.3,1,20.3,1,37,14.3,26.4,0,0,\\n2020-11-19 05:30:00,0.003,0.016,16.7,0.3,1,20.4,1,37,14.4,26.4,0,0,\\n2020-11-19 05:35:00,-0.005,0.016,16.7,0.3,1,20.5,1,37,14.4,26.4,0,0,\\n2020-11-19 05:40:00,0.034,0.016,16.7,0.3,1,20.6,1,37,14.4,26.4,0,0,\\n2020-11-19 05:45:00,0.003,0.016,16.7,0.3,1,20.6,1,37,14.4,26.4,0,0,\\n2020-11-19 05:50:00,-0.002,0.016,16.7,0.3,1,20.5,1,36,14.4,26.4,0,0,\\n2020-11-19 05:55:00,0.018,0.016,16.7,0.3,1,20.6,1,36,14.4,26.5,0,0,\\n2020-11-19 06:00:00,0.006,0.01,16.7,0.3,1,20.7,1,37,14.3,26.5,0,0,\\n2020-11-19 06:05:00,0.007,0.01,15.8,0.3,1,20.9,1,38,14.4,26.5,0,0,\\n2020-11-19 06:10:00,0,0.01,16.7,0.3,1,21,1,38,14.4,26.5,0,0,\\n2020-11-19 06:15:00,0.006,0.01,16.7,0.3,1,21.1,1,38,14.4,26.5,0,0,\\n2020-11-19 06:20:00,0.005,0.01,16.7,0.3,1,21.2,1,39,14.4,26.6,0,0,\\n2020-11-19 06:25:00,-0.005,0.01,16.7,0.3,1,21.4,0,39,14.4,26.7,0,0,\\n2020-11-19 06:30:00,-0.004,0.01,16.7,0.3,1,21.7,1,39,14.4,26.8,0,0,\\n2020-11-19 06:35:00,0.004,0.01,16.7,0.3,1,21.8,1,39,14.4,26.9,0,0,\\n2020-11-19 06:40:00,0.029,0.01,16.7,0.3,1,22.1,0,39,14.4,27,0,0,\\n2020-11-19 06:45:00,-0.005,0.01,16.7,0.3,1,22.6,1,38,14.4,27.2,0,0,\\n2020-11-19 06:50:00,-0.005,0.01,16.7,0.3,1,22.8,1,37,14.4,27.4,0,0,\\n2020-11-19 06:55:00,0.021,0.01,16.7,0.3,1,23,1,37,14.4,27.5,0,0,\\n2020-11-19 07:00:00,0.037,0.005,16.7,0.3,1,23.3,1,36,14.4,27.7,0,0,\\n2020-11-19 07:05:00,0.013,0.005,16.7,0.3,1,23.4,1,36,14.4,27.8,0,0,\\n2020-11-19 07:10:00,0,0.005,16.7,0.3,1,23.8,1,36,14.4,27.9,0,0,\\n2020-11-19 07:15:00,0.006,0.005,16.7,0.3,1,24.4,1,35,14.4,28.2,0,0,\\n2020-11-19 07:20:00,-0.005,0.005,16.7,0.3,1,25,1,34,14.4,28.4,0,0,\\n2020-11-19 07:25:00,0.049,0.005,16.7,0.3,1,25.3,1,34,14.4,28.6,0,0,\\n2020-11-19 07:30:00,-0.005,0.005,16.7,0.3,1,25.7,1,33,14.4,28.8,0,0,\\n2020-11-19 07:35:00,-0.005,0.005,16.7,0.3,1,26.3,1,32,14.4,29,0,0,\\n2020-11-19 07:40:00,-0.005,0.005,16.7,0.3,1,27,1,32,14.4,29.3,0,0,\\n2020-11-19 07:45:00,0.004,0.005,16.7,0.3,1,27.3,1,31,14.4,29.6,0,0,\\n2020-11-19 07:50:00,0.003,0.005,16.7,0.3,1,27.7,1,31,14.4,29.9,0,0,\\n2020-11-19 07:55:00,0.017,0.005,16.7,0.3,1,28.3,1,31,14.4,30.3,0,0,\\n2020-11-19 08:00:00,0.015,0.004,16.7,0.3,1,28.9,1,30,14.4,30.6,0,0,\\n2020-11-19 08:05:00,0.01,0.004,16.7,0.3,1,29.1,1,29,14.4,30.9,0,0,\\n2020-11-19 08:10:00,-0.005,0.004,16.7,0.3,1,29.6,1,29,14.4,31.2,0,0,\\n2020-11-19 08:15:00,0.01,0.004,16.7,0.3,1,29.8,1,28,14.4,31.6,0,0,\\n2020-11-19 08:20:00,0.022,0.004,16.7,0.3,1,29.8,1,27,14.4,31.9,0,0,\\n2020-11-19 08:25:00,0.023,0.004,16.7,0.3,1,29.6,1,26,14.4,32.1,0,0,\\n2020-11-19 08:30:00,-0.005,0.004,16.7,0.3,1,29.9,1,26,14.4,32.4,0,0,\\n2020-11-19 08:35:00,0.029,0.004,16.7,0.3,1,30.5,1,26,14.4,32.7,0,0,\\n2020-11-19 08:40:00,0.003,0.004,16.7,0.3,1,30.9,1,25,14.4,33,0,0,\\n2020-11-19 08:45:00,-0.005,0.004,16.7,0.3,1,31.1,1,25,14.4,33.3,0,0,\\n2020-11-19 08:50:00,0.06,0.004,16.7,0.3,1,31.1,1,25,14.4,33.5,0,0,\\n2020-11-19 08:55:00,0.042,0.004,16.7,0.3,1,31.2,1,24,14.4,33.7,0,0,\\n2020-11-19 09:00:00,-0.005,0.011,16.7,0.3,1,31.4,1,25,14.4,34,0,0,\\n2020-11-19 09:05:00,-0.004,0.011,16.7,0.3,1,30.9,1,25,14.4,34.2,0,0,\\n2020-11-19 09:10:00,0.053,0.011,16.7,0.3,1,31.1,1,24,14.4,34.4,0,0,\\n2020-11-19 09:15:00,-0.005,0.011,16.7,0.3,1,31,1,24,14.4,34.5,0,0,\\n2020-11-19 09:20:00,0.019,0.011,16.7,0.3,1,31.1,1,24,14.4,34.6,0,0,\\n2020-11-19 09:25:00,0.05,0.011,16.7,0.3,1,31.2,1,23,14.4,34.7,0,0,\\n2020-11-19 09:30:00,0.014,0.011,16.7,0.3,1,31.6,1,23,14.4,34.8,0,0,\\n2020-11-19 09:35:00,-0.005,0.011,16.7,0.3,1,32.3,1,23,14.4,34.9,0,0,\\n2020-11-19 09:40:00,0.012,0.011,16.7,0.3,1,32.8,1,23,14.4,35.1,0,0,\\n2020-11-19 09:45:00,0.017,0.011,16.7,0.3,1,32.6,1,22,14.4,35.2,0,0,\\n2020-11-19 09:50:00,0.023,0.011,16.7,0.3,1,31.5,1,22,14.4,35.2,0,0,\\n2020-11-19 09:55:00,0.016,0.011,16.7,0.3,1,31.9,1,22,14.4,35.3,0,0,\\n2020-11-19 10:00:00,-0.005,0.014,16.7,0.3,1,32.2,1,22,14.4,35.5,0,0,\\n2020-11-19 10:05:00,0.002,0.014,16.7,0.3,1,32.9,1,23,14.4,35.6,0,0,\\n2020-11-19 10:10:00,-0.005,0.014,16.7,0.3,1,33.6,1,23,14.4,35.7,0,0,\\n2020-11-19 10:15:00,-0.005,0.014,16.7,0.3,1,33.8,1,22,14.4,35.8,0,0,\\n2020-11-19 10:20:00,0.025,0.014,16.7,0.3,1,33.4,1,22,14.4,35.9,0,0,\\n2020-11-19 10:25:00,0.026,0.014,16.7,0.3,1,32.4,1,22,14.4,35.9,0,0,\\n2020-11-19 10:30:00,0.03,0.014,16.7,0.3,1,33,1,22,14.4,36,0,0,\\n2020-11-19 10:35:00,-0.005,0.014,16.7,0.3,1,33.4,1,22,14.4,36.1,0,0,\\n2020-11-19 10:40:00,0.01,0.014,16.7,0.3,1,33.8,1,22,14.4,36.2,0,0,\\n2020-11-19 10:45:00,-0.005,0.014,16.7,0.3,1,34.3,1,22,14.4,36.3,0,0,\\n2020-11-19 10:50:00,-0.005,0.014,16.7,0.3,1,34.2,1,21,14.4,36.4,0,0,\\n2020-11-19 10:55:00,0.047,0.014,16.7,0.3,1,34.2,1,21,14.4,36.5,0,0,\\n2020-11-19 11:00:00,0.045,0.007,16.7,0.3,1,33.8,1,21,14.4,36.6,0,0,\\n2020-11-19 11:05:00,-0.005,0.007,16.7,0.3,1,34.1,1,21,14.4,36.7,0,0,\\n2020-11-19 11:10:00,0.062,0.007,16.7,0.3,1,34.3,1,20,14.4,36.8,0,0,\\n2020-11-19 11:15:00,0.03,0.007,16.7,0.3,1,34.4,1,20,14.4,36.9,0,0,\\n2020-11-19 11:20:00,0.005,0.007,16.7,0.3,1,34.3,1,19,14.4,36.9,0,0,\\n2020-11-19 11:25:00,0.028,0.007,16.7,0.3,1,33.5,1,19,14.4,36.9,0,0,\\n2020-11-19 11:30:00,0.039,0.007,16.7,0.3,1,33.9,1,20,14.4,36.9,0,0,\\n2020-11-19 11:35:00,0.018,0.007,16.7,0.3,1,34.2,1,20,14.4,37,0,0,\\n2020-11-19 11:40:00,0.008,0.007,16.7,0.3,1,33.9,1,20,14.3,37,0,0,\\n2020-11-19 11:45:00,-0.001,0.007,16.7,0.3,1,34.5,1,20,14.3,37,0,0,\\n2020-11-19 11:50:00,-0.004,0.007,16.7,0.3,1,35.2,1,20,14.3,37.1,0,0,\\n2020-11-19 11:55:00,0.015,0.007,16.7,0.3,1,35.2,1,21,14.3,37.1,0,0,\\n2020-11-19 12:00:00,0.02,0.021,16.7,0.3,1,35.2,1,20,14.3,37.1,0,0,\\n2020-11-19 12:05:00,0.011,0.021,15.8,0.3,1,35.6,1,21,14.4,37.1,0,0,\\n2020-11-19 12:10:00,-0.005,0.021,16.7,0.3,1,35.9,1,21,14.4,37.1,0,0,\\n2020-11-19 12:15:00,-0.005,0.021,16.7,0.3,1,35.7,1,21,14.4,37,0,0,\\n2020-11-19 12:20:00,0.02,0.021,16.7,0.3,1,36.1,1,21,14.4,37,0,0,\\n2020-11-19 12:25:00,0.014,0.021,16.7,0.3,1,35.9,1,20,14.4,37,0,0,\\n2020-11-19 12:30:00,-0.005,0.021,16.7,0.3,1,36,1,21,14.4,37,0,0,\\n2020-11-19 12:35:00,-0.005,0.021,16.7,0.3,1,36.4,1,20,14.4,37.1,0,0,\\n2020-11-19 12:40:00,0.026,0.021,16.7,0.3,1,37.1,1,20,14.4,37.1,0,0,\\n2020-11-19 12:45:00,-0.004,0.021,16.7,0.3,1,37.5,1,20,14.4,37.3,0,0,\\n2020-11-19 12:50:00,-0.005,0.021,16.7,0.3,1,37.4,1,20,14.4,37.4,0,0,\\n2020-11-19 12:55:00,0.036,0.021,16.7,0.3,1,37.4,1,19,14.4,37.5,0,0,\\n2020-11-19 13:00:00,0.025,-0.002,16.7,0.3,1,36.9,1,19,14.4,37.6,0,0,\\n2020-11-19 13:05:00,-0.005,-0.002,16.7,0.3,1,37.1,1,20,14.4,37.6,0,0,\\n2020-11-19 13:10:00,0.008,-0.002,16.7,0.3,1,37.3,1,18,14.4,37.7,0,0,\\n2020-11-19 13:15:00,0.05,-0.002,16.7,0.3,1,37.4,1,18,14.4,37.8,0,0,\\n2020-11-19 13:20:00,-0.005,-0.002,16.7,0.3,1,37.8,1,18,14.4,37.9,0,0,\\n2020-11-19 13:25:00,0.001,-0.002,16.7,0.3,1,38.1,1,17,14.4,38.1,0,0,\\n2020-11-19 13:30:00,0.013,-0.002,16.7,0.3,1,37.9,1,17,14.4,38.2,0,0,\\n2020-11-19 13:35:00,-0.005,-0.002,16.7,0.3,1,38.2,1,17,14.4,38.3,0,0,\\n2020-11-19 13:40:00,0.009,-0.002,16.7,0.3,1,38.4,1,17,14.4,38.5,0,0,\\n2020-11-19 13:45:00,-0.005,-0.002,16.7,0.3,1,38.5,1,17,14.4,38.6,0,0,\\n2020-11-19 13:50:00,-0.005,-0.002,16.7,0.3,1,38.6,1,17,14.4,38.8,0,0,\\n2020-11-19 13:55:00,0.025,-0.002,16.7,0.3,1,38.7,1,17,14.4,39,0,0,\\n2020-11-19 14:00:00,0.016,0.007,16.7,0.3,1,38.7,1,17,14.4,39.2,0,0,\\n2020-11-19 14:05:00,0.034,0.007,16.7,0.3,1,38.3,1,16,14.4,39.3,0,0,\\n2020-11-19 14:10:00,0.037,0.007,16.7,0.3,1,38.4,1,16,14.4,39.4,0,0,\\n2020-11-19 14:15:00,-0.005,0.007,16.7,0.3,1,38.7,1,17,14.4,39.6,0,0,\\n2020-11-19 14:20:00,0.011,0.007,16.7,0.3,1,38.9,1,17,14.4,39.7,0,0,\\n2020-11-19 14:25:00,0.031,0.007,16.7,0.3,1,38.5,1,17,14.4,39.8,0,0,\\n2020-11-19 14:30:00,-0.001,0.007,16.7,0.3,1,38.8,1,17,14.4,39.9,0,0,\\n2020-11-19 14:35:00,0.03,0.007,16.7,0.3,1,38.8,1,17,14.4,40,0,0,\\n2020-11-19 14:40:00,-0.001,0.007,16.7,0.3,1,38.9,1,16,14.4,40.1,0,0,\\n2020-11-19 14:45:00,0.002,0.007,16.7,0.3,1,37.9,1,16,14.4,40,0,0,\\n2020-11-19 14:50:00,0.018,0.007,16.7,0.3,1,37.8,1,16,14.4,40,0,0,\\n2020-11-19 14:55:00,0.021,0.007,16.7,0.3,1,38.2,1,16,14.4,40,0,0,\\n2020-11-19 15:00:00,-0.005,0.01,16.7,0.3,1,38,1,16,14.4,40,0,0,\\n2020-11-19 15:05:00,-0.005,0.01,16.7,0.3,1,36.9,1,16,14.4,39.9,0,0,\\n2020-11-19 15:10:00,0.062,0.01,16.7,0.3,1,36.3,1,15,14.3,39.6,0,0,\\n2020-11-19 15:15:00,0.02,0.01,16.7,0.3,1,36.7,1,15,14.4,39.4,0,0,\\n2020-11-19 15:20:00,-0.005,0.01,16.7,0.3,1,37.2,1,16,14.4,39.3,0,0,\\n2020-11-19 15:25:00,-0.005,0.01,16.7,0.3,1,38,1,15,14.4,39.2,0,0,\\n2020-11-19 15:30:00,0,0.01,16.7,0.3,1,37.5,1,14,14.4,39,0,0,\\n2020-11-19 15:35:00,0.015,0.01,16.7,0.3,1,37.1,1,14,14.4,38.9,0,0,\\n2020-11-19 15:40:00,0.024,0.01,16.7,0.3,1,37.1,1,15,14.4,38.7,0,0,\\n2020-11-19 15:45:00,0.004,0.01,16.7,0.3,1,37,1,15,14.4,38.5,0,0,\\n2020-11-19 15:50:00,0.001,0.01,16.7,0.3,1,36.6,1,15,14.4,38.3,0,0,\\n2020-11-19 15:55:00,-0.005,0.01,16.7,0.3,1,36.4,1,15,14.4,38,0,0,\\n2020-11-19 16:00:00,0.006,0.008,16.7,0.3,1,36.2,1,15,14.4,37.8,0,0,\\n2020-11-19 16:05:00,-0.003,0.008,16.7,0.3,1,36.1,1,16,14.4,37.5,0,0,\\n2020-11-19 16:10:00,0.004,0.008,16.7,0.3,1,36,1,16,14.4,37.2,0,0,\\n2020-11-19 16:15:00,0.039,0.008,16.7,0.3,1,35.8,1,16,14.4,36.9,0,0,\\n2020-11-19 16:20:00,-0.002,0.008,16.7,0.3,1,35.6,1,16,14.4,36.6,0,0,\\n2020-11-19 16:25:00,-0.005,0.008,16.7,0.3,1,35.6,1,17,14.4,36.3,0,0,\\n2020-11-19 16:30:00,-0.005,0.008,16.7,0.3,1,35.5,1,18,14.4,36.1,0,0,\\n2020-11-19 16:35:00,0.017,0.008,16.7,0.3,1,35,1,18,14.4,35.9,0,0,\\n2020-11-19 16:40:00,0.016,0.008,16.7,0.3,1,35.3,1,18,14.4,35.7,0,0,\\n2020-11-19 16:45:00,0.01,0.008,16.7,0.3,1,35.6,1,18,14.4,35.6,0,0,\\n2020-11-19 16:50:00,-0.005,0.008,16.7,0.3,1,35.2,1,18,14.4,35.4,0,0,\\n2020-11-19 16:55:00,-0.005,0.008,16.7,0.3,1,34.8,1,18,14.4,35.2,0,0,\\n2020-11-19 17:00:00,-0.005,-0.005,16.7,0.3,1,34.7,1,18,14.4,35.1,0,0,\\n2020-11-19 17:05:00,0.007,-0.005,16.7,0.3,1,34.6,1,18,14.4,34.9,0,0,\\n2020-11-19 17:10:00,0.036,-0.005,16.7,0.3,1,34.5,1,18,14.4,34.8,0,0,\\n2020-11-19 17:15:00,0.015,-0.005,16.7,0.3,1,34.4,1,19,14.4,34.6,0,0,\\n2020-11-19 17:20:00,0.001,-0.005,16.7,0.3,1,34.2,1,19,14.4,34.4,0,0,\\n2020-11-19 17:25:00,0.024,-0.005,16.7,0.3,1,34,1,19,14.4,34.2,0,0,\\n2020-11-19 17:30:00,0.013,-0.005,16.7,0.3,1,34,1,19,14.4,34.1,0,0,\\n2020-11-19 17:35:00,-0.005,-0.005,16.7,0.3,1,33.9,1,19,14.4,33.9,0,0,\\n2020-11-19 17:40:00,-0.005,-0.005,16.7,0.3,1,33.8,1,20,14.4,33.7,0,0,\\n2020-11-19 17:45:00,0.009,-0.005,16.7,0.3,1,33.8,1,20,14.4,33.6,0,0,\\n2020-11-19 17:50:00,0.035,-0.005,16.7,0.3,1,34,1,21,14.4,33.5,0,0,\\n2020-11-19 17:55:00,-0.005,-0.005,16.7,0.3,1,34.2,1,21,14.4,33.5,0,0,\\n2020-11-19 18:00:00,0.016,0.01,16.7,0.3,1,34.1,1,21,14.4,33.4,0,0,\\n2020-11-19 18:05:00,0.007,0.01,15.8,0.3,1,33.7,1,22,14.4,33.3,0,0,\\n2020-11-19 18:10:00,0.017,0.01,16.7,0.3,1,33.4,1,23,14.4,33.2,0,0,\\n2020-11-19 18:15:00,0.005,0.01,16.7,0.3,1,33.4,1,23,14.4,33.1,0,0,\\n2020-11-19 18:20:00,-0.005,0.01,16.7,0.3,1,33.3,1,23,14.4,33,0,0,\\n2020-11-19 18:25:00,0.032,0.01,16.7,0.3,1,33.1,1,23,14.4,32.9,0,0,\\n2020-11-19 18:30:00,0.032,0.01,16.7,0.3,1,32.9,1,23,14.4,32.7,0,0,\\n2020-11-19 18:35:00,0.025,0.01,16.7,0.3,1,32.7,1,23,14.4,32.5,0,0,\\n2020-11-19 18:40:00,0.001,0.01,16.7,0.3,1,32.4,1,23,14.4,32.3,0,0,\\n2020-11-19 18:45:00,-0.005,0.01,16.7,0.3,1,32.3,1,23,14.4,32.1,0,0,\\n2020-11-19 18:50:00,0.013,0.01,16.7,0.3,1,32,1,23,14.4,32,0,0,\\n2020-11-19 18:55:00,0.029,0.01,16.7,0.3,1,31.7,1,23,14.4,31.8,0,0,\\n2020-11-19 19:00:00,-0.005,0.004,16.7,0.3,1,31.4,1,23,14.4,31.6,0,0,\\n2020-11-19 19:05:00,-0.005,0.004,16.7,0.3,1,31.1,1,25,14.4,31.5,0,0,\\n2020-11-19 19:10:00,0.011,0.004,16.7,0.3,1,30.6,1,25,14.4,31.3,0,0,\\n2020-11-19 19:15:00,0.029,0.004,16.7,0.3,1,30.3,1,25,14.4,31.1,0,0,\\n2020-11-19 19:20:00,0.007,0.004,16.7,0.3,1,30.3,1,23,14.4,30.9,0,0,\\n2020-11-19 19:25:00,0.011,0.004,16.7,0.3,1,30.4,1,24,14.4,30.8,0,0,\\n2020-11-19 19:30:00,-0.004,0.004,16.7,0.3,1,30.3,1,23,14.4,30.6,0,0,\\n2020-11-19 19:35:00,0.018,0.004,16.7,0.3,1,30.3,1,23,14.4,30.5,0,0,\\n2020-11-19 19:40:00,0.042,0.004,16.7,0.3,1,30.3,1,25,14.4,30.4,0,0,\\n2020-11-19 19:45:00,0.069,0.004,16.7,0.3,1,30.1,1,25,14.4,30.3,0,0,\\n2020-11-19 19:50:00,0.032,0.004,16.7,0.3,1,29.8,1,25,14.4,30.2,0,0,\\n2020-11-19 19:55:00,-0.005,0.004,16.7,0.3,1,29.6,1,24,14.4,30.1,0,0,\\n2020-11-19 20:00:00,-0.005,0.014,16.7,0.3,1,29.3,1,24,14.4,30,0,0,\\n2020-11-19 20:05:00,0.041,0.014,16.7,0.3,1,29.5,1,24,14.4,30,0,0,\\n2020-11-19 20:10:00,0.058,0.014,16.7,0.3,1,29.7,1,24,14.4,29.9,0,0,\\n2020-11-19 20:15:00,-0.005,0.014,16.7,0.3,1,29.6,1,26,14.4,29.9,0,0,\\n2020-11-19 20:20:00,0.069,0.014,16.7,0.3,1,29.5,1,27,14.4,29.8,0,0,\\n2020-11-19 20:25:00,0.058,0.014,16.7,0.3,1,29.4,1,26,14.4,29.8,0,0,\\n2020-11-19 20:30:00,-0.005,0.014,16.7,0.3,1,29.4,1,26,14.4,29.8,0,0,\\n2020-11-19 20:35:00,0.058,0.014,16.7,0.3,1,29.4,1,26,14.4,29.8,0,0,\\n2020-11-19 20:40:00,0.027,0.014,16.7,0.3,1,29.4,1,25,14.4,29.7,0,0,\\n2020-11-19 20:45:00,0.013,0.014,16.7,0.3,1,29.3,1,25,14.4,29.7,0,0,\\n2020-11-19 20:50:00,0.01,0.014,16.7,0.3,1,29.2,1,25,14.4,29.7,0,0,\\n2020-11-19 20:55:00,-0.005,0.014,16.7,0.3,1,29.2,1,25,14.4,29.7,0,0,\\n2020-11-19 21:00:00,0.019,0.031,16.7,0.3,1,29,1,25,14.4,29.7,0,0,\\n2020-11-19 21:05:00,0.014,0.031,16.7,0.3,1,28.9,1,25,14.4,29.7,0,0,\\n2020-11-19 21:10:00,0.006,0.031,16.7,0.3,1,28.8,1,25,14.4,29.7,0,0,\\n2020-11-19 21:15:00,0.064,0.031,16.7,0.3,1,28.6,1,26,14.4,29.6,0,0,\\n2020-11-19 21:20:00,0.024,0.031,16.7,0.3,1,28.4,1,26,14.4,29.6,0,0,\\n2020-11-19 21:25:00,0.036,0.031,16.7,0.3,1,28,1,27,14.4,29.6,0,0,\\n2020-11-19 21:30:00,0.057,0.031,16.7,0.3,1,27.6,1,26,14.4,29.6,0,0,\\n2020-11-19 21:35:00,0.033,0.031,16.7,0.3,1,27.2,1,27,14.4,29.5,0,0,\\n2020-11-19 21:40:00,0.008,0.031,16.7,0.3,1,26.9,1,27,14.4,29.5,0,0,\\n2020-11-19 21:45:00,-0.001,0.031,16.7,0.3,1,26.8,1,27,14.4,29.4,0,0,\\n2020-11-19 21:50:00,0.026,0.031,16.7,0.3,1,26.8,1,27,14.4,29.3,0,0,\\n2020-11-19 21:55:00,0.072,0.031,16.7,0.3,1,26.8,1,27,14.4,29.3,0,0,\\n2020-11-19 22:00:00,0.031,0.033,16.7,0.3,1,26.6,1,28,14.4,29.3,0,0,\\n2020-11-19 22:05:00,0.06,0.033,16.7,0.3,1,26.4,1,28,14.3,29.2,0,0,\\n2020-11-19 22:10:00,0.031,0.033,16.7,0.3,1,26,1,29,14.3,29.2,0,0,\\n2020-11-19 22:15:00,0.034,0.033,16.7,0.3,1,25.5,1,29,14.3,29.2,0,0,\\n2020-11-19 22:20:00,0.046,0.033,16.7,0.3,1,25.4,1,29,14.4,29.1,0,0,\\n2020-11-19 22:25:00,0.038,0.033,16.7,0.3,1,25.4,1,30,14.3,29.1,0,0,\\n2020-11-19 22:30:00,0.003,0.033,16.7,0.3,1,25.3,1,30,14.3,29,0,0,\\n2020-11-19 22:35:00,-0.005,0.033,16.7,0.3,1,25.1,1,30,14.3,28.9,0,0,\\n2020-11-19 22:40:00,0.032,0.033,16.7,0.3,1,25.1,1,31,14.3,28.9,0,0,\\n2020-11-19 22:45:00,-0.005,0.033,16.7,0.3,1,25,1,31,14.3,28.8,0,0,\\n2020-11-19 22:50:00,-0.005,0.033,16.7,0.3,1,25,1,32,14.3,28.8,0,0,\\n2020-11-19 22:55:00,0.054,0.033,16.7,0.3,1,24.8,1,32,14.3,28.7,0,0,\\n2020-11-19 23:00:00,0.012,0.02,16.7,0.3,1,24.5,1,32,14.3,28.7,0,0,\\n2020-11-19 23:05:00,0.011,0.02,16.7,0.3,1,24.4,1,32,14.3,28.6,0,0,\\n2020-11-19 23:10:00,0.031,0.02,16.7,0.3,1,24.2,1,32,14.3,28.5,0,0,\\n2020-11-19 23:15:00,0.028,0.02,16.7,0.3,1,24.1,1,32,14.3,28.4,0,0,\\n2020-11-19 23:20:00,0.002,0.02,16.7,0.3,1,24.3,1,32,14.3,28.4,0,0,\\n2020-11-20 10:40:00,0,0,0,0.3,1,24.2,0,23,12,36.7,0,0,\\n2020-11-20 10:45:00,0,0,0,0.3,1,32.1,1,29,14.4,34.7,0,0,\\n2020-11-20 10:50:00,0,0,0,0.3,1,32.1,1,29,14.4,35.2,0,0,\\n2020-11-20 10:55:00,0,0,0,0.3,1,32.3,1,29,14.4,35.7,0,0,\\n2020-11-20 11:00:00,0,0,0,0.3,1,32.9,1,29,14.4,36.1,0,0,\\n2020-11-20 11:05:00,0,0,0,0.3,1,32.6,1,29,14.4,36.1,0,0,\\n2020-11-20 11:10:00,0,0,3,0.3,1,32.1,1,30,14.4,36,0,0,\\n2020-11-20 11:15:00,0,0,7.1,0.3,1,32.2,1,30,14.4,35.6,256,0,\\n2020-11-20 11:20:00,0.001,0,16.7,0.3,1,32.5,1,29,14.4,35.4,256,0,\\n2020-11-20 11:25:00,0.029,0,16.7,0.3,1,32.4,1,29,14.4,35.3,256,0,\\n2020-11-20 11:30:00,0.03,0,16.7,0.3,1,32.7,1,29,14.4,35.2,256,0,\\n2020-11-20 11:35:00,-0.005,0,16.7,0.3,1,33.1,1,29,14.4,35.2,256,0,\\n2020-11-20 11:40:00,-0.002,0,16.7,0.3,1,33.5,1,29,14.4,35.2,256,0,\\n2020-11-20 11:45:00,0.015,0,16.7,0.3,1,33.6,1,29,14.4,35.2,256,0,\\n2020-11-20 11:50:00,-0.005,0,16.7,0.3,1,34,1,28,14.4,35.2,256,0,\\n2020-11-20 11:55:00,0,0,10.1,0.3,1,31.3,0,28,13.9,35.5,256,0,\\n2020-11-20 12:00:00,0,0.06,16.7,0.3,1,32.3,1,29,14.4,34.9,256,0,\\n2020-11-20 12:05:00,0.002,0.06,15.8,0.3,1,31.8,1,29,14.4,34.9,256,0,\\n2020-11-20 12:10:00,-0.005,0.06,16.7,0.3,1,31.4,1,28,14.4,34.9,256,0,\\n2020-11-20 12:15:00,0.017,0.06,16.7,0.3,1,31.5,1,27,14.4,34.8,256,0,\\n2020-11-20 12:20:00,0.031,0.06,16.7,0.3,1,31.8,1,27,14.4,34.7,256,0,\\n2020-11-20 12:25:00,-0.005,0.06,16.7,0.3,1,32.3,1,27,14.4,34.6,256,0,\\n2020-11-20 12:30:00,0,0.06,16.7,0.3,1,32.3,1,27,14.4,34.4,256,0,\\n2020-11-20 12:35:00,0.009,0.06,16.7,0.3,1,32.3,1,27,14.4,34.3,256,0,\\n2020-11-20 12:40:00,0.012,0.06,16.7,0.3,1,32.4,1,28,14.4,34.1,256,0,\\n2020-11-20 12:45:00,-0.005,0.06,16.7,0.3,1,32.8,1,28,14.4,34,256,0,\\n2020-11-20 12:50:00,0.025,0.06,16.7,0.3,1,32.8,1,29,14.4,33.9,256,0,\\n2020-11-20 12:55:00,0.008,0.06,16.7,0.3,1,32.3,1,28,14.4,33.8,256,0,\\n2020-11-20 13:00:00,0.027,0.009,16.7,0.3,1,32.1,1,29,14.4,33.6,0,0,\\n2020-11-20 13:05:00,0.006,0.009,16.7,0.3,1,32.2,1,29,14.4,33.5,0,0,\\n2020-11-20 13:10:00,-0.005,0.009,16.7,0.3,1,32.2,1,29,14.4,33.4,0,0,\\n2020-11-20 13:15:00,0.005,0.009,16.7,0.3,1,32,1,29,14.4,33.3,0,0,\\n2020-11-20 13:20:00,-0.004,0.009,16.7,0.3,1,31.9,1,30,14.4,33.1,0,0,\\n2020-11-20 13:25:00,0.049,0.009,16.7,0.3,1,31.6,1,30,14.4,32.9,0,0,\\n2020-11-20 13:30:00,0.013,0.009,16.7,0.3,1,31.4,1,32,14.4,32.8,0,0,\\n2020-11-20 13:35:00,-0.002,0.009,16.7,0.3,1,30.9,1,32,14.4,32.5,0,0,\\n2020-11-20 13:40:00,0.036,0.009,16.7,0.3,1,30.8,1,32,14.4,32.3,0,0,\\n2020-11-20 13:45:00,0.018,0.009,16.7,0.3,1,30.9,1,32,14.4,32.2,0,0,\\n2020-11-20 13:50:00,0.01,0.009,16.7,0.3,1,31,1,32,14.4,32.1,0,0,\\n2020-11-20 13:55:00,-0.005,0.009,16.7,0.3,1,31,1,32,14.4,32.1,0,0,\\n2020-11-20 14:00:00,-0.005,0.001,16.7,0.3,1,31,1,32,14.4,32,0,0,\\n2020-11-20 14:05:00,-0.005,0.001,16.7,0.3,1,30.9,1,31,14.4,31.9,0,0,\\n2020-11-20 14:10:00,0.026,0.001,16.7,0.3,1,31,1,30,14.4,31.9,0,0,\\n2020-11-20 14:15:00,-0.005,0.001,16.7,0.3,1,31,1,30,14.4,31.8,0,0,\\n2020-11-20 14:20:00,0.001,0.001,16.7,0.3,1,31,1,30,14.4,31.7,0,0,\\n2020-11-20 14:25:00,0.019,0.001,16.7,0.3,1,30.9,1,30,14.4,31.6,0,0,\\n2020-11-20 14:30:00,0.017,0.001,16.7,0.3,1,30.7,1,30,14.4,31.5,0,0,\\n2020-11-20 14:35:00,0.008,0.001,16.7,0.3,1,30.6,1,30,14.4,31.4,0,0,\\n2020-11-20 14:40:00,0.035,0.001,16.7,0.3,1,30.6,1,31,14.4,31.3,0,0,\\n2020-11-20 14:45:00,-0.005,0.001,16.7,0.3,1,30.5,1,30,14.4,31.2,0,0,\\n2020-11-20 14:50:00,-0.003,0.001,16.7,0.3,1,30.5,1,30,14.4,31.1,0,0,\\n2020-11-20 14:55:00,0.029,0.001,16.7,0.3,1,30.4,1,31,14.4,31.1,0,0,\\n2020-11-20 15:00:00,0.003,0.013,16.7,0.3,1,29.8,1,29,14.4,31,0,0,\\n2020-11-20 15:05:00,0.017,0.013,16.7,0.3,1,26.6,1,26,14.4,30.8,0,0,\\n2020-11-20 15:10:00,0.038,0.013,16.7,0.3,1,24.5,1,28,14.4,30.6,0,0,\\n2020-11-20 15:15:00,0.056,0.013,16.7,0.3,1,23.1,1,29,14.4,30.3,0,0,\\n2020-11-20 15:20:00,0.073,0.013,16.7,0.3,1,22.6,1,29,14.4,30,0,0,\\n2020-11-20 15:25:00,0.013,0.013,16.7,0.3,1,21.1,1,31,14.4,29.6,0,0,\\n2020-11-20 15:30:00,0.015,0.013,16.7,0.3,1,20.5,1,32,14.4,29.1,0,0,\\n2020-11-20 15:35:00,0.058,0.013,16.7,0.3,1,20.2,1,34,14.4,28.7,0,0,\\n2020-11-20 15:40:00,0.03,0.013,16.7,0.3,1,20.2,1,37,14.4,28.4,0,0,\\n2020-11-20 15:45:00,0.038,0.013,16.7,0.3,1,20.4,1,39,14.4,28.2,0,0,\\n2020-11-20 15:50:00,0.026,0.013,16.7,0.3,1,20.5,1,40,14.4,27.9,0,0,\\n2020-11-20 15:55:00,0.012,0.013,16.7,0.3,1,20.5,1,41,14.4,27.7,0,0,\\n2020-11-20 16:00:00,0.038,0.029,16.7,0.3,1,20.7,1,41,14.4,27.6,0,0,\\n2020-11-20 16:05:00,-0.005,0.029,16.7,0.3,1,20.7,1,41,14.4,27.5,0,0,\\n2020-11-20 16:10:00,0.016,0.029,16.7,0.3,1,20.7,1,41,14.4,27.3,0,0,\\n2020-11-20 16:15:00,-0.005,0.029,16.7,0.3,1,20.8,1,41,14.4,27.2,0,0,\\n2020-11-20 16:20:00,-0.005,0.029,16.7,0.3,1,21,1,41,14.4,27.1,0,0,\\n2020-11-20 16:25:00,0.017,0.029,16.7,0.3,1,21.1,1,40,14.4,27,0,0,\\n2020-11-20 16:30:00,0.011,0.029,16.7,0.3,1,21.2,1,40,14.4,27,0,0,\\n2020-11-20 16:35:00,-0.005,0.029,16.7,0.3,1,21.5,1,40,14.4,26.9,0,0,\\n2020-11-20 16:40:00,-0.005,0.029,16.7,0.3,1,21.7,1,39,14.4,26.9,0,0,\\n2020-11-20 16:45:00,-0.005,0.029,16.7,0.3,1,22,1,39,14.4,26.9,0,0,\\n2020-11-20 16:50:00,-0.002,0.029,16.7,0.3,1,22.2,1,38,14.4,26.9,0,0,\\n2020-11-20 16:55:00,-0.005,0.029,16.7,0.3,1,22.3,1,38,14.4,26.9,0,0,\\n2020-11-20 17:00:00,0.01,-0.005,16.7,0.3,1,22.4,1,38,14.4,26.9,0,0,\\n2020-11-20 17:05:00,-0.005,-0.005,16.7,0.3,1,22.5,1,38,14.4,26.8,0,0,\\n2020-11-20 17:10:00,-0.005,-0.005,16.7,0.3,1,22.6,1,37,14.4,26.8,0,0,\\n2020-11-20 17:15:00,0.015,-0.005,16.7,0.3,1,22.6,1,37,14.4,26.9,0,0,\\n2020-11-20 17:20:00,0.031,-0.005,16.7,0.3,1,22.6,1,38,14.4,26.9,0,0,\\n2020-11-20 17:25:00,0.007,-0.005,16.7,0.3,1,22.7,1,38,14.4,26.9,0,0,\\n2020-11-20 17:30:00,-0.005,-0.005,16.7,0.3,1,22.7,1,37,14.4,26.9,0,0,\\n2020-11-20 17:35:00,0.022,-0.005,16.7,0.3,1,22.7,1,38,14.4,26.9,0,0,\\n2020-11-20 17:40:00,0.019,-0.005,16.7,0.3,1,22.8,1,37,14.4,26.8,0,0,\\n2020-11-20 17:45:00,-0.005,-0.005,16.7,0.3,1,22.9,1,37,14.4,26.9,0,0,\\n2020-11-20 17:50:00,0.028,-0.005,16.7,0.3,1,22.9,1,38,14.4,26.9,0,0,\\n2020-11-20 17:55:00,0.018,-0.005,16.7,0.3,1,22.8,1,39,14.4,26.9,0,0,\\n2020-11-20 18:00:00,0.005,0.008,16.7,0.3,1,22.8,1,40,14.4,26.9,0,0,\\n2020-11-20 18:05:00,0.003,0.008,15.8,0.3,1,22.8,1,41,14.4,26.9,0,0,\\n2020-11-20 18:10:00,-0.005,0.008,16.7,0.3,1,22.7,1,42,14.4,26.8,0,0,\\n2020-11-20 18:15:00,-0.005,0.008,16.7,0.3,1,22.7,0,42,14.4,26.7,0,0,\\n2020-11-20 18:20:00,-0.005,0.008,16.7,0.3,1,22.7,1,42,14.4,26.7,0,0,\\n2020-11-20 18:25:00,0.027,0.008,16.7,0.3,1,22.7,0,42,14.4,26.7,0,0,\\n2020-11-20 18:30:00,0.058,0.008,16.7,0.3,1,22.6,1,41,14.4,26.8,0,0,\\n2020-11-20 18:35:00,0.022,0.008,16.7,0.3,1,22.3,1,41,14.4,26.7,0,0,\\n2020-11-20 18:40:00,-0.005,0.008,16.7,0.3,1,22.1,1,41,14.4,26.7,0,0,\\n2020-11-20 20:15:00,0,0,0,0.3,1,20.7,0,41,14.3,23.2,0,0,\\n2020-11-20 20:20:00,0,0,0,0.3,1,21.1,1,41,14.4,23,0,0,\\n2020-11-20 20:25:00,0,0,0,0.3,1,21.1,0,40,14.4,23.1,0,0,\\n2020-11-20 20:30:00,0,0,0,0.3,1,21.2,0,40,14.4,23.2,0,0,\\n2020-11-20 20:35:00,0,0,0,0.3,1,21.1,0,40,14.4,23.2,0,0,\\n2020-11-20 20:40:00,0,0,3,0.3,1,21,0,44,14.4,23.1,0,0,\\n2020-11-20 20:45:00,0,0,0.9,0.3,1,21,1,47,14.4,23.1,256,0,\\n2020-11-20 20:50:00,0,0,16.7,0.3,1,20.9,0,51,14.1,23.4,256,0,\\n2020-11-20 20:55:00,-0.005,0,16.7,0.3,1,20.8,0,48,13.9,24.8,256,0,\\n2020-11-20 21:00:00,-0.005,-0.005,16.7,0.3,1,20.7,1,45,14.2,25.7,256,0,\\n2020-11-20 21:05:00,0.058,-0.005,16.7,0.3,1,20.7,0,43,14.3,25.5,256,0,\\n2020-11-20 21:10:00,0.191,-0.005,16.7,0.3,1,20.8,1,42,14.3,25.4,256,0,\\n2020-11-20 21:15:00,0.083,-0.005,16.7,0.3,1,20.7,0,42,14.3,25.2,256,0,\\n2020-11-20 21:20:00,-0.005,-0.005,16.7,0.3,1,20.7,1,41,14.3,25.3,256,0,\\n2020-11-20 21:25:00,0.056,-0.005,16.7,0.3,1,20.6,1,41,14.3,25.4,256,0,\\n2020-11-20 21:30:00,0.015,-0.005,16.7,0.3,1,20.6,1,40,14.3,25.4,256,0,\\n2020-11-20 21:35:00,-0.004,-0.005,16.7,0.3,1,20.5,1,40,14.3,25.5,256,0,\\n2020-11-20 21:40:00,0.031,-0.005,16.7,0.3,1,20.4,1,40,14.3,25.5,256,0,\\n2020-11-20 21:45:00,0.01,-0.005,16.7,0.3,1,20.4,0,40,14.3,25.6,256,0,\\n2020-11-20 21:50:00,-0.005,-0.005,16.7,0.3,1,20.4,1,39,14.3,25.7,256,0,\\n2020-11-20 21:55:00,0.039,-0.005,16.7,0.3,1,20.3,1,39,14.3,25.8,256,0,\\n2020-11-20 22:00:00,0.042,0.039,16.7,0.3,1,20.3,1,39,14.3,25.8,0,0,\\n2020-11-20 22:05:00,-0.005,0.039,16.7,0.3,1,20.3,1,39,14.3,25.9,0,0,\\n2020-11-20 22:10:00,0.001,0.039,16.7,0.3,1,20.4,1,39,14.3,25.9,0,0,\\n2020-11-20 22:15:00,0.011,0.039,16.7,0.3,1,20.4,0,39,14.3,26,0,0,\\n2020-11-20 22:20:00,0.025,0.039,16.7,0.3,1,20.4,1,39,14.3,26,0,0,\\n2020-11-20 22:25:00,-0.005,0.039,16.7,0.3,1,20.5,1,38,14.3,26.1,0,0,\\n2020-11-20 22:30:00,0.013,0.039,16.7,0.3,1,20.5,1,39,14.3,26.1,0,0,\\n2020-11-20 22:35:00,-0.005,0.039,16.7,0.3,1,20.5,1,38,14.3,26.1,0,0,\\n2020-11-20 22:40:00,0.013,0.039,16.7,0.3,1,20.5,1,39,14.3,26.2,0,0,\\n2020-11-20 22:45:00,0.018,0.039,16.7,0.3,1,20.3,1,39,14.3,26.2,0,0,\\n2020-11-20 22:50:00,-0.005,0.039,16.7,0.3,1,20.1,1,39,14.3,26.2,0,0,\\n2020-11-20 22:55:00,0.027,0.039,16.7,0.3,1,19.8,1,40,14.3,26.2,0,0,\\n2020-11-20 23:00:00,0.015,0.009,16.7,0.3,1,19.5,1,40,14.3,26.1,0,0,\\n2020-11-20 23:05:00,0.012,0.009,16.7,0.3,1,19.2,1,41,14.3,26.1,0,0,\\n2020-11-20 23:10:00,0.031,0.009,16.7,0.3,1,19.1,1,42,14.3,26.1,0,0,\\n2020-11-20 23:15:00,0.016,0.009,16.7,0.3,1,19,1,42,14.3,26,0,0,\\n2020-11-20 23:20:00,0.036,0.009,16.7,0.3,1,18.9,1,42,14.3,26,0,0,\\n2020-11-20 23:25:00,0.03,0.009,16.7,0.3,1,18.7,1,43,14.3,26,0,0,\\n2020-11-20 23:30:00,-0.005,0.009,16.7,0.3,1,18.6,1,43,14.3,26,0,0,\\n2020-11-20 23:35:00,0.006,0.009,16.7,0.3,1,18.5,1,43,14.3,26,0,0,\\n2020-11-20 23:40:00,0.039,0.009,16.7,0.3,1,18.4,1,43,14.3,25.9,0,0,\\n2020-11-20 23:45:00,0.047,0.009,16.7,0.3,1,18.4,1,44,14.3,25.9,0,0,\\n2020-11-20 23:50:00,-0.005,0.009,16.7,0.3,1,18.4,1,44,14.3,25.9,0,0,\\n2020-11-20 23:55:00,-0.005,0.009,16.7,0.3,1,18.4,1,44,14.3,25.9,0,0,\\n2020-11-21 00:00:00,0.009,0.014,16.7,0.3,1,18.4,1,44,14.3,25.9,0,0,\\n2020-11-21 00:05:00,0.037,0.014,15.7,0.3,1,18.4,0,45,14.3,25.9,0,0,\\n2020-11-21 00:10:00,0.019,0.014,16.7,0.3,1,18.4,0,45,14.3,25.8,0,0,\\n2020-11-21 00:15:00,-0.005,0.014,16.7,0.3,1,18.4,0,45,14.2,25.9,0,0,\\n2020-11-21 00:20:00,0.024,0.014,16.7,0.3,1,18.4,1,45,14.2,26.1,0,0,\\n2020-11-21 00:25:00,-0.005,0.014,16.7,0.3,1,18.4,1,45,14.3,26.1,0,0,\\n2020-11-21 00:30:00,0.008,0.014,16.7,0.3,1,18.3,1,45,14.3,26,0,0,\\n2020-11-21 00:35:00,0.047,0.014,16.7,0.3,1,18.3,1,45,14.2,26,0,0,\\n2020-11-21 00:40:00,-0.005,0.014,16.7,0.3,1,18.3,1,45,14.3,26.1,0,0,\\n2020-11-21 00:45:00,-0.005,0.014,16.7,0.3,1,18.3,1,45,14.2,26.3,0,0,\\n2020-11-21 00:50:00,0.005,0.014,16.7,0.3,1,18.4,1,45,14.3,26.2,0,0,\\n2020-11-21 00:55:00,0.016,0.014,16.7,0.3,1,18.4,0,45,14.2,26.2,0,0,\\n2020-11-21 01:00:00,-0.005,-0.003,16.7,0.3,1,18.4,1,45,14.2,26.4,0,0,\\n2020-11-21 01:05:00,0.004,-0.003,16.7,0.3,1,18.5,1,45,14.3,26.4,0,0,\\n2020-11-21 01:10:00,0.044,-0.003,16.7,0.3,1,18.5,1,45,14.2,26.4,0,0,\\n2020-11-21 01:15:00,0.011,-0.003,16.7,0.3,1,18.6,0,45,14.3,26.5,0,0,\\n2020-11-21 01:20:00,0.005,-0.003,16.7,0.3,1,18.6,1,45,14.3,26.4,0,0,\\n2020-11-21 01:25:00,0,-0.003,16.7,0.3,1,18.6,1,45,14.2,26.3,0,0,\\n2020-11-21 01:30:00,0.022,-0.003,16.7,0.3,1,18.6,1,45,14.2,26.5,0,0,\\n2020-11-21 01:35:00,-0.005,-0.003,16.7,0.3,1,18.6,0,45,14.3,26.4,0,0,\\n2020-11-21 01:40:00,0.031,-0.003,16.7,0.3,1,18.5,0,45,14.3,26.3,0,0,\\n2020-11-21 01:45:00,0.007,-0.003,16.7,0.3,1,18.5,1,45,14.3,26.3,0,0,\\n2020-11-21 01:50:00,0.005,-0.003,16.7,0.3,1,18.5,1,45,14.3,26.2,0,0,\\n2020-11-21 01:55:00,0.035,-0.003,16.7,0.3,1,18.5,0,45,14.2,26.2,0,0,\\n2020-11-21 02:00:00,-0.005,0.003,16.7,0.3,1,18.5,1,45,14.2,26.5,0,0,\\n2020-11-21 02:05:00,-0.005,0.003,16.7,0.3,1,18.5,1,45,14.3,26.4,0,0,\\n2020-11-21 02:10:00,0.046,0.003,16.7,0.3,1,18.5,1,45,14.3,26.3,0,0,\\n2020-11-21 02:15:00,0.047,0.003,16.7,0.3,1,18.4,1,45,14.3,26.3,0,0,\\n2020-11-21 02:20:00,0.058,0.003,16.7,0.3,1,18.4,1,44,14.3,26.2,0,0,\\n2020-11-21 02:25:00,0.008,0.003,16.7,0.3,1,18.2,1,44,14.3,26.1,0,0,\\n2020-11-21 02:30:00,-0.005,0.003,16.7,0.3,1,18.2,0,44,14.3,26.1,0,0,\\n2020-11-21 02:35:00,0.016,0.003,16.7,0.3,1,18.1,1,44,14.3,26,0,0,\\n2020-11-21 02:40:00,0.013,0.003,16.7,0.3,1,18,1,44,14.3,26,0,0,\\n2020-11-21 02:45:00,-0.005,0.003,16.7,0.3,1,17.9,0,44,14.3,25.9,0,0,\\n2020-11-21 02:50:00,0.022,0.003,16.7,0.3,1,17.8,1,44,14.3,25.9,0,0,\\n2020-11-21 02:55:00,0.014,0.003,16.7,0.3,1,17.8,0,44,14.3,25.8,0,0,\\n2020-11-21 03:00:00,-0.005,0.017,16.7,0.3,1,17.8,1,44,14.3,25.8,0,0,\\n2020-11-21 03:05:00,0.034,0.017,16.7,0.3,1,17.7,1,44,14.2,25.8,0,0,\\n2020-11-21 03:10:00,0.027,0.017,16.7,0.3,1,17.8,1,44,14.2,25.8,0,0,\\n2020-11-21 03:15:00,-0.005,0.017,16.7,0.3,1,17.7,1,44,14.3,25.7,0,0,\\n2020-11-21 03:20:00,0.013,0.017,16.7,0.3,1,17.6,1,44,14.2,25.7,0,0,\\n2020-11-21 03:25:00,0.018,0.017,16.7,0.3,1,17.6,0,44,14.2,25.6,0,0,\\n2020-11-21 03:30:00,0.024,0.017,16.7,0.3,1,17.6,0,44,14.2,25.6,0,0,\\n2020-11-21 03:35:00,-0.005,0.017,16.7,0.3,1,17.6,1,44,14.2,25.6,0,0,\\n2020-11-21 03:40:00,-0.002,0.017,16.7,0.3,1,17.6,1,44,14.2,25.6,0,0,\\n2020-11-21 03:45:00,-0.005,0.017,16.7,0.3,1,17.7,1,45,14.2,25.6,0,0,\\n2020-11-21 03:50:00,-0.005,0.017,16.7,0.3,1,17.7,1,45,14.3,25.8,0,0,\\n2020-11-21 03:55:00,-0.005,0.017,16.7,0.3,1,17.7,0,45,14.3,25.8,0,0,\\n2020-11-21 04:00:00,0.041,0.008,16.7,0.3,1,17.8,0,45,14.2,25.8,0,0,\\n2020-11-21 04:05:00,0.051,0.008,16.7,0.3,1,17.7,1,45,14.2,25.7,0,0,\\n2020-11-21 04:10:00,0.023,0.008,16.7,0.3,1,17.7,1,45,14.2,25.8,0,0,\\n2020-11-21 04:15:00,-0.005,0.008,16.7,0.3,1,17.8,1,45,14.3,25.8,0,0,\\n2020-11-21 04:20:00,-0.002,0.008,16.7,0.3,1,17.8,0,45,14.2,25.8,0,0,\\n2020-11-21 04:25:00,-0.005,0.008,16.7,0.3,1,17.9,0,45,14.1,26.1,0,0,\\n2020-11-21 04:30:00,-0.005,0.008,16.7,0.3,1,17.9,1,45,14.2,26.3,0,0,\\n2020-11-21 04:35:00,0.064,0.008,16.7,0.3,1,17.9,1,45,14.3,26.2,0,0,\\n2020-11-21 04:40:00,0.094,0.008,16.7,0.3,1,17.9,1,44,14.3,26.1,0,0,\\n2020-11-21 04:45:00,0.045,0.008,16.7,0.3,1,17.9,0,45,14.3,26,0,0,\\n2020-11-21 04:50:00,-0.005,0.008,16.7,0.3,1,17.9,1,45,14.3,25.9,0,0,\\n2020-11-21 04:55:00,-0.003,0.008,16.7,0.3,1,17.9,1,45,14.3,25.9,0,0,\\n2020-11-21 05:00:00,0.012,0.006,16.7,0.3,1,17.9,0,45,14.3,25.9,0,0,\\n2020-11-21 05:05:00,-0.005,0.006,16.7,0.3,1,17.9,1,45,14.2,26,0,0,\\n2020-11-21 05:10:00,-0.005,0.006,16.7,0.3,1,17.9,1,45,14.2,26,0,0,\\n2020-11-21 05:15:00,0.043,0.006,16.7,0.3,1,17.9,1,45,14.3,26,0,0,\\n2020-11-21 05:20:00,0.042,0.006,16.7,0.3,1,17.9,1,45,14.3,25.9,0,0,\\n2020-11-21 05:25:00,0.026,0.006,16.7,0.3,1,17.9,1,45,14.2,26,0,0,\\n2020-11-21 05:30:00,-0.005,0.006,16.7,0.3,1,17.8,1,44,14.3,26.1,0,0,\\n2020-11-21 05:35:00,0.013,0.006,16.7,0.3,1,17.8,1,44,14.3,26,0,0,\\n2020-11-21 05:40:00,0.073,0.006,16.7,0.3,1,17.7,0,44,14.3,25.9,0,0,\\n2020-11-21 05:45:00,0.038,0.006,16.7,0.3,1,17.7,0,44,14.2,25.9,0,0,\\n2020-11-21 05:50:00,0.023,0.006,16.7,0.3,1,17.7,0,44,14.2,25.8,0,0,\\n2020-11-21 05:55:00,-0.005,0.006,16.7,0.3,1,17.6,1,44,14.2,25.8,0,0,\\n2020-11-21 06:00:00,0.026,0.011,16.7,0.3,1,17.6,0,44,14.2,25.8,0,0,\\n2020-11-21 06:05:00,0.016,0.011,15.7,0.3,1,17.7,1,45,14.3,25.8,0,0,\\n2020-11-21 06:10:00,-0.005,0.011,16.7,0.3,1,17.7,1,45,14.2,25.9,0,0,\\n2020-11-21 06:15:00,0,0.011,16.7,0.3,1,17.8,0,45,14.2,25.9,0,0,\\n2020-11-21 06:20:00,0.016,0.011,16.7,0.3,1,17.8,1,45,14.2,26,0,0,\\n2020-11-21 06:25:00,-0.005,0.011,16.7,0.3,1,17.9,1,45,14.2,26.2,0,0,\\n2020-11-21 06:30:00,-0.005,0.011,16.7,0.3,1,17.9,1,45,14.3,26.2,0,0,\\n2020-11-21 06:35:00,0.045,0.011,16.7,0.3,1,17.9,1,45,14.3,26.1,0,0,\\n2020-11-21 06:40:00,0.031,0.011,16.7,0.3,1,17.9,1,45,14.2,26,0,0,\\n2020-11-21 06:45:00,0.015,0.011,16.7,0.3,1,17.9,1,45,14.3,26.1,0,0,\\n2020-11-21 06:50:00,-0.005,0.011,16.7,0.3,1,17.9,1,45,14.3,26,0,0,\\n2020-11-21 06:55:00,0.022,0.011,16.7,0.3,1,18,0,45,14.2,26,0,0,\\n2020-11-21 07:00:00,0.005,0.003,16.7,0.3,1,18,0,45,14.2,26.4,0,0,\\n2020-11-21 07:05:00,-0.005,0.003,16.7,0.3,1,18,1,45,14.2,26.4,0,0,\\n2020-11-21 07:10:00,0.027,0.003,16.7,0.3,1,18.1,1,45,14.3,26.4,0,0,\\n2020-11-21 07:15:00,0.035,0.003,16.7,0.3,1,18.1,1,45,14.2,26.3,0,0,\\n2020-11-21 07:20:00,-0.005,0.003,16.7,0.3,1,18.2,1,45,14.1,26.8,0,0,\\n2020-11-21 07:25:00,-0.005,0.003,16.7,0.3,1,18.2,1,45,14.3,26.9,0,0,\\n2020-11-21 07:30:00,0.06,0.003,16.7,0.3,1,18.4,1,45,14.2,26.8,0,0,\\n2020-11-21 07:35:00,0.02,0.003,16.7,0.3,1,18.4,1,45,14.2,27.1,0,0,\\n2020-11-21 07:40:00,0.012,0.003,16.7,0.3,1,18.4,1,45,14.2,27,0,0,\\n2020-11-21 07:45:00,0.052,0.003,16.7,0.3,1,18.3,0,44,14.2,26.8,0,0,\\n2020-11-21 07:50:00,0.063,0.003,16.7,0.3,1,18.3,1,44,14.3,26.6,0,0,\\n2020-11-21 07:55:00,0.015,0.003,16.7,0.3,1,18.2,1,44,14.2,26.5,0,0,\\n2020-11-21 08:00:00,-0.005,0.015,16.7,0.3,1,18.3,1,45,14.2,26.4,0,0,\\n2020-11-21 08:05:00,0.014,0.015,16.7,0.3,1,18.4,1,45,14.2,26.4,0,0,\\n2020-11-21 08:10:00,-0.005,0.015,16.7,0.3,1,18.4,1,45,14.1,26.9,0,0,\\n2020-11-21 08:15:00,-0.005,0.015,16.7,0.3,1,18.5,0,45,14.3,27.1,0,0,\\n2020-11-21 08:20:00,0.105,0.015,16.7,0.3,1,18.6,1,45,14.1,27,0,0,\\n2020-11-21 08:25:00,-0.005,0.015,16.7,0.3,1,18.7,1,45,14.1,27.5,0,0,\\n2020-11-21 08:30:00,-0.005,0.015,16.7,0.3,1,18.7,0,45,14.2,27.3,0,0,\\n2020-11-21 08:35:00,0.098,0.015,16.7,0.3,1,18.7,1,44,14.2,27.1,0,0,\\n2020-11-21 08:40:00,0.077,0.015,16.7,0.3,1,18.6,1,44,14.2,26.9,0,0,\\n2020-11-21 08:45:00,0.054,0.015,16.7,0.3,1,18.5,1,43,14.2,26.8,0,0,\\n2020-11-21 08:50:00,0.039,0.015,16.7,0.3,1,18.4,1,43,14.2,26.7,0,0,\\n2020-11-21 08:55:00,-0.005,0.015,16.7,0.3,1,18.4,1,43,14.2,26.5,0,0,\\n2020-11-21 09:00:00,0.002,0.016,16.7,0.3,1,18.3,1,43,14.2,26.5,0,0,\\n2020-11-21 09:05:00,0.05,0.016,16.7,0.3,1,18.3,0,43,14.2,26.4,0,0,\\n2020-11-21 09:10:00,-0.005,0.016,16.7,0.3,1,18.2,1,43,14.2,26.3,0,0,\\n2020-11-21 09:15:00,-0.005,0.016,16.7,0.3,1,18.3,0,44,14.2,26.3,0,0,\\n2020-11-21 09:20:00,0.017,0.016,16.7,0.3,1,18.3,1,44,14.2,26.3,0,0,\\n2020-11-21 09:25:00,0.002,0.016,16.7,0.3,1,18.4,1,44,14.2,26.3,0,0,\\n2020-11-21 09:30:00,0.029,0.016,16.7,0.3,1,18.4,1,44,14.2,26.2,0,0,\\n2020-11-21 09:35:00,-0.005,0.016,16.7,0.3,1,18.5,1,44,14.2,26.2,0,0,\\n2020-11-21 09:40:00,-0.004,0.016,16.7,0.3,1,18.6,1,45,14.2,26.2,0,0,\\n2020-11-21 09:45:00,0.034,0.016,16.7,0.3,1,18.7,1,45,14.2,26.2,0,0,\\n2020-11-21 09:50:00,0.008,0.016,16.7,0.3,1,18.9,1,45,14.2,26.3,0,0,\\n2020-11-21 09:55:00,-0.005,0.016,16.7,0.3,1,19,1,44,14.2,26.8,0,0,\\n2020-11-21 10:00:00,-0.005,-0.001,16.7,0.3,1,19,1,44,14.2,26.8,0,0,\\n2020-11-21 10:05:00,0.044,-0.001,16.7,0.3,1,19,1,43,14.2,26.6,0,0,\\n2020-11-21 10:10:00,0.027,-0.001,16.7,0.3,1,19.1,0,43,14.2,26.6,0,0,\\n2020-11-21 10:15:00,0.059,-0.001,16.7,0.3,1,19.2,0,43,14.2,26.5,0,0,\\n2020-11-21 10:20:00,0.007,-0.001,16.7,0.3,1,19.1,0,43,14.2,26.5,0,0,\\n2020-11-21 10:25:00,0.01,-0.001,16.7,0.3,1,19.2,1,44,14.2,26.5,0,0,\\n2020-11-21 10:30:00,0.027,-0.001,16.7,0.3,1,19.4,1,44,14.2,26.5,0,0,\\n2020-11-21 10:35:00,-0.004,-0.001,16.7,0.3,1,19.5,1,43,14.2,26.5,0,0,\\n2020-11-21 10:40:00,0.004,-0.001,16.7,0.3,1,19.5,1,43,14.2,26.5,0,0,\\n2020-11-21 10:45:00,0.023,-0.001,16.7,0.3,1,19.6,0,43,14.2,26.5,0,0,\\n2020-11-21 10:50:00,-0.004,-0.001,16.7,0.3,1,19.8,1,43,14.2,26.5,0,0,\\n2020-11-21 10:55:00,-0.005,-0.001,16.7,0.3,1,20,1,43,14.2,26.6,0,0,\\n2020-11-21 11:00:00,-0.003,0.011,16.7,0.3,1,20.2,1,43,14.2,26.7,0,0,\\n2020-11-21 11:05:00,0.003,0.011,16.7,0.3,1,20.3,1,44,14.2,26.7,0,0,\\n2020-11-21 11:10:00,0.023,0.011,16.7,0.3,1,20.4,0,43,14.2,26.8,0,0,\\n2020-11-21 11:15:00,-0.005,0.011,16.7,0.3,1,20.5,0,44,14.2,26.8,0,0,\\n2020-11-21 11:20:00,-0.005,0.011,16.7,0.3,1,20.8,1,44,14.2,26.9,0,0,\\n2020-11-21 11:25:00,0.004,0.011,16.7,0.3,1,20.9,0,43,14.2,27,0,0,\\n2020-11-21 11:30:00,0.025,0.011,16.7,0.3,1,21,1,43,14.2,27,0,0,\\n2020-11-21 11:35:00,0.004,0.011,16.7,0.3,1,21,1,44,14.2,27.1,0,0,\\n2020-11-21 11:40:00,0.024,0.011,16.7,0.3,1,21,1,43,14.2,27.1,0,0,\\n2020-11-21 11:45:00,0.014,0.011,16.7,0.3,1,21.1,1,44,14.2,27.2,0,0,\\n2020-11-21 11:50:00,0.025,0.011,16.7,0.3,1,20.8,1,42,14.2,27.2,0,0,\\n2020-11-21 11:55:00,-0.005,0.011,16.7,0.3,1,20.7,0,42,14.2,27.2,0,0,\\n2020-11-21 12:00:00,0.016,0.012,16.7,0.3,1,20.6,1,42,14.2,27.1,0,0,\\n2020-11-21 12:05:00,0.045,0.012,15.7,0.3,1,20.6,0,43,14.3,27.1,0,0,\\n2020-11-21 12:10:00,0.06,0.012,16.7,0.3,1,20.5,1,43,14.3,27.1,0,0,\\n2020-11-21 12:15:00,0.042,0.012,16.7,0.3,1,20.4,1,43,14.2,27,0,0,\\n2020-11-21 12:20:00,0.006,0.012,16.7,0.3,1,20.4,1,44,14.2,27,0,0,\\n2020-11-21 12:25:00,-0.004,0.012,16.7,0.3,1,20.4,1,44,14.2,27,0,0,\\n2020-11-21 12:30:00,-0.005,0.012,16.7,0.3,1,20.4,1,43,14.2,27,0,0,\\n2020-11-21 12:35:00,0,0.012,16.7,0.3,1,20.2,0,43,14.2,27,0,0,\\n2020-11-21 12:40:00,0.02,0.012,16.7,0.3,1,20.2,1,44,14.2,26.9,0,0,\\n2020-11-21 12:45:00,0.049,0.012,16.7,0.3,1,19.9,1,43,14.2,26.9,0,0,\\n2020-11-21 12:50:00,0.003,0.012,16.7,0.3,1,19.8,1,44,14.2,26.8,0,0,\\n2020-11-21 12:55:00,0.024,0.012,16.7,0.3,1,19.8,0,44,14.2,26.8,0,0,\\n2020-11-21 13:00:00,0.055,0.022,16.7,0.3,1,19.7,1,44,14.2,26.7,0,0,\\n2020-11-21 13:05:00,0.017,0.022,16.7,0.3,1,19.9,1,45,14.2,26.8,0,0,\\n2020-11-21 13:10:00,-0.005,0.022,16.7,0.3,1,20.1,1,45,13.9,27.4,0,0,\\n2020-11-21 13:15:00,-0.005,0.022,16.7,0.3,1,20.3,1,44,14.2,28,0,0,\\n2020-11-21 13:20:00,0.045,0.022,16.7,0.3,1,20.5,1,43,14.2,27.8,0,0,\\n2020-11-21 13:25:00,0.143,0.022,16.7,0.3,1,20.4,1,43,14.2,27.5,0,0,\\n2020-11-21 13:30:00,0.113,0.022,16.7,0.3,1,20.3,1,42,14.2,27.4,0,0,\\n2020-11-21 13:35:00,0.039,0.022,16.7,0.3,1,20.4,1,43,14.2,27.4,0,0,\\n2020-11-21 13:40:00,0.027,0.022,16.7,0.3,1,20.4,0,43,14.2,27.3,0,0,\\n2020-11-21 13:45:00,0.063,0.022,16.7,0.3,1,20.4,1,42,14.2,27.3,0,0,\\n2020-11-21 13:50:00,-0.003,0.022,16.7,0.3,1,20.5,1,43,14.2,27.3,0,0,\\n2020-11-21 13:55:00,0.02,0.022,16.7,0.3,1,20.6,1,43,14.2,27.2,0,0,\\n2020-11-21 14:00:00,0.031,0.018,16.7,0.3,1,20.7,0,43,14.2,27.2,0,0,\\n2020-11-21 14:05:00,-0.005,0.018,16.7,0.3,1,20.7,0,42,14.2,27.2,0,0,\\n2020-11-21 14:10:00,0.025,0.018,16.7,0.3,1,20.6,1,42,14.2,27.2,0,0,\\n2020-11-21 14:15:00,-0.005,0.018,16.7,0.3,1,20.5,1,42,14.2,27.2,0,0,\\n2020-11-21 14:20:00,0.022,0.018,16.7,0.3,1,20.5,1,42,14.2,27.1,0,0,\\n2020-11-21 14:25:00,0.039,0.018,16.7,0.3,1,20.5,0,42,14.2,27.1,0,0,\\n2020-11-21 14:30:00,0.022,0.018,16.7,0.3,1,20.5,1,42,14.2,27.1,0,0,\\n2020-11-21 14:35:00,0.018,0.018,16.7,0.3,1,20.7,1,43,14.2,27.1,0,0,\\n2020-11-21 14:40:00,0.005,0.018,16.7,0.3,1,20.8,1,43,14.2,27.1,0,0,\\n2020-11-21 14:45:00,0.01,0.018,16.7,0.3,1,20.9,1,43,14.2,27.1,0,0,\\n2020-11-21 14:50:00,-0.005,0.018,16.7,0.3,1,20.9,1,42,14.2,27,0,0,\\n2020-11-21 14:55:00,0.004,0.018,16.7,0.3,1,20.8,1,42,14.2,27,0,0,\\n2020-11-21 15:00:00,0.003,0.015,16.7,0.3,1,20.8,0,42,14.2,27,0,0,\\n2020-11-21 15:05:00,0.029,0.015,16.7,0.3,1,20.8,1,42,14.2,27,0,0,\\n2020-11-21 15:10:00,0.018,0.015,16.7,0.3,1,20.8,1,42,14.2,27,0,0,\\n2020-11-21 15:15:00,0.017,0.015,16.7,0.3,1,20.8,0,42,14.2,27,0,0,\\n2020-11-21 15:20:00,0.037,0.015,16.7,0.3,1,20.8,0,42,14.2,26.9,0,0,\\n2020-11-21 15:25:00,-0.005,0.015,16.7,0.3,1,20.7,1,42,14.2,27,0,0,\\n2020-11-21 15:30:00,0.031,0.015,16.7,0.3,1,20.7,1,43,14.2,26.9,0,0,\\n2020-11-21 15:35:00,0.027,0.015,16.7,0.3,1,20.6,1,43,14.2,26.9,0,0,\\n2020-11-21 15:40:00,-0.005,0.015,16.7,0.3,1,20.7,1,43,14.2,26.9,0,0,\\n2020-11-21 15:45:00,0.029,0.015,16.7,0.3,1,20.7,0,43,14.2,26.9,0,0,\\n2020-11-21 15:50:00,0.019,0.015,16.7,0.3,1,20.8,1,43,14.2,26.9,0,0,\\n2020-11-21 15:55:00,-0.005,0.015,16.7,0.3,1,20.8,1,43,14.2,26.9,0,0,\\n2020-11-21 16:00:00,0.036,0.013,16.7,0.3,1,20.9,1,43,14.2,26.9,0,0,\\n2020-11-21 16:05:00,0.011,0.013,16.7,0.3,1,20.9,1,43,14.2,26.9,0,0,\\n2020-11-21 16:10:00,-0.005,0.013,16.7,0.3,1,21,1,43,14.2,26.9,0,0,\\n2020-11-21 16:15:00,0.022,0.013,16.7,0.3,1,21.1,1,44,14.3,26.9,0,0,\\n2020-11-21 16:20:00,0.059,0.013,16.7,0.3,1,21.1,1,44,14.3,26.9,0,0,\\n2020-11-21 16:25:00,0.01,0.013,16.7,0.3,1,21,1,44,14.3,26.9,0,0,\\n2020-11-21 16:30:00,-0.005,0.013,16.7,0.3,1,20.8,1,44,14.2,26.9,0,0,\\n2020-11-21 16:35:00,0.013,0.013,16.7,0.3,1,20.7,1,43,14.2,26.9,0,0,\\n2020-11-21 16:40:00,0.03,0.013,16.7,0.3,1,20.7,1,43,14.2,26.9,0,0,\\n2020-11-21 17:50:00,0,0,0,0.3,1,20.1,0,48,14.3,24.1,0,0,\\n2020-11-21 17:55:00,0,0,0,0.3,1,20.4,1,48,14.4,24,0,0,\\n2020-11-21 18:00:00,0,0,0,0.3,1,20.4,0,48,14.4,24,0,0,\\n2020-11-21 18:05:00,0,0,0,0.3,1,20.3,0,48,14.4,24.1,0,0,\\n2020-11-21 18:10:00,0,0,0,0.3,1,20.3,1,48,14.4,24,0,0,\\n2020-11-21 18:15:00,0,0,3,0.3,1,20.2,1,52,14.4,23.9,0,0,\\n2020-11-21 18:20:00,0,0,3,0.3,1,20.1,0,54,14.4,23.7,256,0,\\n2020-11-21 18:25:00,-0.001,0,16.7,0.3,1,20,1,58,14,24.1,256,0,\\n2020-11-21 18:30:00,-0.005,0,16.7,0.3,1,19.9,1,55,13.9,25.4,256,0,\\n2020-11-21 18:35:00,-0.005,0,16.7,0.3,1,19.9,1,51,13.9,26.5,256,0,\\n2020-11-21 18:40:00,0.027,0,16.7,0.3,1,19.8,1,48,13.9,27.4,256,0,\\n2020-11-21 18:45:00,0.022,0,16.7,0.3,1,19.8,1,45,14,28.1,256,0,\\n2020-11-21 18:50:00,0.074,0,16.7,0.3,1,19.7,0,44,14.2,27.8,256,0,\\n2020-11-21 18:55:00,0.252,0,16.7,0.3,1,19.7,1,44,14.2,27.3,256,0,\\n2020-11-21 19:00:00,0.149,0.068,16.7,0.3,1,19.8,1,45,14.2,27,256,0,\\n2020-11-21 19:05:00,-0.005,0.068,16.7,0.3,1,19.9,1,45,14.1,27.4,256,0,\\n2020-11-21 19:10:00,-0.005,0.068,16.7,0.3,1,20,1,45,14.2,27.3,256,0,\\n2020-11-21 19:15:00,0.077,0.068,16.7,0.3,1,20,1,45,14.1,27.3,256,0,\\n2020-11-21 19:20:00,0.037,0.068,16.7,0.3,1,19.9,0,45,14.2,27.3,256,0,\\n2020-11-21 19:25:00,0.061,0.068,16.7,0.3,1,19.9,1,45,14.2,27.1,256,0,\\n2020-11-21 19:30:00,0.039,0.068,16.7,0.3,1,20,1,45,14.1,27.1,256,0,\\n2020-11-21 19:35:00,-0.005,0.068,16.7,0.3,1,20,1,45,14.1,27.3,256,0,\\n2020-11-21 19:40:00,-0.005,0.068,16.7,0.3,1,20,1,45,14.1,27.5,256,0,\\n2020-11-21 19:45:00,0.015,0.068,16.7,0.3,1,20,1,45,14.2,27.4,256,0,\\n2020-11-21 19:50:00,0.106,0.068,16.7,0.3,1,19.9,1,45,14.1,27.2,256,0,\\n2020-11-21 19:55:00,0.009,0.068,16.7,0.3,1,20,1,45,14.1,27.4,256,0,\\n2020-11-21 20:00:00,-0.005,0.015,16.7,0.3,1,19.9,1,45,14.2,27.3,0,0,\\n2020-11-21 20:05:00,0.074,0.015,16.7,0.3,1,19.9,1,45,14.2,27.2,0,0,\\n2020-11-21 20:10:00,0.083,0.015,16.7,0.3,1,19.8,1,45,14.2,27.1,0,0,\\n2020-11-21 20:15:00,-0.005,0.015,16.7,0.3,1,19.8,1,45,14.1,27.3,0,0,\\n2020-11-21 20:20:00,-0.005,0.015,16.7,0.3,1,19.8,1,45,14.2,27.3,0,0,\\n2020-11-21 20:25:00,0.078,0.015,16.7,0.3,1,19.8,0,45,14.2,27.2,0,0,\\n2020-11-21 20:30:00,0.102,0.015,16.7,0.3,1,19.7,1,45,14.2,27.1,0,0,\\n2020-11-21 20:35:00,0.015,0.015,16.7,0.3,1,19.6,1,45,14.2,27,0,0,\\n2020-11-21 20:40:00,-0.005,0.015,16.7,0.3,1,19.5,1,45,14.2,26.9,0,0,\\n2020-11-21 20:45:00,-0.001,0.015,16.7,0.3,1,19.4,1,44,14.2,26.9,0,0,\\n2020-11-21 20:50:00,0.096,0.015,16.7,0.3,1,19.3,1,45,14.2,26.8,0,0,\\n2020-11-21 20:55:00,0.036,0.015,16.7,0.3,1,19.3,1,45,14.1,26.9,0,0,\\n2020-11-21 21:00:00,-0.005,0.026,16.7,0.3,1,19.3,1,45,14.2,27,0,0,\\n2020-11-21 21:05:00,-0.005,0.026,16.7,0.3,1,19.4,1,45,14.1,27.2,0,0,\\n2020-11-21 21:10:00,-0.005,0.026,16.7,0.3,1,19.4,1,45,14.1,27.4,0,0,\\n2020-11-21 21:15:00,-0.005,0.026,16.7,0.3,1,19.5,1,45,14.1,27.4,0,0,\\n2020-11-21 21:20:00,0.048,0.026,16.7,0.3,1,19.5,1,45,14.2,27.4,0,0,\\n2020-11-21 21:25:00,0.049,0.026,16.7,0.3,1,19.5,0,45,14.1,27.5,0,0,\\n2020-11-21 21:30:00,-0.005,0.026,16.7,0.3,1,19.5,1,45,14.2,27.5,0,0,\\n2020-11-21 21:35:00,0.063,0.026,16.7,0.3,1,19.5,1,45,14.2,27.4,0,0,\\n2020-11-21 21:40:00,0.122,0.026,16.7,0.3,1,19.5,1,45,14.2,27.3,0,0,\\n2020-11-21 21:45:00,0.048,0.026,16.7,0.3,1,19.4,1,45,14.2,27.2,0,0,\\n2020-11-21 21:50:00,-0.005,0.026,16.7,0.3,1,19.5,1,45,14.1,27.3,0,0,\\n2020-11-21 21:55:00,-0.005,0.026,16.7,0.3,1,19.5,0,45,14.2,27.3,0,0,\\n2020-11-21 22:00:00,0.011,0.01,16.7,0.3,1,19.6,1,45,14.1,27.5,0,0,\\n2020-11-21 22:05:00,-0.005,0.01,16.7,0.3,1,19.7,1,45,14.1,27.8,0,0,\\n2020-11-21 22:10:00,0.012,0.01,16.7,0.3,1,19.7,1,45,14.2,27.7,0,0,\\n2020-11-21 22:15:00,0.142,0.01,16.7,0.3,1,19.8,1,45,14.1,27.5,0,0,\\n2020-11-21 22:20:00,0.04,0.01,16.7,0.3,1,19.8,1,45,14.1,27.6,0,0,\\n2020-11-21 22:25:00,-0.005,0.01,16.7,0.3,1,19.7,1,45,14.1,27.7,0,0,\\n2020-11-21 22:30:00,0.045,0.01,16.7,0.3,1,19.8,1,45,14.1,27.6,0,0,\\n2020-11-21 22:35:00,0.063,0.01,16.7,0.3,1,19.8,1,45,14.1,27.8,0,0,\\n2020-11-21 22:40:00,-0.005,0.01,16.7,0.3,1,19.8,1,45,14.1,27.9,0,0,\\n2020-11-21 22:45:00,0.001,0.01,16.7,0.3,1,19.8,1,45,14.2,27.9,0,0,\\n2020-11-21 22:50:00,0.114,0.01,16.7,0.3,1,19.7,0,45,14.2,27.6,0,0,\\n2020-11-21 22:55:00,0.128,0.01,16.7,0.3,1,19.7,1,45,14,27.5,0,0,\\n2020-11-21 23:00:00,-0.005,0.02,16.7,0.3,1,19.7,0,45,14.2,27.8,0,0,\\n2020-11-21 23:05:00,-0.005,0.02,16.7,0.3,1,19.7,1,45,14.2,27.6,0,0,\\n2020-11-21 23:10:00,0.152,0.02,16.7,0.3,1,19.7,0,45,14.2,27.4,0,0,\\n2020-11-21 23:15:00,0.076,0.02,16.7,0.3,1,19.7,1,45,14.2,27.3,0,0,\\n2020-11-21 23:20:00,0.058,0.02,16.7,0.3,1,19.7,1,45,14.2,27.1,0,0,\\n2020-11-21 23:25:00,-0.005,0.02,16.7,0.3,1,19.6,1,45,14.1,27.3,0,0,\\n2020-11-21 23:30:00,-0.005,0.02,16.7,0.3,1,19.6,1,45,14.1,27.6,0,0,\\n2020-11-21 23:35:00,-0.005,0.02,16.7,0.3,1,19.5,0,45,14.2,27.7,0,0,\\n2020-11-21 23:40:00,0.141,0.02,16.7,0.3,1,19.5,1,45,14.2,27.5,0,0,\\n2020-11-21 23:45:00,0.205,0.02,16.7,0.3,1,19.4,1,45,14.2,27.3,0,0,\\n2020-11-21 23:50:00,0.019,0.02,16.7,0.3,1,19.4,1,45,14.1,27.4,0,0,\\n2020-11-21 23:55:00,-0.005,0.02,16.7,0.3,1,19.3,1,45,14.2,27.3,0,0,\\n2020-11-22 00:00:00,0.041,0.027,16.7,0.3,1,19.3,0,45,14.1,27.3,0,0,\\n2020-11-22 00:05:00,0.008,0.027,15.7,0.3,1,19.3,0,45,14.1,27.6,0,0,\\n2020-11-22 00:10:00,0.01,0.027,16.7,0.3,1,19.3,0,45,14.1,27.7,0,0,\\n2020-11-22 00:15:00,0,0.027,16.7,0.3,1,19.3,1,45,14.2,27.6,0,0,\\n2020-11-22 00:20:00,0.055,0.027,16.7,0.3,1,19.3,1,45,14.1,27.5,0,0,\\n2020-11-22 00:25:00,0.034,0.027,16.7,0.3,1,19.2,1,45,14.3,27.4,0,0,\\n2020-11-22 00:30:00,0.06,0.027,16.7,0.3,1,19.2,0,45,14.1,27.4,0,0,\\n2020-11-22 00:35:00,-0.002,0.027,16.7,0.3,1,19.2,1,45,14.2,27.5,0,0,\\n2020-11-22 00:40:00,0.005,0.027,16.7,0.3,1,19.2,1,45,14.2,27.4,0,0,\\n2020-11-22 00:45:00,0.03,0.027,16.7,0.3,1,19.2,1,45,14.1,27.6,0,0,\\n2020-11-22 00:50:00,0.003,0.027,16.7,0.3,1,19.3,0,45,14.1,27.6,0,0,\\n2020-11-22 00:55:00,0.035,0.027,16.7,0.3,1,19.2,1,45,14.2,27.6,0,0,\\n2020-11-22 01:00:00,0.06,0.028,16.7,0.3,1,19.2,1,45,14.1,27.5,0,0,\\n2020-11-22 01:05:00,0.016,0.028,16.7,0.3,1,19.3,1,45,14.1,27.7,0,0,\\n2020-11-22 01:10:00,-0.005,0.028,16.7,0.3,1,19.2,1,45,14.2,27.6,0,0,\\n2020-11-22 01:15:00,0.081,0.028,16.7,0.3,1,19.2,1,45,14.2,27.4,0,0,\\n2020-11-22 01:20:00,0.06,0.028,16.7,0.3,1,19.3,1,45,14,27.5,0,0,\\n2020-11-22 01:25:00,-0.005,0.028,16.7,0.3,1,19.3,1,45,14.2,27.7,0,0,\\n2020-11-22 01:30:00,0.054,0.028,16.7,0.3,1,19.2,1,45,14.2,27.5,0,0,\\n2020-11-22 01:35:00,0.105,0.028,16.7,0.3,1,19.2,1,45,14.2,27.3,0,0,\\n2020-11-22 01:40:00,0.04,0.028,16.7,0.3,1,19.2,1,45,14,27.5,0,0,\\n2020-11-22 01:45:00,-0.005,0.028,16.7,0.3,1,19.2,1,45,14.2,27.5,0,0,\\n2020-11-22 01:50:00,0.061,0.028,16.7,0.3,1,19.2,1,45,14.2,27.3,0,0,\\n2020-11-22 01:55:00,0.097,0.028,16.7,0.3,1,19.2,1,45,14.1,27.3,0,0,\\n2020-11-22 02:00:00,-0.005,0.023,16.7,0.3,1,19.2,1,45,14.1,27.5,0,0,\\n2020-11-22 02:05:00,0.008,0.023,16.7,0.3,1,19.2,0,45,14.2,27.4,0,0,\\n2020-11-22 02:10:00,0.124,0.023,16.7,0.3,1,19.1,1,45,14.2,27.2,0,0,\\n2020-11-22 02:15:00,0.068,0.023,16.7,0.3,1,19.1,1,45,14.1,27.3,0,0,\\n2020-11-22 02:20:00,-0.005,0.023,16.7,0.3,1,19.1,1,45,14.2,27.3,0,0,\\n2020-11-22 02:25:00,0.03,0.023,16.7,0.3,1,19.1,1,45,14.1,27.2,0,0,\\n2020-11-22 02:30:00,-0.005,0.023,16.7,0.3,1,19.1,1,45,14.1,27.4,0,0,\\n2020-11-22 02:35:00,-0.005,0.023,16.7,0.3,1,19.1,1,45,14.1,27.5,0,0,\\n2020-11-22 02:40:00,0.018,0.023,16.7,0.3,1,19.1,1,45,14.1,27.4,0,0,\\n2020-11-22 02:45:00,0.088,0.023,16.7,0.3,1,19,1,45,14.2,27.4,0,0,\\n2020-11-22 02:50:00,0.115,0.023,16.7,0.3,1,19,0,45,14.1,27.3,0,0,\\n2020-11-22 02:55:00,-0.005,0.023,16.7,0.3,1,19,0,45,14.2,27.4,0,0,\\n2020-11-22 03:00:00,0.051,0.04,16.7,0.3,1,19,0,45,14.2,27.2,0,0,\\n2020-11-22 03:05:00,0.124,0.04,16.7,0.3,1,19,1,45,14.1,27.2,0,0,\\n2020-11-22 03:10:00,-0.005,0.04,16.7,0.3,1,19,0,45,14.1,27.3,0,0,\\n2020-11-22 03:15:00,-0.005,0.04,16.7,0.3,1,19,1,45,14.1,27.4,0,0,\\n2020-11-22 03:20:00,-0.002,0.04,16.7,0.3,1,19,0,45,14.1,27.5,0,0,\\n2020-11-22 03:25:00,0.086,0.04,16.7,0.3,1,19,0,45,14.1,27.3,0,0,\\n2020-11-22 03:30:00,0.066,0.04,16.7,0.3,1,19,1,45,14.1,27.4,0,0,\\n2020-11-22 03:35:00,-0.005,0.04,16.7,0.3,1,19.1,1,45,14.2,27.5,0,0,\\n2020-11-22 03:40:00,0.081,0.04,16.7,0.3,1,19.1,0,45,14.2,27.3,0,0,\\n2020-11-22 03:45:00,0.049,0.04,16.7,0.3,1,19.1,0,45,14.1,27.5,0,0,\\n2020-11-22 03:50:00,-0.005,0.04,16.7,0.3,1,19.1,0,45,14.1,27.5,0,0,\\n2020-11-22 03:55:00,0.056,0.04,16.7,0.3,1,19,1,45,14.1,27.5,0,0,\\n2020-11-22 04:00:00,0.114,0.016,16.7,0.3,1,19.1,1,45,14.1,27.4,0,0,\\n2020-11-22 04:05:00,-0.005,0.016,16.7,0.3,1,19.1,1,45,14.1,27.6,0,0,\\n2020-11-22 04:10:00,-0.005,0.016,16.7,0.3,1,19.1,1,45,14.1,27.6,0,0,\\n2020-11-22 04:15:00,0.136,0.016,16.7,0.3,1,19.1,1,45,14.2,27.4,0,0,\\n2020-11-22 04:20:00,0.113,0.016,16.7,0.3,1,19.1,1,45,14.1,27.4,0,0,\\n2020-11-22 04:25:00,-0.005,0.016,16.7,0.3,1,19.1,0,45,14.1,27.7,0,0,\\n2020-11-22 04:30:00,-0.005,0.016,16.7,0.3,1,19.1,1,45,14.2,27.6,0,0,\\n2020-11-22 04:35:00,0.156,0.016,16.7,0.3,1,19.1,1,45,14.1,27.4,0,0,\\n2020-11-22 04:40:00,0.025,0.016,16.7,0.3,1,19.1,1,45,14.1,27.5,0,0,\\n2020-11-22 04:45:00,-0.005,0.016,16.7,0.3,1,19.1,1,45,14.2,27.6,0,0,\\n2020-11-22 04:50:00,0.027,0.016,16.7,0.3,1,19.1,1,45,14.2,27.5,0,0,\\n2020-11-22 04:55:00,0.183,0.016,16.7,0.3,1,19.1,1,45,14.1,27.4,0,0,\\n2020-11-22 05:00:00,-0.005,0.01,16.7,0.3,1,19.1,1,45,14.1,27.7,0,0,\\n2020-11-22 05:05:00,-0.005,0.01,16.7,0.3,1,19.1,1,45,14.1,27.8,0,0,\\n2020-11-22 05:10:00,0.135,0.01,16.7,0.3,1,19.1,1,45,14.1,27.6,0,0,\\n2020-11-22 05:15:00,0.147,0.01,16.7,0.3,1,19.1,1,45,14.1,27.7,0,0,\\n2020-11-22 05:20:00,-0.005,0.01,16.7,0.3,1,19.1,1,45,14.1,27.6,0,0,\\n2020-11-22 05:25:00,0.053,0.01,16.7,0.3,1,19.1,0,45,14.2,27.7,0,0,\\n2020-11-22 05:30:00,0.146,0.01,16.7,0.3,1,19.1,1,45,14.1,27.4,0,0,\\n2020-11-22 05:35:00,0.018,0.01,16.7,0.3,1,19.1,1,45,14.1,27.6,0,0,\\n2020-11-22 05:40:00,-0.005,0.01,16.7,0.3,1,19.1,0,45,14.1,27.7,0,0,\\n2020-11-22 05:45:00,0.136,0.01,16.7,0.3,1,19.1,1,45,14.2,27.5,0,0,\\n2020-11-22 05:50:00,0.163,0.01,16.7,0.3,1,19.1,1,45,14,27.5,0,0,\\n2020-11-22 05:55:00,-0.005,0.01,16.7,0.3,1,19.1,1,45,14.1,27.9,0,0,\\n2020-11-22 06:00:00,-0.005,0.029,16.7,0.3,1,19.2,1,45,14.2,27.8,0,0,\\n2020-11-22 06:05:00,0.076,0.029,15.7,0.3,1,19.2,1,45,14,28.1,0,0,\\n2020-11-22 06:10:00,0.088,0.029,16.7,0.3,1,19.2,0,45,14.1,28.2,0,0,\\n2020-11-22 06:15:00,0.051,0.029,16.7,0.3,1,19.2,0,45,14.2,28.1,0,0,\\n2020-11-22 06:20:00,0.029,0.029,16.7,0.3,1,19.2,1,45,14.2,27.9,0,0,\\n2020-11-22 06:25:00,0.031,0.029,16.7,0.3,1,19.2,1,45,14.1,27.8,0,0,\\n2020-11-22 06:30:00,0.023,0.029,16.7,0.3,1,19.2,1,45,14.1,27.9,0,0,\\n2020-11-22 06:35:00,0.021,0.029,16.7,0.3,1,19.1,1,45,14.2,27.7,0,0,\\n2020-11-22 06:40:00,0.064,0.029,16.7,0.3,1,19,1,45,14.1,27.6,0,0,\\n2020-11-22 06:45:00,-0.005,0.029,16.7,0.3,1,19.1,1,45,14,27.9,0,0,\\n2020-11-22 06:50:00,-0.005,0.029,16.7,0.3,1,19.1,1,45,14.2,28.2,0,0,\\n2020-11-22 06:55:00,0.069,0.029,16.7,0.3,1,19.1,1,45,14.1,27.9,0,0,\\n2020-11-22 07:00:00,0.082,0.016,16.7,0.3,1,19.2,1,45,14.1,28.3,0,0,\\n2020-11-22 07:05:00,-0.005,0.016,16.7,0.3,1,19.2,1,45,14,28.3,0,0,\\n2020-11-22 07:10:00,-0.005,0.016,16.7,0.3,1,19.3,1,45,14.1,28.4,0,0,\\n2020-11-22 07:15:00,0.043,0.016,16.7,0.3,1,19.2,1,44,14.2,28.1,0,0,\\n2020-11-22 07:20:00,0.11,0.016,16.7,0.3,1,19.2,0,45,14.1,27.8,0,0,\\n2020-11-22 07:25:00,0.011,0.016,16.7,0.3,1,19.2,0,45,14,28,0,0,\\n2020-11-22 07:30:00,-0.005,0.016,16.7,0.3,1,19.2,1,45,14.1,28.1,0,0,\\n2020-11-22 07:35:00,0.023,0.016,16.7,0.3,1,19.3,1,45,14.1,28.2,0,0,\\n2020-11-22 07:40:00,0.005,0.016,16.7,0.3,1,19.3,1,45,13.9,28.4,0,0,\\n2020-11-22 07:45:00,-0.005,0.016,16.7,0.3,1,19.3,1,45,14.1,28.7,0,0,\\n2020-11-22 07:50:00,0.015,0.016,16.7,0.3,1,19.4,1,45,14.1,28.5,0,0,\\n2020-11-22 07:55:00,0.051,0.016,16.7,0.3,1,19.4,0,45,14,28.7,0,0,\\n2020-11-22 08:00:00,0.002,0.008,16.7,0.3,1,19.5,1,45,14.1,28.6,0,0,\\n2020-11-22 08:05:00,0.054,0.008,16.7,0.3,1,19.4,1,45,14.1,28.3,0,0,\\n2020-11-22 08:10:00,0.032,0.008,16.7,0.3,1,19.5,1,45,13.9,28.6,0,0,\\n2020-11-22 08:15:00,-0.005,0.008,16.7,0.3,1,19.6,1,45,14,29.2,0,0,\\n2020-11-22 08:20:00,-0.005,0.008,16.7,0.3,1,19.6,0,45,14.1,29,0,0,\\n2020-11-22 08:25:00,0.084,0.008,16.7,0.3,1,19.7,1,45,13.9,29,0,0,\\n2020-11-22 08:30:00,-0.005,0.008,16.7,0.3,1,19.8,1,45,14.1,29.1,0,0,\\n2020-11-22 08:35:00,0.054,0.008,16.7,0.3,1,19.8,1,45,14.2,28.8,0,0,\\n2020-11-22 08:40:00,0.066,0.008,16.7,0.3,1,19.8,1,45,13.8,29,0,0,\\n2020-11-22 08:45:00,-0.005,0.008,16.7,0.3,1,19.9,1,45,14,29.7,0,0,\\n2020-11-22 08:50:00,-0.005,0.008,16.7,0.3,1,20,0,45,14,29.6,0,0,\\n2020-11-22 08:55:00,0.096,0.008,16.7,0.3,1,20,1,45,14.2,29.3,0,0,\\n2020-11-22 09:00:00,0.083,0.019,16.7,0.3,1,19.9,1,45,14.2,28.9,0,0,\\n2020-11-22 09:05:00,0.047,0.019,16.7,0.3,1,19.8,1,45,14,28.9,0,0,\\n2020-11-22 09:10:00,-0.005,0.019,16.7,0.3,1,19.9,1,45,14.1,28.8,0,0,\\n2020-11-22 09:15:00,0.085,0.019,16.7,0.3,1,19.8,1,45,14,28.6,0,0,\\n2020-11-22 09:20:00,-0.005,0.019,16.7,0.3,1,20,1,46,13.8,29.2,0,0,\\n2020-11-22 09:25:00,-0.005,0.019,16.7,0.3,1,20.2,1,45,13.7,30.2,0,0,\\n2020-11-22 09:30:00,-0.005,0.019,16.7,0.3,1,20.4,0,45,13.9,30.7,0,0,\\n2020-11-22 09:35:00,0.049,0.019,16.7,0.3,1,20.7,1,45,13.9,30.8,0,0,\\n2020-11-22 09:40:00,0.036,0.019,16.7,0.3,1,20.9,1,45,13.8,31,0,0,\\n2020-11-22 09:45:00,-0.002,0.019,16.7,0.3,1,21.4,1,46,13.7,31.6,0,0,\\n2020-11-22 09:50:00,-0.005,0.019,16.7,0.3,1,22.1,1,46,13.7,32.3,0,0,\\n2020-11-22 09:55:00,-0.005,0.019,16.7,0.3,1,22.6,1,44,13.9,32.5,0,0,\\n2020-11-22 10:00:00,0.094,-0.005,16.7,0.3,1,22.7,1,42,14.2,31.9,0,0,\\n2020-11-22 10:05:00,0.184,-0.005,16.7,0.3,1,22.6,1,41,14.2,31.2,0,0,\\n2020-11-22 10:10:00,0.058,-0.005,16.7,0.3,1,22.4,1,41,14.2,30.8,0,0,\\n2020-11-22 10:15:00,0.061,-0.005,16.7,0.3,1,22.3,1,41,14.2,30.5,0,0,\\n2020-11-22 10:20:00,0.033,-0.005,16.7,0.3,1,22.2,1,41,14.2,30.2,0,0,\\n2020-11-22 10:25:00,-0.005,-0.005,16.7,0.3,1,22.3,1,42,14.2,30,0,0,\\n2020-11-22 10:30:00,-0.005,-0.005,16.7,0.3,1,22.4,1,42,14.2,29.8,0,0,\\n2020-11-22 10:35:00,-0.005,-0.005,16.7,0.3,1,22.6,1,43,14.2,29.6,0,0,\\n2020-11-22 10:40:00,0.032,-0.005,16.7,0.3,1,22.9,1,43,14.2,29.5,0,0,\\n2020-11-22 10:45:00,0.025,-0.005,16.7,0.3,1,22.7,1,42,14.2,29.4,0,0,\\n2020-11-22 10:50:00,-0.005,-0.005,16.7,0.3,1,22.8,0,44,14.2,29.3,0,0,\\n2020-11-22 10:55:00,-0.004,-0.005,16.7,0.3,1,23.5,1,45,14,29.7,0,0,\\n2020-11-22 11:00:00,-0.005,0.003,16.7,0.3,1,23.8,1,43,14.2,30.1,0,0,\\n2020-11-22 11:05:00,-0.005,0.003,16.7,0.3,1,23.6,1,42,14.2,30,0,0,\\n2020-11-22 11:10:00,0.091,0.003,16.7,0.3,1,23.6,1,42,14.2,29.8,0,0,\\n2020-11-22 11:15:00,0.047,0.003,16.7,0.3,1,23.6,1,42,14.2,29.7,0,0,\\n2020-11-22 11:20:00,-0.005,0.003,16.7,0.3,1,24.1,1,43,14.2,29.7,0,0,\\n2020-11-22 11:25:00,0.001,0.003,16.7,0.3,1,24.4,1,43,14.2,29.8,0,0,\\n2020-11-22 11:30:00,-0.005,0.003,16.7,0.3,1,24.6,1,43,14.2,29.8,0,0,\\n2020-11-22 11:35:00,-0.005,0.003,16.7,0.3,1,24.9,1,43,14.2,29.9,0,0,\\n2020-11-22 11:40:00,0.019,0.003,16.7,0.3,1,24.8,1,42,14.2,29.9,0,0,\\n2020-11-22 11:45:00,-0.005,0.003,16.7,0.3,1,24.6,1,42,14.2,29.9,0,0,\\n2020-11-22 11:50:00,0.054,0.003,16.7,0.3,1,24.8,1,43,14.2,30,0,0,\\n2020-11-22 11:55:00,-0.005,0.003,16.7,0.3,1,25.4,1,43,14.2,30.1,0,0,\\n2020-11-22 12:00:00,-0.005,0.013,16.7,0.3,1,26,1,44,14.2,30.2,0,0,\\n2020-11-22 12:05:00,-0.002,0.013,15.7,0.3,1,26.5,1,43,14.2,30.3,0,0,\\n2020-11-22 12:10:00,-0.005,0.013,16.7,0.3,1,26.5,1,42,14.2,30.4,0,0,\\n2020-11-22 12:15:00,0.002,0.013,16.7,0.3,1,26.2,1,42,14.2,30.4,0,0,\\n2020-11-22 12:20:00,0.041,0.013,16.7,0.3,1,26.1,1,42,14.2,30.4,0,0,\\n2020-11-22 12:25:00,0.009,0.013,16.7,0.3,1,26.1,1,42,14.2,30.5,0,0,\\n2020-11-22 12:30:00,0.003,0.013,16.7,0.3,1,25.8,1,41,14.2,30.5,0,0,\\n2020-11-22 12:35:00,-0.002,0.013,16.7,0.3,1,25.9,1,42,14.2,30.5,0,0,\\n2020-11-22 12:40:00,0.011,0.013,16.7,0.3,1,25.8,1,41,14.2,30.5,0,0,\\n2020-11-22 12:45:00,0.029,0.013,16.7,0.3,1,25.5,1,41,14.2,30.4,0,0,\\n2020-11-22 12:50:00,0.061,0.013,16.7,0.3,1,25.5,1,41,14.2,30.4,0,0,\\n2020-11-22 12:55:00,0.012,0.013,16.7,0.3,1,25.7,1,42,14.2,30.4,0,0,\\n2020-11-22 13:00:00,-0.005,0.01,16.7,0.3,1,26.1,1,42,14.2,30.5,0,0,\\n2020-11-22 13:05:00,-0.005,0.01,16.7,0.3,1,26.6,1,42,14.2,30.5,0,0,\\n2020-11-22 13:10:00,0.007,0.01,16.7,0.3,1,26.5,1,41,14.2,30.6,0,0,\\n2020-11-22 13:15:00,0.023,0.01,16.7,0.3,1,26.6,1,41,14.2,30.6,0,0,\\n2020-11-22 13:20:00,-0.004,0.01,16.7,0.3,1,27,1,42,14.2,30.7,0,0,\\n2020-11-22 13:25:00,0.016,0.01,16.7,0.3,1,26.8,1,41,14.1,30.7,0,0,\\n2020-11-22 13:30:00,0.017,0.01,16.7,0.3,1,26.8,1,41,14.1,30.8,0,0,\\n2020-11-22 13:35:00,0.015,0.01,16.7,0.3,1,27.1,1,41,14.1,30.8,0,0,\\n2020-11-22 13:40:00,0.008,0.01,16.7,0.3,1,27.9,1,42,14.1,30.9,0,0,\\n2020-11-22 13:45:00,-0.005,0.01,16.7,0.3,1,28.4,1,41,14.1,31.1,0,0,\\n2020-11-22 13:50:00,-0.005,0.01,16.7,0.3,1,27.4,1,41,14.1,31.2,0,0,\\n2020-11-22 13:55:00,0.059,0.01,16.7,0.3,1,27.5,1,42,14.1,31.2,0,0,\\n2020-11-22 14:00:00,0.011,0.003,16.7,0.3,1,28.3,1,42,14.1,31.4,0,0,\\n2020-11-22 14:05:00,-0.005,0.003,16.7,0.3,1,28.4,1,41,14.1,31.6,0,0,\\n2020-11-22 14:10:00,0.014,0.003,16.7,0.3,1,27.5,1,41,14.1,31.6,0,0,\\n2020-11-22 14:15:00,0.048,0.003,16.7,0.3,1,27.1,1,40,14.1,31.6,0,0,\\n2020-11-22 14:20:00,0.049,0.003,16.7,0.3,1,26.8,1,40,14.1,31.6,0,0,\\n2020-11-22 14:25:00,0.036,0.003,16.7,0.3,1,26.4,1,41,14.1,31.5,0,0,\\n2020-11-22 14:30:00,0.024,0.003,16.7,0.3,1,26.1,1,41,14.1,31.4,0,0,\\n2020-11-22 14:35:00,0.006,0.003,16.7,0.3,1,26.1,1,41,14.1,31.4,0,0,\\n2020-11-22 14:40:00,0.022,0.003,16.7,0.3,1,26.6,1,41,14.1,31.4,0,0,\\n2020-11-22 14:45:00,-0.005,0.003,16.7,0.3,1,26.9,1,41,14.1,31.4,0,0,\\n2020-11-22 14:50:00,0.016,0.003,16.7,0.3,1,26.9,1,41,14.1,31.4,0,0,\\n2020-11-22 14:55:00,0.04,0.003,16.7,0.3,1,27.9,1,41,14.1,31.5,0,0,\\n2020-11-22 15:00:00,-0.005,0.016,16.7,0.3,1,27.2,1,40,14.1,31.6,0,0,\\n2020-11-22 15:05:00,-0.005,0.016,16.7,0.3,1,27.4,1,41,14.1,31.6,0,0,\\n2020-11-22 15:10:00,0.017,0.016,16.7,0.3,1,27.6,1,41,14.1,31.7,0,0,\\n2020-11-22 15:15:00,0.01,0.016,16.7,0.3,1,27.2,1,40,14.1,31.7,0,0,\\n2020-11-22 15:20:00,0.014,0.016,16.7,0.3,1,27.1,1,40,14.1,31.6,0,0,\\n2020-11-22 15:25:00,0.028,0.016,16.7,0.3,1,27.1,1,40,14.1,31.6,0,0,\\n2020-11-22 15:30:00,0,0.016,16.7,0.3,1,27.1,1,40,14.1,31.5,0,0,\\n2020-11-22 15:35:00,-0.004,0.016,16.7,0.3,1,27,1,39,14.1,31.4,0,0,\\n2020-11-22 15:40:00,0.018,0.016,16.7,0.3,1,27.1,1,40,14.1,31.4,0,0,\\n2020-11-22 15:45:00,0.035,0.016,16.7,0.3,1,27.3,1,41,14.1,31.4,0,0,\\n2020-11-22 15:50:00,-0.005,0.016,16.7,0.3,1,27.2,1,40,14.1,31.3,0,0,\\n2020-11-22 15:55:00,0.021,0.016,16.7,0.3,1,27.1,1,40,14.1,31.3,0,0,\\n2020-11-22 16:00:00,0.046,0.011,16.7,0.3,1,27.1,1,40,14.1,31.2,0,0,\\n2020-11-22 16:05:00,-0.005,0.011,16.7,0.3,1,27,1,40,14.1,31.1,0,0,\\n2020-11-22 16:10:00,0.002,0.011,16.7,0.3,1,27.3,1,40,14.2,31.1,0,0,\\n2020-11-22 16:15:00,0.02,0.011,16.7,0.3,1,27.8,1,40,14.2,31.1,0,0,\\n2020-11-22 16:20:00,-0.005,0.011,16.7,0.3,1,28.7,1,41,14.2,31.3,0,0,\\n2020-11-22 16:25:00,-0.005,0.011,16.7,0.3,1,29.3,1,40,14.1,31.5,0,0,\\n2020-11-22 16:30:00,-0.005,0.011,16.7,0.3,1,29.6,1,40,14.1,31.7,0,0,\\n2020-11-22 16:35:00,0.031,0.011,16.7,0.3,1,30,1,39,14.1,31.9,0,0,\\n2020-11-22 16:40:00,-0.003,0.011,16.7,0.3,1,30,1,38,14.1,32,0,0,\\n2020-11-22 16:45:00,-0.005,0.011,16.7,0.3,1,29.5,1,38,14.1,32.1,0,0,\\n2020-11-22 16:50:00,0.06,0.011,16.7,0.3,1,29.1,1,38,14.1,32.1,0,0,\\n2020-11-22 16:55:00,0.054,0.011,16.7,0.3,1,28.5,1,37,14.1,32.1,0,0,\\n2020-11-22 17:00:00,0.014,0.003,16.7,0.3,1,28.3,1,38,14.1,32,0,0,\\n2020-11-22 17:05:00,-0.005,0.003,16.7,0.3,1,28.5,1,38,14.1,32,0,0,\\n2020-11-22 17:10:00,0.023,0.003,16.7,0.3,1,28.1,1,38,14.1,31.9,0,0,\\n2020-11-22 17:15:00,0.051,0.003,16.7,0.3,1,27.6,1,38,14.1,31.7,0,0,\\n2020-11-22 17:20:00,0.01,0.003,16.7,0.3,1,27.5,1,38,14.1,31.6,0,0,\\n2020-11-22 17:25:00,-0.002,0.003,16.7,0.3,1,27.7,1,38,14.1,31.6,0,0,\\n2020-11-22 17:30:00,-0.005,0.003,16.7,0.3,1,27.7,1,38,14.1,31.5,0,0,\\n2020-11-22 17:35:00,0.038,0.003,16.7,0.3,1,27,1,38,14.1,31.3,0,0,\\n2020-11-22 17:40:00,0.054,0.003,16.7,0.3,1,26.4,1,38,14.1,31.1,0,0,\\n2020-11-22 17:45:00,-0.005,0.003,16.7,0.3,1,26.4,1,39,14.1,30.9,0,0,\\n2020-11-22 17:50:00,0.013,0.003,16.7,0.3,1,26.4,1,39,14.1,30.8,0,0,\\n2020-11-22 17:55:00,0.045,0.003,16.7,0.3,1,26.3,1,39,14.1,30.7,0,0,\\n2020-11-22 18:00:00,-0.005,0.012,16.7,0.3,1,26.3,1,40,14.1,30.6,0,0,\\n2020-11-22 18:05:00,-0.005,0.012,15.7,0.3,1,26.3,1,41,14.2,30.5,0,0,\\n2020-11-22 18:10:00,0.009,0.012,16.7,0.3,1,26.2,1,41,14.2,30.4,0,0,\\n2020-11-22 18:15:00,0.044,0.012,16.7,0.3,1,25.9,1,41,14.2,30.2,0,0,\\n2020-11-22 18:20:00,0.002,0.012,16.7,0.3,1,25.7,1,42,14.1,30.1,0,0,\\n2020-11-22 18:25:00,0.004,0.012,16.7,0.3,1,25.6,1,42,14.1,30,0,0,\\n2020-11-22 18:30:00,-0.005,0.012,16.7,0.3,1,25.4,1,42,14.2,29.9,0,0,\\n2020-11-22 18:35:00,-0.005,0.012,16.7,0.3,1,25.2,1,42,14.2,29.8,0,0,\\n2020-11-22 18:40:00,-0.005,0.012,16.7,0.3,1,25,1,42,14.2,29.6,0,0,\\n2020-11-22 18:45:00,-0.005,0.012,16.7,0.3,1,24.9,1,42,14.1,29.5,0,0,\\n2020-11-22 18:50:00,0.01,0.012,16.7,0.3,1,24.7,1,43,14.1,29.4,0,0,\\n2020-11-22 18:55:00,0.022,0.012,16.7,0.3,1,24.6,1,43,14.1,29.2,0,0,\\n2020-11-22 19:00:00,0.016,0.01,16.7,0.3,1,24.4,1,43,14.1,29.1,0,0,\\n2020-11-22 19:05:00,0.038,0.01,16.7,0.3,1,24.2,1,44,14.1,28.9,0,0,\\n2020-11-22 19:10:00,-0.005,0.01,16.7,0.3,1,24.1,1,45,14,28.9,0,0,\\n2020-11-22 19:15:00,-0.005,0.01,16.7,0.3,1,24,1,45,13.8,29.9,0,0,\\n2020-11-22 19:20:00,-0.005,0.01,16.7,0.3,1,24,0,45,14.1,30.2,0,0,\\n2020-11-22 19:25:00,0.071,0.01,16.7,0.3,1,24,1,45,14,30.1,0,0,\\n2020-11-22 19:30:00,0.084,0.01,16.7,0.3,1,24,1,45,14.1,29.9,0,0,\\n2020-11-22 19:35:00,0.117,0.01,16.7,0.3,1,24,1,45,14,29.7,0,0,\\n2020-11-22 19:40:00,-0.005,0.01,16.7,0.3,1,23.9,1,45,14,29.9,0,0,\\n2020-11-22 19:45:00,-0.005,0.01,16.7,0.3,1,23.8,1,45,14,29.8,0,0,\\n2020-11-22 19:50:00,0.061,0.01,16.7,0.3,1,23.7,1,45,14.1,29.7,0,0,\\n2020-11-22 19:55:00,0.047,0.01,16.7,0.3,1,23.6,0,45,13.9,29.6,0,0,\\n2020-11-22 20:00:00,-0.005,0.001,16.7,0.3,1,23.6,1,45,14,30,0,0,\\n2020-11-22 20:05:00,-0.005,0.001,16.7,0.3,1,23.5,0,45,14.1,29.8,0,0,\\n2020-11-22 20:10:00,0.063,0.001,16.7,0.3,1,23.4,1,45,14.1,29.3,0,0,\\n2020-11-22 20:15:00,0.084,0.001,16.7,0.3,1,23.3,1,45,14.1,29.3,0,0,\\n2020-11-22 20:20:00,-0.005,0.001,16.7,0.3,1,23.1,1,45,14.1,29.5,0,0,\\n2020-11-22 20:25:00,-0.005,0.001,16.7,0.3,1,23,1,45,14.2,29.3,0,0,\\n2020-11-22 20:30:00,0.068,0.001,16.7,0.3,1,23,1,45,14.2,29.2,0,0,\\n2020-11-22 20:35:00,0.013,0.001,16.7,0.3,1,22.8,1,45,14.2,29.1,0,0,\\n2020-11-22 20:40:00,0.073,0.001,16.7,0.3,1,22.7,1,45,14.3,28.8,0,0,\\n2020-11-22 20:45:00,0.013,0.001,16.7,0.3,1,22.4,1,45,14,28.9,0,0,\\n2020-11-22 20:50:00,-0.005,0.001,16.7,0.3,1,22.2,1,45,14.1,28.9,0,0,\\n2020-11-22 20:55:00,0.077,0.001,16.7,0.3,1,22.1,1,45,14.1,28.7,0,0,\\n2020-11-22 21:00:00,0.046,0.016,16.7,0.3,1,22,1,45,14.1,29,0,0,\\n2020-11-22 21:05:00,-0.005,0.016,16.7,0.3,1,22,1,45,14.1,29.3,0,0,\\n2020-11-22 21:10:00,0.035,0.016,16.7,0.3,1,22,1,45,14.2,29.3,0,0,\\n2020-11-22 21:15:00,0.087,0.016,16.7,0.3,1,21.8,1,45,14.3,29.1,0,0,\\n2020-11-22 21:20:00,0.1,0.016,16.7,0.3,1,21.9,1,45,14.1,28.9,0,0,\\n2020-11-22 21:25:00,-0.005,0.016,16.7,0.3,1,21.9,1,45,14.1,29.2,0,0,\\n2020-11-22 21:30:00,-0.005,0.016,16.7,0.3,1,21.9,1,45,14.1,29.5,0,0,\\n2020-11-22 21:35:00,-0.005,0.016,16.7,0.3,1,21.9,1,45,14.2,29.7,0,0,\\n2020-11-22 21:40:00,0.074,0.016,16.7,0.3,1,21.8,1,45,14.3,29.2,0,0,\\n2020-11-22 21:45:00,0.165,0.016,16.7,0.3,1,21.7,1,45,14.2,28.8,0,0,\\n2020-11-22 21:50:00,0.111,0.016,16.7,0.3,1,21.5,1,45,14.2,28.6,0,0,\\n2020-11-22 21:55:00,-0.005,0.016,16.7,0.3,1,21.4,1,45,14.1,28.8,0,0,\\n2020-11-22 22:00:00,-0.005,0.017,16.7,0.3,1,21.4,1,45,14.1,29.2,0,0,\\n2020-11-22 22:05:00,-0.005,0.017,16.7,0.3,1,21.5,1,45,14.1,29.1,0,0,\\n2020-11-22 22:10:00,0.087,0.017,16.7,0.3,1,21.5,1,45,14.1,29.3,0,0,\\n2020-11-22 22:15:00,0.042,0.017,16.7,0.3,1,21.5,0,45,14.2,29.1,0,0,\\n2020-11-22 22:20:00,0.046,0.017,16.7,0.3,1,21.3,1,45,14.2,28.9,0,0,\\n2020-11-22 22:25:00,0.03,0.017,16.7,0.3,1,21.2,1,45,14.2,28.8,0,0,\\n2020-11-22 22:30:00,0.028,0.017,16.7,0.3,1,21.2,1,45,14.2,28.7,0,0,\\n2020-11-22 22:35:00,0.034,0.017,16.7,0.3,1,21,1,45,14.2,28.6,0,0,\\n2020-11-22 22:40:00,0.076,0.017,16.7,0.3,1,20.9,1,45,14.2,28.3,0,0,\\n2020-11-22 22:45:00,0.026,0.017,16.7,0.3,1,20.7,1,45,14.3,28.1,0,0,\\n2020-11-22 22:50:00,-0.005,0.017,16.7,0.3,1,20.6,1,45,14.2,28,0,0,\\n2020-11-22 22:55:00,-0.005,0.017,16.7,0.3,1,20.5,1,45,14.2,28.2,0,0,\\n2020-11-22 23:00:00,-0.005,0.019,16.7,0.3,1,20.6,0,45,14.1,28.4,0,0,\\n2020-11-22 23:05:00,-0.005,0.019,16.7,0.3,1,20.7,1,45,14.1,28.7,0,0,\\n2020-11-22 23:10:00,-0.005,0.019,16.7,0.3,1,20.8,1,45,14.2,28.7,0,0,\\n2020-11-22 23:15:00,0.069,0.019,16.7,0.3,1,20.8,1,45,14.1,28.7,0,0,\\n2020-11-22 23:20:00,0.022,0.019,16.7,0.3,1,20.7,1,45,14.2,28.6,0,0,\\n2020-11-22 23:25:00,0.044,0.019,16.7,0.3,1,20.6,1,45,14.2,28.4,0,0,\\n2020-11-22 23:30:00,0.113,0.019,16.7,0.3,1,20.5,1,45,14.2,28.1,0,0,\\n2020-11-22 23:35:00,0.015,0.019,16.7,0.3,1,20.5,1,45,14.1,28.4,0,0,\\n2020-11-22 23:40:00,-0.005,0.019,16.7,0.3,1,20.5,1,45,14.2,28.5,0,0,\\n2020-11-22 23:45:00,0.025,0.019,16.7,0.3,1,20.6,1,45,14.2,28.6,0,0,\\n2020-11-22 23:50:00,-0.003,0.019,16.7,0.3,1,20.6,1,45,14.2,28.6,0,0,\\n2020-11-22 23:55:00,0.036,0.019,16.7,0.3,1,20.6,0,45,14.1,28.6,0,0,\\n2020-11-23 00:00:00,0.022,0.009,16.7,0.3,1,20.5,1,45,14.1,28.6,0,0,\\n2020-11-23 00:05:00,-0.005,0.009,15.7,0.3,1,20.5,1,45,14.1,28.8,0,0,\\n2020-11-23 00:10:00,-0.003,0.009,16.7,0.3,1,20.4,1,45,14.2,28.8,0,0,\\n2020-11-23 00:15:00,0.08,0.009,16.7,0.3,1,20.3,1,45,14.2,28.4,0,0,\\n2020-11-23 00:20:00,0.038,0.009,16.7,0.3,1,20.3,1,45,14.2,28.4,0,0,\\n2020-11-23 00:25:00,-0.005,0.009,16.7,0.3,1,20.2,1,45,14.3,28.3,0,0,\\n2020-11-23 00:30:00,0.072,0.009,16.7,0.3,1,20.1,1,45,14.1,28.1,0,0,\\n2020-11-23 00:35:00,0.005,0.009,16.7,0.3,1,20,1,45,14.1,28.3,0,0,\\n2020-11-23 00:40:00,-0.005,0.009,16.7,0.3,1,20.1,1,45,14.2,28.5,0,0,\\n2020-11-23 00:45:00,-0.001,0.009,16.7,0.3,1,20.2,1,45,14.1,28.7,0,0,\\n2020-11-23 00:50:00,-0.005,0.009,16.7,0.3,1,20.2,1,45,14.1,28.9,0,0,\\n2020-11-23 00:55:00,-0.005,0.009,16.7,0.3,1,20.3,1,45,14.1,29.1,0,0,\\n2020-11-23 01:00:00,0.047,0.025,16.7,0.3,1,20.3,1,45,14.2,28.9,0,0,\\n2020-11-23 01:05:00,0.11,0.025,16.7,0.3,1,20.3,1,45,14.1,28.7,0,0,\\n2020-11-23 01:10:00,0.01,0.025,16.7,0.3,1,20.4,1,45,14,28.9,0,0,\\n2020-11-23 01:15:00,-0.005,0.025,16.7,0.3,1,20.4,1,45,14,29.2,0,0,\\n2020-11-23 01:20:00,-0.005,0.025,16.7,0.3,1,20.5,1,45,14,29.3,0,0,\\n2020-11-23 01:25:00,0.063,0.025,16.7,0.3,1,20.6,1,45,14,29,0,0,\\n2020-11-23 01:30:00,0.095,0.025,16.7,0.3,1,20.6,1,45,14,29,0,0,\\n2020-11-23 01:35:00,-0.005,0.025,16.7,0.3,1,20.6,1,45,13.9,29.2,0,0,\\n2020-11-23 01:40:00,-0.005,0.025,16.7,0.3,1,20.6,1,45,14,29.4,0,0,\\n2020-11-23 01:45:00,0.038,0.025,16.7,0.3,1,20,1,42,14.1,29,0,0,\\n2020-11-23 01:50:00,0.088,0.025,16.7,0.3,1,18.6,0,39,14.1,28.5,0,0,\\n2020-11-23 01:55:00,0.073,0.025,16.7,0.3,1,18.2,1,38,14.1,28.1,0,0,\\n2020-11-23 02:00:00,0.02,0.017,16.7,0.3,1,18,1,39,14.1,27.7,0,0,\\n2020-11-23 02:05:00,0.022,0.017,16.7,0.3,1,18.2,1,39,14.1,27.5,0,0,\\n2020-11-23 02:10:00,-0.002,0.017,16.7,0.3,1,18.2,1,39,14.1,27.3,0,0,\\n2020-11-23 02:15:00,-0.005,0.017,16.7,0.3,1,18.2,1,40,14.1,27.2,0,0,\\n2020-11-23 02:20:00,0.014,0.017,16.7,0.3,1,18.8,1,40,14.1,27,0,0,\\n2020-11-23 02:25:00,0.008,0.017,16.7,0.3,1,19.3,1,40,14.2,26.8,0,0,\\n2020-11-23 02:30:00,-0.005,0.017,16.7,0.3,1,19.4,0,39,14.1,26.7,0,0,\\n2020-11-23 02:35:00,-0.005,0.017,16.7,0.3,1,19.3,1,39,14.1,26.7,0,0,\\n2020-11-23 02:40:00,-0.001,0.017,16.7,0.3,1,19.1,1,39,14.1,26.5,0,0,\\n2020-11-23 02:45:00,-0.005,0.017,16.7,0.3,1,19.4,1,38,14.1,26.4,0,0,\\n2020-11-23 02:50:00,0.002,0.017,16.7,0.3,1,19.5,1,38,14.1,26.4,0,0,\\n2020-11-23 02:55:00,-0.005,0.017,16.7,0.3,1,19.1,1,39,14.1,26.3,0,0,\\n2020-11-23 03:00:00,-0.005,-0.005,16.7,0.3,1,19.5,1,38,14.1,26.3,0,0,\\n2020-11-23 03:05:00,-0.005,-0.005,16.7,0.3,1,20,1,37,14.1,26.3,0,0,\\n2020-11-23 03:10:00,-0.005,-0.005,16.7,0.3,1,20,1,36,14.1,26.3,0,0,\\n2020-11-23 03:15:00,-0.005,-0.005,16.7,0.3,1,19.9,1,37,14.2,26.3,0,0,\\n2020-11-23 03:20:00,0.018,-0.005,16.7,0.3,1,19.7,0,37,14.1,26.3,0,0,\\n2020-11-23 03:25:00,0.048,-0.005,16.7,0.3,1,19.3,1,38,14.1,26.2,0,0,\\n2020-11-23 03:30:00,0.007,-0.005,16.7,0.3,1,19.1,1,38,14.1,26.1,0,0,\\n2020-11-23 03:35:00,-0.005,-0.005,16.7,0.3,1,19.1,0,38,14.1,26.1,0,0,\\n2020-11-23 03:40:00,-0.005,-0.005,16.7,0.3,1,19,1,38,14.1,26.1,0,0,\\n2020-11-23 03:45:00,-0.004,-0.005,16.7,0.3,1,18.9,1,39,14.1,26.1,0,0,\\n2020-11-23 03:50:00,-0.005,-0.005,16.7,0.3,1,18.7,1,39,14.1,26.1,0,0,\\n2020-11-23 03:55:00,-0.005,-0.005,16.7,0.3,1,19,1,40,14.1,26.1,0,0,\\n2020-11-23 04:00:00,0.042,0.002,16.7,0.3,1,17.1,0,38,14.1,26,0,0,\\n2020-11-23 04:05:00,0.037,0.002,16.7,0.3,1,15.8,1,37,14.1,25.9,0,0,\\n2020-11-23 04:10:00,0.038,0.002,16.7,0.3,1,15.6,1,35,14.1,25.7,0,0,\\n2020-11-23 04:15:00,-0.002,0.002,16.7,0.3,1,15.9,1,35,14.1,25.6,0,0,\\n2020-11-23 04:20:00,-0.005,0.002,16.7,0.3,1,16.3,1,36,14.1,25.6,0,0,\\n2020-11-23 04:25:00,0.007,0.002,16.7,0.3,1,16.3,0,37,14.1,25.5,0,0,\\n2020-11-23 04:30:00,0.03,0.002,16.7,0.3,1,16.6,0,39,14.1,25.5,0,0,\\n2020-11-23 04:35:00,-0.005,0.002,16.7,0.3,1,16.9,0,41,14.1,25.5,0,0,\\n2020-11-23 04:40:00,-0.005,0.002,16.7,0.3,1,17.2,1,42,14.1,25.5,0,0,\\n2020-11-23 04:45:00,0.035,0.002,16.7,0.3,1,17.2,0,42,14.1,25.5,0,0,\\n2020-11-23 04:50:00,0.04,0.002,16.7,0.3,1,17.2,1,42,14.2,25.5,0,0,\\n2020-11-23 04:55:00,-0.005,0.002,16.7,0.3,1,17.3,0,43,14.1,25.5,0,0,\\n2020-11-23 05:00:00,-0.005,0.007,16.7,0.3,1,17.4,0,43,14.1,25.5,0,0,\\n2020-11-23 05:05:00,0.008,0.007,16.7,0.3,1,17.8,0,43,14.1,25.6,0,0,\\n2020-11-23 05:10:00,0.019,0.007,16.7,0.3,1,17.8,0,44,14.1,25.6,0,0,\\n2020-11-23 05:15:00,-0.005,0.007,16.7,0.3,1,17.7,1,44,14.2,25.6,0,0,\\n2020-11-23 05:20:00,0.003,0.007,16.7,0.3,1,17.6,0,43,14.1,25.6,0,0,\\n2020-11-23 05:25:00,0.027,0.007,16.7,0.3,1,17.5,1,44,14.1,25.6,0,0,\\n2020-11-23 05:30:00,-0.005,0.007,16.7,0.3,1,17.5,0,44,14.1,25.6,0,0,\\n2020-11-23 05:35:00,-0.005,0.007,16.7,0.3,1,17.5,0,44,14.1,25.6,0,0,\\n2020-11-23 05:40:00,0.001,0.007,16.7,0.3,1,17.6,0,44,14.1,25.7,0,0,\\n2020-11-23 05:45:00,0.039,0.007,16.7,0.3,1,17.6,0,44,14.1,25.6,0,0,\\n2020-11-23 05:50:00,0.007,0.007,16.7,0.3,1,17.6,1,44,14.1,25.6,0,0,\\n2020-11-23 05:55:00,-0.005,0.007,16.7,0.3,1,17.6,0,44,14.1,25.6,0,0,\\n2020-11-23 06:00:00,-0.001,0.003,16.7,0.3,1,17.6,1,44,14.1,25.7,0,0,\\n2020-11-23 06:05:00,-0.002,0.003,15.7,0.3,1,17.7,0,45,14.2,25.7,0,0,\\n2020-11-23 06:10:00,-0.005,0.003,16.7,0.3,1,17.8,0,45,14.1,25.8,0,0,\\n2020-11-23 06:15:00,-0.005,0.003,16.7,0.3,1,17.8,1,45,14.2,26.1,0,0,\\n2020-11-23 06:20:00,-0.005,0.003,16.7,0.3,1,17.8,1,45,14.1,26,0,0,\\n2020-11-23 06:25:00,0.024,0.003,16.7,0.3,1,17.8,0,45,14.1,26,0,0,\\n2020-11-23 06:30:00,0.012,0.003,16.7,0.3,1,18,1,45,14,26.4,0,0,\\n2020-11-23 06:35:00,-0.005,0.003,16.7,0.3,1,18,0,45,14.2,26.6,0,0,\\n2020-11-23 06:40:00,0.046,0.003,16.7,0.3,1,18,1,44,14.1,26.4,0,0,\\n2020-11-23 06:45:00,0.074,0.003,16.7,0.3,1,18,0,44,14.1,26.3,0,0,\\n2020-11-23 06:50:00,0.026,0.003,16.7,0.3,1,17.9,0,44,14.1,26.2,0,0,\\n2020-11-23 06:55:00,0.01,0.003,16.7,0.3,1,17.8,0,44,14.1,26.1,0,0,\\n2020-11-23 07:00:00,-0.005,0.002,16.7,0.3,1,17.9,0,44,14.1,26,0,0,\\n2020-11-23 07:05:00,0.001,0.002,16.7,0.3,1,17.9,0,44,14.1,26,0,0,\\n2020-11-23 07:10:00,-0.005,0.002,16.7,0.3,1,17.9,1,44,14.1,26,0,0,\\n2020-11-23 07:15:00,0.042,0.002,16.7,0.3,1,18.2,1,45,14.1,26,0,0,\\n2020-11-23 07:20:00,-0.005,0.002,16.7,0.3,1,18.3,1,45,14.1,26.1,0,0,\\n2020-11-23 07:25:00,-0.005,0.002,16.7,0.3,1,18.4,1,45,14.2,26.5,0,0,\\n2020-11-23 07:30:00,0.008,0.002,16.7,0.3,1,18.4,1,45,14.3,26.4,0,0,\\n2020-11-23 07:35:00,0.035,0.002,16.7,0.3,1,18.5,1,45,14.2,26.5,0,0,\\n2020-11-23 07:40:00,-0.005,0.002,16.7,0.3,1,18.5,1,45,14.2,26.7,0,0,\\n2020-11-23 07:45:00,-0.005,0.002,16.7,0.3,1,18.7,1,45,14,27.2,0,0,\\n2020-11-23 07:50:00,-0.005,0.002,16.7,0.3,1,18.9,1,45,14,28.1,0,0,\\n2020-11-23 07:55:00,-0.005,0.002,16.7,0.3,1,19.3,1,44,14.3,28.4,0,0,\\n2020-11-23 08:00:00,0.092,0,16.7,0.3,1,19.4,1,43,14.3,27.9,0,0,\\n2020-11-23 08:05:00,0.13,0,16.7,0.3,1,19.2,1,41,14.3,27.6,0,0,\\n2020-11-23 08:10:00,0.035,0,16.7,0.3,1,18.7,1,41,14.3,27.3,0,0,\\n2020-11-23 08:15:00,0.006,0,16.7,0.3,1,18.4,1,41,14.3,27.1,0,0,\\n2020-11-23 08:20:00,0.04,0,16.7,0.3,1,18.2,0,41,14.3,26.9,0,0,\\n2020-11-23 08:25:00,0.011,0,16.7,0.3,1,18.2,1,42,14.3,26.8,0,0,\\n2020-11-23 08:30:00,-0.005,0,16.7,0.3,1,18.4,1,43,14.3,26.7,0,0,\\n2020-11-23 08:35:00,-0.005,0,16.7,0.3,1,19.4,1,47,13.9,27.5,0,0,\\n2020-11-23 08:40:00,-0.005,0,16.7,0.3,1,20.5,1,47,13.9,28.9,0,0,\\n2020-11-23 08:45:00,-0.005,0,16.7,0.3,1,21.2,1,43,14.2,29.8,0,0,\\n2020-11-23 08:50:00,0.091,0,16.7,0.3,1,21.4,1,40,14.3,29.5,0,0,\\n2020-11-23 08:55:00,0.181,0,16.7,0.3,1,21.8,1,40,14.3,29.3,0,0,\\n2020-11-23 09:00:00,0.063,-0.004,16.7,0.3,1,21.9,1,38,14.3,29.3,0,0,\\n2020-11-23 09:05:00,-0.005,-0.004,16.7,0.3,1,22.3,1,38,14.3,29.4,0,0,\\n2020-11-23 09:10:00,0.007,-0.004,16.7,0.3,1,22.8,1,38,14.3,29.6,0,0,\\n2020-11-23 09:15:00,-0.005,-0.004,16.7,0.3,1,23.4,1,37,14.3,29.7,0,0,\\n2020-11-23 09:20:00,-0.004,-0.004,16.7,0.3,1,23.9,1,37,14.3,30,0,0,\\n2020-11-23 09:25:00,0.044,-0.004,16.7,0.3,1,24.4,1,36,14.3,30.2,0,0,\\n2020-11-23 09:30:00,-0.005,-0.004,16.7,0.3,1,24.7,1,33,14.3,30.4,0,0,\\n2020-11-23 09:35:00,-0.005,-0.004,16.7,0.3,1,25,1,32,14.3,30.6,0,0,\\n2020-11-23 09:40:00,-0.003,-0.004,16.7,0.3,1,25.4,1,32,14.3,30.8,0,0,\\n2020-11-23 09:45:00,0.011,-0.004,16.7,0.3,1,25.5,1,34,14.3,31,0,0,\\n2020-11-23 09:50:00,0.025,-0.004,16.7,0.3,1,25.6,1,35,14.3,31.1,0,0,\\n2020-11-23 09:55:00,0.025,-0.004,16.7,0.3,1,25.9,1,34,14.3,31.3,0,0,\\n2020-11-23 10:00:00,0.022,0.003,16.7,0.3,1,26,1,34,14.3,31.4,0,0,\\n2020-11-23 10:05:00,-0.005,0.003,16.7,0.3,1,26.1,1,34,14.3,31.5,0,0,\\n2020-11-23 10:10:00,0.009,0.003,16.7,0.3,1,26,1,35,14.3,31.6,0,0,\\n2020-11-23 10:15:00,-0.002,0.003,16.7,0.3,1,26.1,1,35,14.3,31.8,0,0,\\n2020-11-23 10:20:00,-0.005,0.003,16.7,0.3,1,26.4,1,34,14.3,31.9,0,0,\\n2020-11-23 10:25:00,-0.001,0.003,16.7,0.3,1,26.1,1,34,14.3,31.9,0,0,\\n2020-11-23 10:30:00,0.037,0.003,16.7,0.3,1,25.9,1,33,14.3,31.9,0,0,\\n2020-11-23 10:35:00,0.013,0.003,16.7,0.3,1,25.9,1,33,14.3,31.9,0,0,\\n2020-11-23 10:40:00,0.023,0.003,16.7,0.3,1,26.3,1,33,14.3,31.9,0,0,\\n2020-11-23 10:45:00,-0.005,0.003,16.7,0.3,1,26.8,1,34,14.3,31.9,0,0,\\n2020-11-23 10:50:00,-0.005,0.003,16.7,0.3,1,27.4,1,34,14.3,31.9,0,0,\\n2020-11-23 10:55:00,-0.002,0.003,16.7,0.3,1,27.9,1,35,14.2,32,0,0,\\n2020-11-23 11:00:00,-0.005,0.004,16.7,0.3,1,28.4,1,34,14.2,32.2,0,0,\\n2020-11-23 11:05:00,0.02,0.004,16.7,0.3,1,28.6,1,34,14.2,32.4,0,0,\\n2020-11-23 11:10:00,-0.005,0.004,16.7,0.3,1,28.5,1,34,14.2,32.5,0,0,\\n2020-11-23 11:15:00,-0.005,0.004,16.7,0.3,1,28.2,1,33,14.2,32.5,0,0,\\n2020-11-23 11:20:00,0.032,0.004,16.7,0.3,1,28.4,1,34,14.2,32.6,0,0,\\n2020-11-23 11:25:00,0.018,0.004,16.7,0.3,1,28.4,1,33,14.2,32.6,0,0,\\n2020-11-23 11:30:00,0.008,0.004,16.7,0.3,1,29,1,34,14.2,32.7,0,0,\\n2020-11-23 11:35:00,0.026,0.004,16.7,0.3,1,29.5,1,34,14.2,32.8,0,0,\\n2020-11-23 11:40:00,-0.005,0.004,16.7,0.3,1,29.4,1,34,14.2,32.9,0,0,\\n2020-11-23 11:45:00,0,0.004,16.7,0.3,1,29.2,1,34,14.2,32.9,0,0,\\n2020-11-23 11:50:00,0.022,0.004,16.7,0.3,1,29.7,1,35,14.2,33,0,0,\\n2020-11-23 11:55:00,0.017,0.004,16.7,0.3,1,30.1,1,34,14.2,33.1,0,0,\\n2020-11-23 12:00:00,-0.005,0.006,16.7,0.3,1,30.5,1,34,14.2,33.2,0,0,\\n2020-11-23 12:05:00,0.002,0.006,15.7,0.3,1,30.6,1,35,14.3,33.2,0,0,\\n2020-11-23 12:10:00,0.011,0.006,16.7,0.3,1,30.4,1,34,14.3,33.3,0,0,\\n2020-11-23 12:15:00,0.025,0.006,16.7,0.3,1,30.1,1,35,14.2,33.3,0,0,\\n2020-11-23 12:20:00,0.01,0.006,16.7,0.3,1,30.3,1,34,14.2,33.4,0,0,\\n2020-11-23 12:25:00,-0.005,0.006,16.7,0.3,1,30,1,34,14.2,33.4,0,0,\\n2020-11-23 12:30:00,0.003,0.006,16.7,0.3,1,29.7,1,34,14.2,33.3,0,0,\\n2020-11-23 12:35:00,0.032,0.006,16.7,0.3,1,29.7,1,34,14.2,33.3,0,0,\\n2020-11-23 12:40:00,0.014,0.006,16.7,0.3,1,30.2,1,34,14.2,33.3,0,0,\\n2020-11-23 12:45:00,-0.005,0.006,16.7,0.3,1,30.6,1,35,14.2,33.4,0,0,\\n2020-11-23 12:50:00,-0.005,0.006,16.7,0.3,1,30.9,1,34,14.2,33.5,0,0,\\n2020-11-23 12:55:00,0.005,0.006,16.7,0.3,1,30.5,1,34,14.2,33.5,0,0,\\n2020-11-23 13:00:00,0.036,0.005,16.7,0.3,1,30.1,1,34,14.2,33.5,0,0,\\n2020-11-23 13:05:00,0.017,0.005,16.7,0.3,1,29.9,1,34,14.2,33.5,0,0,\\n2020-11-23 13:10:00,0.053,0.005,16.7,0.3,1,30.6,1,34,14.2,33.5,0,0,\\n2020-11-23 13:15:00,-0.005,0.005,16.7,0.3,1,30.9,1,34,14.2,33.6,0,0,\\n2020-11-23 13:20:00,-0.005,0.005,16.7,0.3,1,30.4,1,34,14.2,33.6,0,0,\\n2020-11-23 13:25:00,0.045,0.005,16.7,0.3,1,29.8,1,34,14.2,33.5,0,0,\\n2020-11-23 13:30:00,0.01,0.005,16.7,0.3,1,29.4,1,34,14.2,33.4,0,0,\\n2020-11-23 13:35:00,0.01,0.005,16.7,0.3,1,29.6,1,35,14.2,33.3,0,0,\\n2020-11-23 13:40:00,0.029,0.005,16.7,0.3,1,30.1,1,35,14.2,33.3,0,0,\\n2020-11-23 13:45:00,0.011,0.005,16.7,0.3,1,30.3,1,35,14.2,33.3,0,0,\\n2020-11-23 13:50:00,-0.005,0.005,16.7,0.3,1,31,1,35,14.2,33.3,0,0,\\n2020-11-23 13:55:00,-0.005,0.005,16.7,0.3,1,31.1,1,34,14.2,33.4,0,0,\\n2020-11-23 14:00:00,0,0.005,16.7,0.3,1,31.3,1,35,14.2,33.5,0,0,\\n2020-11-23 14:05:00,-0.005,0.005,16.7,0.3,1,31.1,1,34,14.3,33.5,0,0,\\n2020-11-23 14:10:00,0.006,0.005,16.7,0.3,1,30.9,1,34,14.3,33.5,0,0,\\n2020-11-23 14:15:00,0.046,0.005,16.7,0.3,1,30.8,1,34,14.3,33.6,0,0,\\n2020-11-23 14:20:00,0.006,0.005,16.7,0.3,1,30.3,1,34,14.3,33.5,0,0,\\n2020-11-23 14:25:00,0.018,0.005,16.7,0.3,1,30.1,1,34,14.3,33.4,0,0,\\n2020-11-23 14:30:00,0.03,0.005,16.7,0.3,1,30.8,1,35,14.3,33.4,0,0,\\n2020-11-23 14:35:00,-0.005,0.005,16.7,0.3,1,31.5,1,34,14.3,33.4,0,0,\\n2020-11-23 14:40:00,-0.005,0.005,16.7,0.3,1,31.4,1,33,14.3,33.5,0,0,\\n2020-11-23 14:45:00,0.026,0.005,16.7,0.3,1,31.1,1,34,14.2,33.5,0,0,\\n2020-11-23 14:50:00,-0.005,0.005,16.7,0.3,1,31.9,1,34,14.2,33.6,0,0,\\n2020-11-23 14:55:00,0.018,0.005,16.7,0.3,1,32.1,1,33,14.2,33.7,0,0,\\n2020-11-23 15:00:00,0.023,0.013,16.7,0.3,1,31.2,1,32,14.3,33.7,0,0,\\n2020-11-23 15:05:00,0,0,14.4,0.3,1,29.8,0,33,14.1,33.7,256,0,\\n2020-11-23 15:10:00,-0.005,0,16.7,0.3,1,31.1,1,34,14.3,33.5,256,0,\\n2020-11-23 15:15:00,-0.005,0,16.7,0.3,1,31.6,1,33,14.4,33.7,256,0,\\n2020-11-23 15:20:00,-0.005,0,16.7,0.3,1,31.7,1,32,14.4,33.8,256,0,\\n2020-11-23 15:25:00,-0.001,0,16.7,0.3,1,31.8,1,31,14.4,33.9,256,0,\\n2020-11-23 15:30:00,0.025,0,16.7,0.3,1,32.4,1,33,14.4,34,256,0,\\n2020-11-23 15:35:00,0.019,0,16.7,0.3,1,32.8,1,32,14.4,34.2,256,0,\\n2020-11-23 15:40:00,-0.005,0,16.7,0.3,1,32.5,1,31,14.3,34.3,256,0,\\n2020-11-23 15:45:00,-0.005,0,16.7,0.3,1,32,1,31,14.3,34.4,256,0,\\n2020-11-23 15:50:00,0.024,0,16.7,0.3,1,31.7,1,32,14.3,34.4,256,0,\\n2020-11-23 15:55:00,0.056,0,16.7,0.3,1,31,1,32,14.3,34.3,256,0,\\n2020-11-23 16:00:00,0.051,0.01,16.7,0.3,1,30.4,1,32,14.3,34.1,256,0,\\n2020-11-23 16:05:00,0.035,0.01,16.7,0.3,1,30,1,32,14.3,33.9,256,0,\\n2020-11-23 16:10:00,0.029,0.01,16.7,0.3,1,29.6,1,32,14.3,33.7,256,0,\\n2020-11-23 16:15:00,0.048,0.01,16.7,0.3,1,29.2,1,33,14.3,33.4,256,0,\\n2020-11-23 16:20:00,0.004,0.01,16.7,0.3,1,28.9,1,33,14.3,33.1,256,0,\\n2020-11-23 16:25:00,0.023,0.01,16.7,0.3,1,28.6,1,34,14.3,32.8,256,0,\\n2020-11-23 16:30:00,0.035,0.01,16.7,0.3,1,28.4,1,35,14.3,32.4,256,0,\\n2020-11-23 16:35:00,0.016,0.01,16.7,0.3,1,28.2,1,36,14.2,32.2,256,0,\\n2020-11-23 16:40:00,-0.005,0.01,16.7,0.3,1,28,1,36,14.2,31.9,256,0,\\n2020-11-23 16:45:00,0.03,0.01,16.7,0.3,1,27.9,1,37,14.2,31.7,256,0,\\n2020-11-23 16:50:00,0.05,0.01,16.7,0.3,1,27.8,1,38,14.2,31.5,256,0,\\n2020-11-23 16:55:00,0.047,0.01,16.7,0.3,1,27.8,1,39,14.2,31.3,256,0,\\n2020-11-23 17:00:00,0.012,0.012,16.7,0.3,1,27.7,1,39,14.2,31.1,0,0,\\n2020-11-23 17:05:00,-0.005,0.012,16.7,0.3,1,27.7,1,40,14.2,31,0,0,\\n2020-11-23 17:10:00,-0.003,0.012,16.7,0.3,1,27.6,1,40,14.2,30.8,0,0,\\n2020-11-23 17:15:00,0.061,0.012,16.7,0.3,1,27.6,1,41,14.2,30.7,0,0,\\n2020-11-23 17:20:00,0.053,0.012,16.7,0.3,1,27.6,1,42,14.2,30.6,0,0,\\n2020-11-23 17:25:00,0.018,0.012,16.7,0.3,1,27.5,1,42,14.2,30.5,0,0,\\n2020-11-23 17:30:00,-0.005,0.012,16.7,0.3,1,27.6,1,42,14.2,30.4,0,0,\\n2020-11-23 17:35:00,0.005,0.012,16.7,0.3,1,27.4,1,42,14.2,30.3,0,0,\\n2020-11-23 17:40:00,0.028,0.012,16.7,0.3,1,27.2,1,42,14.2,30.2,0,0,\\n2020-11-23 17:45:00,0.034,0.012,16.7,0.3,1,26.9,1,43,14.2,30.1,0,0,\\n2020-11-23 17:50:00,0.026,0.012,16.7,0.3,1,26.9,1,43,14.2,30,0,0,\\n2020-11-23 17:55:00,0.073,0.012,16.7,0.3,1,27,1,43,14.2,29.9,0,0,\\n2020-11-23 18:00:00,-0.005,0.023,16.7,0.3,1,27.2,1,43,14.2,29.8,0,0,\\n2020-11-23 18:05:00,-0.005,0.023,15.7,0.3,1,27.4,1,43,14.3,29.8,0,0,\\n2020-11-23 18:10:00,-0.005,0.023,16.7,0.3,1,27.5,1,44,14.2,29.8,0,0,\\n2020-11-23 18:15:00,-0.005,0.023,16.7,0.3,1,27.4,1,44,14.2,29.7,0,0,\\n2020-11-23 18:20:00,0.045,0.023,16.7,0.3,1,27.2,1,44,14.3,29.7,0,0,\\n2020-11-23 18:25:00,0.04,0.023,16.7,0.3,1,26.9,1,44,14.3,29.6,0,0,\\n2020-11-23 18:30:00,0.052,0.023,16.7,0.3,1,26.6,1,44,14.2,29.6,0,0,\\n2020-11-23 18:35:00,0.02,0.023,16.7,0.3,1,26.3,1,44,14.2,29.5,0,0,\\n2020-11-23 18:40:00,0.006,0.023,16.7,0.3,1,26,1,44,14.2,29.4,0,0,\\n2020-11-23 18:45:00,0.088,0.023,16.7,0.3,1,25.8,1,45,14.1,29.3,0,0,\\n2020-11-23 18:50:00,0.002,0.023,16.7,0.3,1,25.7,1,45,14.2,29.6,0,0,\\n2020-11-23 18:55:00,-0.005,0.023,16.7,0.3,1,25.6,1,45,13.8,30.3,0,0,\\n2020-11-23 19:00:00,-0.005,0.008,16.7,0.3,1,25.7,1,45,14.1,31.1,0,0,\\n2020-11-23 19:05:00,0.043,0.008,16.7,0.3,1,25.8,1,45,14.3,30.7,0,0,\\n2020-11-23 19:10:00,0.184,0.008,16.7,0.3,1,25.8,1,45,14.2,30.4,0,0,\\n2020-11-23 19:15:00,0.081,0.008,16.7,0.3,1,25.9,1,45,14.3,30.1,0,0,\\n2020-11-23 19:20:00,0.014,0.008,16.7,0.3,1,25.9,1,45,14,30.2,0,0,\\n2020-11-23 19:25:00,-0.005,0.008,16.7,0.3,1,25.8,1,45,14.2,30.5,0,0,\\n2020-11-23 19:30:00,0.008,0.008,16.7,0.3,1,25.8,1,45,14,30.7,0,0,\\n2020-11-23 19:35:00,-0.005,0.008,16.7,0.3,1,25.7,1,45,14,31.4,0,0,\\n2020-11-23 19:40:00,-0.005,0.008,16.7,0.3,1,25.4,1,45,14.2,31.2,0,0,\\n2020-11-23 19:45:00,0.119,0.008,16.7,0.3,1,25,1,45,13.9,31.3,0,0,\\n2020-11-23 19:50:00,-0.005,0.008,16.7,0.3,1,24.7,1,45,14.2,31.5,0,0,\\n2020-11-23 19:55:00,0.071,0.008,16.7,0.3,1,24.5,1,45,14.2,31,0,0,\\n2020-11-23 20:00:00,0.095,0.033,16.7,0.3,1,24.4,1,45,14,31,0,0,\\n2020-11-23 20:05:00,-0.005,0.033,16.7,0.3,1,24.3,1,45,13.9,31.6,0,0,\\n2020-11-23 20:10:00,-0.005,0.033,16.7,0.3,1,24.2,1,45,13.9,32,0,0,\\n2020-11-23 20:15:00,0.03,0.033,16.7,0.3,1,24.2,1,45,14,32.1,0,0,\\n2020-11-23 20:20:00,0.099,0.033,16.7,0.3,1,24.1,1,45,14.1,31.9,0,0,\\n2020-11-23 20:25:00,0.093,0.033,16.7,0.3,1,24.1,1,45,13.9,31.7,0,0,\\n2020-11-23 20:30:00,-0.005,0.033,16.7,0.3,1,24.2,1,45,13.9,32.1,0,0,\\n2020-11-23 20:35:00,-0.005,0.033,16.7,0.3,1,24.2,1,45,14.1,32,0,0,\\n2020-11-23 20:40:00,0.116,0.033,16.7,0.3,1,24.1,1,45,14,31.8,0,0,\\n2020-11-23 20:45:00,0.084,0.033,16.7,0.3,1,24.1,1,45,14,31.8,0,0,\\n2020-11-23 20:50:00,0.001,0.033,16.7,0.3,1,24,1,45,14.1,31.6,0,0,\\n2020-11-23 20:55:00,0.014,0.033,16.7,0.3,1,24.1,1,45,13.9,31.6,0,0,\\n2020-11-23 21:00:00,-0.005,0.017,16.7,0.3,1,24,1,45,14,32,0,0,\\n2020-11-23 21:05:00,0.048,0.017,16.7,0.3,1,23.9,1,45,14.2,31.6,0,0,\\n2020-11-23 21:10:00,0.163,0.017,16.7,0.3,1,23.6,1,45,14.2,31,0,0,\\n2020-11-23 21:15:00,0.098,0.017,16.7,0.3,1,23.4,1,45,14.1,31,0,0,\\n2020-11-23 21:20:00,-0.005,0.017,16.7,0.3,1,23.3,1,45,14.2,30.9,0,0,\\n2020-11-23 21:25:00,0.025,0.017,16.7,0.3,1,23.2,1,45,14.1,30.8,0,0,\\n2020-11-23 21:30:00,-0.005,0.017,16.7,0.3,1,23.2,1,45,14,31,0,0,\\n2020-11-23 21:35:00,-0.005,0.017,16.7,0.3,1,23.3,1,45,14,31.5,0,0,\\n2020-11-23 21:40:00,0.003,0.017,16.7,0.3,1,23.2,1,45,14.2,31.3,0,0,\\n2020-11-23 21:45:00,0.132,0.017,16.7,0.3,1,23.1,1,45,14,31,0,0,\\n2020-11-23 21:50:00,0.014,0.017,16.7,0.3,1,23,1,45,14,31.1,0,0,\\n2020-11-23 21:55:00,-0.005,0.017,16.7,0.3,1,23,0,45,14.2,30.8,0,0,\\n2020-11-23 22:00:00,0.116,0.03,16.7,0.3,1,23,1,45,14.1,30.5,0,0,\\n2020-11-23 22:05:00,-0.005,0.03,16.7,0.3,1,23,1,45,14.1,30.7,0,0,\\n2020-11-23 22:10:00,0,0.03,16.7,0.3,1,22.8,1,45,14.1,30.5,0,0,\\n2020-11-23 22:15:00,0.012,0.03,16.7,0.3,1,22.8,1,45,14,30.7,0,0,\\n2020-11-23 22:20:00,-0.005,0.03,16.7,0.3,1,22.9,1,45,14.1,30.9,0,0,\\n2020-11-23 22:25:00,0.045,0.03,16.7,0.3,1,22.8,1,45,14.1,30.5,0,0,\\n2020-11-23 22:30:00,0.09,0.03,16.7,0.3,1,22.7,1,45,14.2,30.2,0,0,\\n2020-11-23 22:35:00,0.065,0.03,16.7,0.3,1,22.6,1,45,14,30.1,0,0,\\n2020-11-23 22:40:00,0.003,0.03,16.7,0.3,1,22.6,1,45,14.1,30.3,0,0,\\n2020-11-23 22:45:00,-0.005,0.03,16.7,0.3,1,22.6,1,45,14.1,30.1,0,0,\\n2020-11-23 22:50:00,0.061,0.03,16.7,0.3,1,22.4,1,45,14.1,30.1,0,0,\\n2020-11-23 22:55:00,-0.005,0.03,16.7,0.3,1,22.4,1,45,14,30.3,0,0,\\n2020-11-23 23:00:00,-0.005,0,16.7,0.3,1,22.5,1,45,13.9,30.7,0,0,\\n2020-11-23 23:05:00,-0.005,0,16.7,0.3,1,22.7,1,45,13.9,31.1,0,0,\\n2020-11-23 23:10:00,0.012,0,16.7,0.3,1,22.8,1,45,14.1,30.9,0,0,\\n2020-11-23 23:15:00,0.154,0,16.7,0.3,1,22.8,1,45,14,30.6,0,0,\\n2020-11-23 23:20:00,0.049,0,16.7,0.3,1,22.7,1,45,14.1,30.6,0,0,\\n2020-11-23 23:25:00,0.064,0,16.7,0.3,1,22.6,1,45,14.1,30.4,0,0,\\n2020-11-23 23:30:00,0.014,0,16.7,0.3,1,22.6,1,45,14.1,30.3,0,0,\\n2020-11-23 23:35:00,-0.005,0,16.7,0.3,1,22.5,1,45,14.1,30.4,0,0,\\n2020-11-23 23:40:00,-0.005,0,16.7,0.3,1,22.4,1,45,14.1,30.4,0,0,\\n2020-11-23 23:45:00,0.038,0,16.7,0.3,1,22.3,1,45,14.2,30.2,0,0,\\n2020-11-23 23:50:00,0.095,0,16.7,0.3,1,22.2,1,45,14.2,30,0,0,\\n2020-11-23 23:55:00,0.03,0,16.7,0.3,1,22.2,1,45,14.2,29.9,0,0,\\n2020-11-24 00:00:00,0.016,0.032,16.7,0.3,1,22.1,0,45,14.1,29.7,0,0,\\n2020-11-24 00:05:00,0.027,0.032,15.7,0.3,1,22.1,1,46,13.9,30.1,0,0,\\n2020-11-24 00:10:00,-0.005,0.032,16.7,0.3,1,22,1,46,13.8,30.9,0,0,\\n2020-11-24 00:15:00,-0.005,0.032,16.7,0.3,1,21.9,1,45,14.2,30.9,0,0,\\n2020-11-24 00:20:00,0.121,0.032,16.7,0.3,1,21.8,1,45,14.1,30.5,0,0,\\n2020-11-24 00:25:00,0.073,0.032,16.7,0.3,1,21.7,1,45,14.2,30.2,0,0,\\n2020-11-24 00:30:00,0.047,0.032,16.7,0.3,1,21.7,1,45,14,30.1,0,0,\\n2020-11-24 00:35:00,-0.005,0.032,16.7,0.3,1,21.7,1,45,14.1,30.4,0,0,\\n2020-11-24 00:40:00,-0.005,0.032,16.7,0.3,1,21.5,1,45,14.1,30.2,0,0,\\n2020-11-24 00:45:00,0.038,0.032,16.7,0.3,1,21.5,1,45,13.9,30.2,0,0,\\n2020-11-24 00:50:00,-0.005,0.032,16.7,0.3,1,21.6,1,45,14.1,30.5,0,0,\\n2020-11-24 00:55:00,0.005,0.032,16.7,0.3,1,21.6,1,45,14.1,30.3,0,0,\\n2020-11-24 01:00:00,0.091,0.015,16.7,0.3,1,21.5,1,45,14.1,30.1,0,0,\\n2020-11-24 01:05:00,-0.003,0.015,16.7,0.3,1,21.4,1,45,14.1,30,0,0,\\n2020-11-24 01:10:00,0.022,0.015,16.7,0.3,1,21.3,1,45,14.2,29.9,0,0,\\n2020-11-24 01:15:00,0.017,0.015,16.7,0.3,1,21.2,1,45,14.1,29.9,0,0,\\n2020-11-24 01:20:00,0.025,0.015,16.7,0.3,1,21.1,1,45,14.2,29.6,0,0,\\n2020-11-24 01:25:00,0.059,0.015,16.7,0.3,1,21.1,1,45,14,29.4,0,0,\\n2020-11-24 01:30:00,-0.005,0.015,16.7,0.3,1,21.1,1,45,14,30,0,0,\\n2020-11-24 01:35:00,-0.005,0.015,16.7,0.3,1,21.1,1,45,14.2,29.7,0,0,\\n2020-11-24 01:40:00,0.061,0.015,16.7,0.3,1,21,1,45,14.2,29.4,0,0,\\n2020-11-24 01:45:00,0.081,0.015,16.7,0.3,1,20.9,1,45,14.1,29.2,0,0,\\n2020-11-24 01:50:00,-0.005,0.015,16.7,0.3,1,20.9,1,45,14.1,29.3,0,0,\\n2020-11-24 01:55:00,-0.005,0.015,16.7,0.3,1,20.9,1,45,14,29.5,0,0,\\n2020-11-24 02:00:00,-0.005,0.011,16.7,0.3,1,20.9,1,45,14.2,29.4,0,0,\\n2020-11-24 02:05:00,0.04,0.011,16.7,0.3,1,20.8,1,45,14.2,29,0,0,\\n2020-11-24 02:10:00,0.048,0.011,16.7,0.3,1,20.8,1,45,14,29.1,0,0,\\n2020-11-24 02:15:00,-0.005,0.011,16.7,0.3,1,20.7,1,45,14.2,29.2,0,0,\\n2020-11-24 02:20:00,0.065,0.011,16.7,0.3,1,20.6,1,45,14.2,29.1,0,0,\\n2020-11-24 02:25:00,0.081,0.011,16.7,0.3,1,20.5,1,45,14.2,28.8,0,0,\\n2020-11-24 02:30:00,0.034,0.011,16.7,0.3,1,20.4,0,45,14.2,28.7,0,0,\\n2020-11-24 02:35:00,-0.005,0.011,16.7,0.3,1,20.4,1,45,14.1,29,0,0,\\n2020-11-24 02:40:00,-0.005,0.011,16.7,0.3,1,20.3,0,45,14.2,28.7,0,0,\\n2020-11-24 02:45:00,0.129,0.011,16.7,0.3,1,20.3,1,45,14.1,28.4,0,0,\\n2020-11-24 02:50:00,0.017,0.011,16.7,0.3,1,20.4,1,45,14,28.9,0,0,\\n2020-11-24 02:55:00,-0.005,0.011,16.7,0.3,1,20.3,1,45,14.2,28.9,0,0,\\n2020-11-24 03:00:00,0.078,0.018,16.7,0.3,1,20.2,1,45,14.2,28.6,0,0,\\n2020-11-24 03:05:00,0.041,0.018,16.7,0.3,1,20.2,1,45,14.1,28.6,0,0,\\n2020-11-24 03:10:00,-0.005,0.018,16.7,0.3,1,20.1,1,45,14.2,28.7,0,0,\\n2020-11-24 03:15:00,0.065,0.018,16.7,0.3,1,20.1,1,45,14.1,28.5,0,0,\\n2020-11-24 03:20:00,0.019,0.018,16.7,0.3,1,20.1,0,45,14.3,28.5,0,0,\\n2020-11-24 03:25:00,0.037,0.018,16.7,0.3,1,20.1,1,45,14.1,28.4,0,0,\\n2020-11-24 03:30:00,0.002,0.018,16.7,0.3,1,20,1,45,14.2,28.3,0,0,\\n2020-11-24 03:35:00,-0.005,0.018,16.7,0.3,1,20,1,45,14.2,28.4,0,0,\\n2020-11-24 03:40:00,0.03,0.018,16.7,0.3,1,20,1,45,14.2,28.2,0,0,\\n2020-11-24 03:45:00,0.104,0.018,16.7,0.3,1,19.9,1,45,14.1,27.9,0,0,\\n2020-11-24 03:50:00,-0.005,0.018,16.7,0.3,1,19.9,1,45,14.1,28,0,0,\\n2020-11-24 03:55:00,-0.005,0.018,16.7,0.3,1,19.9,1,45,14.1,28.1,0,0,\\n2020-11-24 04:00:00,-0.003,0.016,16.7,0.3,1,19.8,0,45,14.1,28,0,0,\\n2020-11-24 04:05:00,0.038,0.016,16.7,0.3,1,19.8,1,45,14.2,28,0,0,\\n2020-11-24 04:10:00,0.018,0.016,16.7,0.3,1,19.7,1,45,14.2,27.8,0,0,\\n2020-11-24 04:15:00,0.049,0.016,16.7,0.3,1,19.5,1,45,14.2,27.6,0,0,\\n2020-11-24 04:20:00,0.061,0.016,16.7,0.3,1,19.5,1,45,14.1,27.5,0,0,\\n2020-11-24 04:25:00,-0.005,0.016,16.7,0.3,1,19.5,1,45,14.2,27.7,0,0,\\n2020-11-24 04:30:00,-0.005,0.016,16.7,0.3,1,19.4,1,45,14.2,27.5,0,0,\\n2020-11-24 04:35:00,0.075,0.016,16.7,0.3,1,19.3,1,45,14.2,27.3,0,0,\\n2020-11-24 04:40:00,0.065,0.016,16.7,0.3,1,19.3,1,45,14.1,27.3,0,0,\\n2020-11-24 04:45:00,-0.005,0.016,16.7,0.3,1,19.3,1,45,14.2,27.4,0,0,\\n2020-11-24 04:50:00,-0.005,0.016,16.7,0.3,1,19.1,0,44,14.2,27.3,0,0,\\n2020-11-24 04:55:00,0.102,0.016,16.7,0.3,1,19,1,45,14.2,27,0,0,\\n2020-11-24 05:00:00,0.045,0.015,16.7,0.3,1,19,0,45,14.2,26.9,0,0,\\n2020-11-24 05:05:00,0.001,0.015,16.7,0.3,1,18.9,1,45,14.2,26.8,0,0,\\n2020-11-24 05:10:00,-0.005,0.015,16.7,0.3,1,19,1,45,14.1,27.2,0,0,\\n2020-11-24 05:15:00,-0.005,0.015,16.7,0.3,1,19,1,45,14.1,27.1,0,0,\\n2020-11-24 05:20:00,0.035,0.015,16.7,0.3,1,18.9,1,45,14.2,27.1,0,0,\\n2020-11-24 05:25:00,0.043,0.015,16.7,0.3,1,18.9,1,45,14.1,26.9,0,0,\\n2020-11-24 05:30:00,-0.005,0.015,16.7,0.3,1,18.9,1,45,13.9,27.5,0,0,\\n2020-11-24 05:35:00,-0.005,0.015,16.7,0.3,1,19,1,45,13.9,28.1,0,0,\\n2020-11-24 05:40:00,-0.005,0.015,16.7,0.3,1,19.2,1,45,14,28.7,0,0,\\n2020-11-24 05:45:00,-0.005,0.015,16.7,0.3,1,19.5,1,45,14,28.9,0,0,\\n2020-11-24 05:50:00,0.04,0.015,16.7,0.3,1,19.8,1,45,13.8,29.5,0,0,\\n2020-11-24 05:55:00,-0.005,0.015,16.7,0.3,1,20.1,1,45,13.8,30.2,0,0,\\n2020-11-24 06:00:00,-0.005,-0.005,16.7,0.3,1,20.5,1,45,14.2,30.4,0,0,\\n2020-11-24 06:05:00,0.087,-0.005,15.7,0.3,1,20.7,1,46,14,30.2,0,0,\\n2020-11-24 06:10:00,0.007,-0.005,16.7,0.3,1,20.9,1,46,13.8,30.9,0,0,\\n2020-11-24 06:15:00,-0.005,-0.005,16.7,0.3,1,21.2,1,46,13.8,31.6,0,0,\\n2020-11-24 06:20:00,-0.001,-0.005,16.7,0.3,1,21.5,1,46,13.8,32.2,0,0,\\n2020-11-24 06:25:00,0.013,-0.005,16.7,0.3,1,22,1,46,13.8,32.6,0,0,\\n2020-11-24 06:30:00,-0.005,-0.005,16.7,0.3,1,22.5,1,46,13.8,33.2,0,0,\\n2020-11-24 06:35:00,0.011,-0.005,16.7,0.3,1,22.9,1,45,14.1,33.3,0,0,\\n2020-11-24 06:40:00,0.119,-0.005,16.7,0.3,1,23.2,0,44,14.2,32.5,0,0,\\n2020-11-24 06:45:00,0.199,-0.005,16.7,0.3,1,23.3,1,42,14.2,31.9,0,0,\\n2020-11-24 06:50:00,0.057,-0.005,16.7,0.3,1,23.5,1,42,14.2,31.5,0,0,\\n2020-11-24 06:55:00,0.01,-0.005,16.7,0.3,1,23.9,1,43,14.2,31.2,0,0,\\n2020-11-24 07:00:00,0.003,0.019,16.7,0.3,1,24.2,1,43,14.2,31.1,0,0,\\n2020-11-24 07:05:00,-0.005,0.019,16.7,0.3,1,24.5,1,43,14.2,31,0,0,\\n2020-11-24 07:10:00,0.011,0.019,16.7,0.3,1,24.7,1,43,14.2,30.9,0,0,\\n2020-11-24 07:15:00,0.035,0.019,16.7,0.3,1,24.9,1,41,14.2,30.9,0,0,\\n2020-11-24 07:20:00,-0.005,0.019,16.7,0.3,1,25.1,1,41,14.2,30.9,0,0,\\n2020-11-24 07:25:00,-0.005,0.019,16.7,0.3,1,25.4,1,41,14.3,31,0,0,\\n2020-11-24 07:30:00,0.011,0.019,16.7,0.3,1,25.3,1,40,14.3,31,0,0,\\n2020-11-24 07:35:00,-0.005,0.019,16.7,0.3,1,25.8,1,41,14.3,31,0,0,\\n2020-11-24 07:40:00,0.001,0.019,16.7,0.3,1,26.1,1,39,14.3,31.1,0,0,\\n2020-11-24 07:45:00,0.011,0.019,16.7,0.3,1,26.3,1,39,14.2,31.2,0,0,\\n2020-11-24 07:50:00,-0.005,0.019,16.7,0.3,1,25.7,1,38,14.2,31.3,0,0,\\n2020-11-24 07:55:00,0.062,0.019,16.7,0.3,1,25.7,1,39,14.3,31.4,0,0,\\n2020-11-24 08:00:00,0.04,0.013,16.7,0.3,1,26,1,38,14.2,31.5,0,0,\\n2020-11-24 08:05:00,0.011,0.013,16.7,0.3,1,26.6,1,38,14.2,31.6,0,0,\\n2020-11-24 08:10:00,-0.005,0.013,16.7,0.3,1,27,1,38,14.2,31.7,0,0,\\n2020-11-24 08:15:00,0.03,0.013,16.7,0.3,1,27.1,1,37,14.2,31.8,0,0,\\n2020-11-24 08:20:00,0.043,0.013,16.7,0.3,1,26.9,1,36,14.2,31.9,0,0,\\n2020-11-24 08:25:00,-0.005,0.013,16.7,0.3,1,27,1,37,14.2,32,0,0,\\n2020-11-24 08:30:00,0.039,0.013,16.7,0.3,1,27.6,1,37,14.2,32.1,0,0,\\n2020-11-24 08:35:00,0.005,0.013,16.7,0.3,1,27.6,1,36,14.2,32.3,0,0,\\n2020-11-24 08:40:00,-0.005,0.013,16.7,0.3,1,27.2,1,36,14.2,32.3,0,0,\\n2020-11-24 08:45:00,0.018,0.013,16.7,0.3,1,27.5,1,36,14.2,32.4,0,0,\\n2020-11-24 08:50:00,0.051,0.013,16.7,0.3,1,27.9,1,36,14.2,32.5,0,0,\\n2020-11-24 08:55:00,0.016,0.013,16.7,0.3,1,27.8,1,35,14.2,32.7,0,0,\\n2020-11-24 09:00:00,0.02,0.02,16.7,0.3,1,28,1,35,14.2,32.8,0,0,\\n2020-11-24 09:05:00,0.023,0.02,16.7,0.3,1,28.2,1,35,14.2,32.9,0,0,\\n2020-11-24 09:10:00,0.01,0.02,16.7,0.3,1,28.6,1,35,14.2,33,0,0,\\n2020-11-24 09:15:00,0.028,0.02,16.7,0.3,1,29.2,1,36,14.2,33.2,0,0,\\n2020-11-24 09:20:00,0,0.02,16.7,0.3,1,29.4,1,35,14.2,33.3,0,0,\\n2020-11-24 09:25:00,0.001,0.02,16.7,0.3,1,29.1,1,34,14.2,33.4,0,0,\\n2020-11-24 09:30:00,0.039,0.02,16.7,0.3,1,28.9,1,34,14.2,33.5,0,0,\\n2020-11-24 09:35:00,0.007,0.02,16.7,0.3,1,28.9,1,34,14.2,33.5,0,0,\\n2020-11-24 09:40:00,0.034,0.02,16.7,0.3,1,29.2,1,34,14.2,33.5,0,0,\\n2020-11-24 09:45:00,0.03,0.02,16.7,0.3,1,29.6,1,35,14.2,33.6,0,0,\\n2020-11-24 09:50:00,0.012,0.02,16.7,0.3,1,30,1,35,14.2,33.7,0,0,\\n2020-11-24 09:55:00,-0.005,0.02,16.7,0.3,1,30.5,1,35,14.2,33.8,0,0,\\n2020-11-24 10:00:00,0.015,0.013,16.7,0.3,1,31,1,35,14.2,33.9,0,0,\\n2020-11-24 10:05:00,0.019,0.013,16.7,0.3,1,31.4,1,35,14.2,34.1,0,0,\\n2020-11-24 10:10:00,-0.005,0.013,16.7,0.3,1,31.2,1,34,14.2,34.2,0,0,\\n2020-11-24 10:15:00,-0.005,0.013,16.7,0.3,1,30.9,1,34,14.2,34.2,0,0,\\n2020-11-24 10:20:00,0.036,0.013,16.7,0.3,1,31.1,1,34,14.2,34.3,0,0,\\n2020-11-24 10:25:00,0.059,0.013,16.7,0.3,1,31.4,1,34,14.2,34.3,0,0,\\n2020-11-24 10:30:00,0.017,0.013,16.7,0.3,1,31.7,1,34,14.2,34.4,0,0,\\n2020-11-24 10:35:00,-0.005,0.013,16.7,0.3,1,32,1,35,14.2,34.5,0,0,\\n2020-11-24 10:40:00,-0.005,0.013,16.7,0.3,1,32.2,1,34,14.2,34.6,0,0,\\n2020-11-24 10:45:00,0.042,0.013,16.7,0.3,1,32.2,1,34,14.2,34.6,0,0,\\n2020-11-24 10:50:00,0.038,0.013,16.7,0.3,1,32.2,1,34,14.2,34.6,0,0,\\n2020-11-24 10:55:00,0.017,0.013,16.7,0.3,1,32.2,1,34,14.2,34.7,0,0,\\n2020-11-24 11:00:00,-0.004,0.012,16.7,0.3,1,32,1,33,14.2,34.7,0,0,\\n2020-11-24 11:05:00,0.016,0.012,16.7,0.3,1,32.5,1,34,14.2,34.7,0,0,\\n2020-11-24 11:10:00,-0.005,0.012,16.7,0.3,1,32.6,1,33,14.2,34.8,0,0,\\n2020-11-24 11:15:00,0.014,0.012,16.7,0.3,1,32.7,1,34,14.2,34.8,0,0,\\n2020-11-24 11:20:00,-0.004,0.012,16.7,0.3,1,33.1,1,33,14.2,34.8,0,0,\\n2020-11-24 11:25:00,0.032,0.012,16.7,0.3,1,33.2,1,34,14.2,34.9,0,0,\\n2020-11-24 11:30:00,0.04,0.012,16.7,0.3,1,33.5,1,34,14.2,34.9,0,0,\\n2020-11-24 11:35:00,0.026,0.012,16.7,0.3,1,33.8,1,35,14.2,34.9,0,0,\\n2020-11-24 11:40:00,-0.005,0.012,16.7,0.3,1,33.7,1,33,14.2,34.9,0,0,\\n2020-11-24 11:45:00,0.005,0.012,16.7,0.3,1,33.8,1,33,14.2,34.9,0,0,\\n2020-11-24 11:50:00,0.031,0.012,16.7,0.3,1,33.8,1,32,14.2,34.9,0,0,\\n2020-11-24 11:55:00,-0.005,0.012,16.7,0.3,1,33.9,1,32,14.2,35,0,0,\\n2020-11-24 12:00:00,0.022,0.009,16.7,0.3,1,33.9,1,32,14.2,34.9,0,0,\\n2020-11-24 12:05:00,-0.005,0.009,15.7,0.3,1,34,1,34,14.3,34.9,0,0,\\n2020-11-24 12:10:00,-0.005,0.009,16.7,0.3,1,34.2,1,34,14.3,34.9,0,0,\\n2020-11-24 12:15:00,0.014,0.009,16.7,0.3,1,34.1,1,33,14.3,34.8,0,0,\\n2020-11-24 12:20:00,0.044,0.009,16.7,0.3,1,34.1,1,33,14.3,34.7,0,0,\\n2020-11-24 12:25:00,0.002,0.009,16.7,0.3,1,34.1,1,33,14.3,34.7,0,0,\\n2020-11-24 12:30:00,-0.005,0.009,16.7,0.3,1,34.7,1,33,14.3,34.6,0,0,\\n2020-11-24 12:35:00,-0.005,0.009,16.7,0.3,1,34.9,1,32,14.3,34.7,0,0,\\n2020-11-24 12:40:00,0.001,0.009,16.7,0.3,1,33.8,1,32,14.3,34.6,0,0,\\n2020-11-24 12:45:00,0.04,0.009,16.7,0.3,1,33.4,1,34,14.3,34.4,0,0,\\n2020-11-24 12:50:00,-0.003,0.009,16.7,0.3,1,34.4,1,32,14.3,34.4,0,0,\\n2020-11-24 12:55:00,-0.001,0.009,16.7,0.3,1,34.8,1,31,14.2,34.4,0,0,\\n2020-11-24 13:00:00,-0.005,0.008,16.7,0.3,1,35,1,31,14.2,34.4,0,0,\\n2020-11-24 13:05:00,0.021,0.008,16.7,0.3,1,35.1,1,31,14.2,34.4,0,0,\\n2020-11-24 13:10:00,0.007,0.008,16.7,0.3,1,35,1,31,14.2,34.4,0,0,\\n2020-11-24 13:15:00,0.022,0.008,16.7,0.3,1,35,1,31,14.2,34.5,0,0,\\n2020-11-24 13:20:00,0.005,0.008,16.7,0.3,1,35,1,30,14.2,34.5,0,0,\\n2020-11-24 13:25:00,-0.005,0.008,16.7,0.3,1,35.3,1,31,14.2,34.6,0,0,\\n2020-11-24 13:30:00,-0.005,0.008,16.7,0.3,1,35.4,1,31,14.2,34.7,0,0,\\n2020-11-24 13:35:00,0.033,0.008,16.7,0.3,1,35.1,1,30,14.2,34.8,0,0,\\n2020-11-24 13:40:00,0.011,0.008,16.7,0.3,1,35.2,1,29,14.2,34.8,0,0,\\n2020-11-24 13:45:00,-0.005,0.008,16.7,0.3,1,35.3,1,30,14.2,34.8,0,0,\\n2020-11-24 13:50:00,0.034,0.008,16.7,0.3,1,34.6,1,30,14.2,34.7,0,0,\\n2020-11-24 13:55:00,0.042,0.008,16.7,0.3,1,35.1,1,31,14.2,34.7,0,0,\\n2020-11-24 14:00:00,0.006,0.009,16.7,0.3,1,35.3,1,29,14.2,34.8,0,0,\\n2020-11-24 14:05:00,-0.004,0.009,16.7,0.3,1,35.6,1,31,14.2,34.8,0,0,\\n2020-11-24 15:50:00,0,0,0,0.3,1,33.9,0,32,14.3,37.7,0,0,\\n2020-11-24 15:55:00,0,0,0,0.3,1,34.6,1,33,14.4,37.8,0,0,\\n2020-11-24 16:00:00,0,0,0,0.3,1,34.9,1,32,14.4,38,0,0,\\n2020-11-24 16:05:00,0,0,0,0.3,1,34,1,33,14.4,38.1,0,0,\\n2020-11-24 16:10:00,0,0,0,0.3,1,32.4,1,33,14.4,38.1,0,0,\\n2020-11-24 16:15:00,0,0,2.9,0.3,1,31.6,1,32,14.4,37.7,0,0,\\n2020-11-24 16:20:00,0,0,0.7,0.3,1,31.2,1,32,14.4,37.2,256,0,\\n2020-11-24 16:25:00,0,0,16.7,0.3,1,31.9,1,31,14.4,36.5,256,0,\\n2020-11-24 16:30:00,0.008,0,16.7,0.3,1,32.6,1,30,14.4,36.1,256,0,\\n2020-11-24 16:35:00,-0.005,0,16.7,0.3,1,32.9,1,30,14.4,35.8,256,0,\\n2020-11-24 16:40:00,-0.005,0,16.7,0.3,1,33,1,30,14.4,35.7,256,0,\\n2020-11-24 16:45:00,-0.005,0,16.7,0.3,1,33,1,30,14.4,35.5,256,0,\\n2020-11-24 16:50:00,-0.005,0,16.7,0.3,1,33,1,30,14.4,35.4,256,0,\\n2020-11-24 16:55:00,0.035,0,16.7,0.3,1,33,1,31,14.4,35.2,256,0,\\n2020-11-24 17:00:00,-0.005,-0.005,16.7,0.3,1,33.2,1,32,14.4,35.1,256,0,\\n2020-11-24 17:05:00,-0.002,-0.005,16.7,0.3,1,33.3,1,32,14.4,35,256,0,\\n2020-11-24 17:10:00,0.009,-0.005,16.7,0.3,1,33.3,1,32,14.4,34.8,256,0,\\n2020-11-24 17:15:00,0.017,-0.005,16.7,0.3,1,33,1,33,14.4,34.6,256,0,\\n2020-11-24 17:20:00,-0.004,-0.005,16.7,0.3,1,33,1,34,14.4,34.4,256,0,\\n2020-11-24 17:25:00,0.015,-0.005,16.7,0.3,1,32.8,1,36,14.4,34.3,256,0,\\n2020-11-24 17:30:00,-0.005,-0.005,16.7,0.3,1,32.6,1,37,14.4,34.1,256,0,\\n2020-11-24 17:35:00,0.007,-0.005,16.7,0.3,1,32.5,1,37,14.4,33.9,256,0,\\n2020-11-24 17:40:00,-0.001,-0.005,16.7,0.3,1,32.4,1,38,14.4,33.8,256,0,\\n2020-11-24 17:45:00,-0.005,-0.005,16.7,0.3,1,32.4,1,38,14.4,33.7,256,0,\\n2020-11-24 17:50:00,0.024,-0.005,16.7,0.3,1,32.2,1,36,14.4,33.5,256,0,\\n2020-11-24 17:55:00,0.022,-0.005,16.7,0.3,1,31.9,1,35,14.4,33.3,256,0,\\n2020-11-24 18:00:00,-0.005,0.006,16.7,0.3,1,31.7,1,36,14.4,33.2,0,0,\\n2020-11-24 18:05:00,-0.005,0.006,15.8,0.3,1,31.4,1,37,14.4,33,0,0,\\n2020-11-24 18:10:00,0.002,0.006,16.7,0.3,1,31.2,1,38,14.4,32.9,0,0,\\n2020-11-24 18:15:00,0.014,0.006,16.7,0.3,1,30.9,1,36,14.4,32.7,0,0,\\n2020-11-24 18:20:00,0.002,0.006,16.7,0.3,1,30.7,1,36,14.4,32.5,0,0,\\n2020-11-24 18:25:00,0.014,0.006,16.7,0.3,1,30.4,1,38,14.4,32.3,0,0,\\n2020-11-24 18:30:00,0.043,0.006,16.7,0.3,1,30,1,39,14.4,32.1,0,0,\\n2020-11-24 18:35:00,-0.005,0.006,16.7,0.3,1,29.6,1,40,14.4,31.9,0,0,\\n2020-11-24 18:40:00,-0.005,0.006,16.7,0.3,1,29.1,1,41,14.4,31.6,0,0,\\n2020-11-24 18:45:00,-0.005,0.006,16.7,0.3,1,28.6,1,41,14.4,31.4,0,0,\\n2020-11-24 18:50:00,0.026,0.006,16.7,0.3,1,28.3,1,42,14.4,31.2,0,0,\\n2020-11-24 18:55:00,0.024,0.006,16.7,0.3,1,28.1,1,42,14.4,31,0,0,\\n2020-11-24 19:00:00,0.034,0.006,16.7,0.3,1,27.9,1,43,14.4,30.8,0,0,\\n2020-11-24 19:05:00,-0.005,0.006,16.7,0.3,1,27.7,1,43,14.4,30.6,0,0,\\n2020-11-24 19:10:00,-0.005,0.006,16.7,0.3,1,27.6,1,43,14.4,30.4,0,0,\\n2020-11-24 19:15:00,0.031,0.006,16.7,0.3,1,27.5,1,42,14.4,30.3,0,0,\\n2020-11-24 19:20:00,0.044,0.006,16.7,0.3,1,27.4,1,41,14.4,30.1,0,0,\\n2020-11-24 19:25:00,0.017,0.006,16.7,0.3,1,27.3,1,40,14.4,30,0,0,\\n2020-11-24 19:30:00,-0.002,0.006,16.7,0.3,1,27.1,1,40,14.4,29.9,0,0,\\n2020-11-24 19:35:00,0.028,0.006,16.7,0.3,1,26.8,1,40,14.3,29.7,0,0,\\n2020-11-24 19:40:00,0.045,0.006,16.7,0.3,1,26.7,1,41,14.3,29.6,0,0,\\n2020-11-24 19:45:00,0.049,0.006,16.7,0.3,1,26.5,1,41,14.3,29.5,0,0,\\n2020-11-24 19:50:00,0.065,0.006,16.7,0.3,1,26.3,1,41,14.3,29.3,0,0,\\n2020-11-24 19:55:00,0.076,0.006,16.7,0.3,1,26,1,41,14.3,29.2,0,0,\\n2020-11-24 20:00:00,0.076,0.034,16.7,0.3,1,25.9,1,42,14.3,29.1,0,0,\\n2020-11-24 20:05:00,0.038,0.034,16.7,0.3,1,25.9,1,42,14.2,29,0,0,\\n2020-11-24 20:10:00,0.008,0.034,16.7,0.3,1,25.9,1,43,14.2,28.9,0,0,\\n2020-11-24 20:15:00,0.005,0.034,16.7,0.3,1,26,0,44,14.2,28.8,0,0,\\n2020-11-24 20:20:00,0.06,0.034,16.7,0.3,1,26,1,44,14.2,28.7,0,0,\\n2020-11-24 20:25:00,0.075,0.034,16.7,0.3,1,25.9,1,45,14.2,28.6,0,0,\\n2020-11-24 20:30:00,0.072,0.034,16.7,0.3,1,25.8,1,45,14.2,28.5,0,0,\\n2020-11-24 20:35:00,0.016,0.034,16.7,0.3,1,25.7,1,45,14.2,28.5,0,0,\\n2020-11-24 20:40:00,0.009,0.034,16.7,0.3,1,25.6,1,45,14,28.8,0,0,\\n2020-11-24 20:45:00,-0.005,0.034,16.7,0.3,1,25.5,1,44,14.2,29.1,0,0,\\n2020-11-24 20:50:00,0.039,0.034,16.7,0.3,1,25.4,1,44,14.2,28.9,0,0,\\n2020-11-24 20:55:00,0.075,0.034,16.7,0.3,1,25.3,1,44,14.2,28.7,0,0,\\n2020-11-24 21:00:00,0.01,0.028,16.7,0.3,1,25.2,1,43,14.2,28.5,0,0,\\n2020-11-24 21:05:00,0.025,0.028,16.7,0.3,1,25.2,1,43,14.2,28.4,0,0,\\n2020-11-24 21:10:00,0.017,0.028,16.7,0.3,1,25.2,1,43,14.2,28.3,0,0,\\n2020-11-24 21:15:00,0.022,0.028,16.7,0.3,1,25.1,1,43,14.2,28.2,0,0,\\n2020-11-24 21:20:00,-0.005,0.028,16.7,0.3,1,25.1,1,43,14.2,28.2,0,0,\\n2020-11-24 21:25:00,-0.005,0.028,16.7,0.3,1,25,1,43,14.2,28.1,0,0,\\n2020-11-24 21:30:00,0.022,0.028,16.7,0.3,1,24.9,1,43,14.2,28.1,0,0,\\n2020-11-24 21:35:00,0.024,0.028,16.7,0.3,1,24.9,1,43,14.2,28.1,0,0,\\n2020-11-24 21:40:00,-0.005,0.028,16.7,0.3,1,24.9,1,43,14.2,28,0,0,\\n2020-11-24 21:45:00,0.002,0.028,16.7,0.3,1,24.9,1,43,14.2,27.9,0,0,\\n2020-11-24 21:50:00,0.012,0.028,16.7,0.3,1,24.9,1,43,14.2,27.9,0,0,\\n2020-11-24 21:55:00,0.001,0.028,16.7,0.3,1,25,1,43,14.2,27.8,0,0,\\n2020-11-24 22:00:00,0.036,0.002,16.7,0.3,1,25,0,43,14.2,27.8,0,0,\\n2020-11-24 22:05:00,0.004,0.002,16.7,0.3,1,24.9,1,43,14.2,27.7,0,0,\\n2020-11-24 22:10:00,0.001,0.002,16.7,0.3,1,24.8,1,43,14.2,27.7,0,0,\\n2020-11-24 22:15:00,-0.001,0.002,16.7,0.3,1,24.7,1,43,14.2,27.7,0,0,\\n2020-11-24 22:20:00,0.007,0.002,16.7,0.3,1,24.7,1,43,14.2,27.6,0,0,\\n2020-11-24 22:25:00,0.043,0.002,16.7,0.3,1,24.4,1,44,14.2,27.6,0,0,\\n2020-11-24 22:30:00,-0.003,0.002,16.7,0.3,1,24.1,0,43,14.2,27.5,0,0,\\n2020-11-24 22:35:00,0.007,0.002,16.7,0.3,1,23.9,1,44,14.2,27.5,0,0,\\n2020-11-24 22:40:00,0.016,0.002,16.7,0.3,1,24,1,44,14.2,27.5,0,0,\\n2020-11-24 22:45:00,-0.001,0.002,16.7,0.3,1,24,0,44,14.2,27.4,0,0,\\n2020-11-24 22:50:00,-0.001,0.002,16.7,0.3,1,23.9,0,44,14.2,27.4,0,0,\\n2020-11-24 22:55:00,0.02,0.002,16.7,0.3,1,23.8,1,44,14.2,27.3,0,0,\\n2020-11-24 23:00:00,0.021,0.014,16.7,0.3,1,23.7,0,44,14.2,27.3,0,0,\\n2020-11-24 23:05:00,0.001,0.014,16.7,0.3,1,23.7,1,44,14.2,27.3,0,0,\\n2020-11-24 23:10:00,-0.005,0.014,16.7,0.3,1,23.6,1,44,14.2,27.3,0,0,\\n2020-11-24 23:15:00,0.023,0.014,16.7,0.3,1,23.4,1,44,14.2,27.3,0,0,\\n2020-11-24 23:20:00,0.03,0.014,16.7,0.3,1,23.3,1,44,14.2,27.2,0,0,\\n2020-11-24 23:25:00,0.008,0.014,16.7,0.3,1,23.1,1,45,14.2,27.2,0,0,\\n2020-11-24 23:30:00,-0.005,0.014,16.7,0.3,1,23.2,1,44,14.2,27.1,0,0,\\n2020-11-24 23:35:00,0.031,0.014,16.7,0.3,1,24.3,1,39,14.2,27.1,0,0,\\n2020-11-24 23:40:00,-0.005,0.014,16.7,0.3,1,24.9,1,37,14.2,27.2,0,0,\\n2020-11-24 23:45:00,-0.005,0.014,16.7,0.3,1,24.8,1,38,14.2,27.2,0,0,\\n2020-11-24 23:50:00,0.003,0.014,16.7,0.3,1,24.4,1,40,14.2,27.2,0,0,\\n2020-11-24 23:55:00,0.011,0.014,16.7,0.3,1,23.9,1,41,14.2,27.2,0,0,\\n2020-11-25 00:00:00,0.029,-0.001,16.7,0.3,1,23.7,0,41,14.2,27.1,0,0,\\n2020-11-25 00:05:00,0.004,-0.001,15.7,0.3,1,23.6,1,41,14.3,27,0,0,\\n2020-11-25 00:10:00,0.017,-0.001,16.7,0.3,1,23.3,1,40,14.3,27,0,0,\\n2020-11-25 00:15:00,-0.001,-0.001,16.7,0.3,1,23,1,39,14.2,27,0,0,\\n2020-11-25 00:20:00,0.014,-0.001,16.7,0.3,1,22.9,1,37,14.2,27,0,0,\\n2020-11-25 00:25:00,0.021,-0.001,16.7,0.3,1,23,0,36,14.2,27,0,0,\\n2020-11-25 00:30:00,-0.005,-0.001,16.7,0.3,1,23,0,34,14.2,26.9,0,0,\\n2020-11-25 00:35:00,-0.005,-0.001,16.7,0.3,1,23.1,1,32,14.2,27,0,0,\\n2020-11-25 00:40:00,-0.005,-0.001,16.7,0.3,1,23.2,0,31,14.2,27,0,0,\\n2020-11-25 00:45:00,0.004,-0.001,16.7,0.3,1,23.3,1,30,14.2,27,0,0,\\n2020-11-25 00:50:00,0.028,-0.001,16.7,0.3,1,23.3,1,30,14.2,27,0,0,\\n2020-11-25 00:55:00,0.015,-0.001,16.7,0.3,1,23.2,1,30,14.2,26.9,0,0,\\n2020-11-25 01:00:00,-0.004,0,16.7,0.3,1,23,1,30,14.2,26.9,0,0,\\n2020-11-25 01:05:00,0.005,0,16.7,0.3,1,22.8,1,31,14.2,26.9,0,0,\\n2020-11-25 01:10:00,0.008,0,16.7,0.3,1,22.7,1,30,14.2,26.9,0,0,\\n2020-11-25 01:15:00,-0.005,0,16.7,0.3,1,22.7,1,29,14.2,26.9,0,0,\\n2020-11-25 01:20:00,0.021,0,16.7,0.3,1,22.6,1,29,14.2,26.8,0,0,\\n2020-11-25 01:25:00,-0.004,0,16.7,0.3,1,22.5,1,29,14.2,26.8,0,0,\\n2020-11-25 01:30:00,0.018,0,16.7,0.3,1,22.1,0,30,14.2,26.8,0,0,\\n2020-11-25 01:35:00,0.032,0,16.7,0.3,1,21.7,1,31,14.2,26.7,0,0,\\n2020-11-25 01:40:00,-0.001,0,16.7,0.3,1,22.2,0,29,14.2,26.7,0,0,\\n2020-11-25 01:45:00,-0.005,0,16.7,0.3,1,22.6,1,29,14.2,26.7,0,0,\\n2020-11-25 01:50:00,-0.005,0,16.7,0.3,1,22.3,1,30,14.2,26.7,0,0,\\n2020-11-25 01:55:00,0.026,0,16.7,0.3,1,21.9,1,30,14.2,26.7,0,0,\\n2020-11-25 02:00:00,0.003,0.006,16.7,0.3,1,21.4,1,30,14.2,26.6,0,0,\\n2020-11-25 02:05:00,0.008,0.006,16.7,0.3,1,21,1,31,14.2,26.5,0,0,\\n2020-11-25 02:10:00,0.049,0.006,16.7,0.3,1,20.7,1,32,14.2,26.5,0,0,\\n2020-11-25 02:15:00,-0.005,0.006,16.7,0.3,1,20.4,1,32,14.2,26.4,0,0,\\n2020-11-25 02:20:00,0.009,0.006,16.7,0.3,1,20.2,1,33,14.2,26.4,0,0,\\n2020-11-25 02:25:00,0,0.006,16.7,0.3,1,19.9,0,34,14.2,26.4,0,0,\\n2020-11-25 02:30:00,0.009,0.006,16.7,0.3,1,19.7,1,34,14.2,26.3,0,0,\\n2020-11-25 02:35:00,0.046,0.006,16.7,0.3,1,19.6,1,35,14.2,26.3,0,0,\\n2020-11-25 02:40:00,-0.005,0.006,16.7,0.3,1,19.5,0,35,14.2,26.2,0,0,\\n2020-11-25 02:45:00,0.028,0.006,16.7,0.3,1,19.7,1,34,14.2,26.2,0,0,\\n2020-11-25 02:50:00,-0.005,0.006,16.7,0.3,1,20,1,34,14.2,26.1,0,0,\\n2020-11-25 02:55:00,-0.005,0.006,16.7,0.3,1,20,1,34,14.2,26.1,0,0,\\n2020-11-25 03:00:00,0.009,0.007,16.7,0.3,1,20,1,33,14.2,26.1,0,0,\\n2020-11-25 03:05:00,0.019,0.007,16.7,0.3,1,19.9,1,34,14.2,26.1,0,0,\\n2020-11-25 03:10:00,-0.005,0.007,16.7,0.3,1,19.8,1,33,14.2,26.1,0,0,\\n2020-11-25 03:15:00,0.016,0.007,16.7,0.3,1,19.6,0,33,14.2,26.1,0,0,\\n2020-11-25 03:20:00,0.014,0.007,16.7,0.3,1,19.5,1,33,14.2,26.1,0,0,\\n2020-11-25 03:25:00,-0.001,0.007,16.7,0.3,1,19.3,0,33,14.2,26,0,0,\\n2020-11-25 03:30:00,0.004,0.007,16.7,0.3,1,19,1,34,14.2,26,0,0,\\n2020-11-25 03:35:00,0.029,0.007,16.7,0.3,1,18.9,1,34,14.2,25.9,0,0,\\n2020-11-25 03:40:00,-0.005,0.007,16.7,0.3,1,19.1,1,33,14.2,25.9,0,0,\\n2020-11-25 03:45:00,0.012,0.007,16.7,0.3,1,19.2,1,33,14.2,25.9,0,0,\\n2020-11-25 03:50:00,0.021,0.007,16.7,0.3,1,19.2,1,33,14.2,25.9,0,0,\\n2020-11-25 03:55:00,0.012,0.007,16.7,0.3,1,19.1,1,33,14.2,25.9,0,0,\\n2020-11-25 04:00:00,-0.001,0.008,16.7,0.3,1,18.9,1,33,14.2,25.9,0,0,\\n2020-11-25 04:05:00,0,0.008,16.7,0.3,1,18.8,1,33,14.2,25.8,0,0,\\n2020-11-25 04:10:00,0.029,0.008,16.7,0.3,1,18.6,0,33,14.2,25.8,0,0,\\n2020-11-25 04:15:00,-0.005,0.008,16.7,0.3,1,18.5,1,34,14.2,25.8,0,0,\\n2020-11-25 04:20:00,0.01,0.008,16.7,0.3,1,18.4,1,33,14.2,25.8,0,0,\\n2020-11-25 04:25:00,0.046,0.008,16.7,0.3,1,18.3,1,33,14.2,25.8,0,0,\\n2020-11-25 04:30:00,-0.005,0.008,16.7,0.3,1,18.3,1,33,14.2,25.7,0,0,\\n2020-11-25 04:35:00,-0.003,0.008,16.7,0.3,1,18.2,0,33,14.2,25.7,0,0,\\n2020-11-25 04:40:00,0.027,0.008,16.7,0.3,1,17.9,1,34,14.2,25.7,0,0,\\n2020-11-25 04:45:00,0.003,0.008,16.7,0.3,1,17.8,1,34,14.2,25.6,0,0,\\n2020-11-25 04:50:00,0.025,0.008,16.7,0.3,1,17.6,1,34,14.2,25.6,0,0,\\n2020-11-25 04:55:00,0.012,0.008,16.7,0.3,1,17.3,0,34,14.2,25.6,0,0,\\n2020-11-25 05:00:00,0.002,0.004,16.7,0.3,1,17.4,1,34,14.2,25.5,0,0,\\n2020-11-25 05:05:00,-0.005,0.004,16.7,0.3,1,17.5,1,33,14.2,25.5,0,0,\\n2020-11-25 05:10:00,0.019,0.004,16.7,0.3,1,17.6,0,33,14.2,25.5,0,0,\\n2020-11-25 05:15:00,0.015,0.004,16.7,0.3,1,17.6,0,33,14.2,25.5,0,0,\\n2020-11-25 05:20:00,0.017,0.004,16.7,0.3,1,17.5,0,33,14.2,25.5,0,0,\\n2020-11-25 05:25:00,0,0.004,16.7,0.3,1,17.4,1,33,14.2,25.5,0,0,\\n2020-11-25 05:30:00,0.011,0.004,16.7,0.3,1,17.2,1,34,14.2,25.5,0,0,\\n2020-11-25 05:35:00,-0.002,0.004,16.7,0.3,1,17.4,1,34,14.2,25.5,0,0,\\n2020-11-25 05:40:00,0.001,0.004,16.7,0.3,1,17.8,0,34,14.2,25.6,0,0,\\n2020-11-25 05:45:00,-0.005,0.004,16.7,0.3,1,18.3,1,33,14.2,25.6,0,0,\\n2020-11-25 05:50:00,-0.005,0.004,16.7,0.3,1,18.8,0,33,14.2,25.8,0,0,\\n2020-11-25 05:55:00,0.026,0.004,16.7,0.3,1,19.1,1,33,14.2,25.9,0,0,\\n2020-11-25 06:00:00,0.007,0.005,16.7,0.3,1,19.4,1,32,14.2,26,0,0,\\n2020-11-25 06:05:00,-0.005,0.005,15.7,0.3,1,19.8,1,32,14.3,26.1,0,0,\\n2020-11-25 06:10:00,-0.005,0.005,16.7,0.3,1,20.1,1,32,14.2,26.3,0,0,\\n2020-11-25 06:15:00,-0.005,0.005,16.7,0.3,1,20.4,1,32,14.2,26.5,0,0,\\n2020-11-25 06:20:00,0.019,0.005,16.7,0.3,1,20.6,1,32,14.2,26.6,0,0,\\n2020-11-25 06:25:00,0.01,0.005,16.7,0.3,1,21,1,32,14.2,26.8,0,0,\\n2020-11-25 06:30:00,0.01,0.005,16.7,0.3,1,21.3,1,31,14.2,27,0,0,\\n2020-11-25 06:35:00,-0.005,0.005,16.7,0.3,1,21.4,0,31,14.2,27.2,0,0,\\n2020-11-25 06:40:00,-0.002,0.005,16.7,0.3,1,21.7,0,31,14.2,27.3,0,0,\\n2020-11-25 06:45:00,0.028,0.005,16.7,0.3,1,21.9,1,31,14.2,27.4,0,0,\\n2020-11-25 06:50:00,0.018,0.005,16.7,0.3,1,22.1,0,30,14.2,27.6,0,0,\\n2020-11-25 06:55:00,-0.005,0.005,16.7,0.3,1,22.5,1,30,14.2,27.7,0,0,\\n2020-11-25 07:00:00,-0.005,-0.002,16.7,0.3,1,22.8,1,29,14.2,27.9,0,0,\\n2020-11-25 07:05:00,0.013,-0.002,16.7,0.3,1,23,1,29,14.2,28.1,0,0,\\n2020-11-25 07:10:00,0,-0.002,16.7,0.3,1,23.3,1,29,14.2,28.2,0,0,\\n2020-11-25 07:15:00,-0.005,-0.002,16.7,0.3,1,23.7,0,29,14.2,28.4,0,0,\\n2020-11-25 07:20:00,-0.005,-0.002,16.7,0.3,1,24.1,1,29,14.2,28.7,0,0,\\n2020-11-25 07:25:00,0.01,-0.002,16.7,0.3,1,24.4,0,29,14.2,28.9,0,0,\\n2020-11-25 07:30:00,0.035,-0.002,16.7,0.3,1,24.5,1,30,14.2,29.1,0,0,\\n2020-11-25 07:35:00,-0.005,-0.002,16.7,0.3,1,24.9,1,31,14.2,29.3,0,0,\\n2020-11-25 07:40:00,0.028,-0.002,16.7,0.3,1,25.2,1,30,14.2,29.6,0,0,\\n2020-11-25 07:45:00,0.005,-0.002,16.7,0.3,1,25.5,1,31,14.2,29.8,0,0,\\n2020-11-25 07:50:00,0.003,-0.002,16.7,0.3,1,26.2,1,32,14.2,30.1,0,0,\\n2020-11-25 07:55:00,0.002,-0.002,16.7,0.3,1,26.9,1,32,14.2,30.4,0,0,\\n2020-11-25 08:00:00,-0.002,0.005,16.7,0.3,1,27.4,1,32,14.2,30.6,0,0,\\n2020-11-25 08:05:00,-0.005,0.005,16.7,0.3,1,27.4,1,31,14.2,30.9,0,0,\\n2020-11-25 08:10:00,-0.004,0.005,16.7,0.3,1,27.2,1,30,14.2,31,0,0,\\n2020-11-25 08:15:00,0.031,0.005,16.7,0.3,1,27.3,1,31,14.2,31.2,0,0,\\n2020-11-25 08:20:00,0.024,0.005,16.7,0.3,1,27.5,1,30,14.2,31.4,0,0,\\n2020-11-25 08:25:00,0.016,0.005,16.7,0.3,1,27.8,1,29,14.2,31.6,0,0,\\n2020-11-25 08:30:00,0.002,0.005,16.7,0.3,1,27.9,1,29,14.2,31.9,0,0,\\n2020-11-25 08:35:00,0.002,0.005,16.7,0.3,1,28,1,28,14.2,32,0,0,\\n2020-11-25 08:40:00,0.004,0.005,16.7,0.3,1,28,1,28,14.2,32.3,0,0,\\n2020-11-25 08:45:00,-0.005,0.005,16.7,0.3,1,28.4,1,28,14.2,32.4,0,0,\\n2020-11-25 08:50:00,0.015,0.005,16.7,0.3,1,28.7,1,28,14.2,32.6,0,0,\\n2020-11-25 08:55:00,0.002,0.005,16.7,0.3,1,28.7,1,27,14.2,32.8,0,0,\\n2020-11-25 09:00:00,0.006,0.01,16.7,0.3,1,28.5,1,27,14.2,32.9,0,0,\\n2020-11-25 09:05:00,0.039,0.01,16.7,0.3,1,28.7,1,27,14.2,33,0,0,\\n2020-11-25 09:10:00,0.003,0.01,16.7,0.3,1,28.9,1,27,14.2,33.2,0,0,\\n2020-11-25 09:15:00,-0.005,0.01,16.7,0.3,1,29,1,26,14.2,33.4,0,0,\\n2020-11-25 09:20:00,0.01,0.01,16.7,0.3,1,29.3,1,25,14.2,33.5,0,0,\\n2020-11-25 09:25:00,0.014,0.01,16.7,0.3,1,29.7,1,25,14.2,33.7,0,0,\\n2020-11-25 09:30:00,0.044,0.01,16.7,0.3,1,29.9,1,25,14.2,33.8,0,0,\\n2020-11-25 09:35:00,-0.005,0.01,16.7,0.3,1,30.3,1,25,14.2,33.9,0,0,\\n2020-11-25 09:40:00,-0.005,0.01,16.7,0.3,1,30.5,1,24,14.2,34,0,0,\\n2020-11-25 09:45:00,0.011,0.01,16.7,0.3,1,30.5,1,25,14.2,34.1,0,0,\\n2020-11-25 09:50:00,0.046,0.01,16.7,0.3,1,30.6,1,24,14.2,34.2,0,0,\\n2020-11-25 09:55:00,0.003,0.01,16.7,0.3,1,31.1,1,25,14.2,34.3,0,0,\\n2020-11-25 10:00:00,0.012,0.008,16.7,0.3,1,31.4,1,25,14.2,34.4,0,0,\\n2020-11-25 10:05:00,-0.005,0.008,16.7,0.3,1,31.6,1,24,14.2,34.5,0,0,\\n2020-11-25 10:10:00,-0.005,0.008,16.7,0.3,1,31.6,1,25,14.2,34.6,0,0,\\n2020-11-25 10:15:00,-0.005,0.008,16.7,0.3,1,31.9,1,24,14.2,34.7,0,0,\\n2020-11-25 10:20:00,0.019,0.008,16.7,0.3,1,31.9,1,24,14.2,34.7,0,0,\\n2020-11-25 10:25:00,0.049,0.008,16.7,0.3,1,31.7,1,24,14.2,34.7,0,0,\\n2020-11-25 10:30:00,-0.005,0.008,16.7,0.3,1,31.7,1,24,14.2,34.7,0,0,\\n2020-11-25 10:35:00,0.018,0.008,16.7,0.3,1,32.1,1,24,14.2,34.7,0,0,\\n2020-11-25 10:40:00,0.014,0.008,16.7,0.3,1,32,1,25,14.2,34.7,0,0,\\n2020-11-25 10:45:00,-0.005,0.008,16.7,0.3,1,32.2,1,25,14.2,34.7,0,0,\\n2020-11-25 10:50:00,0.01,0.008,16.7,0.3,1,32.2,1,24,14.2,34.7,0,0,\\n2020-11-25 10:55:00,0.041,0.008,16.7,0.3,1,32.2,1,24,14.2,34.7,0,0,\\n2020-11-25 11:00:00,-0.004,0.006,16.7,0.3,1,32.4,1,25,14.2,34.6,0,0,\\n2020-11-25 11:05:00,0.023,0.006,16.7,0.3,1,32.1,1,25,14.2,34.6,0,0,\\n2020-11-25 11:10:00,0.016,0.006,16.7,0.3,1,32.5,1,25,14.2,34.6,0,0,\\n2020-11-25 11:15:00,0.012,0.006,16.7,0.3,1,32.8,1,25,14.2,34.6,0,0,\\n2020-11-25 11:20:00,0.021,0.006,16.7,0.3,1,33.3,1,26,14.2,34.6,0,0,\\n2020-11-25 11:25:00,-0.005,0.006,16.7,0.3,1,33,1,25,14.2,34.6,0,0,\\n2020-11-25 11:30:00,0,0.006,16.7,0.3,1,33.3,1,25,14.2,34.6,0,0,\\n2020-11-25 11:35:00,0.007,0.006,16.7,0.3,1,33.5,1,25,14.2,34.6,0,0,\\n2020-11-25 11:40:00,0.029,0.006,16.7,0.3,1,33.1,1,24,14.2,34.5,0,0,\\n2020-11-25 11:45:00,0.001,0.006,16.7,0.3,1,33.4,1,25,14.2,34.5,0,0,\\n2020-11-25 11:50:00,-0.005,0.006,16.7,0.3,1,33.8,1,25,14.2,34.5,0,0,\\n2020-11-25 11:55:00,0.032,0.006,16.7,0.3,1,33.9,1,25,14.2,34.5,0,0,\\n2020-11-25 12:00:00,-0.005,0.008,16.7,0.3,1,33.8,1,25,14.2,34.4,0,0,\\n2020-11-25 12:05:00,-0.001,0.008,15.7,0.3,1,33.8,0,25,14.3,34.4,0,0,\\n2020-11-25 12:10:00,-0.005,0.008,16.7,0.3,1,33.9,1,25,14.2,34.4,0,0,\\n2020-11-25 12:15:00,-0.005,0.008,16.7,0.3,1,33.9,1,24,14.2,34.4,0,0,\\n2020-11-25 12:20:00,0.05,0.008,16.7,0.3,1,34.5,1,25,14.2,34.4,0,0,\\n2020-11-25 12:25:00,-0.005,0.008,16.7,0.3,1,34.8,1,24,14.2,34.4,0,0,\\n2020-11-25 12:30:00,-0.005,0.008,16.7,0.3,1,34.9,1,23,14.2,34.4,0,0,\\n2020-11-25 12:35:00,0.002,0.008,16.7,0.3,1,35.2,1,24,14.3,34.4,0,0,\\n2020-11-25 12:40:00,0.023,0.008,16.7,0.3,1,35.3,1,23,14.2,34.6,0,0,\\n2020-11-25 12:45:00,-0.005,0.008,16.7,0.3,1,34.9,1,23,14.2,34.6,0,0,\\n2020-11-25 12:50:00,-0.005,0.008,16.7,0.3,1,35.1,1,23,14.2,34.7,0,0,\\n2020-11-25 12:55:00,0.031,0.008,16.7,0.3,1,35.4,1,23,14.2,34.7,0,0,\\n2020-11-25 13:00:00,-0.005,-0.002,16.7,0.3,1,35.7,1,22,14.2,34.7,0,0,\\n2020-11-25 13:05:00,-0.005,-0.002,16.7,0.3,1,35.4,1,21,14.2,34.8,0,0,\\n2020-11-25 13:10:00,0.011,-0.002,16.7,0.3,1,35.1,1,21,14.2,34.8,0,0,\\n2020-11-25 13:15:00,0.016,-0.002,16.7,0.3,1,35.3,1,21,14.2,34.8,0,0,\\n2020-11-25 13:20:00,0.01,-0.002,16.7,0.3,1,35,1,21,14.2,34.9,0,0,\\n2020-11-25 13:25:00,-0.001,-0.002,16.7,0.3,1,35.1,1,21,14.2,34.9,0,0,\\n2020-11-25 13:30:00,-0.005,-0.002,16.7,0.3,1,35.4,1,21,14.2,35,0,0,\\n2020-11-25 13:35:00,0.005,-0.002,16.7,0.3,1,35.3,1,21,14.2,35,0,0,\\n2020-11-25 13:40:00,0.021,-0.002,16.7,0.3,1,35.3,1,20,14.2,35.1,0,0,\\n2020-11-25 13:45:00,0.019,-0.002,16.7,0.3,1,35.1,1,21,14.2,35.1,0,0,\\n2020-11-25 13:50:00,-0.005,-0.002,16.7,0.3,1,35.5,1,21,14.2,35.2,0,0,\\n2020-11-25 13:55:00,0.011,-0.002,16.7,0.3,1,36.1,1,21,14.2,35.3,0,0,\\n2020-11-25 14:00:00,-0.005,0.008,16.7,0.3,1,36.2,1,21,14.2,35.4,0,0,\\n2020-11-25 14:05:00,0.003,0.008,16.7,0.3,1,35.9,1,20,14.2,35.5,0,0,\\n2020-11-25 14:10:00,0.005,0.008,16.7,0.3,1,36,1,20,14.2,35.5,0,0,\\n2020-11-25 14:15:00,0,0.008,16.7,0.3,1,36.3,1,21,14.2,35.6,0,0,\\n2020-11-25 14:20:00,-0.005,0.008,16.7,0.3,1,36.2,1,20,14.2,35.7,0,0,\\n2020-11-25 14:25:00,0.017,0.008,16.7,0.3,1,36.2,1,19,14.2,35.7,0,0,\\n2020-11-25 14:30:00,0.015,0.008,16.7,0.3,1,36.1,1,18,14.2,35.7,0,0,\\n2020-11-25 14:35:00,0.035,0.008,16.7,0.3,1,36,1,19,14.2,35.7,0,0,\\n2020-11-25 14:40:00,-0.005,0.008,16.7,0.3,1,36,1,18,14.2,35.7,0,0,\\n2020-11-25 14:45:00,-0.005,0.008,16.7,0.3,1,36.1,1,19,14.2,35.8,0,0,\\n2020-11-25 14:50:00,-0.005,0.008,16.7,0.3,1,36.4,1,19,14.2,35.8,0,0,\\n2020-11-25 14:55:00,0.055,0.008,16.7,0.3,1,36.4,1,18,14.2,35.8,0,0,\\n2020-11-25 15:00:00,-0.005,-0.002,16.7,0.3,1,36.5,1,18,14.2,35.8,0,0,\\n2020-11-25 15:05:00,-0.005,-0.002,16.7,0.3,1,36.4,1,17,14.2,35.8,0,0,\\n2020-11-25 15:10:00,0.015,-0.002,16.7,0.3,1,36.1,1,17,14.2,35.8,0,0,\\n2020-11-25 15:15:00,0.006,-0.002,16.7,0.3,1,35.8,1,17,14.2,35.8,0,0,\\n2020-11-25 15:20:00,0.011,-0.002,16.7,0.3,1,35.9,1,17,14.2,35.7,0,0,\\n2020-11-25 15:25:00,0.01,-0.002,16.7,0.3,1,36.2,1,17,14.2,35.7,0,0,\\n2020-11-25 15:30:00,-0.002,-0.002,16.7,0.3,1,35.9,1,17,14.2,35.7,0,0,\\n2020-11-25 15:35:00,0.014,-0.002,16.7,0.3,1,36.2,1,18,14.2,35.7,0,0,\\n2020-11-25 15:40:00,-0.005,-0.002,16.7,0.3,1,36.3,1,18,14.2,35.7,0,0,\\n2020-11-25 15:45:00,0.021,-0.002,16.7,0.3,1,36.3,1,17,14.2,35.6,0,0,\\n2020-11-25 15:50:00,-0.005,-0.002,16.7,0.3,1,36.3,1,17,14.2,35.6,0,0,\\n2020-11-25 15:55:00,0,-0.002,16.7,0.3,1,35.9,1,16,14.2,35.6,0,0,\\n2020-11-25 16:00:00,0.014,0.004,16.7,0.3,1,35.8,1,17,14.2,35.5,0,0,\\n2020-11-25 16:05:00,-0.003,0.004,16.7,0.3,1,35.9,1,17,14.2,35.4,0,0,\\n2020-11-25 16:10:00,0.005,0.004,16.7,0.3,1,35.9,1,18,14.2,35.4,0,0,\\n2020-11-25 16:15:00,0,0.004,16.7,0.3,1,35.9,1,18,14.2,35.3,0,0,\\n2020-11-25 16:20:00,0.019,0.004,16.7,0.3,1,35.9,1,16,14.2,35.3,0,0,\\n2020-11-25 16:25:00,-0.003,0.004,16.7,0.3,1,35.9,1,15,14.2,35.2,0,0,\\n2020-11-25 16:30:00,0.015,0.004,16.7,0.3,1,36,1,16,14.2,35.2,0,0,\\n2020-11-25 16:35:00,-0.005,0.004,16.7,0.3,1,36,1,16,14.2,35.1,0,0,\\n2020-11-25 16:40:00,-0.003,0.004,16.7,0.3,1,35.7,1,15,14.2,35,0,0,\\n2020-11-25 16:45:00,0.039,0.004,16.7,0.3,1,35.6,1,15,14.2,34.9,0,0,\\n2020-11-25 16:50:00,-0.005,0.004,16.7,0.3,1,35.6,1,16,14.2,34.9,0,0,\\n2020-11-25 16:55:00,0.02,0.004,16.7,0.3,1,35.5,0,15,14.2,34.8,0,0,\\n2020-11-25 17:00:00,0,0.003,16.7,0.3,1,35.3,1,15,14.2,34.7,0,0,\\n2020-11-25 17:05:00,-0.005,0.003,16.7,0.3,1,35.5,1,16,14.2,34.6,0,0,\\n2020-11-25 17:10:00,0.016,0.003,16.7,0.3,1,35.5,1,16,14.2,34.5,0,0,\\n2020-11-25 17:15:00,-0.005,0.003,16.7,0.3,1,35.4,1,17,14.2,34.4,0,0,\\n2020-11-25 17:20:00,-0.001,0.003,16.7,0.3,1,35.2,1,17,14.2,34.3,0,0,\\n2020-11-25 17:25:00,0.015,0.003,16.7,0.3,1,35,1,17,14.2,34.2,0,0,\\n2020-11-25 17:30:00,0.012,0.003,16.7,0.3,1,35,1,17,14.2,34.1,0,0,\\n2020-11-25 17:35:00,-0.002,0.003,16.7,0.3,1,34.9,1,17,14.2,34,0,0,\\n2020-11-25 17:40:00,0.008,0.003,16.7,0.3,1,34.5,1,16,14.2,33.9,0,0,\\n2020-11-25 17:45:00,0.023,0.003,16.7,0.3,1,34.4,1,17,14.2,33.7,0,0,\\n2020-11-25 17:50:00,-0.005,0.003,16.7,0.3,1,34.3,1,17,14.2,33.6,0,0,\\n2020-11-25 17:55:00,-0.005,0.003,16.7,0.3,1,34.1,1,17,14.2,33.5,0,0,\\n2020-11-25 18:00:00,0.017,0.006,16.7,0.3,1,34.1,1,18,14.2,33.4,0,0,\\n2020-11-25 18:05:00,0.028,0.006,15.8,0.3,1,34,1,18,14.2,33.3,0,0,\\n2020-11-25 18:10:00,-0.005,0.006,16.7,0.3,1,33.7,1,18,14.2,33.1,0,0,\\n2020-11-25 18:15:00,-0.005,0.006,16.7,0.3,1,33.6,1,18,14.2,33,0,0,\\n2020-11-25 18:20:00,0.049,0.006,16.7,0.3,1,33.5,1,18,14.2,32.9,0,0,\\n2020-11-25 18:25:00,-0.005,0.006,16.7,0.3,1,33.1,1,18,14.2,32.7,0,0,\\n2020-11-25 18:30:00,0.019,0.006,16.7,0.3,1,32.6,1,19,14.2,32.5,0,0,\\n2020-11-25 18:35:00,-0.004,0.006,16.7,0.3,1,32.2,1,19,14.2,32.3,0,0,\\n2020-11-25 18:40:00,0.014,0.006,16.7,0.3,1,31.8,1,19,14.2,32.1,0,0,\\n2020-11-25 18:45:00,0.039,0.006,16.7,0.3,1,31.3,1,20,14.2,31.9,0,0,\\n2020-11-25 18:50:00,0.019,0.006,16.7,0.3,1,31,1,20,14.2,31.6,0,0,\\n2020-11-25 18:55:00,-0.005,0.006,16.7,0.3,1,30.7,1,20,14.2,31.4,0,0,\\n2020-11-25 19:00:00,0.024,0.009,16.7,0.3,1,30.3,1,21,14.2,31.2,0,0,\\n2020-11-25 19:05:00,-0.005,0.009,16.7,0.3,1,29.9,1,22,14.2,31,0,0,\\n2020-11-25 19:10:00,-0.005,0.009,16.7,0.3,1,29.5,1,22,14.2,30.8,0,0,\\n2020-11-25 19:15:00,0.02,0.009,16.7,0.3,1,29.1,1,22,14.2,30.6,0,0,\\n2020-11-25 19:20:00,0.039,0.009,16.7,0.3,1,28.8,1,22,14.2,30.5,0,0,\\n2020-11-25 19:25:00,0.049,0.009,16.7,0.3,1,28.6,0,22,14.2,30.4,0,0,\\n2020-11-25 19:30:00,0.01,0.009,16.7,0.3,1,28.4,1,22,14.2,30.2,0,0,\\n2020-11-25 19:35:00,0.024,0.009,16.7,0.3,1,28.2,1,22,14.2,30.1,0,0,\\n2020-11-25 19:40:00,0.094,0.009,16.7,0.3,1,27.8,0,23,14.2,29.9,0,0,\\n2020-11-25 19:45:00,0.065,0.009,16.7,0.3,1,27.2,0,26,14.2,29.7,0,0,\\n2020-11-25 19:50:00,0.069,0.009,16.7,0.3,1,26.6,1,28,14.2,29.5,0,0,\\n2020-11-25 19:55:00,0.074,0.009,16.7,0.3,1,26.1,0,28,14.2,29.3,0,0,\\n2020-11-25 20:00:00,0.105,0.052,16.7,0.3,1,25.8,1,28,14.2,29.2,0,0,\\n2020-11-25 20:05:00,0.12,0.052,16.7,0.3,1,25.6,1,28,14.2,29,0,0,\\n2020-11-25 20:10:00,0.105,0.052,16.7,0.3,1,25.9,1,24,14.2,28.9,0,0,\\n2020-11-25 20:15:00,0.052,0.052,16.7,0.3,1,26.3,0,23,14.2,28.7,0,0,\\n2020-11-25 20:20:00,0.004,0.052,16.7,0.3,1,26.6,1,23,14.2,28.6,0,0,\\n2020-11-25 20:25:00,0.021,0.052,16.7,0.3,1,26.7,1,23,14.2,28.5,0,0,\\n2020-11-25 20:30:00,0.029,0.052,16.7,0.3,1,26.6,1,25,14.2,28.4,0,0,\\n2020-11-25 20:35:00,0.024,0.052,16.7,0.3,1,26.3,1,25,14.2,28.3,0,0,\\n2020-11-25 20:40:00,0.056,0.052,16.7,0.3,1,26.2,1,24,14.2,28.2,0,0,\\n2020-11-25 20:45:00,0.05,0.052,16.7,0.3,1,26.2,1,24,14.2,28.2,0,0,\\n2020-11-25 20:50:00,0.034,0.052,16.7,0.3,1,26.2,1,23,14.2,28.2,0,0,\\n2020-11-25 20:55:00,0.053,0.052,16.7,0.3,1,26.2,1,23,14.2,28.1,0,0,\\n2020-11-25 21:00:00,0.028,0.036,16.7,0.3,1,26.3,1,23,14.2,28.1,0,0,\\n2020-11-25 21:05:00,-0.005,0.036,16.7,0.3,1,26.2,0,22,14.2,28,0,0,\\n2020-11-25 21:10:00,0.045,0.036,16.7,0.3,1,26.1,0,22,14.2,27.9,0,0,\\n2020-11-25 21:15:00,0.009,0.036,16.7,0.3,1,26,1,23,14.2,27.9,0,0,\\n2020-11-25 21:20:00,0.005,0.036,16.7,0.3,1,25.5,1,25,14.2,27.9,0,0,\\n2020-11-25 21:25:00,0.038,0.036,16.7,0.3,1,25,1,26,14.2,27.8,0,0,\\n2020-11-25 21:30:00,0.021,0.036,16.7,0.3,1,24.6,1,27,14.2,27.8,0,0,\\n2020-11-25 21:35:00,0.041,0.036,16.7,0.3,1,24.2,0,27,14.2,27.7,0,0,\\n2020-11-25 21:40:00,0.025,0.036,16.7,0.3,1,24.1,1,26,14.2,27.7,0,0,\\n2020-11-25 21:45:00,0.007,0.036,16.7,0.3,1,24,1,26,14.2,27.6,0,0,\\n2020-11-25 21:50:00,0.032,0.036,16.7,0.3,1,23.8,1,26,14.2,27.5,0,0,\\n2020-11-25 21:55:00,0.051,0.036,16.7,0.3,1,23.7,1,27,14.2,27.5,0,0,\\n2020-11-25 22:00:00,0.057,0.037,16.7,0.3,1,23.5,1,28,14.2,27.4,0,0,\\n2020-11-25 22:05:00,0.081,0.037,16.7,0.3,1,23.4,0,29,14.2,27.4,0,0,\\n2020-11-25 22:10:00,0.056,0.037,16.7,0.3,1,23.3,1,29,14.2,27.3,0,0,\\n2020-11-25 22:15:00,0.028,0.037,16.7,0.3,1,23,1,30,14.2,27.3,0,0,\\n2020-11-25 22:20:00,0.016,0.037,16.7,0.3,1,23.7,1,29,14.2,27.3,0,0,\\n2020-11-25 22:25:00,0.043,0.037,16.7,0.3,1,24.2,1,34,14.2,27.3,0,0,\\n2020-11-25 22:30:00,0.019,0.037,16.7,0.3,1,24,1,38,14.2,27.4,0,0,\\n2020-11-25 22:35:00,0.049,0.037,16.7,0.3,1,23.8,1,40,14.2,27.4,0,0,\\n2020-11-25 22:40:00,0.033,0.037,16.7,0.3,1,23.8,1,42,14.2,27.4,0,0,\\n2020-11-25 22:45:00,-0.003,0.037,16.7,0.3,1,23.6,1,42,14.2,27.4,0,0,\\n2020-11-25 22:50:00,0.023,0.037,16.7,0.3,1,23.5,0,42,14.2,27.4,0,0,\\n2020-11-25 22:55:00,0.03,0.037,16.7,0.3,1,23.5,1,43,14.2,27.4,0,0,\\n2020-11-25 23:00:00,0.016,0.022,16.7,0.3,1,23.4,1,43,14.2,27.4,0,0,\\n2020-11-25 23:05:00,0.005,0.022,16.7,0.3,1,23.4,1,43,14.2,27.4,0,0,\\n2020-11-25 23:10:00,0.009,0.022,16.7,0.3,1,23.4,1,43,14.2,27.4,0,0,\\n2020-11-25 23:15:00,0.008,0.022,16.7,0.3,1,23.3,1,43,14.2,27.4,0,0,\\n2020-11-25 23:20:00,0.041,0.022,16.7,0.3,1,23.3,1,43,14.2,27.4,0,0,\\n2020-11-25 23:25:00,-0.005,0.022,16.7,0.3,1,23.2,0,44,14.2,27.4,0,0,\\n2020-11-25 23:30:00,0.022,0.022,16.7,0.3,1,23.2,0,44,14.2,27.3,0,0,\\n2020-11-25 23:35:00,0.009,0.022,16.7,0.3,1,23.1,0,44,14.2,27.3,0,0,\\n2020-11-25 23:40:00,0.033,0.022,16.7,0.3,1,23.1,1,43,14.2,27.3,0,0,\\n2020-11-25 23:45:00,0.044,0.022,16.7,0.3,1,23.1,0,43,14.2,27.3,0,0,\\n2020-11-25 23:50:00,0.011,0.022,16.7,0.3,1,23.1,0,44,14.2,27.3,0,0,\\n2020-11-25 23:55:00,-0.005,0.022,16.7,0.3,1,23.1,1,44,14.2,27.3,0,0,\\n2020-11-26 00:00:00,0.025,0.019,16.7,0.3,1,23.1,1,44,14.2,27.2,0,0,\\n2020-11-26 00:05:00,0.055,0.019,15.7,0.3,1,23.1,1,45,14.1,27.5,0,0,\\n2020-11-26 00:10:00,0.07,0.019,16.7,0.3,1,23.1,1,45,14.3,27.5,0,0,\\n2020-11-26 00:15:00,0.073,0.019,16.7,0.3,1,23,0,45,14.3,27.5,0,0,\\n2020-11-26 00:20:00,0.018,0.019,16.7,0.3,1,22.9,1,45,14.3,27.4,0,0,\\n2020-11-26 00:25:00,0.066,0.019,16.7,0.3,1,22.8,0,45,14.3,27.3,0,0,\\n2020-11-26 00:30:00,0.011,0.019,16.7,0.3,1,22.7,1,45,14.2,27.4,0,0,\\n2020-11-26 00:35:00,-0.005,0.019,16.7,0.3,1,22.6,1,45,14.3,27.5,0,0,\\n2020-11-26 00:40:00,0.032,0.019,16.7,0.3,1,22.5,0,45,14.3,27.4,0,0,\\n2020-11-26 00:45:00,0.01,0.019,16.7,0.3,1,22.4,1,45,14.3,27.3,0,0,\\n2020-11-26 00:50:00,0.029,0.019,16.7,0.3,1,22.2,1,45,14.3,27.2,0,0,\\n2020-11-26 00:55:00,0.03,0.019,16.7,0.3,1,22.1,1,45,14.2,27.2,0,0,\\n2020-11-26 01:00:00,-0.005,0.017,16.7,0.3,1,21.9,0,45,14.3,27.3,0,0,\\n2020-11-26 01:05:00,-0.005,0.017,16.7,0.3,1,22,0,45,14.3,27.2,0,0,\\n2020-11-26 01:10:00,0.07,0.017,16.7,0.3,1,21.9,1,45,14.3,27.1,0,0,\\n2020-11-26 01:15:00,0.046,0.017,16.7,0.3,1,21.9,1,45,14.3,27,0,0,\\n2020-11-26 01:20:00,-0.001,0.017,16.7,0.3,1,21.7,0,45,14.3,27,0,0,\\n2020-11-26 01:25:00,-0.005,0.017,16.7,0.3,1,21.6,1,45,14.3,26.9,0,0,\\n2020-11-26 01:30:00,0.042,0.017,16.7,0.3,1,21.6,1,45,14.3,26.9,0,0,\\n2020-11-26 01:35:00,0.022,0.017,16.7,0.3,1,21.5,1,45,14.3,26.8,0,0,\\n2020-11-26 01:40:00,-0.005,0.017,16.7,0.3,1,21.3,0,45,14.2,26.8,0,0,\\n2020-11-26 01:45:00,-0.005,0.017,16.7,0.3,1,21.3,1,45,14.3,27,0,0,\\n2020-11-26 01:50:00,0.004,0.017,16.7,0.3,1,21.3,1,45,14.3,27,0,0,\\n2020-11-26 01:55:00,0.04,0.017,16.7,0.3,1,21.2,1,45,14.2,26.9,0,0,\\n2020-11-26 02:00:00,0.014,0.014,16.7,0.3,1,21.2,0,45,14.3,27.1,0,0,\\n2020-11-26 02:05:00,-0.005,0.014,16.7,0.3,1,21.1,1,45,14.3,27,0,0,\\n2020-11-26 02:10:00,0.041,0.014,16.7,0.3,1,21.1,1,45,14.3,26.9,0,0,\\n2020-11-26 02:15:00,0.039,0.014,16.7,0.3,1,21.1,1,45,14.2,27.1,0,0,\\n2020-11-26 02:20:00,-0.005,0.014,16.7,0.3,1,21,1,45,14.3,27,0,0,\\n2020-11-26 02:25:00,0.029,0.014,16.7,0.3,1,20.9,1,45,14.3,26.9,0,0,\\n2020-11-26 02:30:00,0.049,0.014,16.7,0.3,1,20.9,1,45,14.3,27,0,0,\\n2020-11-26 02:35:00,0.028,0.014,16.7,0.3,1,20.8,1,45,14.3,26.9,0,0,\\n2020-11-26 02:40:00,0.038,0.014,16.7,0.3,1,20.7,1,45,14.3,26.8,0,0,\\n2020-11-26 02:45:00,0.011,0.014,16.7,0.3,1,20.6,1,45,14.2,26.8,0,0,\\n2020-11-26 02:50:00,-0.005,0.014,16.7,0.3,1,20.6,1,45,14.3,27,0,0,\\n2020-11-26 02:55:00,0.019,0.014,16.7,0.3,1,20.6,1,45,14.2,27,0,0,\\n2020-11-26 03:00:00,-0.005,0.015,16.7,0.3,1,20.5,1,45,14.3,27.1,0,0,\\n2020-11-26 03:05:00,0.032,0.015,16.7,0.3,1,20.5,0,45,14.3,27,0,0,\\n2020-11-26 03:10:00,0.112,0.015,16.7,0.3,1,20.5,1,45,14.2,26.9,0,0,\\n2020-11-26 03:15:00,-0.005,0.015,16.7,0.3,1,20.4,1,45,14.2,27,0,0,\\n2020-11-26 03:20:00,-0.005,0.015,16.7,0.3,1,20.2,1,44,14.3,27,0,0,\\n2020-11-26 03:25:00,0.053,0.015,16.7,0.3,1,20,1,44,14.3,26.9,0,0,\\n2020-11-26 03:30:00,0.089,0.015,16.7,0.3,1,19.9,1,44,14.3,26.7,0,0,\\n2020-11-26 03:35:00,0.029,0.015,16.7,0.3,1,19.9,1,45,14.2,26.7,0,0,\\n2020-11-26 03:40:00,-0.005,0.015,16.7,0.3,1,20.1,1,45,14.1,27,0,0,\\n2020-11-26 03:45:00,-0.005,0.015,16.7,0.3,1,20.1,1,45,14.2,27.3,0,0,\\n2020-11-26 03:50:00,0.055,0.015,16.7,0.3,1,20.1,1,45,14.3,27.1,0,0,\\n2020-11-26 03:55:00,0.089,0.015,16.7,0.3,1,20.1,1,45,14.1,27.3,0,0,\\n2020-11-26 04:00:00,-0.005,0.016,16.7,0.3,1,20.1,1,45,14.3,27.3,0,0,\\n2020-11-26 04:05:00,0.052,0.016,16.7,0.3,1,20.1,1,45,14.3,27.1,0,0,\\n2020-11-26 04:10:00,0.096,0.016,16.7,0.3,1,20.1,1,45,14.3,26.9,0,0,\\n2020-11-26 04:15:00,0.039,0.016,16.7,0.3,1,20.1,1,45,14.2,26.9,0,0,\\n2020-11-26 04:20:00,-0.005,0.016,16.7,0.3,1,20.2,1,45,14.1,27.1,0,0,\\n2020-11-26 04:25:00,-0.005,0.016,16.7,0.3,1,20.1,1,45,14.3,27.3,0,0,\\n2020-11-26 04:30:00,0.062,0.016,16.7,0.3,1,20,0,45,14.2,27,0,0,\\n2020-11-26 04:35:00,0.084,0.016,16.7,0.3,1,20,1,45,14.2,26.9,0,0,\\n2020-11-26 04:40:00,-0.005,0.016,16.7,0.3,1,20,1,45,14.1,27.2,0,0,\\n2020-11-26 04:45:00,-0.005,0.016,16.7,0.3,1,20,1,45,14.2,27.3,0,0,\\n2020-11-26 04:50:00,0.038,0.016,16.7,0.3,1,20,1,45,14.2,27.3,0,0,\\n2020-11-26 04:55:00,0.04,0.016,16.7,0.3,1,20.1,1,45,14.3,27.2,0,0,\\n2020-11-26 05:00:00,0.102,0.029,16.7,0.3,1,20,1,44,14.3,27,0,0,\\n2020-11-26 05:05:00,0.087,0.029,16.7,0.3,1,19.9,1,44,14.3,26.9,0,0,\\n2020-11-26 05:10:00,0.045,0.029,16.7,0.3,1,19.9,0,45,14.2,26.9,0,0,\\n2020-11-26 05:15:00,-0.005,0.029,16.7,0.3,1,19.9,1,45,14.1,27.2,0,0,\\n2020-11-26 05:20:00,-0.005,0.029,16.7,0.3,1,19.9,1,44,14.2,27.2,0,0,\\n2020-11-26 05:25:00,0.125,0.029,16.7,0.3,1,19.9,0,44,14.2,27,0,0,\\n2020-11-26 05:30:00,0.083,0.029,16.7,0.3,1,20,1,45,14,27.1,0,0,\\n2020-11-26 05:35:00,-0.005,0.029,16.7,0.3,1,20.1,1,45,14.1,27.8,0,0,\\n2020-11-26 05:40:00,-0.005,0.029,16.7,0.3,1,20.1,1,45,14.2,28.1,0,0,\\n2020-11-26 05:45:00,0.111,0.029,16.7,0.3,1,20.1,1,44,14.3,27.9,0,0,\\n2020-11-26 05:50:00,0.182,0.029,16.7,0.3,1,20.1,0,44,14.3,27.7,0,0,\\n2020-11-26 05:55:00,0.073,0.029,16.7,0.3,1,20.4,1,45,14,27.8,0,0,\\n2020-11-26 06:00:00,-0.005,-0.005,16.7,0.3,1,20.8,1,46,13.9,29,0,0,\\n2020-11-26 06:05:00,-0.005,-0.005,15.7,0.3,1,21.3,1,46,14,29.8,0,0,\\n2020-11-26 06:10:00,-0.005,-0.005,16.7,0.3,1,21.7,1,44,14.3,30,0,0,\\n2020-11-26 06:15:00,0.064,-0.005,16.7,0.3,1,21.7,1,42,14.3,29.5,0,0,\\n2020-11-26 06:20:00,0.093,-0.005,16.7,0.3,1,21.5,1,41,14.2,29,0,0,\\n2020-11-26 06:25:00,0.069,-0.005,16.7,0.3,1,21.3,1,42,14.2,28.7,0,0,\\n2020-11-26 06:30:00,0.062,-0.005,16.7,0.3,1,21.3,1,43,14.2,28.4,0,0,\\n2020-11-26 06:35:00,0.069,-0.005,16.7,0.3,1,21.2,1,43,14.2,28.2,0,0,\\n2020-11-26 06:40:00,-0.005,-0.005,16.7,0.3,1,21.4,1,44,14.2,28.1,0,0,\\n2020-11-26 06:45:00,0.005,-0.005,16.7,0.3,1,21.5,1,44,14.2,28,0,0,\\n2020-11-26 06:50:00,0.051,-0.005,16.7,0.3,1,21.6,1,44,14.2,27.9,0,0,\\n2020-11-26 06:55:00,-0.005,-0.005,16.7,0.3,1,21.9,1,45,14.1,28.2,0,0,\\n2020-11-26 07:00:00,-0.005,0.044,16.7,0.3,1,22.1,1,44,14.3,28.3,0,0,\\n2020-11-26 07:05:00,0.05,0.044,16.7,0.3,1,22.6,1,45,14.2,28.3,0,0,\\n2020-11-26 07:10:00,0.015,0.044,16.7,0.3,1,23.4,0,44,14.2,28.6,0,0,\\n2020-11-26 07:15:00,-0.005,0.044,16.7,0.3,1,23.9,1,44,14.2,28.7,0,0,\\n2020-11-26 07:20:00,0.049,0.044,16.7,0.3,1,23.9,1,43,14.2,28.8,0,0,\\n2020-11-26 07:25:00,0.013,0.044,16.7,0.3,1,24.5,1,43,14.2,28.9,0,0,\\n2020-11-26 07:30:00,-0.005,0.044,16.7,0.3,1,25.2,1,42,14.2,29.1,0,0,\\n2020-11-26 07:35:00,-0.005,0.044,16.7,0.3,1,25.4,1,40,14.2,29.4,0,0,\\n2020-11-26 07:40:00,0.021,0.044,16.7,0.3,1,25.3,1,40,14.2,29.6,0,0,\\n2020-11-26 07:45:00,-0.005,0.044,16.7,0.3,1,25.4,1,39,14.2,29.8,0,0,\\n2020-11-26 07:50:00,-0.005,0.044,16.7,0.3,1,25.6,0,39,14.2,30.1,0,0,\\n2020-11-26 07:55:00,0.05,0.044,16.7,0.3,1,25.7,1,38,14.2,30.2,0,0,\\n2020-11-26 08:00:00,0.036,-0.001,16.7,0.3,1,25.3,1,38,14.2,30.4,0,0,\\n2020-11-26 08:05:00,-0.005,-0.001,16.7,0.3,1,25.5,1,38,14.2,30.4,0,0,\\n2020-11-26 08:10:00,0.012,-0.001,16.7,0.3,1,25.5,1,38,14.2,30.5,0,0,\\n2020-11-26 08:15:00,0.015,-0.001,16.7,0.3,1,25.2,0,38,14.2,30.5,0,0,\\n2020-11-26 08:20:00,0.037,-0.001,16.7,0.3,1,25.7,1,38,14.2,30.6,0,0,\\n2020-11-26 08:25:00,0.024,-0.001,16.7,0.3,1,25.9,1,37,14.2,30.7,0,0,\\n2020-11-26 08:30:00,-0.005,-0.001,16.7,0.3,1,26.4,1,37,14.2,30.8,0,0,\\n2020-11-26 08:35:00,-0.005,-0.001,16.7,0.3,1,26.7,0,37,14.2,30.9,0,0,\\n2020-11-26 08:40:00,0.001,-0.001,16.7,0.3,1,26.9,1,37,14.2,31,0,0,\\n2020-11-26 08:45:00,0.01,-0.001,16.7,0.3,1,26.7,0,36,14.2,31,0,0,\\n2020-11-26 08:50:00,0.063,-0.001,16.7,0.3,1,26.6,1,37,14.2,31,0,0,\\n2020-11-26 08:55:00,0.004,-0.001,16.7,0.3,1,27,1,37,14.2,31.1,0,0,\\n2020-11-26 09:00:00,-0.005,0.003,16.7,0.3,1,27.2,1,36,14.2,31.1,0,0,\\n2020-11-26 09:05:00,-0.005,0.003,16.7,0.3,1,27.8,1,36,14.2,31.3,0,0,\\n2020-11-26 09:10:00,0.02,0.003,16.7,0.3,1,28.3,1,36,14.2,31.5,0,0,\\n2020-11-26 09:15:00,-0.005,0.003,16.7,0.3,1,28.9,1,35,14.2,31.8,0,0,\\n2020-11-26 09:20:00,-0.005,0.003,16.7,0.3,1,29.1,1,35,14.2,32,0,0,\\n2020-11-26 09:25:00,0.015,0.003,16.7,0.3,1,27.9,1,34,14.2,32.1,0,0,\\n2020-11-26 09:30:00,0.028,0.003,16.7,0.3,1,27.2,1,34,14.2,32.1,0,0,\\n2020-11-26 09:35:00,0.021,0.003,16.7,0.3,1,28,1,34,14.2,32.1,0,0,\\n2020-11-26 09:40:00,-0.005,0.003,16.7,0.3,1,28.3,1,34,14.2,32.3,0,0,\\n2020-11-26 09:45:00,0.019,0.003,16.7,0.3,1,27.8,1,34,14.2,32.3,0,0,\\n2020-11-26 09:50:00,0.039,0.003,16.7,0.3,1,27.5,1,33,14.2,32.2,0,0,\\n2020-11-26 09:55:00,0.021,0.003,16.7,0.3,1,27.5,1,33,14.2,32.2,0,0,\\n2020-11-26 10:00:00,0.051,0.015,16.7,0.3,1,27,1,34,14.2,32.1,0,0,\\n2020-11-26 10:05:00,-0.005,0.015,16.7,0.3,1,28.1,1,34,14.2,32.1,0,0,\\n2020-11-26 10:10:00,-0.005,0.015,16.7,0.3,1,28.9,1,34,14.2,32.3,0,0,\\n2020-11-26 10:15:00,-0.005,0.015,16.7,0.3,1,29.2,1,33,14.2,32.4,0,0,\\n2020-11-26 10:20:00,0.013,0.015,16.7,0.3,1,29.2,1,33,14.2,32.5,0,0,\\n2020-11-26 10:25:00,-0.005,0.015,16.7,0.3,1,28.9,1,33,14.2,32.7,0,0,\\n2020-11-26 10:30:00,0.002,0.015,16.7,0.3,1,29,1,32,14.2,32.8,0,0,\\n2020-11-26 10:35:00,0.028,0.015,16.7,0.3,1,29.3,1,32,14.2,32.9,0,0,\\n2020-11-26 10:40:00,0.022,0.015,16.7,0.3,1,30.1,1,33,14.2,33.2,0,0,\\n2020-11-26 10:45:00,-0.005,0.015,16.7,0.3,1,29.5,1,32,14.2,33.2,0,0,\\n2020-11-26 10:50:00,0.04,0.015,16.7,0.3,1,29.6,1,32,14.2,33.3,0,0,\\n2020-11-26 10:55:00,0.032,0.015,16.7,0.3,1,30.2,1,32,14.2,33.4,0,0,\\n2020-11-26 11:00:00,-0.005,-0.001,16.7,0.3,1,30,1,31,14.2,33.4,0,0,\\n2020-11-26 11:05:00,0.014,-0.001,16.7,0.3,1,30.2,1,31,14.2,33.5,0,0,\\n2020-11-26 11:10:00,0.005,-0.001,16.7,0.3,1,30.6,1,31,14.2,33.5,0,0,\\n2020-11-26 11:15:00,-0.005,-0.001,16.7,0.3,1,30.4,1,30,14.2,33.5,0,0,\\n2020-11-26 11:20:00,0.028,-0.001,16.7,0.3,1,31,1,31,14.2,33.6,0,0,\\n2020-11-26 11:25:00,0.004,-0.001,16.7,0.3,1,31.2,1,31,14.2,33.6,0,0,\\n2020-11-26 11:30:00,0.022,-0.001,16.7,0.3,1,31,1,31,14.2,33.7,0,0,\\n2020-11-26 11:35:00,0.009,-0.001,16.7,0.3,1,30.9,1,30,14.2,33.7,0,0,\\n2020-11-26 11:40:00,-0.005,-0.001,16.7,0.3,1,30.9,1,30,14.2,33.7,0,0,\\n2020-11-26 11:45:00,-0.005,-0.001,16.7,0.3,1,30.7,1,30,14.2,33.7,0,0,\\n2020-11-26 11:50:00,0.052,-0.001,16.7,0.3,1,30.7,1,30,14.2,33.7,0,0,\\n2020-11-26 11:55:00,0.043,-0.001,16.7,0.3,1,31,1,30,14.2,33.6,0,0,\\n2020-11-26 12:00:00,-0.005,0.007,16.7,0.3,1,31.8,1,30,14.2,33.7,0,0,\\n2020-11-26 12:05:00,-0.005,0.007,15.7,0.3,1,32.1,1,30,14.3,33.7,0,0,\\n2020-11-26 12:10:00,0.008,0.007,16.7,0.3,1,31.6,1,30,14.2,33.7,0,0,\\n2020-11-26 12:15:00,0.034,0.007,16.7,0.3,1,31.7,1,31,14.2,33.7,0,0,\\n2020-11-26 12:20:00,0.007,0.007,16.7,0.3,1,31.7,1,30,14.2,33.7,0,0,\\n2020-11-26 12:25:00,0.007,0.007,16.7,0.3,1,31.7,1,30,14.2,33.7,0,0,\\n2020-11-26 12:30:00,-0.005,0.007,16.7,0.3,1,31.6,1,30,14.2,33.6,0,0,\\n2020-11-26 12:35:00,0.022,0.007,16.7,0.3,1,31.8,1,30,14.2,33.6,0,0,\\n2020-11-26 12:40:00,0.066,0.007,16.7,0.3,1,31.9,1,29,14.2,33.6,0,0,\\n2020-11-26 12:45:00,-0.003,0.007,16.7,0.3,1,32.2,1,30,14.2,33.6,0,0,\\n2020-11-26 12:50:00,-0.005,0.007,16.7,0.3,1,32.2,1,29,14.2,33.7,0,0,\\n2020-11-26 12:55:00,0.019,0.007,16.7,0.3,1,31.6,1,28,14.2,33.7,0,0,\\n2020-11-26 13:00:00,0.019,0.019,16.7,0.3,1,32,1,29,14.2,33.8,0,0,\\n2020-11-26 13:05:00,0.032,0.019,16.7,0.3,1,32.7,1,29,14.2,34.1,0,0,\\n2020-11-26 13:10:00,0.011,0.019,16.7,0.3,1,32,1,28,14.2,34.4,0,0,\\n2020-11-26 13:15:00,0.054,0.019,16.7,0.3,1,31.7,1,28,14.2,34.6,0,0,\\n2020-11-26 13:20:00,0.042,0.019,16.7,0.3,1,31.7,1,27,14.2,34.8,0,0,\\n2020-11-26 13:25:00,-0.005,0.019,16.7,0.3,1,32.6,1,27,14.2,35.1,0,0,\\n2020-11-26 13:30:00,0.019,0.019,16.7,0.3,1,32.1,1,26,14.1,35.4,0,0,'"
      ]
     },
     "execution_count": 304,
     "metadata": {},
     "output_type": "execute_result"
    }
   ],
   "source": [
    "readLogger('/home/roelof/Dropbox (NWU)/CRG_Projects/01_Research_Campaigns/Anglo_SA/01_Field Campaigns/Rustenburg - Main AQMS/E-BAM/20201126/PM2.5/Data.CSV',14)"
   ]
  },
  {
   "cell_type": "code",
   "execution_count": 305,
   "metadata": {},
   "outputs": [
    {
     "name": "stdout",
     "output_type": "stream",
     "text": [
      "<class 'pandas.core.frame.DataFrame'>\n",
      "DatetimeIndex: 162971 entries, 2020-10-20 10:30:00 to 2021-02-10 14:40:00\n",
      "Freq: T\n",
      "Data columns (total 13 columns):\n",
      " #   Column                         Non-Null Count  Dtype  \n",
      "---  ------                         --------------  -----  \n",
      " 0   PM2.5 (ug/m3)                  67076 non-null  float64\n",
      " 1   PM2.5_ConcHR (ug/m3)           67076 non-null  float64\n",
      " 2   PM2.5_Flow (lpm)               67076 non-null  float64\n",
      " 3   PM2.5_Wind_Speed (m/s)         67076 non-null  float64\n",
      " 4   PM2.5_Wind_Direction (Deg)     67076 non-null  float64\n",
      " 5   PM2.5_Ambient_Temperature (C)  67076 non-null  float64\n",
      " 6   PM2.5_Relative_Humidity (%)    67076 non-null  float64\n",
      " 7   PM2.5_BP (mmHg)                67076 non-null  float64\n",
      " 8   PM2.5_FT (C)                   67076 non-null  float64\n",
      " 9   PM2.5_FRH (%)                  67076 non-null  float64\n",
      " 10  PM2.5_Battery_Voltage (V)      67076 non-null  float64\n",
      " 11  PM2.5_PM (none)                67076 non-null  float64\n",
      " 12  PM2.5_Status (none)            0 non-null      float64\n",
      "dtypes: float64(13)\n",
      "memory usage: 17.4 MB\n"
     ]
    }
   ],
   "source": [
    "df2.info()"
   ]
  },
  {
   "cell_type": "code",
   "execution_count": 306,
   "metadata": {},
   "outputs": [
    {
     "data": {
      "text/html": [
       "<div>\n",
       "<style scoped>\n",
       "    .dataframe tbody tr th:only-of-type {\n",
       "        vertical-align: middle;\n",
       "    }\n",
       "\n",
       "    .dataframe tbody tr th {\n",
       "        vertical-align: top;\n",
       "    }\n",
       "\n",
       "    .dataframe thead th {\n",
       "        text-align: right;\n",
       "    }\n",
       "</style>\n",
       "<table border=\"1\" class=\"dataframe\">\n",
       "  <thead>\n",
       "    <tr style=\"text-align: right;\">\n",
       "      <th></th>\n",
       "      <th>PM2.5 (ug/m3)</th>\n",
       "      <th>PM2.5_ConcHR (ug/m3)</th>\n",
       "      <th>PM2.5_Flow (lpm)</th>\n",
       "      <th>PM2.5_Wind_Speed (m/s)</th>\n",
       "      <th>PM2.5_Wind_Direction (Deg)</th>\n",
       "      <th>PM2.5_Ambient_Temperature (C)</th>\n",
       "      <th>PM2.5_Relative_Humidity (%)</th>\n",
       "      <th>PM2.5_BP (mmHg)</th>\n",
       "      <th>PM2.5_FT (C)</th>\n",
       "      <th>PM2.5_FRH (%)</th>\n",
       "      <th>PM2.5_Battery_Voltage (V)</th>\n",
       "      <th>PM2.5_PM (none)</th>\n",
       "      <th>PM2.5_Status (none)</th>\n",
       "    </tr>\n",
       "    <tr>\n",
       "      <th>Date</th>\n",
       "      <th></th>\n",
       "      <th></th>\n",
       "      <th></th>\n",
       "      <th></th>\n",
       "      <th></th>\n",
       "      <th></th>\n",
       "      <th></th>\n",
       "      <th></th>\n",
       "      <th></th>\n",
       "      <th></th>\n",
       "      <th></th>\n",
       "      <th></th>\n",
       "      <th></th>\n",
       "    </tr>\n",
       "  </thead>\n",
       "  <tbody>\n",
       "    <tr>\n",
       "      <th>2021-02-10 14:36:00</th>\n",
       "      <td>23.0</td>\n",
       "      <td>0.019</td>\n",
       "      <td>16.7</td>\n",
       "      <td>0.3</td>\n",
       "      <td>1.0</td>\n",
       "      <td>34.3</td>\n",
       "      <td>1.0</td>\n",
       "      <td>22.0</td>\n",
       "      <td>14.4</td>\n",
       "      <td>41.3</td>\n",
       "      <td>256.0</td>\n",
       "      <td>0.0</td>\n",
       "      <td>NaN</td>\n",
       "    </tr>\n",
       "    <tr>\n",
       "      <th>2021-02-10 14:37:00</th>\n",
       "      <td>23.0</td>\n",
       "      <td>0.019</td>\n",
       "      <td>16.7</td>\n",
       "      <td>0.3</td>\n",
       "      <td>1.0</td>\n",
       "      <td>34.3</td>\n",
       "      <td>1.0</td>\n",
       "      <td>22.0</td>\n",
       "      <td>14.4</td>\n",
       "      <td>41.3</td>\n",
       "      <td>256.0</td>\n",
       "      <td>0.0</td>\n",
       "      <td>NaN</td>\n",
       "    </tr>\n",
       "    <tr>\n",
       "      <th>2021-02-10 14:38:00</th>\n",
       "      <td>23.0</td>\n",
       "      <td>0.019</td>\n",
       "      <td>16.7</td>\n",
       "      <td>0.3</td>\n",
       "      <td>1.0</td>\n",
       "      <td>34.3</td>\n",
       "      <td>1.0</td>\n",
       "      <td>22.0</td>\n",
       "      <td>14.4</td>\n",
       "      <td>41.3</td>\n",
       "      <td>256.0</td>\n",
       "      <td>0.0</td>\n",
       "      <td>NaN</td>\n",
       "    </tr>\n",
       "    <tr>\n",
       "      <th>2021-02-10 14:39:00</th>\n",
       "      <td>23.0</td>\n",
       "      <td>0.019</td>\n",
       "      <td>16.7</td>\n",
       "      <td>0.3</td>\n",
       "      <td>1.0</td>\n",
       "      <td>34.3</td>\n",
       "      <td>1.0</td>\n",
       "      <td>22.0</td>\n",
       "      <td>14.4</td>\n",
       "      <td>41.3</td>\n",
       "      <td>256.0</td>\n",
       "      <td>0.0</td>\n",
       "      <td>NaN</td>\n",
       "    </tr>\n",
       "    <tr>\n",
       "      <th>2021-02-10 14:40:00</th>\n",
       "      <td>23.0</td>\n",
       "      <td>0.019</td>\n",
       "      <td>16.7</td>\n",
       "      <td>0.3</td>\n",
       "      <td>1.0</td>\n",
       "      <td>34.3</td>\n",
       "      <td>1.0</td>\n",
       "      <td>22.0</td>\n",
       "      <td>14.4</td>\n",
       "      <td>41.3</td>\n",
       "      <td>256.0</td>\n",
       "      <td>0.0</td>\n",
       "      <td>NaN</td>\n",
       "    </tr>\n",
       "  </tbody>\n",
       "</table>\n",
       "</div>"
      ],
      "text/plain": [
       "                     PM2.5 (ug/m3)  PM2.5_ConcHR (ug/m3)  PM2.5_Flow (lpm)  \\\n",
       "Date                                                                         \n",
       "2021-02-10 14:36:00           23.0                 0.019              16.7   \n",
       "2021-02-10 14:37:00           23.0                 0.019              16.7   \n",
       "2021-02-10 14:38:00           23.0                 0.019              16.7   \n",
       "2021-02-10 14:39:00           23.0                 0.019              16.7   \n",
       "2021-02-10 14:40:00           23.0                 0.019              16.7   \n",
       "\n",
       "                     PM2.5_Wind_Speed (m/s)  PM2.5_Wind_Direction (Deg)  \\\n",
       "Date                                                                      \n",
       "2021-02-10 14:36:00                     0.3                         1.0   \n",
       "2021-02-10 14:37:00                     0.3                         1.0   \n",
       "2021-02-10 14:38:00                     0.3                         1.0   \n",
       "2021-02-10 14:39:00                     0.3                         1.0   \n",
       "2021-02-10 14:40:00                     0.3                         1.0   \n",
       "\n",
       "                     PM2.5_Ambient_Temperature (C)  \\\n",
       "Date                                                 \n",
       "2021-02-10 14:36:00                           34.3   \n",
       "2021-02-10 14:37:00                           34.3   \n",
       "2021-02-10 14:38:00                           34.3   \n",
       "2021-02-10 14:39:00                           34.3   \n",
       "2021-02-10 14:40:00                           34.3   \n",
       "\n",
       "                     PM2.5_Relative_Humidity (%)  PM2.5_BP (mmHg)  \\\n",
       "Date                                                                \n",
       "2021-02-10 14:36:00                          1.0             22.0   \n",
       "2021-02-10 14:37:00                          1.0             22.0   \n",
       "2021-02-10 14:38:00                          1.0             22.0   \n",
       "2021-02-10 14:39:00                          1.0             22.0   \n",
       "2021-02-10 14:40:00                          1.0             22.0   \n",
       "\n",
       "                     PM2.5_FT (C)  PM2.5_FRH (%)  PM2.5_Battery_Voltage (V)  \\\n",
       "Date                                                                          \n",
       "2021-02-10 14:36:00          14.4           41.3                      256.0   \n",
       "2021-02-10 14:37:00          14.4           41.3                      256.0   \n",
       "2021-02-10 14:38:00          14.4           41.3                      256.0   \n",
       "2021-02-10 14:39:00          14.4           41.3                      256.0   \n",
       "2021-02-10 14:40:00          14.4           41.3                      256.0   \n",
       "\n",
       "                     PM2.5_PM (none)  PM2.5_Status (none)  \n",
       "Date                                                       \n",
       "2021-02-10 14:36:00              0.0                  NaN  \n",
       "2021-02-10 14:37:00              0.0                  NaN  \n",
       "2021-02-10 14:38:00              0.0                  NaN  \n",
       "2021-02-10 14:39:00              0.0                  NaN  \n",
       "2021-02-10 14:40:00              0.0                  NaN  "
      ]
     },
     "execution_count": 306,
     "metadata": {},
     "output_type": "execute_result"
    }
   ],
   "source": [
    "df2.tail()"
   ]
  },
  {
   "cell_type": "code",
   "execution_count": 307,
   "metadata": {},
   "outputs": [
    {
     "data": {
      "text/html": [
       "<div>\n",
       "<style scoped>\n",
       "    .dataframe tbody tr th:only-of-type {\n",
       "        vertical-align: middle;\n",
       "    }\n",
       "\n",
       "    .dataframe tbody tr th {\n",
       "        vertical-align: top;\n",
       "    }\n",
       "\n",
       "    .dataframe thead th {\n",
       "        text-align: right;\n",
       "    }\n",
       "</style>\n",
       "<table border=\"1\" class=\"dataframe\">\n",
       "  <thead>\n",
       "    <tr style=\"text-align: right;\">\n",
       "      <th></th>\n",
       "      <th>PM2.5 (ug/m3)</th>\n",
       "      <th>PM2.5_ConcHR (ug/m3)</th>\n",
       "      <th>PM2.5_Flow (lpm)</th>\n",
       "      <th>PM2.5_Wind_Speed (m/s)</th>\n",
       "      <th>PM2.5_Wind_Direction (Deg)</th>\n",
       "      <th>PM2.5_Ambient_Temperature (C)</th>\n",
       "      <th>PM2.5_Relative_Humidity (%)</th>\n",
       "      <th>PM2.5_BP (mmHg)</th>\n",
       "      <th>PM2.5_FT (C)</th>\n",
       "      <th>PM2.5_FRH (%)</th>\n",
       "      <th>PM2.5_Battery_Voltage (V)</th>\n",
       "      <th>PM2.5_PM (none)</th>\n",
       "      <th>PM2.5_Status (none)</th>\n",
       "    </tr>\n",
       "  </thead>\n",
       "  <tbody>\n",
       "    <tr>\n",
       "      <th>count</th>\n",
       "      <td>67076.000000</td>\n",
       "      <td>67076.000000</td>\n",
       "      <td>67076.000000</td>\n",
       "      <td>6.707600e+04</td>\n",
       "      <td>67076.0</td>\n",
       "      <td>67076.000000</td>\n",
       "      <td>67076.000000</td>\n",
       "      <td>67076.000000</td>\n",
       "      <td>67076.000000</td>\n",
       "      <td>67076.000000</td>\n",
       "      <td>67076.000000</td>\n",
       "      <td>67076.0</td>\n",
       "      <td>0.0</td>\n",
       "    </tr>\n",
       "    <tr>\n",
       "      <th>mean</th>\n",
       "      <td>20.027789</td>\n",
       "      <td>0.013573</td>\n",
       "      <td>16.539577</td>\n",
       "      <td>3.000000e-01</td>\n",
       "      <td>1.0</td>\n",
       "      <td>24.510832</td>\n",
       "      <td>0.926263</td>\n",
       "      <td>36.135727</td>\n",
       "      <td>14.278219</td>\n",
       "      <td>29.782669</td>\n",
       "      <td>7.617866</td>\n",
       "      <td>0.0</td>\n",
       "      <td>NaN</td>\n",
       "    </tr>\n",
       "    <tr>\n",
       "      <th>std</th>\n",
       "      <td>29.243444</td>\n",
       "      <td>0.013754</td>\n",
       "      <td>1.516494</td>\n",
       "      <td>5.551157e-17</td>\n",
       "      <td>0.0</td>\n",
       "      <td>5.126782</td>\n",
       "      <td>0.261345</td>\n",
       "      <td>8.991055</td>\n",
       "      <td>0.125454</td>\n",
       "      <td>3.322953</td>\n",
       "      <td>43.499082</td>\n",
       "      <td>0.0</td>\n",
       "      <td>NaN</td>\n",
       "    </tr>\n",
       "    <tr>\n",
       "      <th>min</th>\n",
       "      <td>-5.000000</td>\n",
       "      <td>-0.005000</td>\n",
       "      <td>0.000000</td>\n",
       "      <td>3.000000e-01</td>\n",
       "      <td>1.0</td>\n",
       "      <td>14.500000</td>\n",
       "      <td>0.000000</td>\n",
       "      <td>10.000000</td>\n",
       "      <td>11.200000</td>\n",
       "      <td>20.100000</td>\n",
       "      <td>0.000000</td>\n",
       "      <td>0.0</td>\n",
       "      <td>NaN</td>\n",
       "    </tr>\n",
       "    <tr>\n",
       "      <th>25%</th>\n",
       "      <td>-5.000000</td>\n",
       "      <td>0.005000</td>\n",
       "      <td>16.700000</td>\n",
       "      <td>3.000000e-01</td>\n",
       "      <td>1.0</td>\n",
       "      <td>20.700000</td>\n",
       "      <td>1.000000</td>\n",
       "      <td>29.000000</td>\n",
       "      <td>14.200000</td>\n",
       "      <td>27.200000</td>\n",
       "      <td>0.000000</td>\n",
       "      <td>0.0</td>\n",
       "      <td>NaN</td>\n",
       "    </tr>\n",
       "    <tr>\n",
       "      <th>50%</th>\n",
       "      <td>13.000000</td>\n",
       "      <td>0.011000</td>\n",
       "      <td>16.700000</td>\n",
       "      <td>3.000000e-01</td>\n",
       "      <td>1.0</td>\n",
       "      <td>23.300000</td>\n",
       "      <td>1.000000</td>\n",
       "      <td>39.000000</td>\n",
       "      <td>14.300000</td>\n",
       "      <td>29.300000</td>\n",
       "      <td>0.000000</td>\n",
       "      <td>0.0</td>\n",
       "      <td>NaN</td>\n",
       "    </tr>\n",
       "    <tr>\n",
       "      <th>75%</th>\n",
       "      <td>33.000000</td>\n",
       "      <td>0.019000</td>\n",
       "      <td>16.700000</td>\n",
       "      <td>3.000000e-01</td>\n",
       "      <td>1.0</td>\n",
       "      <td>27.900000</td>\n",
       "      <td>1.000000</td>\n",
       "      <td>44.000000</td>\n",
       "      <td>14.400000</td>\n",
       "      <td>31.700000</td>\n",
       "      <td>0.000000</td>\n",
       "      <td>0.0</td>\n",
       "      <td>NaN</td>\n",
       "    </tr>\n",
       "    <tr>\n",
       "      <th>max</th>\n",
       "      <td>292.000000</td>\n",
       "      <td>0.114000</td>\n",
       "      <td>16.700000</td>\n",
       "      <td>3.000000e-01</td>\n",
       "      <td>1.0</td>\n",
       "      <td>41.000000</td>\n",
       "      <td>1.000000</td>\n",
       "      <td>64.000000</td>\n",
       "      <td>14.400000</td>\n",
       "      <td>43.200000</td>\n",
       "      <td>256.000000</td>\n",
       "      <td>0.0</td>\n",
       "      <td>NaN</td>\n",
       "    </tr>\n",
       "  </tbody>\n",
       "</table>\n",
       "</div>"
      ],
      "text/plain": [
       "       PM2.5 (ug/m3)  PM2.5_ConcHR (ug/m3)  PM2.5_Flow (lpm)  \\\n",
       "count   67076.000000          67076.000000      67076.000000   \n",
       "mean       20.027789              0.013573         16.539577   \n",
       "std        29.243444              0.013754          1.516494   \n",
       "min        -5.000000             -0.005000          0.000000   \n",
       "25%        -5.000000              0.005000         16.700000   \n",
       "50%        13.000000              0.011000         16.700000   \n",
       "75%        33.000000              0.019000         16.700000   \n",
       "max       292.000000              0.114000         16.700000   \n",
       "\n",
       "       PM2.5_Wind_Speed (m/s)  PM2.5_Wind_Direction (Deg)  \\\n",
       "count            6.707600e+04                     67076.0   \n",
       "mean             3.000000e-01                         1.0   \n",
       "std              5.551157e-17                         0.0   \n",
       "min              3.000000e-01                         1.0   \n",
       "25%              3.000000e-01                         1.0   \n",
       "50%              3.000000e-01                         1.0   \n",
       "75%              3.000000e-01                         1.0   \n",
       "max              3.000000e-01                         1.0   \n",
       "\n",
       "       PM2.5_Ambient_Temperature (C)  PM2.5_Relative_Humidity (%)  \\\n",
       "count                   67076.000000                 67076.000000   \n",
       "mean                       24.510832                     0.926263   \n",
       "std                         5.126782                     0.261345   \n",
       "min                        14.500000                     0.000000   \n",
       "25%                        20.700000                     1.000000   \n",
       "50%                        23.300000                     1.000000   \n",
       "75%                        27.900000                     1.000000   \n",
       "max                        41.000000                     1.000000   \n",
       "\n",
       "       PM2.5_BP (mmHg)  PM2.5_FT (C)  PM2.5_FRH (%)  \\\n",
       "count     67076.000000  67076.000000   67076.000000   \n",
       "mean         36.135727     14.278219      29.782669   \n",
       "std           8.991055      0.125454       3.322953   \n",
       "min          10.000000     11.200000      20.100000   \n",
       "25%          29.000000     14.200000      27.200000   \n",
       "50%          39.000000     14.300000      29.300000   \n",
       "75%          44.000000     14.400000      31.700000   \n",
       "max          64.000000     14.400000      43.200000   \n",
       "\n",
       "       PM2.5_Battery_Voltage (V)  PM2.5_PM (none)  PM2.5_Status (none)  \n",
       "count               67076.000000          67076.0                  0.0  \n",
       "mean                    7.617866              0.0                  NaN  \n",
       "std                    43.499082              0.0                  NaN  \n",
       "min                     0.000000              0.0                  NaN  \n",
       "25%                     0.000000              0.0                  NaN  \n",
       "50%                     0.000000              0.0                  NaN  \n",
       "75%                     0.000000              0.0                  NaN  \n",
       "max                   256.000000              0.0                  NaN  "
      ]
     },
     "execution_count": 307,
     "metadata": {},
     "output_type": "execute_result"
    }
   ],
   "source": [
    "df2.head()\n",
    "df2.describe()"
   ]
  },
  {
   "cell_type": "code",
   "execution_count": 308,
   "metadata": {},
   "outputs": [
    {
     "name": "stdout",
     "output_type": "stream",
     "text": [
      "Index(['PM2.5 (ug/m3)', 'PM2.5_ConcHR (ug/m3)', 'PM2.5_Flow (lpm)',\n",
      "       'PM2.5_Wind_Speed (m/s)', 'PM2.5_Wind_Direction (Deg)',\n",
      "       'PM2.5_Ambient_Temperature (C)', 'PM2.5_Relative_Humidity (%)',\n",
      "       'PM2.5_BP (mmHg)', 'PM2.5_FT (C)', 'PM2.5_FRH (%)',\n",
      "       'PM2.5_Battery_Voltage (V)', 'PM2.5_PM (none)', 'PM2.5_Status (none)'],\n",
      "      dtype='object')\n"
     ]
    },
    {
     "data": {
      "application/vnd.jupyter.widget-view+json": {
       "model_id": "6510cf1680f64f56a37adfaaa53c71d1",
       "version_major": 2,
       "version_minor": 0
      },
      "text/plain": [
       "Canvas(toolbar=Toolbar(toolitems=[('Home', 'Reset original view', 'home', 'home'), ('Back', 'Back to previous …"
      ]
     },
     "metadata": {},
     "output_type": "display_data"
    },
    {
     "data": {
      "text/plain": [
       "array([<AxesSubplot:xlabel='Date'>, <AxesSubplot:xlabel='Date'>,\n",
       "       <AxesSubplot:xlabel='Date'>, <AxesSubplot:xlabel='Date'>,\n",
       "       <AxesSubplot:xlabel='Date'>, <AxesSubplot:xlabel='Date'>,\n",
       "       <AxesSubplot:xlabel='Date'>, <AxesSubplot:xlabel='Date'>,\n",
       "       <AxesSubplot:xlabel='Date'>, <AxesSubplot:xlabel='Date'>,\n",
       "       <AxesSubplot:xlabel='Date'>, <AxesSubplot:xlabel='Date'>,\n",
       "       <AxesSubplot:xlabel='Date'>], dtype=object)"
      ]
     },
     "execution_count": 308,
     "metadata": {},
     "output_type": "execute_result"
    }
   ],
   "source": [
    "# get a first look at the data\n",
    "APVars=df2.columns \n",
    "print(APVars)\n",
    "df2[APVars].plot(subplots=True)"
   ]
  },
  {
   "cell_type": "markdown",
   "metadata": {},
   "source": [
    "## Data quality control and assurance <a id=\"qcac\"></a>\n",
    "[Go to the top](#top)"
   ]
  },
  {
   "cell_type": "code",
   "execution_count": 309,
   "metadata": {},
   "outputs": [
    {
     "data": {
      "text/plain": [
       "Index(['Ambient_Temperature (degC)', 'Battery_Voltage (V)', 'CO (ppm)',\n",
       "       'Line_Voltage (V)', 'Logger_Temperature (degC)', 'NO (ppb)',\n",
       "       'NO2 (ppb)', 'NOx (ppb)', 'O3 (ppb)', 'PM10 (ug/m3)',\n",
       "       'PM2.5_logger (ug/m3)', 'Rainfall (mm)', 'Relative_Humidity (%)',\n",
       "       'SO2 (ppb)', 'Temperature (degC)', 'Wind_Direction (deg)',\n",
       "       'Wind_Direction_Std (deg)', 'Wind_Speed (m/s)', 'Wind_Speed_Std (m/s)'],\n",
       "      dtype='object')"
      ]
     },
     "execution_count": 309,
     "metadata": {},
     "output_type": "execute_result"
    }
   ],
   "source": [
    "df1.columns"
   ]
  },
  {
   "cell_type": "markdown",
   "metadata": {},
   "source": [
    "### Set raw variables"
   ]
  },
  {
   "cell_type": "code",
   "execution_count": 310,
   "metadata": {},
   "outputs": [],
   "source": [
    "df1['Power_status']=0\n",
    "\n",
    "df1['NO_status']=0\n",
    "df1['NORaw']=df1['NO (ppb)']\n",
    "\n",
    "df1['NO2_status']=0\n",
    "df1['NO2Raw']=df1['NO2 (ppb)']\n",
    "\n",
    "df1['O3_status']=0\n",
    "df1['O3Raw']=df1['O3 (ppb)']\n",
    "\n",
    "df1['PM10_status']=0\n",
    "df1['PM10Raw']=df1['PM10 (ug/m3)']\n",
    "\n",
    "df2['PM2.5_status']=0\n",
    "df2['PM2.5Raw']=df2['PM2.5 (ug/m3)']\n",
    "\n",
    "df1['SO2_status']=0\n",
    "df1['SO2Raw']=df1['SO2 (ppb)']"
   ]
  },
  {
   "cell_type": "markdown",
   "metadata": {},
   "source": [
    "### Apply documented problems"
   ]
  },
  {
   "cell_type": "code",
   "execution_count": 311,
   "metadata": {},
   "outputs": [
    {
     "data": {
      "text/html": [
       "<div>\n",
       "<style scoped>\n",
       "    .dataframe tbody tr th:only-of-type {\n",
       "        vertical-align: middle;\n",
       "    }\n",
       "\n",
       "    .dataframe tbody tr th {\n",
       "        vertical-align: top;\n",
       "    }\n",
       "\n",
       "    .dataframe thead th {\n",
       "        text-align: right;\n",
       "    }\n",
       "</style>\n",
       "<table border=\"1\" class=\"dataframe\">\n",
       "  <thead>\n",
       "    <tr style=\"text-align: right;\">\n",
       "      <th></th>\n",
       "      <th>Timestamp</th>\n",
       "      <th>What is the site</th>\n",
       "      <th>Which instrument failed?</th>\n",
       "      <th>When did the instrument start failing?</th>\n",
       "      <th>What time did the instrument start to fail?</th>\n",
       "      <th>Have you fixed the problem?</th>\n",
       "      <th>When was the instrument failure fixed?</th>\n",
       "      <th>What time was the instrument failure fixed?</th>\n",
       "      <th>Give a description of the failure</th>\n",
       "      <th>Who is doing this report</th>\n",
       "      <th>If No, was the current status of the instrument.</th>\n",
       "    </tr>\n",
       "  </thead>\n",
       "  <tbody>\n",
       "    <tr>\n",
       "      <th>28</th>\n",
       "      <td>1/26/2021 16:31:50</td>\n",
       "      <td>Waterkloof AQMS</td>\n",
       "      <td>PM10 (ug/m3)</td>\n",
       "      <td>10/28/2020</td>\n",
       "      <td>12:15</td>\n",
       "      <td>Yes</td>\n",
       "      <td>2/20/2021</td>\n",
       "      <td>9:42</td>\n",
       "      <td>Unknown</td>\n",
       "      <td>Roelof Burger</td>\n",
       "      <td></td>\n",
       "    </tr>\n",
       "  </tbody>\n",
       "</table>\n",
       "</div>"
      ],
      "text/plain": [
       "             Timestamp What is the site Which instrument failed?  \\\n",
       "28  1/26/2021 16:31:50  Waterkloof AQMS             PM10 (ug/m3)   \n",
       "\n",
       "   When did the instrument start failing?  \\\n",
       "28                             10/28/2020   \n",
       "\n",
       "   What time did the instrument start to fail? Have you fixed the problem?  \\\n",
       "28                                       12:15                         Yes   \n",
       "\n",
       "   When was the instrument failure fixed?  \\\n",
       "28                              2/20/2021   \n",
       "\n",
       "   What time was the instrument failure fixed?  \\\n",
       "28                                        9:42   \n",
       "\n",
       "   Give a description of the failure Who is doing this report  \\\n",
       "28                           Unknown            Roelof Burger   \n",
       "\n",
       "   If No, was the current status of the instrument.  \n",
       "28                                                   "
      ]
     },
     "execution_count": 311,
     "metadata": {},
     "output_type": "execute_result"
    }
   ],
   "source": [
    "Reports"
   ]
  },
  {
   "cell_type": "code",
   "execution_count": 312,
   "metadata": {},
   "outputs": [
    {
     "name": "stdout",
     "output_type": "stream",
     "text": [
      "PM10 (ug/m3) 2020-10-28 12:15:00 2021-02-20 09:42:00\n"
     ]
    }
   ],
   "source": [
    "# Update google sheet\n",
    "reports, Reports = readSheet()\n",
    "\n",
    "for index,row in Reports.iterrows():\n",
    "    var='Which instrument failed?'\n",
    "    sdate='When did the instrument start failing?'\n",
    "    stime='What time did the instrument start to fail?'\n",
    "    edate='When was the instrument failure fixed?'\n",
    "    etime='What time was the instrument failure fixed?'\n",
    "    \n",
    "    S=pd.to_datetime(\"{} {}\".format(row[sdate],row[stime]))\n",
    "    E=pd.to_datetime(\"{} {}\".format(row[edate],row[etime]))\n",
    "    print(row[var],S,E)\n",
    "    if row[var] in df1.columns:\n",
    "        df1.loc[(df1.index >= S)&(df1.index <= E), row[var]] = nan\n",
    "        \n",
    "    if row[var].find(\"PM2.5\") != -1:\n",
    "        df2.loc[(df2.index >= S)&(df2.index <= E), row[var]] = nan"
   ]
  },
  {
   "cell_type": "markdown",
   "metadata": {},
   "source": [
    "### Line/battery voltage <a id=\"lbVqc\"></a>"
   ]
  },
  {
   "cell_type": "code",
   "execution_count": 313,
   "metadata": {},
   "outputs": [
    {
     "data": {
      "application/vnd.jupyter.widget-view+json": {
       "model_id": "05813bab7cd84a98b25269df787bb72c",
       "version_major": 2,
       "version_minor": 0
      },
      "text/plain": [
       "Canvas(toolbar=Toolbar(toolitems=[('Home', 'Reset original view', 'home', 'home'), ('Back', 'Back to previous …"
      ]
     },
     "metadata": {},
     "output_type": "display_data"
    },
    {
     "data": {
      "text/plain": [
       "<AxesSubplot:label='cfa1152b-d73a-4468-a08b-be7e9401d2a3'>"
      ]
     },
     "execution_count": 313,
     "metadata": {},
     "output_type": "execute_result"
    }
   ],
   "source": [
    "fig, ax = plt.subplots()\n",
    "df1[['Line_Voltage (V)']].plot(ax=ax)\n",
    "df1[['Power_status']].plot(ax=ax, secondary_y=True, alpha=0.5)"
   ]
  },
  {
   "cell_type": "code",
   "execution_count": 314,
   "metadata": {},
   "outputs": [],
   "source": [
    "#create flag variables\n",
    "df1.loc[df1['Line_Voltage (V)']<190,'Power_status']=1\n",
    "# \n",
    "df1.loc[(df1['Power_status']==0) & (df1['SO2 (ppb)'].isna()) & (df1['O3 (ppb)'].isna()) & (df1['NO2 (ppb)'].isna()) & (df1['PM10 (ug/m3)'].isna()),'Power_status']=2"
   ]
  },
  {
   "cell_type": "code",
   "execution_count": 315,
   "metadata": {},
   "outputs": [],
   "source": [
    "## Set values missing if there is a drop in voltage\n",
    "#def flag_df(df):\n",
    "#    if (df['Line_Voltage (V)'] < 190) and (df['Battery_Voltage (V)'] <10):\n",
    "#        return '1'\n",
    "\n",
    "#df1['Power_status'] = df1.apply(flag_df, axis = 1)"
   ]
  },
  {
   "cell_type": "code",
   "execution_count": 316,
   "metadata": {},
   "outputs": [],
   "source": [
    "# replace all measurements made at flagged times with NaN\n",
    "PowerVars=['SO2 (ppb)', 'NO (ppb)', 'NO2 (ppb)', 'O3 (ppb)','PM10 (ug/m3)_logger']\n",
    "df1.loc[df1['Power_status']!=0, PowerVars] = np.nan"
   ]
  },
  {
   "cell_type": "code",
   "execution_count": 317,
   "metadata": {},
   "outputs": [
    {
     "data": {
      "text/plain": [
       "Index(['PM2.5 (ug/m3)', 'PM2.5_ConcHR (ug/m3)', 'PM2.5_Flow (lpm)',\n",
       "       'PM2.5_Wind_Speed (m/s)', 'PM2.5_Wind_Direction (Deg)',\n",
       "       'PM2.5_Ambient_Temperature (C)', 'PM2.5_Relative_Humidity (%)',\n",
       "       'PM2.5_BP (mmHg)', 'PM2.5_FT (C)', 'PM2.5_FRH (%)',\n",
       "       'PM2.5_Battery_Voltage (V)', 'PM2.5_PM (none)', 'PM2.5_Status (none)',\n",
       "       'PM2.5_status', 'PM2.5Raw'],\n",
       "      dtype='object')"
      ]
     },
     "execution_count": 317,
     "metadata": {},
     "output_type": "execute_result"
    }
   ],
   "source": [
    "df2.columns"
   ]
  },
  {
   "cell_type": "code",
   "execution_count": 318,
   "metadata": {},
   "outputs": [],
   "source": [
    "df2.loc[df2['PM2.5_Battery_Voltage (V)'] <10, ['PM2.5 (ug/m3)']] = np.nan"
   ]
  },
  {
   "cell_type": "markdown",
   "metadata": {},
   "source": [
    "### PM <a id=\"pmqc\"></a>"
   ]
  },
  {
   "cell_type": "code",
   "execution_count": 364,
   "metadata": {},
   "outputs": [
    {
     "data": {
      "text/plain": [
       "Index(['PM2.5 (ug/m3)', 'PM2.5_ConcHR (ug/m3)', 'PM2.5_Flow (lpm)',\n",
       "       'PM2.5_Wind_Speed (m/s)', 'PM2.5_Wind_Direction (Deg)',\n",
       "       'PM2.5_Ambient_Temperature (C)', 'PM2.5_Relative_Humidity (%)',\n",
       "       'PM2.5_BP (mmHg)', 'PM2.5_FT (C)', 'PM2.5_FRH (%)',\n",
       "       'PM2.5_Battery_Voltage (V)', 'PM2.5_PM (none)', 'PM2.5_Status (none)',\n",
       "       'PM2.5_status', 'PM2.5Raw'],\n",
       "      dtype='object')"
      ]
     },
     "execution_count": 364,
     "metadata": {},
     "output_type": "execute_result"
    }
   ],
   "source": [
    "df2.columns"
   ]
  },
  {
   "cell_type": "code",
   "execution_count": 365,
   "metadata": {},
   "outputs": [],
   "source": [
    "# Set values missing if the instrument reported an error\n",
    "df2.loc[df2['PM2.5_status']>0,'PM2.5 (ug/m3)']=nan\n",
    "\n",
    "df2.loc[df2['PM2.5 (ug/m3)']==99999,'PM2.5 (ug/m3)']=nan\n",
    "df2.loc[df2['PM2.5 (ug/m3)']==99999,'PM2.5_Status (none)']=99999\n",
    "\n",
    "df2.loc[df2['PM2.5 (ug/m3)']==40008,'PM2.5 (ug/m3)']=nan\n",
    "df2.loc[df2['PM2.5 (ug/m3)']==40008,'PM2.5_Status (none)']=40008\n",
    "\n",
    "df2.loc[df2['PM2.5 (ug/m3)']==80005,'PM2.5 (ug/m3)']=nan\n",
    "df2.loc[df2['PM2.5 (ug/m3)']==80005,'PM2.5_Status (none)']=80005\n",
    "\n",
    "df2.loc[df2['PM2.5 (ug/m3)']==20005,'PM2.5 (ug/m3)']=nan\n",
    "df2.loc[df2['PM2.5 (ug/m3)']==20005,'PM2.5_Status (none)']=20005\n",
    "\n",
    "df2.loc[df2['PM2.5 (ug/m3)']==20004,'PM2.5 (ug/m3)']=nan\n",
    "df2.loc[df2['PM2.5 (ug/m3)']==20004,'PM2.5_Status (none)']=20004"
   ]
  },
  {
   "cell_type": "code",
   "execution_count": 366,
   "metadata": {},
   "outputs": [],
   "source": [
    "#Set values missing if PM10 (ug/m3) values aren't between 0 and 1000 (ug/m3) #according to instrument measuremnent range at setup\n",
    "df1.loc[df1['PM10 (ug/m3)']>600,'PM10_status']=1\n",
    "df1.loc[df1['PM10 (ug/m3)']<0, 'PM10_status']=2\n",
    "df1.loc[df1['PM10 (ug/m3)']>600,'PM10 (ug/m3)']=nan\n",
    "df1.loc[df1['PM10 (ug/m3)']<0,'PM10 (ug/m3)']=nan\n",
    "\n",
    "df2.loc[df2['PM2.5 (ug/m3)']>600,'PM2.5_status']=1\n",
    "df2.loc[df2['PM2.5 (ug/m3)']<0,'PM2.5_status']=2\n",
    "df2.loc[df2['PM2.5 (ug/m3)']>600,'PM2.5 (ug/m3)']=nan\n",
    "df2.loc[df2['PM2.5 (ug/m3)']<0,'PM2.5 (ug/m3)']=nan\n",
    "\n",
    "df1.loc[df1['PM2.5_logger (ug/m3)']>600,'PM2.5_logger (ug/m3)']=1\n",
    "df1.loc[df1['PM2.5_logger (ug/m3)']<0, 'PM2.5_logger (ug/m3)']=2\n",
    "df1.loc[df1['PM2.5_logger (ug/m3)']>600,'PM2.5_logger (ug/m3)']=nan\n",
    "df1.loc[df1['PM2.5_logger (ug/m3)']<0,'PM2.5_logger (ug/m3)']=nan"
   ]
  },
  {
   "cell_type": "code",
   "execution_count": 367,
   "metadata": {},
   "outputs": [
    {
     "data": {
      "application/vnd.jupyter.widget-view+json": {
       "model_id": "88ad36b71cd1449ea0d1dc259f21c497",
       "version_major": 2,
       "version_minor": 0
      },
      "text/plain": [
       "Canvas(toolbar=Toolbar(toolitems=[('Home', 'Reset original view', 'home', 'home'), ('Back', 'Back to previous …"
      ]
     },
     "metadata": {},
     "output_type": "display_data"
    },
    {
     "data": {
      "text/plain": [
       "<AxesSubplot:xlabel='TIMESTAMP'>"
      ]
     },
     "execution_count": 367,
     "metadata": {},
     "output_type": "execute_result"
    }
   ],
   "source": [
    "df1[['PM10 (ug/m3)']].plot()"
   ]
  },
  {
   "cell_type": "code",
   "execution_count": 368,
   "metadata": {},
   "outputs": [
    {
     "data": {
      "application/vnd.jupyter.widget-view+json": {
       "model_id": "e3e851d95e5547ac80dfcf75401ef38a",
       "version_major": 2,
       "version_minor": 0
      },
      "text/plain": [
       "Canvas(toolbar=Toolbar(toolitems=[('Home', 'Reset original view', 'home', 'home'), ('Back', 'Back to previous …"
      ]
     },
     "metadata": {},
     "output_type": "display_data"
    },
    {
     "data": {
      "text/plain": [
       "<AxesSubplot:xlabel='TIMESTAMP'>"
      ]
     },
     "execution_count": 368,
     "metadata": {},
     "output_type": "execute_result"
    }
   ],
   "source": [
    "df1[['PM2.5_logger (ug/m3)']].plot()"
   ]
  },
  {
   "cell_type": "code",
   "execution_count": 370,
   "metadata": {},
   "outputs": [
    {
     "data": {
      "application/vnd.jupyter.widget-view+json": {
       "model_id": "2b4c191663c841f18ecdf256305f8b7c",
       "version_major": 2,
       "version_minor": 0
      },
      "text/plain": [
       "Canvas(toolbar=Toolbar(toolitems=[('Home', 'Reset original view', 'home', 'home'), ('Back', 'Back to previous …"
      ]
     },
     "metadata": {},
     "output_type": "display_data"
    },
    {
     "data": {
      "text/plain": [
       "<AxesSubplot:xlabel='Date'>"
      ]
     },
     "execution_count": 370,
     "metadata": {},
     "output_type": "execute_result"
    }
   ],
   "source": [
    "df2[['PM2.5 (ug/m3)']].plot()"
   ]
  },
  {
   "cell_type": "code",
   "execution_count": 323,
   "metadata": {},
   "outputs": [],
   "source": [
    "#take a look at the flagged data points\n",
    "#df1[['PM10Flag_logger','PM2.5Flag_logger']].plot(subplots=True)\n",
    "#df2[['PM10Flag']].plot()"
   ]
  },
  {
   "cell_type": "code",
   "execution_count": 324,
   "metadata": {},
   "outputs": [],
   "source": [
    "#change the date column to a scalar\n",
    "#df1.index = df1.index.map(str)\n",
    "\n",
    "#print(df1.dtypes, df1.dtypes, sep='\\n\\n')"
   ]
  },
  {
   "cell_type": "markdown",
   "metadata": {},
   "source": [
    "### SO2 <a id=\"SO2qc\"></a>"
   ]
  },
  {
   "cell_type": "code",
   "execution_count": 326,
   "metadata": {},
   "outputs": [
    {
     "data": {
      "application/vnd.jupyter.widget-view+json": {
       "model_id": "cf173eb5b41b4b25aee08d11fb0d0fe8",
       "version_major": 2,
       "version_minor": 0
      },
      "text/plain": [
       "Canvas(toolbar=Toolbar(toolitems=[('Home', 'Reset original view', 'home', 'home'), ('Back', 'Back to previous …"
      ]
     },
     "metadata": {},
     "output_type": "display_data"
    },
    {
     "data": {
      "text/plain": [
       "<AxesSubplot:xlabel='TIMESTAMP'>"
      ]
     },
     "execution_count": 326,
     "metadata": {},
     "output_type": "execute_result"
    }
   ],
   "source": [
    "#take a look at the data\n",
    "df1[['SO2Raw','SO2 (ppb)']].plot()"
   ]
  },
  {
   "cell_type": "code",
   "execution_count": 327,
   "metadata": {},
   "outputs": [
    {
     "data": {
      "text/plain": [
       "Index(['Ambient_Temperature (degC)', 'Battery_Voltage (V)', 'CO (ppm)',\n",
       "       'Line_Voltage (V)', 'Logger_Temperature (degC)', 'NO (ppb)',\n",
       "       'NO2 (ppb)', 'NOx (ppb)', 'O3 (ppb)', 'PM10 (ug/m3)',\n",
       "       'PM2.5_logger (ug/m3)', 'Rainfall (mm)', 'Relative_Humidity (%)',\n",
       "       'SO2 (ppb)', 'Temperature (degC)', 'Wind_Direction (deg)',\n",
       "       'Wind_Direction_Std (deg)', 'Wind_Speed (m/s)', 'Wind_Speed_Std (m/s)',\n",
       "       'Power_status', 'NO_status', 'NORaw', 'NO2_status', 'NO2Raw',\n",
       "       'O3_status', 'O3Raw', 'PM10_status', 'PM10Raw', 'SO2_status', 'SO2Raw',\n",
       "       'PM10 (ug/m3)_logger'],\n",
       "      dtype='object')"
      ]
     },
     "execution_count": 327,
     "metadata": {},
     "output_type": "execute_result"
    }
   ],
   "source": [
    "df1.columns"
   ]
  },
  {
   "cell_type": "code",
   "execution_count": 328,
   "metadata": {},
   "outputs": [],
   "source": [
    "#create flag variable\n",
    "df1['SO2_status']=nan"
   ]
  },
  {
   "cell_type": "code",
   "execution_count": 329,
   "metadata": {},
   "outputs": [],
   "source": [
    "# Set upper and lower limits \n",
    "df1.loc[df1['SO2 (ppb)']>1000,'SO2_status']=1  #the upper limit was changed from 1000 \n",
    "df1.loc[df1['SO2 (ppb)']>1000,'SO2 (ppb)']=nan\n",
    "\n",
    "df1.loc[df1['SO2 (ppb)']<0.5, 'SO2_status']=2  \n",
    "df1.loc[df1['SO2 (ppb)']<0.5, 'SO2 (ppb)']=nan \n"
   ]
  },
  {
   "cell_type": "code",
   "execution_count": 330,
   "metadata": {},
   "outputs": [],
   "source": [
    "# Additional cleaning for dates:\n",
    "# \"2020-08-05 15:16\"\n",
    "# \"2020-08-05 15:19\"\n",
    "# \"2020-08-05 15:21\"\n",
    "df1.loc[df1['SO2 (ppb)']>900,'SO2_status']=5   \n",
    "df1.loc[df1['SO2 (ppb)']>90,'SO2 (ppb)']=nan\n",
    "    \n",
    "# Why are these dates flagged? (Gabriella)\n",
    "#df1.at['2020-08-05 13:55':'2020-08-05 17:41','SO2 (ppb)']=nan\n",
    "#df1.at['2020-08-05 13:55':'2020-08-05 17:41','SO2Flag']=1\n",
    "#df1.at['2020-08-05 13:55':'2020-08-05 17:41','SO2 (ppb)']=nan\n",
    "#df1.at['2020-08-05 19:23':'2020-08-13 10:27','SO2Flag']=1\n",
    "#df1.at['2020-08-26 14:36':'2020-08-26 14:37','SO2 (ppb)']=nan\n",
    "#df1.at['2020-08-26 14:36':'2020-08-26 14:37','SO2Flag']=1"
   ]
  },
  {
   "cell_type": "markdown",
   "metadata": {},
   "source": [
    "### O3 <a id=\"O3qc\"></a>"
   ]
  },
  {
   "cell_type": "code",
   "execution_count": 360,
   "metadata": {},
   "outputs": [
    {
     "name": "stdout",
     "output_type": "stream",
     "text": [
      "<class 'pandas.core.frame.DataFrame'>\n",
      "DatetimeIndex: 546882 entries, 2020-08-05 13:55:00 to 2021-08-20 08:36:00\n",
      "Freq: T\n",
      "Data columns (total 35 columns):\n",
      " #   Column                      Non-Null Count   Dtype  \n",
      "---  ------                      --------------   -----  \n",
      " 0   Ambient_Temperature (degC)  515574 non-null  float64\n",
      " 1   Battery_Voltage (V)         542041 non-null  float64\n",
      " 2   Line_Voltage (V)            542041 non-null  float64\n",
      " 3   Logger_Temperature (degC)   542041 non-null  float64\n",
      " 4   NO (ppb)                    208349 non-null  float64\n",
      " 5   NO2 (ppb)                   208202 non-null  float64\n",
      " 6   NOx (ppb)                   479062 non-null  float64\n",
      " 7   O3 (ppb)                    422495 non-null  float64\n",
      " 8   PM10 (ug/m3)                308719 non-null  float64\n",
      " 9   PM2.5_logger (ug/m3)        542041 non-null  float64\n",
      " 10  Rainfall (mm)               542041 non-null  float64\n",
      " 11  Relative_Humidity (%)       520355 non-null  float64\n",
      " 12  SO2 (ppb)                   310806 non-null  float64\n",
      " 13  Temperature (degC)          487239 non-null  float64\n",
      " 14  Wind_Direction (deg)        487249 non-null  float64\n",
      " 15  Wind_Direction_Std (deg)    542041 non-null  float64\n",
      " 16  Wind_Speed (m/s)            487249 non-null  float64\n",
      " 17  Wind_Speed_Std (m/s)        487239 non-null  float64\n",
      " 18  Power_status                546882 non-null  int64  \n",
      " 19  NO_status                   546882 non-null  int64  \n",
      " 20  NORaw                       542041 non-null  float64\n",
      " 21  NO2_status                  546882 non-null  int64  \n",
      " 22  NO2Raw                      542041 non-null  float64\n",
      " 23  O3_status                   546882 non-null  int64  \n",
      " 24  O3Raw                       542037 non-null  float64\n",
      " 25  PM10_status                 546882 non-null  int64  \n",
      " 26  PM10Raw                     542041 non-null  float64\n",
      " 27  SO2_status                  144105 non-null  float64\n",
      " 28  SO2Raw                      542041 non-null  float64\n",
      " 29  PM10 (ug/m3)_logger         0 non-null       float64\n",
      " 30  03_status                   0 non-null       float64\n",
      " 31  NOX_status                  247287 non-null  float64\n",
      " 32  TempFlag                    0 non-null       float64\n",
      " 33  RH_flag                     0 non-null       float64\n",
      " 34  RHFlag                      21686 non-null   float64\n",
      "dtypes: float64(30), int64(5)\n",
      "memory usage: 170.2 MB\n"
     ]
    }
   ],
   "source": [
    "df1.info()"
   ]
  },
  {
   "cell_type": "code",
   "execution_count": 332,
   "metadata": {},
   "outputs": [
    {
     "data": {
      "application/vnd.jupyter.widget-view+json": {
       "model_id": "840cdc289ecd41b3ac69c0f8efb0e960",
       "version_major": 2,
       "version_minor": 0
      },
      "text/plain": [
       "Canvas(toolbar=Toolbar(toolitems=[('Home', 'Reset original view', 'home', 'home'), ('Back', 'Back to previous …"
      ]
     },
     "metadata": {},
     "output_type": "display_data"
    },
    {
     "data": {
      "text/plain": [
       "<AxesSubplot:xlabel='TIMESTAMP'>"
      ]
     },
     "execution_count": 332,
     "metadata": {},
     "output_type": "execute_result"
    }
   ],
   "source": [
    "#take a look at the data\n",
    "df1[['O3Raw','O3 (ppb)']].plot()"
   ]
  },
  {
   "cell_type": "code",
   "execution_count": 333,
   "metadata": {},
   "outputs": [],
   "source": [
    "#create flag variables \n",
    "df1['03_status']=nan"
   ]
  },
  {
   "cell_type": "code",
   "execution_count": 334,
   "metadata": {},
   "outputs": [],
   "source": [
    "df1.loc[df1['O3 (ppb)']>400,'O3 (ppb)']=nan\n",
    "df1.loc[df1['O3 (ppb)']>400,'O3_status']=1\n",
    "df1.loc[df1['O3 (ppb)']<0.5,'O3 (ppb)']=nan\n",
    "df1.loc[df1['O3 (ppb)']<0.5,'O3_status']=2\n",
    "\n",
    "#consider lowering the upper limit"
   ]
  },
  {
   "cell_type": "code",
   "execution_count": 335,
   "metadata": {},
   "outputs": [],
   "source": [
    "#specifically remove weird data points\n",
    "df1.at['2020-08-05 14:40:00','O3 (ppb)']=nan\n",
    "df1.at['2020-08-05 14:40:00', 'O3_status']=5\n",
    "\n",
    "df1.at['2020-08-05 15:02:00 ','O3 (ppb)']=nan\n",
    "df1.at['2020-08-05 15:02:00 ', 'O3_status']=5\n",
    "\n",
    "df1.at['2020-08-05 15:06:00','O3 (ppb)']=nan\n",
    "df1.at['2020-08-05 15:06:00', 'O3_status']=5\n",
    "\n",
    "df1.at['2020-08-05 15:08:00','O3 (ppb)']=nan\n",
    "df1.at['2020-08-05 15:08:00', 'O3_status']=5"
   ]
  },
  {
   "cell_type": "code",
   "execution_count": 336,
   "metadata": {},
   "outputs": [],
   "source": [
    "# we should also check these outliers and the spurious peaks\n",
    "# Remove additional peaks?What are the causes of these?\n",
    "#this is incomplete"
   ]
  },
  {
   "cell_type": "markdown",
   "metadata": {},
   "source": [
    "### NO <a id=\"NOqc\"></a>"
   ]
  },
  {
   "cell_type": "code",
   "execution_count": 337,
   "metadata": {},
   "outputs": [
    {
     "data": {
      "application/vnd.jupyter.widget-view+json": {
       "model_id": "806729f68f034e5e89e8b5ff3e3e13e2",
       "version_major": 2,
       "version_minor": 0
      },
      "text/plain": [
       "Canvas(toolbar=Toolbar(toolitems=[('Home', 'Reset original view', 'home', 'home'), ('Back', 'Back to previous …"
      ]
     },
     "metadata": {},
     "output_type": "display_data"
    },
    {
     "data": {
      "text/plain": [
       "array([<AxesSubplot:xlabel='TIMESTAMP'>, <AxesSubplot:xlabel='TIMESTAMP'>],\n",
       "      dtype=object)"
      ]
     },
     "execution_count": 337,
     "metadata": {},
     "output_type": "execute_result"
    }
   ],
   "source": [
    "#take a look at the data\n",
    "df1[['NO (ppb)','NO2 (ppb)']].plot(subplots=True)"
   ]
  },
  {
   "cell_type": "code",
   "execution_count": 338,
   "metadata": {},
   "outputs": [],
   "source": [
    "#create flag variables\n",
    "df1['NOX_status']=nan"
   ]
  },
  {
   "cell_type": "code",
   "execution_count": 339,
   "metadata": {},
   "outputs": [],
   "source": [
    "df1.loc[df1['NO2 (ppb)']>1000,'NOX_status']=1  \n",
    "df1.loc[df1['NO2 (ppb)']>1000,['NO (ppb)','NO2 (ppb)']]=nan\n",
    "df1.loc[df1['NO2 (ppb)']<0.5,'NOX_status']=2\n",
    "df1.loc[df1['NO2 (ppb)']<0.5,['NO (ppb)','NO2 (ppb)']]=nan\n",
    "\n",
    "df1.loc[df1['NO (ppb)']>1000,'NOX_status']=1  \n",
    "df1.loc[df1['NO (ppb)']>1000,['NO (ppb)','NO2 (ppb)']]=nan\n",
    "df1.loc[df1['NO (ppb)']<0.5,'NOX_status']=2\n",
    "df1.loc[df1['NO (ppb)']<0.5,['NO (ppb)','NO2 (ppb)']]=nan\n",
    "\n",
    "#clearly an issue with the baseline values for the NO data, beacuse the peaks match in the time series"
   ]
  },
  {
   "cell_type": "code",
   "execution_count": 340,
   "metadata": {},
   "outputs": [],
   "source": [
    "#specifically remove weird data points\n",
    "df1.loc[df1['NO2 (ppb)']>250,'NOX_status']=5  \n",
    "df1.loc[df1['NO2 (ppb)']>250,['NO2 (ppb)','NO2 (ppb)']]=nan"
   ]
  },
  {
   "cell_type": "markdown",
   "metadata": {},
   "source": [
    "### CO <a id=\"coqc\"></a>"
   ]
  },
  {
   "cell_type": "markdown",
   "metadata": {},
   "source": [
    "There is no CO at Waterval"
   ]
  },
  {
   "cell_type": "code",
   "execution_count": 341,
   "metadata": {},
   "outputs": [],
   "source": [
    "df1=df1.drop('CO (ppm)',axis=1)"
   ]
  },
  {
   "cell_type": "markdown",
   "metadata": {},
   "source": [
    "### Wind speed and -direction <a id=\"wswd\"></a>"
   ]
  },
  {
   "cell_type": "code",
   "execution_count": 342,
   "metadata": {},
   "outputs": [],
   "source": [
    "#change wind speed to a float64/numeric\n",
    "df1[\"Wind_Speed (m/s)\"] = pd.to_numeric(df1[\"Wind_Speed (m/s)\"], errors='coerce')\n",
    "df1.loc[df1['Wind_Speed (m/s)'].isna(),\"Wind_Direction (deg)\"]=nan"
   ]
  },
  {
   "cell_type": "code",
   "execution_count": 343,
   "metadata": {},
   "outputs": [
    {
     "data": {
      "application/vnd.jupyter.widget-view+json": {
       "model_id": "f54009e227f749afbc0b0bc9578deba2",
       "version_major": 2,
       "version_minor": 0
      },
      "text/plain": [
       "Canvas(toolbar=Toolbar(toolitems=[('Home', 'Reset original view', 'home', 'home'), ('Back', 'Back to previous …"
      ]
     },
     "metadata": {},
     "output_type": "display_data"
    },
    {
     "data": {
      "text/html": [
       "<div>\n",
       "<style scoped>\n",
       "    .dataframe tbody tr th:only-of-type {\n",
       "        vertical-align: middle;\n",
       "    }\n",
       "\n",
       "    .dataframe tbody tr th {\n",
       "        vertical-align: top;\n",
       "    }\n",
       "\n",
       "    .dataframe thead th {\n",
       "        text-align: right;\n",
       "    }\n",
       "</style>\n",
       "<table border=\"1\" class=\"dataframe\">\n",
       "  <thead>\n",
       "    <tr style=\"text-align: right;\">\n",
       "      <th></th>\n",
       "      <th>Ambient_Temperature (degC)</th>\n",
       "      <th>Battery_Voltage (V)</th>\n",
       "      <th>Line_Voltage (V)</th>\n",
       "      <th>Logger_Temperature (degC)</th>\n",
       "      <th>NO (ppb)</th>\n",
       "      <th>NO2 (ppb)</th>\n",
       "      <th>NOx (ppb)</th>\n",
       "      <th>O3 (ppb)</th>\n",
       "      <th>PM10 (ug/m3)</th>\n",
       "      <th>PM2.5_logger (ug/m3)</th>\n",
       "      <th>...</th>\n",
       "      <th>NO2Raw</th>\n",
       "      <th>O3_status</th>\n",
       "      <th>O3Raw</th>\n",
       "      <th>PM10_status</th>\n",
       "      <th>PM10Raw</th>\n",
       "      <th>SO2_status</th>\n",
       "      <th>SO2Raw</th>\n",
       "      <th>PM10 (ug/m3)_logger</th>\n",
       "      <th>03_status</th>\n",
       "      <th>NOX_status</th>\n",
       "    </tr>\n",
       "  </thead>\n",
       "  <tbody>\n",
       "    <tr>\n",
       "      <th>count</th>\n",
       "      <td>515574.000000</td>\n",
       "      <td>542041.000000</td>\n",
       "      <td>542041.000000</td>\n",
       "      <td>542041.000000</td>\n",
       "      <td>208349.000000</td>\n",
       "      <td>208202.000000</td>\n",
       "      <td>479062.000000</td>\n",
       "      <td>422495.000000</td>\n",
       "      <td>308719.000000</td>\n",
       "      <td>542041.000000</td>\n",
       "      <td>...</td>\n",
       "      <td>542041.000000</td>\n",
       "      <td>546882.000000</td>\n",
       "      <td>542037.000000</td>\n",
       "      <td>546882.000000</td>\n",
       "      <td>542041.000000</td>\n",
       "      <td>144105.000000</td>\n",
       "      <td>542041.000000</td>\n",
       "      <td>0.0</td>\n",
       "      <td>0.0</td>\n",
       "      <td>247287.000000</td>\n",
       "    </tr>\n",
       "    <tr>\n",
       "      <th>mean</th>\n",
       "      <td>19.788107</td>\n",
       "      <td>13.079200</td>\n",
       "      <td>178.401689</td>\n",
       "      <td>21.767905</td>\n",
       "      <td>4.852346</td>\n",
       "      <td>1.390449</td>\n",
       "      <td>3.489845</td>\n",
       "      <td>28.272597</td>\n",
       "      <td>37.190293</td>\n",
       "      <td>-19.170238</td>\n",
       "      <td>...</td>\n",
       "      <td>-67.855630</td>\n",
       "      <td>0.000037</td>\n",
       "      <td>24.982464</td>\n",
       "      <td>0.255576</td>\n",
       "      <td>-0.100508</td>\n",
       "      <td>2.000604</td>\n",
       "      <td>-0.353234</td>\n",
       "      <td>NaN</td>\n",
       "      <td>NaN</td>\n",
       "      <td>2.001783</td>\n",
       "    </tr>\n",
       "    <tr>\n",
       "      <th>std</th>\n",
       "      <td>7.530206</td>\n",
       "      <td>0.843829</td>\n",
       "      <td>77.706135</td>\n",
       "      <td>6.541833</td>\n",
       "      <td>19.289120</td>\n",
       "      <td>1.311530</td>\n",
       "      <td>13.834479</td>\n",
       "      <td>36.813334</td>\n",
       "      <td>39.697449</td>\n",
       "      <td>66.227957</td>\n",
       "      <td>...</td>\n",
       "      <td>190.505083</td>\n",
       "      <td>0.013522</td>\n",
       "      <td>50.310942</td>\n",
       "      <td>0.667215</td>\n",
       "      <td>85.577331</td>\n",
       "      <td>0.045394</td>\n",
       "      <td>53.478331</td>\n",
       "      <td>NaN</td>\n",
       "      <td>NaN</td>\n",
       "      <td>0.073123</td>\n",
       "    </tr>\n",
       "    <tr>\n",
       "      <th>min</th>\n",
       "      <td>-0.919000</td>\n",
       "      <td>11.018410</td>\n",
       "      <td>-0.203459</td>\n",
       "      <td>-1.886700</td>\n",
       "      <td>0.522681</td>\n",
       "      <td>0.540906</td>\n",
       "      <td>-11.719630</td>\n",
       "      <td>0.506089</td>\n",
       "      <td>0.077859</td>\n",
       "      <td>-1456.093000</td>\n",
       "      <td>...</td>\n",
       "      <td>-604.110000</td>\n",
       "      <td>0.000000</td>\n",
       "      <td>-371.546600</td>\n",
       "      <td>0.000000</td>\n",
       "      <td>-1996.988000</td>\n",
       "      <td>1.000000</td>\n",
       "      <td>-940.460200</td>\n",
       "      <td>NaN</td>\n",
       "      <td>NaN</td>\n",
       "      <td>2.000000</td>\n",
       "    </tr>\n",
       "    <tr>\n",
       "      <th>25%</th>\n",
       "      <td>14.580000</td>\n",
       "      <td>12.267520</td>\n",
       "      <td>209.433000</td>\n",
       "      <td>18.024080</td>\n",
       "      <td>1.465913</td>\n",
       "      <td>1.014885</td>\n",
       "      <td>1.240507</td>\n",
       "      <td>9.291918</td>\n",
       "      <td>14.295870</td>\n",
       "      <td>-67.567580</td>\n",
       "      <td>...</td>\n",
       "      <td>0.112841</td>\n",
       "      <td>0.000000</td>\n",
       "      <td>3.277435</td>\n",
       "      <td>0.000000</td>\n",
       "      <td>1.538016</td>\n",
       "      <td>2.000000</td>\n",
       "      <td>0.000000</td>\n",
       "      <td>NaN</td>\n",
       "      <td>NaN</td>\n",
       "      <td>2.000000</td>\n",
       "    </tr>\n",
       "    <tr>\n",
       "      <th>50%</th>\n",
       "      <td>20.020000</td>\n",
       "      <td>13.256810</td>\n",
       "      <td>212.094100</td>\n",
       "      <td>21.406170</td>\n",
       "      <td>2.933874</td>\n",
       "      <td>1.240415</td>\n",
       "      <td>2.028408</td>\n",
       "      <td>19.735000</td>\n",
       "      <td>26.102120</td>\n",
       "      <td>2.783415</td>\n",
       "      <td>...</td>\n",
       "      <td>1.014199</td>\n",
       "      <td>0.000000</td>\n",
       "      <td>15.033900</td>\n",
       "      <td>0.000000</td>\n",
       "      <td>13.939410</td>\n",
       "      <td>2.000000</td>\n",
       "      <td>1.354298</td>\n",
       "      <td>NaN</td>\n",
       "      <td>NaN</td>\n",
       "      <td>2.000000</td>\n",
       "    </tr>\n",
       "    <tr>\n",
       "      <th>75%</th>\n",
       "      <td>24.940000</td>\n",
       "      <td>13.993030</td>\n",
       "      <td>213.427900</td>\n",
       "      <td>25.263660</td>\n",
       "      <td>4.175131</td>\n",
       "      <td>1.576576</td>\n",
       "      <td>4.182208</td>\n",
       "      <td>33.553295</td>\n",
       "      <td>44.842120</td>\n",
       "      <td>16.545400</td>\n",
       "      <td>...</td>\n",
       "      <td>1.240835</td>\n",
       "      <td>0.000000</td>\n",
       "      <td>29.457040</td>\n",
       "      <td>0.000000</td>\n",
       "      <td>33.591730</td>\n",
       "      <td>2.000000</td>\n",
       "      <td>4.172304</td>\n",
       "      <td>NaN</td>\n",
       "      <td>NaN</td>\n",
       "      <td>2.000000</td>\n",
       "    </tr>\n",
       "    <tr>\n",
       "      <th>max</th>\n",
       "      <td>41.150000</td>\n",
       "      <td>14.008560</td>\n",
       "      <td>228.622300</td>\n",
       "      <td>52.932140</td>\n",
       "      <td>617.647200</td>\n",
       "      <td>175.409800</td>\n",
       "      <td>621.703900</td>\n",
       "      <td>399.989200</td>\n",
       "      <td>476.832600</td>\n",
       "      <td>747.013900</td>\n",
       "      <td>...</td>\n",
       "      <td>617.196400</td>\n",
       "      <td>5.000000</td>\n",
       "      <td>4622.155000</td>\n",
       "      <td>2.000000</td>\n",
       "      <td>996.866800</td>\n",
       "      <td>5.000000</td>\n",
       "      <td>1208.164000</td>\n",
       "      <td>NaN</td>\n",
       "      <td>NaN</td>\n",
       "      <td>5.000000</td>\n",
       "    </tr>\n",
       "  </tbody>\n",
       "</table>\n",
       "<p>8 rows × 32 columns</p>\n",
       "</div>"
      ],
      "text/plain": [
       "       Ambient_Temperature (degC)  Battery_Voltage (V)  Line_Voltage (V)  \\\n",
       "count               515574.000000        542041.000000     542041.000000   \n",
       "mean                    19.788107            13.079200        178.401689   \n",
       "std                      7.530206             0.843829         77.706135   \n",
       "min                     -0.919000            11.018410         -0.203459   \n",
       "25%                     14.580000            12.267520        209.433000   \n",
       "50%                     20.020000            13.256810        212.094100   \n",
       "75%                     24.940000            13.993030        213.427900   \n",
       "max                     41.150000            14.008560        228.622300   \n",
       "\n",
       "       Logger_Temperature (degC)       NO (ppb)      NO2 (ppb)      NOx (ppb)  \\\n",
       "count              542041.000000  208349.000000  208202.000000  479062.000000   \n",
       "mean                   21.767905       4.852346       1.390449       3.489845   \n",
       "std                     6.541833      19.289120       1.311530      13.834479   \n",
       "min                    -1.886700       0.522681       0.540906     -11.719630   \n",
       "25%                    18.024080       1.465913       1.014885       1.240507   \n",
       "50%                    21.406170       2.933874       1.240415       2.028408   \n",
       "75%                    25.263660       4.175131       1.576576       4.182208   \n",
       "max                    52.932140     617.647200     175.409800     621.703900   \n",
       "\n",
       "            O3 (ppb)   PM10 (ug/m3)  PM2.5_logger (ug/m3)  ...         NO2Raw  \\\n",
       "count  422495.000000  308719.000000         542041.000000  ...  542041.000000   \n",
       "mean       28.272597      37.190293            -19.170238  ...     -67.855630   \n",
       "std        36.813334      39.697449             66.227957  ...     190.505083   \n",
       "min         0.506089       0.077859          -1456.093000  ...    -604.110000   \n",
       "25%         9.291918      14.295870            -67.567580  ...       0.112841   \n",
       "50%        19.735000      26.102120              2.783415  ...       1.014199   \n",
       "75%        33.553295      44.842120             16.545400  ...       1.240835   \n",
       "max       399.989200     476.832600            747.013900  ...     617.196400   \n",
       "\n",
       "           O3_status          O3Raw    PM10_status        PM10Raw  \\\n",
       "count  546882.000000  542037.000000  546882.000000  542041.000000   \n",
       "mean        0.000037      24.982464       0.255576      -0.100508   \n",
       "std         0.013522      50.310942       0.667215      85.577331   \n",
       "min         0.000000    -371.546600       0.000000   -1996.988000   \n",
       "25%         0.000000       3.277435       0.000000       1.538016   \n",
       "50%         0.000000      15.033900       0.000000      13.939410   \n",
       "75%         0.000000      29.457040       0.000000      33.591730   \n",
       "max         5.000000    4622.155000       2.000000     996.866800   \n",
       "\n",
       "          SO2_status         SO2Raw  PM10 (ug/m3)_logger  03_status  \\\n",
       "count  144105.000000  542041.000000                  0.0        0.0   \n",
       "mean        2.000604      -0.353234                  NaN        NaN   \n",
       "std         0.045394      53.478331                  NaN        NaN   \n",
       "min         1.000000    -940.460200                  NaN        NaN   \n",
       "25%         2.000000       0.000000                  NaN        NaN   \n",
       "50%         2.000000       1.354298                  NaN        NaN   \n",
       "75%         2.000000       4.172304                  NaN        NaN   \n",
       "max         5.000000    1208.164000                  NaN        NaN   \n",
       "\n",
       "          NOX_status  \n",
       "count  247287.000000  \n",
       "mean        2.001783  \n",
       "std         0.073123  \n",
       "min         2.000000  \n",
       "25%         2.000000  \n",
       "50%         2.000000  \n",
       "75%         2.000000  \n",
       "max         5.000000  \n",
       "\n",
       "[8 rows x 32 columns]"
      ]
     },
     "execution_count": 343,
     "metadata": {},
     "output_type": "execute_result"
    }
   ],
   "source": [
    "#take a look at the data\n",
    "df1[['Wind_Direction (deg)','Wind_Speed (m/s)']].plot(subplots=True)\n",
    "df1.describe()"
   ]
  },
  {
   "cell_type": "markdown",
   "metadata": {},
   "source": [
    "### Temperature and relative humidity <a id=\"temprelhum\"></a>"
   ]
  },
  {
   "cell_type": "code",
   "execution_count": 371,
   "metadata": {},
   "outputs": [
    {
     "data": {
      "application/vnd.jupyter.widget-view+json": {
       "model_id": "6323477c41ce4a8f8f07a4c086bb5ce1",
       "version_major": 2,
       "version_minor": 0
      },
      "text/plain": [
       "Canvas(toolbar=Toolbar(toolitems=[('Home', 'Reset original view', 'home', 'home'), ('Back', 'Back to previous …"
      ]
     },
     "metadata": {},
     "output_type": "display_data"
    },
    {
     "data": {
      "application/vnd.jupyter.widget-view+json": {
       "model_id": "7387e39324c045d1bde9bd2a5d198b17",
       "version_major": 2,
       "version_minor": 0
      },
      "text/plain": [
       "Canvas(toolbar=Toolbar(toolitems=[('Home', 'Reset original view', 'home', 'home'), ('Back', 'Back to previous …"
      ]
     },
     "metadata": {},
     "output_type": "display_data"
    },
    {
     "data": {
      "text/plain": [
       "<AxesSubplot:xlabel='TIMESTAMP'>"
      ]
     },
     "execution_count": 371,
     "metadata": {},
     "output_type": "execute_result"
    }
   ],
   "source": [
    "#take a look at the data\n",
    "df1[['Logger_Temperature (degC)']].plot()\n",
    "df1[['Relative_Humidity (%)']].plot()"
   ]
  },
  {
   "cell_type": "code",
   "execution_count": 372,
   "metadata": {},
   "outputs": [],
   "source": [
    "plt.clf()"
   ]
  },
  {
   "cell_type": "code",
   "execution_count": 373,
   "metadata": {},
   "outputs": [],
   "source": [
    "#create flag variables\n",
    "df1['TempFlag']=nan\n",
    "df1['RH_flag']=nan"
   ]
  },
  {
   "cell_type": "code",
   "execution_count": 347,
   "metadata": {},
   "outputs": [],
   "source": [
    "df1.loc[df1['Logger_Temperature (degC)']< -40,'TempFlag']=1\n",
    "df1.loc[df1['Logger_Temperature (degC)']< -40,['Logger_Temperature (degC)']]=nan\n",
    "df1.loc[df1['Logger_Temperature (degC)']> 70,'TempFlag']=1\n",
    "df1.loc[df1['Logger_Temperature (degC)']> 70,['Logger_Temperature (degC)']]=nan"
   ]
  },
  {
   "cell_type": "code",
   "execution_count": 348,
   "metadata": {},
   "outputs": [],
   "source": [
    "df1.loc[df1['Relative_Humidity (%)']<=0,'RHFlag']=1\n",
    "df1.loc[df1['Relative_Humidity (%)']<=0,['Relative_Humidity (%)']]=nan\n",
    "df1.loc[df1['Relative_Humidity (%)']>=100,'RHFlag']=1\n",
    "df1.loc[df1['Relative_Humidity (%)']>=100,['Relative_Humidity (%)']]=nan"
   ]
  },
  {
   "cell_type": "code",
   "execution_count": 349,
   "metadata": {},
   "outputs": [],
   "source": [
    "#create dataframes with those flagged days \n",
    "df1_TempFlag = df1.loc[df1['TempFlag'] == 1]\n",
    "df1_RHFlag = df1.loc[df1['RHFlag'] == 1]"
   ]
  },
  {
   "cell_type": "code",
   "execution_count": 350,
   "metadata": {},
   "outputs": [
    {
     "data": {
      "text/html": [
       "<div>\n",
       "<style scoped>\n",
       "    .dataframe tbody tr th:only-of-type {\n",
       "        vertical-align: middle;\n",
       "    }\n",
       "\n",
       "    .dataframe tbody tr th {\n",
       "        vertical-align: top;\n",
       "    }\n",
       "\n",
       "    .dataframe thead th {\n",
       "        text-align: right;\n",
       "    }\n",
       "</style>\n",
       "<table border=\"1\" class=\"dataframe\">\n",
       "  <thead>\n",
       "    <tr style=\"text-align: right;\">\n",
       "      <th></th>\n",
       "      <th>Ambient_Temperature (degC)</th>\n",
       "      <th>Battery_Voltage (V)</th>\n",
       "      <th>Line_Voltage (V)</th>\n",
       "      <th>Logger_Temperature (degC)</th>\n",
       "      <th>NO (ppb)</th>\n",
       "      <th>NO2 (ppb)</th>\n",
       "      <th>NOx (ppb)</th>\n",
       "      <th>O3 (ppb)</th>\n",
       "      <th>PM10 (ug/m3)</th>\n",
       "      <th>PM2.5_logger (ug/m3)</th>\n",
       "      <th>...</th>\n",
       "      <th>PM10_status</th>\n",
       "      <th>PM10Raw</th>\n",
       "      <th>SO2_status</th>\n",
       "      <th>SO2Raw</th>\n",
       "      <th>PM10 (ug/m3)_logger</th>\n",
       "      <th>03_status</th>\n",
       "      <th>NOX_status</th>\n",
       "      <th>TempFlag</th>\n",
       "      <th>RH_flag</th>\n",
       "      <th>RHFlag</th>\n",
       "    </tr>\n",
       "    <tr>\n",
       "      <th>TIMESTAMP</th>\n",
       "      <th></th>\n",
       "      <th></th>\n",
       "      <th></th>\n",
       "      <th></th>\n",
       "      <th></th>\n",
       "      <th></th>\n",
       "      <th></th>\n",
       "      <th></th>\n",
       "      <th></th>\n",
       "      <th></th>\n",
       "      <th></th>\n",
       "      <th></th>\n",
       "      <th></th>\n",
       "      <th></th>\n",
       "      <th></th>\n",
       "      <th></th>\n",
       "      <th></th>\n",
       "      <th></th>\n",
       "      <th></th>\n",
       "      <th></th>\n",
       "      <th></th>\n",
       "    </tr>\n",
       "  </thead>\n",
       "  <tbody>\n",
       "    <tr>\n",
       "      <th>2020-11-26 13:48:00</th>\n",
       "      <td>NaN</td>\n",
       "      <td>11.89488</td>\n",
       "      <td>207.8923</td>\n",
       "      <td>31.86096</td>\n",
       "      <td>2.704530</td>\n",
       "      <td>0.737599</td>\n",
       "      <td>5.040261</td>\n",
       "      <td>30.07807</td>\n",
       "      <td>NaN</td>\n",
       "      <td>15.14537</td>\n",
       "      <td>...</td>\n",
       "      <td>0</td>\n",
       "      <td>1.392527</td>\n",
       "      <td>NaN</td>\n",
       "      <td>1.966931</td>\n",
       "      <td>NaN</td>\n",
       "      <td>NaN</td>\n",
       "      <td>NaN</td>\n",
       "      <td>NaN</td>\n",
       "      <td>NaN</td>\n",
       "      <td>1.0</td>\n",
       "    </tr>\n",
       "    <tr>\n",
       "      <th>2020-11-26 13:49:00</th>\n",
       "      <td>NaN</td>\n",
       "      <td>11.89940</td>\n",
       "      <td>207.8939</td>\n",
       "      <td>31.88834</td>\n",
       "      <td>3.267974</td>\n",
       "      <td>1.126888</td>\n",
       "      <td>4.732928</td>\n",
       "      <td>30.30933</td>\n",
       "      <td>NaN</td>\n",
       "      <td>14.96507</td>\n",
       "      <td>...</td>\n",
       "      <td>0</td>\n",
       "      <td>1.761326</td>\n",
       "      <td>NaN</td>\n",
       "      <td>1.915709</td>\n",
       "      <td>NaN</td>\n",
       "      <td>NaN</td>\n",
       "      <td>NaN</td>\n",
       "      <td>NaN</td>\n",
       "      <td>NaN</td>\n",
       "      <td>1.0</td>\n",
       "    </tr>\n",
       "    <tr>\n",
       "      <th>2020-11-26 13:50:00</th>\n",
       "      <td>NaN</td>\n",
       "      <td>11.88697</td>\n",
       "      <td>207.8770</td>\n",
       "      <td>31.93353</td>\n",
       "      <td>5.183683</td>\n",
       "      <td>1.014199</td>\n",
       "      <td>4.845617</td>\n",
       "      <td>28.41954</td>\n",
       "      <td>NaN</td>\n",
       "      <td>14.87492</td>\n",
       "      <td>...</td>\n",
       "      <td>0</td>\n",
       "      <td>1.310571</td>\n",
       "      <td>NaN</td>\n",
       "      <td>1.915709</td>\n",
       "      <td>NaN</td>\n",
       "      <td>NaN</td>\n",
       "      <td>NaN</td>\n",
       "      <td>NaN</td>\n",
       "      <td>NaN</td>\n",
       "      <td>1.0</td>\n",
       "    </tr>\n",
       "    <tr>\n",
       "      <th>2020-11-26 13:51:00</th>\n",
       "      <td>NaN</td>\n",
       "      <td>11.89663</td>\n",
       "      <td>207.9108</td>\n",
       "      <td>31.99076</td>\n",
       "      <td>4.056796</td>\n",
       "      <td>0.563444</td>\n",
       "      <td>4.845617</td>\n",
       "      <td>28.46800</td>\n",
       "      <td>NaN</td>\n",
       "      <td>15.14537</td>\n",
       "      <td>...</td>\n",
       "      <td>0</td>\n",
       "      <td>1.648637</td>\n",
       "      <td>NaN</td>\n",
       "      <td>2.028398</td>\n",
       "      <td>NaN</td>\n",
       "      <td>NaN</td>\n",
       "      <td>NaN</td>\n",
       "      <td>NaN</td>\n",
       "      <td>NaN</td>\n",
       "      <td>1.0</td>\n",
       "    </tr>\n",
       "    <tr>\n",
       "      <th>2020-11-26 13:52:00</th>\n",
       "      <td>NaN</td>\n",
       "      <td>11.89019</td>\n",
       "      <td>207.9108</td>\n",
       "      <td>32.04329</td>\n",
       "      <td>NaN</td>\n",
       "      <td>NaN</td>\n",
       "      <td>5.070994</td>\n",
       "      <td>29.53403</td>\n",
       "      <td>NaN</td>\n",
       "      <td>14.96507</td>\n",
       "      <td>...</td>\n",
       "      <td>0</td>\n",
       "      <td>1.761326</td>\n",
       "      <td>NaN</td>\n",
       "      <td>2.141087</td>\n",
       "      <td>NaN</td>\n",
       "      <td>NaN</td>\n",
       "      <td>2.0</td>\n",
       "      <td>NaN</td>\n",
       "      <td>NaN</td>\n",
       "      <td>1.0</td>\n",
       "    </tr>\n",
       "  </tbody>\n",
       "</table>\n",
       "<p>5 rows × 35 columns</p>\n",
       "</div>"
      ],
      "text/plain": [
       "                     Ambient_Temperature (degC)  Battery_Voltage (V)  \\\n",
       "TIMESTAMP                                                              \n",
       "2020-11-26 13:48:00                         NaN             11.89488   \n",
       "2020-11-26 13:49:00                         NaN             11.89940   \n",
       "2020-11-26 13:50:00                         NaN             11.88697   \n",
       "2020-11-26 13:51:00                         NaN             11.89663   \n",
       "2020-11-26 13:52:00                         NaN             11.89019   \n",
       "\n",
       "                     Line_Voltage (V)  Logger_Temperature (degC)  NO (ppb)  \\\n",
       "TIMESTAMP                                                                    \n",
       "2020-11-26 13:48:00          207.8923                   31.86096  2.704530   \n",
       "2020-11-26 13:49:00          207.8939                   31.88834  3.267974   \n",
       "2020-11-26 13:50:00          207.8770                   31.93353  5.183683   \n",
       "2020-11-26 13:51:00          207.9108                   31.99076  4.056796   \n",
       "2020-11-26 13:52:00          207.9108                   32.04329       NaN   \n",
       "\n",
       "                     NO2 (ppb)  NOx (ppb)  O3 (ppb)  PM10 (ug/m3)  \\\n",
       "TIMESTAMP                                                           \n",
       "2020-11-26 13:48:00   0.737599   5.040261  30.07807           NaN   \n",
       "2020-11-26 13:49:00   1.126888   4.732928  30.30933           NaN   \n",
       "2020-11-26 13:50:00   1.014199   4.845617  28.41954           NaN   \n",
       "2020-11-26 13:51:00   0.563444   4.845617  28.46800           NaN   \n",
       "2020-11-26 13:52:00        NaN   5.070994  29.53403           NaN   \n",
       "\n",
       "                     PM2.5_logger (ug/m3)  ...  PM10_status   PM10Raw  \\\n",
       "TIMESTAMP                                  ...                          \n",
       "2020-11-26 13:48:00              15.14537  ...            0  1.392527   \n",
       "2020-11-26 13:49:00              14.96507  ...            0  1.761326   \n",
       "2020-11-26 13:50:00              14.87492  ...            0  1.310571   \n",
       "2020-11-26 13:51:00              15.14537  ...            0  1.648637   \n",
       "2020-11-26 13:52:00              14.96507  ...            0  1.761326   \n",
       "\n",
       "                     SO2_status    SO2Raw  PM10 (ug/m3)_logger  03_status  \\\n",
       "TIMESTAMP                                                                   \n",
       "2020-11-26 13:48:00         NaN  1.966931                  NaN        NaN   \n",
       "2020-11-26 13:49:00         NaN  1.915709                  NaN        NaN   \n",
       "2020-11-26 13:50:00         NaN  1.915709                  NaN        NaN   \n",
       "2020-11-26 13:51:00         NaN  2.028398                  NaN        NaN   \n",
       "2020-11-26 13:52:00         NaN  2.141087                  NaN        NaN   \n",
       "\n",
       "                     NOX_status  TempFlag  RH_flag  RHFlag  \n",
       "TIMESTAMP                                                   \n",
       "2020-11-26 13:48:00         NaN       NaN      NaN     1.0  \n",
       "2020-11-26 13:49:00         NaN       NaN      NaN     1.0  \n",
       "2020-11-26 13:50:00         NaN       NaN      NaN     1.0  \n",
       "2020-11-26 13:51:00         NaN       NaN      NaN     1.0  \n",
       "2020-11-26 13:52:00         2.0       NaN      NaN     1.0  \n",
       "\n",
       "[5 rows x 35 columns]"
      ]
     },
     "execution_count": 350,
     "metadata": {},
     "output_type": "execute_result"
    }
   ],
   "source": [
    "df1_TempFlag.head()\n",
    "df1_RHFlag.head()"
   ]
  },
  {
   "cell_type": "code",
   "execution_count": 351,
   "metadata": {},
   "outputs": [
    {
     "data": {
      "application/vnd.jupyter.widget-view+json": {
       "model_id": "475ea612c93b4faa9d456fa41a5e72d0",
       "version_major": 2,
       "version_minor": 0
      },
      "text/plain": [
       "Canvas(toolbar=Toolbar(toolitems=[('Home', 'Reset original view', 'home', 'home'), ('Back', 'Back to previous …"
      ]
     },
     "metadata": {},
     "output_type": "display_data"
    },
    {
     "data": {
      "application/vnd.jupyter.widget-view+json": {
       "model_id": "c4b225d0374045449e45d256757bb911",
       "version_major": 2,
       "version_minor": 0
      },
      "text/plain": [
       "Canvas(toolbar=Toolbar(toolitems=[('Home', 'Reset original view', 'home', 'home'), ('Back', 'Back to previous …"
      ]
     },
     "metadata": {},
     "output_type": "display_data"
    },
    {
     "data": {
      "text/plain": [
       "<AxesSubplot:xlabel='TIMESTAMP'>"
      ]
     },
     "execution_count": 351,
     "metadata": {},
     "output_type": "execute_result"
    }
   ],
   "source": [
    "#take a look at the cleaned data\n",
    "df1[['Logger_Temperature (degC)']].plot()\n",
    "df1[['Relative_Humidity (%)']].plot()"
   ]
  },
  {
   "cell_type": "markdown",
   "metadata": {},
   "source": [
    "## Merging and exporting the 3 data streams  <a id=\"mergeExportStreams\"></a>\n",
    "[Go to the top](#top)"
   ]
  },
  {
   "cell_type": "code",
   "execution_count": 352,
   "metadata": {},
   "outputs": [
    {
     "name": "stderr",
     "output_type": "stream",
     "text": [
      "/home/roelof/jupyter/envs/conda-python3-env/lib/python3.7/site-packages/pandas/plotting/_matplotlib/core.py:328: RuntimeWarning: More than 20 figures have been opened. Figures created through the pyplot interface (`matplotlib.pyplot.figure`) are retained until explicitly closed and may consume too much memory. (To control this warning, see the rcParam `figure.max_open_warning`).\n",
      "  fig = self.plt.figure(figsize=self.figsize)\n"
     ]
    },
    {
     "data": {
      "application/vnd.jupyter.widget-view+json": {
       "model_id": "075eeb629ba74e70b7c45a843ee2a4da",
       "version_major": 2,
       "version_minor": 0
      },
      "text/plain": [
       "Canvas(toolbar=Toolbar(toolitems=[('Home', 'Reset original view', 'home', 'home'), ('Back', 'Back to previous …"
      ]
     },
     "metadata": {},
     "output_type": "display_data"
    },
    {
     "data": {
      "text/plain": [
       "<AxesSubplot:xlabel='TIMESTAMP'>"
      ]
     },
     "execution_count": 352,
     "metadata": {},
     "output_type": "execute_result"
    }
   ],
   "source": [
    "df1[['SO2 (ppb)']].plot()"
   ]
  },
  {
   "cell_type": "markdown",
   "metadata": {},
   "source": [
    "### Merging the data <a id=\"mergeStreams\"></a>"
   ]
  },
  {
   "cell_type": "code",
   "execution_count": 353,
   "metadata": {},
   "outputs": [],
   "source": [
    "Allvars=[\"Wind_Speed (m/s)\",\n",
    "\"Wind_Direction (deg)\",\n",
    "\"Ambient_Temperature (degC)\",\n",
    "\"Relative_Humidity (%)\",\n",
    "\"Rainfall (mm)\",\n",
    "\"SO2 (ppb)\",\n",
    "\"NO (ppb)\",\n",
    "\"NO2 (ppb)\",\n",
    "\"NOx (ppb)\",\n",
    "\"O3 (ppb)\",\n",
    "\"PM10 (ug/m3)\",\n",
    "\"PM2.5 (ug/m3)\"]"
   ]
  },
  {
   "cell_type": "code",
   "execution_count": 374,
   "metadata": {},
   "outputs": [],
   "source": [
    "#df1=df1.resample('1min').first()\n",
    "#df2=df2.resample('1min').mean()\n",
    "dfW=pd.concat([df1,df2],axis=1)\n",
    "dfW.index.name=\"Date\""
   ]
  },
  {
   "cell_type": "code",
   "execution_count": 375,
   "metadata": {},
   "outputs": [
    {
     "name": "stdout",
     "output_type": "stream",
     "text": [
      "<class 'pandas.core.frame.DataFrame'>\n",
      "DatetimeIndex: 546882 entries, 2020-08-05 13:55:00 to 2021-08-20 08:36:00\n",
      "Freq: T\n",
      "Data columns (total 50 columns):\n",
      " #   Column                         Non-Null Count   Dtype  \n",
      "---  ------                         --------------   -----  \n",
      " 0   Ambient_Temperature (degC)     515574 non-null  float64\n",
      " 1   Battery_Voltage (V)            542041 non-null  float64\n",
      " 2   Line_Voltage (V)               542041 non-null  float64\n",
      " 3   Logger_Temperature (degC)      542041 non-null  float64\n",
      " 4   NO (ppb)                       208349 non-null  float64\n",
      " 5   NO2 (ppb)                      208202 non-null  float64\n",
      " 6   NOx (ppb)                      479062 non-null  float64\n",
      " 7   O3 (ppb)                       422495 non-null  float64\n",
      " 8   PM10 (ug/m3)                   308719 non-null  float64\n",
      " 9   PM2.5_logger (ug/m3)           542041 non-null  float64\n",
      " 10  Rainfall (mm)                  542041 non-null  float64\n",
      " 11  Relative_Humidity (%)          520355 non-null  float64\n",
      " 12  SO2 (ppb)                      310806 non-null  float64\n",
      " 13  Temperature (degC)             487239 non-null  float64\n",
      " 14  Wind_Direction (deg)           487249 non-null  float64\n",
      " 15  Wind_Direction_Std (deg)       542041 non-null  float64\n",
      " 16  Wind_Speed (m/s)               487249 non-null  float64\n",
      " 17  Wind_Speed_Std (m/s)           487239 non-null  float64\n",
      " 18  Power_status                   546882 non-null  int64  \n",
      " 19  NO_status                      546882 non-null  int64  \n",
      " 20  NORaw                          542041 non-null  float64\n",
      " 21  NO2_status                     546882 non-null  int64  \n",
      " 22  NO2Raw                         542041 non-null  float64\n",
      " 23  O3_status                      546882 non-null  int64  \n",
      " 24  O3Raw                          542037 non-null  float64\n",
      " 25  PM10_status                    546882 non-null  int64  \n",
      " 26  PM10Raw                        542041 non-null  float64\n",
      " 27  SO2_status                     144105 non-null  float64\n",
      " 28  SO2Raw                         542041 non-null  float64\n",
      " 29  PM10 (ug/m3)_logger            0 non-null       float64\n",
      " 30  03_status                      0 non-null       float64\n",
      " 31  NOX_status                     247287 non-null  float64\n",
      " 32  TempFlag                       0 non-null       float64\n",
      " 33  RH_flag                        0 non-null       float64\n",
      " 34  RHFlag                         21686 non-null   float64\n",
      " 35  PM2.5 (ug/m3)                  1360 non-null    float64\n",
      " 36  PM2.5_ConcHR (ug/m3)           67076 non-null   float64\n",
      " 37  PM2.5_Flow (lpm)               67076 non-null   float64\n",
      " 38  PM2.5_Wind_Speed (m/s)         67076 non-null   float64\n",
      " 39  PM2.5_Wind_Direction (Deg)     67076 non-null   float64\n",
      " 40  PM2.5_Ambient_Temperature (C)  67076 non-null   float64\n",
      " 41  PM2.5_Relative_Humidity (%)    67076 non-null   float64\n",
      " 42  PM2.5_BP (mmHg)                67076 non-null   float64\n",
      " 43  PM2.5_FT (C)                   67076 non-null   float64\n",
      " 44  PM2.5_FRH (%)                  67076 non-null   float64\n",
      " 45  PM2.5_Battery_Voltage (V)      67076 non-null   float64\n",
      " 46  PM2.5_PM (none)                67076 non-null   float64\n",
      " 47  PM2.5_Status (none)            0 non-null       float64\n",
      " 48  PM2.5_status                   162971 non-null  float64\n",
      " 49  PM2.5Raw                       67076 non-null   float64\n",
      "dtypes: float64(45), int64(5)\n",
      "memory usage: 232.8 MB\n"
     ]
    }
   ],
   "source": [
    "dfW.info()"
   ]
  },
  {
   "cell_type": "code",
   "execution_count": 376,
   "metadata": {},
   "outputs": [],
   "source": [
    "#lastly, write the final dataframe to a csv file\n",
    "dfW.to_csv(Path(FinalDataDir / 'RustenburgWaterval_level2_20210820.csv'))"
   ]
  },
  {
   "cell_type": "code",
   "execution_count": 10,
   "metadata": {},
   "outputs": [
    {
     "data": {
      "text/plain": [
       "['ES642-data-level0.csv',\n",
       " 'Roadside_Round2_Raw',\n",
       " 'ES642-data-level1.csv',\n",
       " 'Northam_data_level2.csv',\n",
       " 'AngloSA_ES642_2020_2021_Level0.csv',\n",
       " 'Full_roadside',\n",
       " 'Northam_data_level2_20210901.csv',\n",
       " 'RustenburgWaterval_level2_20210810.csv',\n",
       " 'GM5000_raw',\n",
       " 'Rustenburg-Roadside',\n",
       " 'Northam_data_level2_20210519.csv',\n",
       " 'RustenburgWaterval_level2_20210518.csv',\n",
       " 'Sifekile_GM5000_level1.csv',\n",
       " 'RustenburgWaterval_level1.csv',\n",
       " 'Mantserre_updated_20210518.csv',\n",
       " 'Northam_data_level2_2021810.csv',\n",
       " 'RustenburgWaterval_level2_20210820.csv',\n",
       " 'Northam-Roadside',\n",
       " 'RustenburgWaterval_level2.csv',\n",
       " 'Road Dust Monitoring technical Report.docx',\n",
       " 'Mantserre_GM5000.csv',\n",
       " 'RoadsideConsolidated',\n",
       " 'ES642-summary.csv',\n",
       " 'Waterval_data.csv',\n",
       " 'Northam_data.csv',\n",
       " 'Northam_data_level1.csv',\n",
       " 'Mantserre.csv']"
      ]
     },
     "execution_count": 10,
     "metadata": {},
     "output_type": "execute_result"
    }
   ],
   "source": [
    "os.listdir(Path(FinalDataDir))"
   ]
  },
  {
   "cell_type": "code",
   "execution_count": 15,
   "metadata": {},
   "outputs": [],
   "source": [
    "dfW = pd.read_csv(Path(FinalDataDir / 'Northam_data_level1.csv'), parse_dates=[0], index_col=0)"
   ]
  },
  {
   "cell_type": "code",
   "execution_count": 12,
   "metadata": {},
   "outputs": [
    {
     "name": "stdout",
     "output_type": "stream",
     "text": [
      "PM2.5_logger (ug/m3)\n",
      "PM2.5_logger_status\n",
      "PM2.5_loggerRaw\n",
      "PM2.5 (ug/m3)\n",
      "PM2.5_ConcHR (ug/m3)\n",
      "PM2.5_Flow (lpm)\n",
      "PM2.5_Wind_Speed (m/s)\n",
      "PM2.5_Wind_Direction (Deg)\n",
      "PM2.5_Ambient_Temperature (C)\n",
      "PM2.5_Relative_Humidity (%)\n",
      "PM2.5_BP (mmHg)\n",
      "PM2.5_FT (C)\n",
      "PM2.5_FRH (%)\n",
      "PM2.5_Battery_Voltage (V)\n",
      "PM2.5_PM (none)\n",
      "PM2.5_Status (none)\n"
     ]
    }
   ],
   "source": [
    "for i in dfW:\n",
    "    if i.startswith(\"PM2.5\"):\n",
    "        print(i)"
   ]
  },
  {
   "cell_type": "code",
   "execution_count": 13,
   "metadata": {},
   "outputs": [],
   "source": [
    "PMvars = ['PM2.5 (ug/m3)',\n",
    "            'PM2.5_ConcHR (ug/m3)',\n",
    "            'PM2.5_Flow (lpm)',\n",
    "            'PM2.5_Wind_Speed (m/s)',\n",
    "            'PM2.5_Wind_Direction (Deg)',\n",
    "            'PM2.5_Ambient_Temperature (C)',\n",
    "            'PM2.5_Relative_Humidity (%)',\n",
    "            'PM2.5_BP (mmHg)',\n",
    "            'PM2.5_FT (C)',\n",
    "            'PM2.5_FRH (%)',\n",
    "            'PM2.5_Battery_Voltage (V)',\n",
    "            'PM2.5_PM (none)',\n",
    "            'PM2.5_Status (none)',\n",
    "            'PM2.5_status',\n",
    "            'PM2.5Raw']"
   ]
  },
  {
   "cell_type": "code",
   "execution_count": 16,
   "metadata": {},
   "outputs": [
    {
     "data": {
      "application/vnd.jupyter.widget-view+json": {
       "model_id": "0f16e670ace447abaf970bc09b470eea",
       "version_major": 2,
       "version_minor": 0
      },
      "text/plain": [
       "Canvas(toolbar=Toolbar(toolitems=[('Home', 'Reset original view', 'home', 'home'), ('Back', 'Back to previous …"
      ]
     },
     "metadata": {},
     "output_type": "display_data"
    },
    {
     "data": {
      "text/plain": [
       "array([<AxesSubplot:xlabel='Date'>], dtype=object)"
      ]
     },
     "execution_count": 16,
     "metadata": {},
     "output_type": "execute_result"
    }
   ],
   "source": [
    "dfW[['PM2.5_logger (ug/m3)']].plot(subplots=True, sharex=True)"
   ]
  },
  {
   "cell_type": "code",
   "execution_count": 379,
   "metadata": {},
   "outputs": [
    {
     "data": {
      "application/vnd.jupyter.widget-view+json": {
       "model_id": "57c4ce0cd4e347bc93e14ebbfa44c3d6",
       "version_major": 2,
       "version_minor": 0
      },
      "text/plain": [
       "Canvas(toolbar=Toolbar(toolitems=[('Home', 'Reset original view', 'home', 'home'), ('Back', 'Back to previous …"
      ]
     },
     "metadata": {},
     "output_type": "display_data"
    },
    {
     "data": {
      "text/plain": [
       "array([<AxesSubplot:ylabel='Frequency'>], dtype=object)"
      ]
     },
     "execution_count": 379,
     "metadata": {},
     "output_type": "execute_result"
    }
   ],
   "source": [
    "(np.log(dfW[['PM10 (ug/m3)']].dropna().resample('1H').mean())).replace(-np.inf, np.nan).plot.hist(subplots=True,bins=20)"
   ]
  },
  {
   "cell_type": "code",
   "execution_count": 380,
   "metadata": {},
   "outputs": [
    {
     "name": "stderr",
     "output_type": "stream",
     "text": [
      "/home/roelof/jupyter/envs/conda-python3-env/lib/python3.7/site-packages/ipykernel_launcher.py:1: RuntimeWarning: divide by zero encountered in log\n",
      "  \"\"\"Entry point for launching an IPython kernel.\n"
     ]
    },
    {
     "data": {
      "application/vnd.jupyter.widget-view+json": {
       "model_id": "be932bb09f0d450aa950f5e8b0b5ce63",
       "version_major": 2,
       "version_minor": 0
      },
      "text/plain": [
       "Canvas(toolbar=Toolbar(toolitems=[('Home', 'Reset original view', 'home', 'home'), ('Back', 'Back to previous …"
      ]
     },
     "metadata": {},
     "output_type": "display_data"
    },
    {
     "data": {
      "text/plain": [
       "array([<AxesSubplot:ylabel='Frequency'>], dtype=object)"
      ]
     },
     "execution_count": 380,
     "metadata": {},
     "output_type": "execute_result"
    }
   ],
   "source": [
    "(np.log(dfW[['PM2.5 (ug/m3)']].resample('1H').mean())).replace(-np.inf, np.nan).plot.hist(subplots=True,bins=20)"
   ]
  },
  {
   "cell_type": "code",
   "execution_count": 381,
   "metadata": {},
   "outputs": [
    {
     "data": {
      "application/vnd.jupyter.widget-view+json": {
       "model_id": "e90f5852f8f8472491b3487254a5e43b",
       "version_major": 2,
       "version_minor": 0
      },
      "text/plain": [
       "Canvas(toolbar=Toolbar(toolitems=[('Home', 'Reset original view', 'home', 'home'), ('Back', 'Back to previous …"
      ]
     },
     "metadata": {},
     "output_type": "display_data"
    },
    {
     "data": {
      "text/plain": [
       "<AxesSubplot:xlabel='Date'>"
      ]
     },
     "execution_count": 381,
     "metadata": {},
     "output_type": "execute_result"
    }
   ],
   "source": [
    "dfW[['PM2.5 (ug/m3)']].plot()"
   ]
  },
  {
   "cell_type": "code",
   "execution_count": null,
   "metadata": {},
   "outputs": [],
   "source": [
    "dfW.columns"
   ]
  },
  {
   "cell_type": "code",
   "execution_count": null,
   "metadata": {},
   "outputs": [],
   "source": [
    "dfW['PM2.5 (ug/m3)'].describe()"
   ]
  },
  {
   "cell_type": "markdown",
   "metadata": {},
   "source": [
    "# Visualization"
   ]
  },
  {
   "cell_type": "code",
   "execution_count": null,
   "metadata": {},
   "outputs": [],
   "source": [
    "dfW.columns"
   ]
  },
  {
   "cell_type": "code",
   "execution_count": null,
   "metadata": {},
   "outputs": [],
   "source": [
    "dfW[['PM2.5 (ug/m3)','PM10 (ug/m3)']].resample('1H').mean().plot(subplots=True)"
   ]
  },
  {
   "cell_type": "code",
   "execution_count": null,
   "metadata": {},
   "outputs": [],
   "source": [
    "dfW[['PM2.5 (ug/m3)','PM10 (ug/m3)']].resample('1D').mean().describe(percentiles=[0.99])"
   ]
  },
  {
   "cell_type": "code",
   "execution_count": null,
   "metadata": {},
   "outputs": [],
   "source": [
    "dailytmp=dfW[['PM10 (ug/m3)']].resample('1D').mean()\n",
    "dailytmp[dailytmp['PM10 (ug/m3)']>75]"
   ]
  },
  {
   "cell_type": "code",
   "execution_count": null,
   "metadata": {},
   "outputs": [],
   "source": [
    "dailytmp=dfW[['PM2.5 (ug/m3)']].resample('1D').mean()\n",
    "dailytmp[dailytmp['PM2.5 (ug/m3)']>40]"
   ]
  },
  {
   "cell_type": "code",
   "execution_count": null,
   "metadata": {},
   "outputs": [],
   "source": [
    "dfW[Allvars].describe()"
   ]
  },
  {
   "cell_type": "code",
   "execution_count": null,
   "metadata": {},
   "outputs": [],
   "source": [
    "for v in Allvars:\n",
    "    days=dfW[[v]].resample('1H').mean().resample('1D').count()\n",
    "    print(v,len(days[days[v]>19]))"
   ]
  },
  {
   "cell_type": "markdown",
   "metadata": {},
   "source": [
    "# Source Apporiment Met Data Spring"
   ]
  },
  {
   "cell_type": "code",
   "execution_count": null,
   "metadata": {},
   "outputs": [],
   "source": [
    "df1.head(50)"
   ]
  },
  {
   "cell_type": "code",
   "execution_count": null,
   "metadata": {},
   "outputs": [],
   "source": [
    "df1.resample('1H').mean().head(50)"
   ]
  },
  {
   "cell_type": "code",
   "execution_count": null,
   "metadata": {},
   "outputs": [],
   "source": [
    "df1.dtypes"
   ]
  },
  {
   "cell_type": "code",
   "execution_count": null,
   "metadata": {},
   "outputs": [],
   "source": [
    "dfM= df1.loc['2020-09-23 10:00:00' : '2020-10-01 10:00:00']"
   ]
  },
  {
   "cell_type": "code",
   "execution_count": null,
   "metadata": {},
   "outputs": [],
   "source": [
    "dfM.head()"
   ]
  },
  {
   "cell_type": "code",
   "execution_count": null,
   "metadata": {},
   "outputs": [],
   "source": [
    "dfM.to_csv ('Data/RB_MET.csv', index = True, header=True)"
   ]
  },
  {
   "cell_type": "code",
   "execution_count": null,
   "metadata": {},
   "outputs": [],
   "source": []
  }
 ],
 "metadata": {
  "kernelspec": {
   "display_name": "conda-python3-env",
   "language": "python",
   "name": "conda-python3-env"
  },
  "language_info": {
   "codemirror_mode": {
    "name": "ipython",
    "version": 3
   },
   "file_extension": ".py",
   "mimetype": "text/x-python",
   "name": "python",
   "nbconvert_exporter": "python",
   "pygments_lexer": "ipython3",
   "version": "3.7.8"
  },
  "latex_envs": {
   "LaTeX_envs_menu_present": true,
   "autoclose": false,
   "autocomplete": true,
   "bibliofile": "biblio.bib",
   "cite_by": "apalike",
   "current_citInitial": 1,
   "eqLabelWithNumbers": true,
   "eqNumInitial": 1,
   "hotkeys": {
    "equation": "Ctrl-E",
    "itemize": "Ctrl-I"
   },
   "labels_anchors": false,
   "latex_user_defs": false,
   "report_style_numbering": false,
   "user_envs_cfg": false
  },
  "toc": {
   "base_numbering": 1,
   "nav_menu": {},
   "number_sections": true,
   "sideBar": true,
   "skip_h1_title": false,
   "title_cell": "Table of Contents",
   "title_sidebar": "Contents",
   "toc_cell": true,
   "toc_position": {
    "height": "calc(100% - 180px)",
    "left": "10px",
    "top": "150px",
    "width": "316px"
   },
   "toc_section_display": true,
   "toc_window_display": true
  }
 },
 "nbformat": 4,
 "nbformat_minor": 2
}
