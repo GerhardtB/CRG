{
 "cells": [
  {
   "cell_type": "markdown",
   "metadata": {
    "toc": true
   },
   "source": [
    "<h1>Table of Contents<span class=\"tocSkip\"></span></h1>\n",
    "<div class=\"toc\"><ul class=\"toc-item\"><li><span><a href=\"#Instrument-info\" data-toc-modified-id=\"Instrument-info-1\"><span class=\"toc-item-num\">1&nbsp;&nbsp;</span>Instrument info</a></span></li><li><span><a href=\"#Load-Libraries-and-Functions\" data-toc-modified-id=\"Load-Libraries-and-Functions-2\"><span class=\"toc-item-num\">2&nbsp;&nbsp;</span>Load Libraries and Functions</a></span><ul class=\"toc-item\"><li><span><a href=\"#Loading-Google-Sheets\" data-toc-modified-id=\"Loading-Google-Sheets-2.1\"><span class=\"toc-item-num\">2.1&nbsp;&nbsp;</span>Loading Google Sheets</a></span></li></ul></li><li><span><a href=\"#Defining-directories\" data-toc-modified-id=\"Defining-directories-3\"><span class=\"toc-item-num\">3&nbsp;&nbsp;</span>Defining directories</a></span></li><li><span><a href=\"#Functions\" data-toc-modified-id=\"Functions-4\"><span class=\"toc-item-num\">4&nbsp;&nbsp;</span>Functions</a></span><ul class=\"toc-item\"><li><ul class=\"toc-item\"><li><span><a href=\"#Admin-functions\" data-toc-modified-id=\"Admin-functions-4.0.1\"><span class=\"toc-item-num\">4.0.1&nbsp;&nbsp;</span>Admin functions</a></span></li><li><span><a href=\"#Visualisation-functions\" data-toc-modified-id=\"Visualisation-functions-4.0.2\"><span class=\"toc-item-num\">4.0.2&nbsp;&nbsp;</span>Visualisation functions</a></span></li></ul></li></ul></li><li><span><a href=\"#Import-Local-and-Remote-GM5000-Data\" data-toc-modified-id=\"Import-Local-and-Remote-GM5000-Data-5\"><span class=\"toc-item-num\">5&nbsp;&nbsp;</span>Import Local and Remote GM5000 Data</a></span><ul class=\"toc-item\"><li><span><a href=\"#01_Northam_Mantserre\" data-toc-modified-id=\"01_Northam_Mantserre-5.1\"><span class=\"toc-item-num\">5.1&nbsp;&nbsp;</span>01_Northam_Mantserre</a></span><ul class=\"toc-item\"><li><span><a href=\"#Days-without-data\" data-toc-modified-id=\"Days-without-data-5.1.1\"><span class=\"toc-item-num\">5.1.1&nbsp;&nbsp;</span>Days without data</a></span></li><li><span><a href=\"#Data-Recovery\" data-toc-modified-id=\"Data-Recovery-5.1.2\"><span class=\"toc-item-num\">5.1.2&nbsp;&nbsp;</span>Data Recovery</a></span></li></ul></li><li><span><a href=\"#02_Northam_Sefikile\" data-toc-modified-id=\"02_Northam_Sefikile-5.2\"><span class=\"toc-item-num\">5.2&nbsp;&nbsp;</span>02_Northam_Sefikile</a></span></li><li><span><a href=\"#03_Northam_Guesthouse\" data-toc-modified-id=\"03_Northam_Guesthouse-5.3\"><span class=\"toc-item-num\">5.3&nbsp;&nbsp;</span>03_Northam_Guesthouse</a></span></li><li><span><a href=\"#04_Northam_NorthamLT\" data-toc-modified-id=\"04_Northam_NorthamLT-5.4\"><span class=\"toc-item-num\">5.4&nbsp;&nbsp;</span>04_Northam_NorthamLT</a></span></li><li><span><a href=\"#05_Rustenburg_Bokomoso\" data-toc-modified-id=\"05_Rustenburg_Bokomoso-5.5\"><span class=\"toc-item-num\">5.5&nbsp;&nbsp;</span>05_Rustenburg_Bokomoso</a></span></li><li><span><a href=\"#06_Rustenburg_Ikemeleng\" data-toc-modified-id=\"06_Rustenburg_Ikemeleng-5.6\"><span class=\"toc-item-num\">5.6&nbsp;&nbsp;</span>06_Rustenburg_Ikemeleng</a></span></li><li><span><a href=\"#07_Rustenburg_MfidikweChurch\" data-toc-modified-id=\"07_Rustenburg_MfidikweChurch-5.7\"><span class=\"toc-item-num\">5.7&nbsp;&nbsp;</span>07_Rustenburg_MfidikweChurch</a></span></li><li><span><a href=\"#08_Rustenburg_WatervalLT\" data-toc-modified-id=\"08_Rustenburg_WatervalLT-5.8\"><span class=\"toc-item-num\">5.8&nbsp;&nbsp;</span>08_Rustenburg_WatervalLT</a></span></li></ul></li></ul></div>"
   ]
  },
  {
   "cell_type": "markdown",
   "metadata": {},
   "source": [
    "# Instrument info"
   ]
  },
  {
   "cell_type": "markdown",
   "metadata": {},
   "source": [
    "#### Measurement Range:\n",
    "- NO2 - 500 ppb\n",
    "- NO - 500 ppb\n",
    "- SO2 - 500 ppb\n",
    "- O3 - 500 ppb\n",
    "- CO - 50 ppm\n",
    "- t-VOC - 40 ppm\n",
    "- PM2.5 /PM10 - 1500 μg/m 3\n",
    "#### TImezone\n",
    "- SAST"
   ]
  },
  {
   "cell_type": "markdown",
   "metadata": {},
   "source": [
    "# Load Libraries and Functions"
   ]
  },
  {
   "cell_type": "code",
   "execution_count": 1,
   "metadata": {},
   "outputs": [],
   "source": [
    "# The pandas data science library that gives the 'spreadsheet'-like capabilities to python\n",
    "import pandas as pd\n",
    "# The matplotlip library is used to visualize data\n",
    "import matplotlib.pyplot as plt\n",
    "# The pathlib library is used to manage access to disk. It helps us to keep things the same between Windows and Linux\n",
    "from pathlib import Path\n",
    "# The os library is used to list and access files and directories on the hard drive\n",
    "import os\n",
    "# Numpy is the numerical library. It is used by many of the ones before, but we import it for in case\n",
    "import numpy as np\n",
    "# From Numpy we also import the nan 'missing-value' object that we use alot\n",
    "from numpy import nan\n",
    "# For fancy matching of strings, we use re\n",
    "import re\n",
    "# String libary for temporary file import\n",
    "from io import StringIO\n",
    "# Create tooltips for interactive plots\n",
    "import mpld3\n",
    "# For connecting to google sheet\n",
    "import gspread\n",
    "from oauth2client.service_account import ServiceAccountCredentials\n",
    "\n",
    "from scipy import interpolate\n",
    "from windrose import WindroseAxes\n",
    "from matplotlib.colors import BoundaryNorm\n",
    "from matplotlib.ticker import MaxNLocator\n",
    "import matplotlib.cm as cm\n",
    "\n",
    "import ipywidgets as widgets\n",
    "from ipywidgets import interact, interact_manual\n",
    "from ipywidgets import Layout\n",
    "\n",
    "import seaborn as sns\n",
    "sns.set_theme(style=\"darkgrid\")\n",
    "\n",
    "import scipy.stats\n",
    "from scipy.stats import linregress"
   ]
  },
  {
   "cell_type": "markdown",
   "metadata": {},
   "source": [
    "## Loading Google Sheets "
   ]
  },
  {
   "cell_type": "code",
   "execution_count": 2,
   "metadata": {},
   "outputs": [],
   "source": [
    "# This 'widget' is used to give us interactive graph capabilities in the matplotlib figures\n",
    "%matplotlib widget"
   ]
  },
  {
   "cell_type": "markdown",
   "metadata": {},
   "source": [
    "# Defining directories"
   ]
  },
  {
   "cell_type": "code",
   "execution_count": 3,
   "metadata": {},
   "outputs": [],
   "source": [
    "#HomeDir=Path('Data/')\n",
    "DataDir = Path('/home/roelof/Dropbox (NWU)/CRG_Projects/01_Research_Campaigns/Anglo_SA/01_Field Campaigns/GM_All_Locations/')\n",
    "#FinalDataDir=Path(HomeDir / '')"
   ]
  },
  {
   "cell_type": "code",
   "execution_count": 4,
   "metadata": {},
   "outputs": [
    {
     "data": {
      "text/plain": [
       "['01_RawData', '02_Level_0']"
      ]
     },
     "execution_count": 4,
     "metadata": {},
     "output_type": "execute_result"
    }
   ],
   "source": [
    "sorted(os.listdir(DataDir))"
   ]
  },
  {
   "cell_type": "markdown",
   "metadata": {},
   "source": [
    "# Functions"
   ]
  },
  {
   "cell_type": "markdown",
   "metadata": {},
   "source": [
    "### Admin functions"
   ]
  },
  {
   "cell_type": "code",
   "execution_count": 5,
   "metadata": {},
   "outputs": [],
   "source": [
    "def head(filename,N=10):\n",
    "    n=0\n",
    "    with open(Path(filename)) as fp:\n",
    "        for l in fp.readlines():\n",
    "            if n<N:\n",
    "                print(l,end=\"\")\n",
    "                n=n+1\n",
    "                \n",
    "def clearplots():\n",
    "    plt.clf()"
   ]
  },
  {
   "cell_type": "markdown",
   "metadata": {},
   "source": [
    "### Visualisation functions"
   ]
  },
  {
   "cell_type": "code",
   "execution_count": 6,
   "metadata": {},
   "outputs": [],
   "source": [
    "def plotdiurnalstats(df,var=''):\n",
    "    df['Time'] = df.index.map(lambda x: x.strftime(\"%H:00\"))\n",
    "    diurnal = df[['Time',var]].groupby('Time').describe()[var]\n",
    "    fig, ax = plt.subplots(1, figsize=(7,6))\n",
    "    ax.set_ylabel(var, fontsize=14, weight='bold')                                                                                                                                                                                                                           \n",
    "    ax.set_xlabel('Time of Day', fontsize=14)                                                                                                                                                                                                                                    \n",
    "    print(\"Plotting mean\")                                                                                                                                                                                                                                                       \n",
    "    ax.plot(diurnal.index, diurnal['50%'], 'g', linewidth=2.0,label=var)\n",
    "    print(\"Plotting 75%\")                                                                                                                                                                                                                                                        \n",
    "    ax.plot(diurnal.index, diurnal['75%'], color='g')                                                                                                                                                                                                                            \n",
    "    print(\"Plotting 25%\")                                                                                                                                                                                                                                                        \n",
    "    ax.plot(diurnal.index, diurnal['25%'], color='g') \n",
    "    ax.fill_between(diurnal.index, diurnal['50%'], diurnal['75%'], alpha=.25, facecolor='g')                                                                                                                                                                                      \n",
    "    ax.fill_between(diurnal.index, diurnal['50%'], diurnal['25%'], alpha=.25, facecolor='g') \n",
    "    ax.set_xlim(0, 23);                                                                                                                                                                                                                                                          \n",
    "    ax.set_xticks([i for i in range(0,24,3)])  \n",
    "    plt.tight_layout() \n",
    "    \n",
    "def plotdiurnal(df,var=''):\n",
    "    df['decimalhour'] = df.index.hour+(df.index.minute/60)\n",
    "    \n",
    "    fig, ax = plt.subplots(figsize=(7,6))\n",
    "    ax.set_ylabel(var, fontsize=14, weight='bold')                                                                                                                                                                                                                           \n",
    "    ax.set_xlabel('Time of Day', fontsize=14)    \n",
    "    \n",
    "    ax.plot(df['decimalhour'].values, df[var].values, 'o', markersize=2, linewidth=0, label=var, alpha=0.3)\n",
    "\n",
    "    #def format_coord(x, y):\n",
    "    #    z=np.array_str(df[(df['decimalhour']==x)&(df[var]==y)].index.map(lambda x: x.strftime(\"%y/%m/%d %H:%M\")).values)[1:34]\n",
    "    #    return('x={}, y={}, date={}'%(x, y,z))\n",
    "\n",
    "    #ax.format_coord = format_coord\n",
    "    \n",
    "    ax.set_xlim(0, 23);                                                                                                                                                                                                                                                          \n",
    "    ax.set_xticks([i for i in range(0,24,3)])  \n",
    "    plt.tight_layout() \n",
    "    df=df.drop(['decimalhour'], axis = 1)\n",
    "    \n",
    "def plottimeseries(df,var=''):\n",
    "    fig, ax = plt.subplots(1,figsize=(7,6))\n",
    "    df[[var]].plot(ax=ax)\n",
    "    ax.set_ylabel(var, fontsize=14, weight='bold')                                                                                                                                                                                                                           \n",
    "    ax.set_xlabel('', fontsize=14)"
   ]
  },
  {
   "cell_type": "markdown",
   "metadata": {},
   "source": [
    "# Import Local and Remote GM5000 Data"
   ]
  },
  {
   "cell_type": "markdown",
   "metadata": {},
   "source": [
    "**Import local instrument and server data. Combine in complete dataset named dfGM**"
   ]
  },
  {
   "cell_type": "code",
   "execution_count": 7,
   "metadata": {
    "scrolled": true
   },
   "outputs": [
    {
     "name": "stdout",
     "output_type": "stream",
     "text": [
      "reading 01_Northam_Mantserre_01092021.csv\n",
      "finished with 01_Northam_Mantserre_01092021.csv\n",
      "reading 01_Northam_Mantserre_Ecostat_20210810.csv\n"
     ]
    },
    {
     "name": "stderr",
     "output_type": "stream",
     "text": [
      "/home/roelof/env/conda-python3-env/lib/python3.10/site-packages/IPython/core/interactiveshell.py:3457: FutureWarning: The error_bad_lines argument has been deprecated and will be removed in a future version.\n",
      "\n",
      "\n",
      "  exec(code_obj, self.user_global_ns, self.user_ns)\n"
     ]
    },
    {
     "name": "stdout",
     "output_type": "stream",
     "text": [
      "finished with 01_Northam_Mantserre_Ecostat_20210810.csv\n",
      "reading 01_Northam_Mantserre_Ecostat_20210823.csv\n",
      "finished with 01_Northam_Mantserre_Ecostat_20210823.csv\n",
      "reading 01_Northam_Mantserre_Ecostat.csv\n",
      "finished with 01_Northam_Mantserre_Ecostat.csv\n",
      "reading 02_Northam_Sefikile_15072021.csv\n",
      "finished with 02_Northam_Sefikile_15072021.csv\n",
      "reading 02_Northam_Sefikile_Ecostat.csv\n",
      "finished with 02_Northam_Sefikile_Ecostat.csv\n",
      "reading 02_Northam_Sefikile_Ecostat_20210810.csv\n",
      "finished with 02_Northam_Sefikile_Ecostat_20210810.csv\n",
      "reading 03_Northam_Guesthouse_06072021.csv\n",
      "finished with 03_Northam_Guesthouse_06072021.csv\n",
      "reading 03_Northam_Guesthouse_Ecostat_20210810.csv\n",
      "finished with 03_Northam_Guesthouse_Ecostat_20210810.csv\n",
      "reading 04_Northam_NorthamLongTerm_01092021.csv\n",
      "finished with 04_Northam_NorthamLongTerm_01092021.csv\n",
      "reading 04_Northam_NorthamLongTerm_Ecostat_20210810.csv\n",
      "finished with 04_Northam_NorthamLongTerm_Ecostat_20210810.csv\n",
      "reading 04_Northam_NorthamLongTerm_Ecostat.csv\n",
      "finished with 04_Northam_NorthamLongTerm_Ecostat.csv\n",
      "reading 04_Northam_NorthamLongTerm_Ecostat_20210823.csv\n",
      "finished with 04_Northam_NorthamLongTerm_Ecostat_20210823.csv\n",
      "reading 05_Rustenburg_Bokomoso_06072021.csv\n",
      "finished with 05_Rustenburg_Bokomoso_06072021.csv\n",
      "reading 05_Rustenburg_Bokomoso_Ecostat.csv\n",
      "finished with 05_Rustenburg_Bokomoso_Ecostat.csv\n",
      "reading 05_Rustenburg_Bokomoso_Ecostat_20210810.csv\n",
      "finished with 05_Rustenburg_Bokomoso_Ecostat_20210810.csv\n",
      "reading 06_Rustenburg_Ikemeleng_31082021.csv\n",
      "finished with 06_Rustenburg_Ikemeleng_31082021.csv\n",
      "reading 06_Rustenburg_Ikemeleng_Ecostat_20210810.csv\n",
      "finished with 06_Rustenburg_Ikemeleng_Ecostat_20210810.csv\n",
      "reading 06_Rustenburg_Ikemeleng_Ecostat.csv\n",
      "finished with 06_Rustenburg_Ikemeleng_Ecostat.csv\n",
      "reading 06_Rustenburg_Ikemeleng_Ecostat_20210823.csv\n",
      "finished with 06_Rustenburg_Ikemeleng_Ecostat_20210823.csv\n",
      "reading 07_Rustenburg_Mfidikwe_16072021.csv\n",
      "finished with 07_Rustenburg_Mfidikwe_16072021.csv\n",
      "reading 07_Rustenburg_Mfidikwe_Ecostat.csv\n",
      "finished with 07_Rustenburg_Mfidikwe_Ecostat.csv\n",
      "reading 07_Rustenburg_MfidikweChurch_Ecostat_20210810.csv\n",
      "finished with 07_Rustenburg_MfidikweChurch_Ecostat_20210810.csv\n",
      "reading 08_Rustenburg_WatervalLongTerm_31082021.csv\n",
      "finished with 08_Rustenburg_WatervalLongTerm_31082021.csv\n",
      "reading 08_Rustenburg_WatervalLongTerm_Ecostat.csv\n",
      "finished with 08_Rustenburg_WatervalLongTerm_Ecostat.csv\n",
      "reading 08_Rustenburg_WatervalLongTerm_Ecostat_20210823.csv\n",
      "finished with 08_Rustenburg_WatervalLongTerm_Ecostat_20210823.csv\n",
      "reading 08_Rustenburg_WatervalLongTerm_Ecostat_20210810.csv\n",
      "finished with 08_Rustenburg_WatervalLongTerm_Ecostat_20210810.csv\n"
     ]
    }
   ],
   "source": [
    "RawDir = Path('/home/roelof//Dropbox (NWU)/CRG_Projects/01_Research_Campaigns/Anglo_SA/01_Field Campaigns/GM_All_Locations/01_RawData/01_GM5000/')\n",
    "LocalDir = Path('/home/roelof//Dropbox (NWU)/CRG_Projects/01_Research_Campaigns/Anglo_SA/01_Field Campaigns/GM_All_Locations/02_Level_0/')\n",
    "\n",
    "stations = ['01_Northam_Mantserre','02_Northam_Sefikile','03_Northam_Guesthouse','04_Northam_NorthamLongTerm',\n",
    "            '05_Rustenburg_Bokomoso', '06_Rustenburg_Ikemeleng',\n",
    "            '07_Rustenburg_Mfidikwe','08_Rustenburg_WatervalLongTerm']\n",
    "\n",
    "names = ['Date','CO (ppm)','Internal Temperature','NO','NO2 (ppb)','O3 (ppb)','PM1','PM10 (ug/m3)','PM2.5 (ug/m3)','PRGM','Relative Humidity (%)',\n",
    "         'Sensor Temperature','SO2 (ppb)','VOC']\n",
    "\n",
    "dfL = pd.DataFrame()\n",
    "dfE = pd.DataFrame()\n",
    "dfGM = pd.DataFrame()\n",
    "\n",
    "\n",
    "for s in stations:\n",
    "    files = [f for f in os.listdir(LocalDir) if s in f]\n",
    "    for f in files:\n",
    "        if f.startswith(s) and 'Ecostat' not in f:\n",
    "            fullpath = os.path.join(LocalDir,f)\n",
    "            print('reading',f)\n",
    "            dftmp = pd.read_csv(fullpath,parse_dates=[[2,3]],index_col=0,error_bad_lines=False)\n",
    "            dftmp.index.names= ['Date']\n",
    "            dftmp.rename(columns={'co':'{}_CO (ppm)'.format(s),'internalTemp':'{}_Internal Temperature'.format(s),\n",
    "                              'no':'{}_NO'.format(s),'no2':'{}_NO2 (ppb)'.format(s),'o3':'{}_O3 (ppb)'.format(s),\n",
    "                              'pm10':'{}_PM10 (ug/m3)'.format(s),\n",
    "                              'pm2p5':'{}_PM2.5 (ug/m3)'.format(s),'rh':'{}_Relative Humidity (%)'.format(s)\n",
    "                              ,'sensorTemp':'{}_Sensor Temperature'.format(s),'so2':'{}_SO2 (ppb)'.format(s),\n",
    "                              'voc':'{}_VOC'.format(s)}, inplace=True)\n",
    "            dftmp = dftmp.drop_duplicates()\n",
    "            print('finished with', f)\n",
    "            \n",
    "            if len(dfL) == 0:\n",
    "                dfL = dftmp\n",
    "            else:\n",
    "                dfL = dfL.combine_first(dftmp)\n",
    "                dfL = dfL.drop_duplicates()\n",
    "                \n",
    "    files = [f for f in os.listdir(RawDir) if s in f]                     \n",
    "    for f in files:\n",
    "        if f.startswith(s) and 'Ecostat' in f:\n",
    "            fullpath = os.path.join(RawDir,f)\n",
    "            print('reading',f)\n",
    "            dftmp = pd.read_csv(fullpath,parse_dates=[0],index_col=0,skiprows=2,names=names,error_bad_lines=False)\n",
    "            dftmp.index.names= ['Date']\n",
    "            dftmp.rename(columns={'CO (ppm)':'{}_CO (ppm)'.format(s),'Internal Temperature':'{}_Internal Temperature'.format(s),\n",
    "                              'NO':'{}_NO'.format(s),'NO2 (ppb)':'{}_NO2 (ppb)'.format(s),'O3 (ppb)':'{}_O3 (ppb)'.format(s),\n",
    "                              'PM1':'{}_PM1'.format(s),'PM10 (ug/m3)':'{}_PM10 (ug/m3)'.format(s),\n",
    "                              'PM2.5 (ug/m3)':'{}_PM2.5 (ug/m3)'.format(s),'Relative Humidity (%)':'{}_Relative Humidity (%)'.format(s)\n",
    "                              ,'Sensor Temperature':'{}_Sensor Temperature'.format(s),'SO2 (ppb)':'{}_SO2 (ppb)'.format(s),\n",
    "                              'VOC':'{}_VOC'.format(s)}, inplace=True)\n",
    "            dftmp = dftmp.drop_duplicates()\n",
    "            print('finished with', f)\n",
    "            if len(dfE) == 0:\n",
    "                dfE = dftmp\n",
    "            else:\n",
    "                dfE = dfE.combine_first(dftmp)\n",
    "                dfE = dfE.drop_duplicates()\n",
    "                \n",
    "dfGM = pd.concat([dfL,dfE],axis=0,join='inner')\n",
    "dfGM = dfGM.drop_duplicates()\n",
    "dfGM = dfGM.loc['2021']"
   ]
  },
  {
   "cell_type": "code",
   "execution_count": 67,
   "metadata": {},
   "outputs": [
    {
     "data": {
      "text/plain": [
       "['02_MET', '01_GM5000']"
      ]
     },
     "execution_count": 67,
     "metadata": {},
     "output_type": "execute_result"
    }
   ],
   "source": [
    "os.listdir(Path('/home/roelof/Dropbox (NWU)/CRG_Projects/01_Research_Campaigns/Anglo_SA/01_Field Campaigns/GM_All_Locations/01_RawData/'))"
   ]
  },
  {
   "cell_type": "markdown",
   "metadata": {},
   "source": [
    "## 01_Northam_Mantserre"
   ]
  },
  {
   "cell_type": "markdown",
   "metadata": {},
   "source": [
    "- **Start Date** : 11-03-2021\n",
    "- **End Date** : 03-09/2021"
   ]
  },
  {
   "cell_type": "markdown",
   "metadata": {},
   "source": [
    "**Columns for first site : Mantserre**"
   ]
  },
  {
   "cell_type": "code",
   "execution_count": 68,
   "metadata": {},
   "outputs": [
    {
     "name": "stdout",
     "output_type": "stream",
     "text": [
      "01_Northam_Mantserre_CO (ppm)\n",
      "01_Northam_Mantserre_Internal Temperature\n",
      "01_Northam_Mantserre_NO\n",
      "01_Northam_Mantserre_NO2 (ppb)\n",
      "01_Northam_Mantserre_O3 (ppb)\n",
      "01_Northam_Mantserre_PM10 (ug/m3)\n",
      "01_Northam_Mantserre_PM2.5 (ug/m3)\n",
      "01_Northam_Mantserre_Relative Humidity (%)\n",
      "01_Northam_Mantserre_SO2 (ppb)\n",
      "01_Northam_Mantserre_Sensor Temperature\n",
      "01_Northam_Mantserre_VOC\n"
     ]
    }
   ],
   "source": [
    "for f in dfL.columns:\n",
    "    if f.startswith('01'):\n",
    "        print(f)"
   ]
  },
  {
   "cell_type": "code",
   "execution_count": 69,
   "metadata": {},
   "outputs": [],
   "source": [
    "Mantserre = ['01_Northam_Mantserre_CO (ppm)','01_Northam_Mantserre_Internal Temperature', '01_Northam_Mantserre_NO2 (ppb)',\n",
    "             '01_Northam_Mantserre_O3 (ppb)',\n",
    "             '01_Northam_Mantserre_PM10 (ug/m3)',\n",
    "             '01_Northam_Mantserre_PM2.5 (ug/m3)',\n",
    "             '01_Northam_Mantserre_Relative Humidity (%)',\n",
    "             '01_Northam_Mantserre_SO2 (ppb)',\n",
    "             '01_Northam_Mantserre_Sensor Temperature']"
   ]
  },
  {
   "cell_type": "code",
   "execution_count": 70,
   "metadata": {},
   "outputs": [],
   "source": [
    "dfM = dfGM[Mantserre]\n",
    "dfM = dfM.loc['2021-03-11':].resample('5min').mean()"
   ]
  },
  {
   "cell_type": "code",
   "execution_count": 71,
   "metadata": {},
   "outputs": [
    {
     "name": "stdout",
     "output_type": "stream",
     "text": [
      "<class 'pandas.core.frame.DataFrame'>\n",
      "DatetimeIndex: 50670 entries, 2021-03-11 13:15:00 to 2021-09-03 11:40:00\n",
      "Freq: 5T\n",
      "Data columns (total 9 columns):\n",
      " #   Column                                      Non-Null Count  Dtype  \n",
      "---  ------                                      --------------  -----  \n",
      " 0   01_Northam_Mantserre_CO (ppm)               41242 non-null  float64\n",
      " 1   01_Northam_Mantserre_Internal Temperature   41242 non-null  float64\n",
      " 2   01_Northam_Mantserre_NO2 (ppb)              41242 non-null  float64\n",
      " 3   01_Northam_Mantserre_O3 (ppb)               41242 non-null  float64\n",
      " 4   01_Northam_Mantserre_PM10 (ug/m3)           41242 non-null  float64\n",
      " 5   01_Northam_Mantserre_PM2.5 (ug/m3)          41242 non-null  float64\n",
      " 6   01_Northam_Mantserre_Relative Humidity (%)  41242 non-null  float64\n",
      " 7   01_Northam_Mantserre_SO2 (ppb)              41242 non-null  float64\n",
      " 8   01_Northam_Mantserre_Sensor Temperature     41242 non-null  float64\n",
      "dtypes: float64(9)\n",
      "memory usage: 3.9 MB\n"
     ]
    }
   ],
   "source": [
    "dfM.info()"
   ]
  },
  {
   "cell_type": "code",
   "execution_count": 72,
   "metadata": {},
   "outputs": [
    {
     "data": {
      "application/vnd.jupyter.widget-view+json": {
       "model_id": "1945a1a7ebfa4571802b84c22dc1b40b",
       "version_major": 2,
       "version_minor": 0
      },
      "text/plain": [
       "Canvas(toolbar=Toolbar(toolitems=[('Home', 'Reset original view', 'home', 'home'), ('Back', 'Back to previous …"
      ]
     },
     "metadata": {},
     "output_type": "display_data"
    },
    {
     "data": {
      "text/plain": [
       "array([<AxesSubplot:xlabel='Date'>, <AxesSubplot:xlabel='Date'>,\n",
       "       <AxesSubplot:xlabel='Date'>, <AxesSubplot:xlabel='Date'>,\n",
       "       <AxesSubplot:xlabel='Date'>, <AxesSubplot:xlabel='Date'>,\n",
       "       <AxesSubplot:xlabel='Date'>, <AxesSubplot:xlabel='Date'>,\n",
       "       <AxesSubplot:xlabel='Date'>], dtype=object)"
      ]
     },
     "execution_count": 72,
     "metadata": {},
     "output_type": "execute_result"
    }
   ],
   "source": [
    "dfM.plot(subplots=True)"
   ]
  },
  {
   "cell_type": "code",
   "execution_count": 15,
   "metadata": {},
   "outputs": [],
   "source": [
    "clearplots()"
   ]
  },
  {
   "cell_type": "markdown",
   "metadata": {},
   "source": [
    "### Days without data"
   ]
  },
  {
   "cell_type": "code",
   "execution_count": 16,
   "metadata": {},
   "outputs": [
    {
     "data": {
      "text/plain": [
       "01_Northam_Mantserre_CO (ppm)                 25\n",
       "01_Northam_Mantserre_Internal Temperature     25\n",
       "01_Northam_Mantserre_NO2 (ppb)                25\n",
       "01_Northam_Mantserre_O3 (ppb)                 25\n",
       "01_Northam_Mantserre_PM10 (ug/m3)             25\n",
       "01_Northam_Mantserre_PM2.5 (ug/m3)            25\n",
       "01_Northam_Mantserre_Relative Humidity (%)    25\n",
       "01_Northam_Mantserre_SO2 (ppb)                25\n",
       "01_Northam_Mantserre_Sensor Temperature       25\n",
       "dtype: int64"
      ]
     },
     "execution_count": 16,
     "metadata": {},
     "output_type": "execute_result"
    }
   ],
   "source": [
    "pd.isna(dfM.resample('1D').mean()).sum()"
   ]
  },
  {
   "cell_type": "markdown",
   "metadata": {},
   "source": [
    "### Data Recovery"
   ]
  },
  {
   "cell_type": "code",
   "execution_count": 17,
   "metadata": {},
   "outputs": [
    {
     "data": {
      "text/plain": [
       "01_Northam_Mantserre_CO (ppm)                 81.393329\n",
       "01_Northam_Mantserre_Internal Temperature     81.393329\n",
       "01_Northam_Mantserre_NO2 (ppb)                81.393329\n",
       "01_Northam_Mantserre_O3 (ppb)                 81.393329\n",
       "01_Northam_Mantserre_PM10 (ug/m3)             81.393329\n",
       "01_Northam_Mantserre_PM2.5 (ug/m3)            81.393329\n",
       "01_Northam_Mantserre_Relative Humidity (%)    81.393329\n",
       "01_Northam_Mantserre_SO2 (ppb)                81.393329\n",
       "01_Northam_Mantserre_Sensor Temperature       81.393329\n",
       "dtype: float64"
      ]
     },
     "execution_count": 17,
     "metadata": {},
     "output_type": "execute_result"
    }
   ],
   "source": [
    "100 - pd.isna(dfM).sum() / len(dfM) * 100"
   ]
  },
  {
   "cell_type": "code",
   "execution_count": 18,
   "metadata": {},
   "outputs": [
    {
     "data": {
      "text/plain": [
       "01_Northam_Mantserre_CO (ppm)                 14.124294\n",
       "01_Northam_Mantserre_Internal Temperature     14.124294\n",
       "01_Northam_Mantserre_NO2 (ppb)                14.124294\n",
       "01_Northam_Mantserre_O3 (ppb)                 14.124294\n",
       "01_Northam_Mantserre_PM10 (ug/m3)             14.124294\n",
       "01_Northam_Mantserre_PM2.5 (ug/m3)            14.124294\n",
       "01_Northam_Mantserre_Relative Humidity (%)    14.124294\n",
       "01_Northam_Mantserre_SO2 (ppb)                14.124294\n",
       "01_Northam_Mantserre_Sensor Temperature       14.124294\n",
       "dtype: float64"
      ]
     },
     "execution_count": 18,
     "metadata": {},
     "output_type": "execute_result"
    }
   ],
   "source": [
    "pd.isna(dfM.resample('1D').mean()).sum() / len(dfM.resample('1D').mean()) * 100"
   ]
  },
  {
   "cell_type": "code",
   "execution_count": 19,
   "metadata": {},
   "outputs": [
    {
     "name": "stdout",
     "output_type": "stream",
     "text": [
      "01_Northam_Mantserre_CO (ppm)                 95.517623\n",
      "01_Northam_Mantserre_Internal Temperature     95.517623\n",
      "01_Northam_Mantserre_NO2 (ppb)                95.517623\n",
      "01_Northam_Mantserre_O3 (ppb)                 95.517623\n",
      "01_Northam_Mantserre_PM10 (ug/m3)             95.517623\n",
      "01_Northam_Mantserre_PM2.5 (ug/m3)            95.517623\n",
      "01_Northam_Mantserre_Relative Humidity (%)    95.517623\n",
      "01_Northam_Mantserre_SO2 (ppb)                95.517623\n",
      "01_Northam_Mantserre_Sensor Temperature       95.517623\n",
      "dtype: float64\n"
     ]
    }
   ],
   "source": [
    "x =100 - pd.isna(dfM).sum() / len(dfM) * 100\n",
    "y = pd.isna(dfM.resample('1D').mean()).sum() / len(dfM.resample('1D').mean()) * 100\n",
    "\n",
    "print(x + y)"
   ]
  },
  {
   "cell_type": "code",
   "execution_count": 20,
   "metadata": {},
   "outputs": [
    {
     "data": {
      "text/plain": [
       "01_Northam_Mantserre_CO (ppm)                 71.751412\n",
       "01_Northam_Mantserre_Internal Temperature     71.751412\n",
       "01_Northam_Mantserre_NO2 (ppb)                71.751412\n",
       "01_Northam_Mantserre_O3 (ppb)                 71.751412\n",
       "01_Northam_Mantserre_PM10 (ug/m3)             71.751412\n",
       "01_Northam_Mantserre_PM2.5 (ug/m3)            71.751412\n",
       "01_Northam_Mantserre_Relative Humidity (%)    71.751412\n",
       "01_Northam_Mantserre_SO2 (ppb)                71.751412\n",
       "01_Northam_Mantserre_Sensor Temperature       71.751412\n",
       "dtype: float64"
      ]
     },
     "execution_count": 20,
     "metadata": {},
     "output_type": "execute_result"
    }
   ],
   "source": [
    "(dfM.resample('1D').mean().count() - pd.isna(dfM.resample('1D').mean()).sum()) / len(dfM.resample('1D').mean()) * 100"
   ]
  },
  {
   "cell_type": "code",
   "execution_count": 21,
   "metadata": {
    "scrolled": true
   },
   "outputs": [
    {
     "data": {
      "text/plain": [
       "01_Northam_Mantserre_CO (ppm)                 123\n",
       "01_Northam_Mantserre_Internal Temperature     123\n",
       "01_Northam_Mantserre_NO2 (ppb)                123\n",
       "01_Northam_Mantserre_O3 (ppb)                 123\n",
       "01_Northam_Mantserre_PM10 (ug/m3)             123\n",
       "01_Northam_Mantserre_PM2.5 (ug/m3)            123\n",
       "01_Northam_Mantserre_Relative Humidity (%)    123\n",
       "01_Northam_Mantserre_SO2 (ppb)                123\n",
       "01_Northam_Mantserre_Sensor Temperature       123\n",
       "dtype: int64"
      ]
     },
     "execution_count": 21,
     "metadata": {},
     "output_type": "execute_result"
    }
   ],
   "source": [
    "x = dfM.resample('1H').mean()\n",
    "x = x.groupby(x.index.date).count()\n",
    "x[x == 24].count()"
   ]
  },
  {
   "cell_type": "markdown",
   "metadata": {},
   "source": [
    "## 02_Northam_Sefikile"
   ]
  },
  {
   "cell_type": "markdown",
   "metadata": {},
   "source": [
    "- Start Date = 19-05-2021\n",
    "- End Date = 15-07-2021"
   ]
  },
  {
   "cell_type": "code",
   "execution_count": 22,
   "metadata": {},
   "outputs": [],
   "source": [
    "Sefikile = ['02_Northam_Sefikile_CO (ppm)','02_Northam_Sefikile_Internal Temperature',\n",
    "            '02_Northam_Sefikile_NO','02_Northam_Sefikile_NO2 (ppb)','02_Northam_Sefikile_O3 (ppb)',\n",
    "            '02_Northam_Sefikile_PM10 (ug/m3)',\n",
    "            '02_Northam_Sefikile_PM2.5 (ug/m3)',\n",
    "            '02_Northam_Sefikile_Relative Humidity (%)',\n",
    "            '02_Northam_Sefikile_SO2 (ppb)',\n",
    "           '02_Northam_Sefikile_Sensor Temperature',\n",
    "            '02_Northam_Sefikile_VOC']\n"
   ]
  },
  {
   "cell_type": "code",
   "execution_count": 25,
   "metadata": {
    "scrolled": true
   },
   "outputs": [],
   "source": [
    "dfS = dfGM[Sefikile]\n",
    "dfS = dfS.loc['2021-05-19':'2021-07-15'].resample('5min').mean()"
   ]
  },
  {
   "cell_type": "code",
   "execution_count": 26,
   "metadata": {},
   "outputs": [
    {
     "data": {
      "application/vnd.jupyter.widget-view+json": {
       "model_id": "8c1449efb2254b8c9b8717022cfea5b4",
       "version_major": 2,
       "version_minor": 0
      },
      "text/plain": [
       "Canvas(toolbar=Toolbar(toolitems=[('Home', 'Reset original view', 'home', 'home'), ('Back', 'Back to previous …"
      ]
     },
     "metadata": {},
     "output_type": "display_data"
    },
    {
     "data": {
      "text/plain": [
       "array([<AxesSubplot:xlabel='Date'>, <AxesSubplot:xlabel='Date'>,\n",
       "       <AxesSubplot:xlabel='Date'>, <AxesSubplot:xlabel='Date'>,\n",
       "       <AxesSubplot:xlabel='Date'>, <AxesSubplot:xlabel='Date'>,\n",
       "       <AxesSubplot:xlabel='Date'>, <AxesSubplot:xlabel='Date'>,\n",
       "       <AxesSubplot:xlabel='Date'>, <AxesSubplot:xlabel='Date'>,\n",
       "       <AxesSubplot:xlabel='Date'>], dtype=object)"
      ]
     },
     "execution_count": 26,
     "metadata": {},
     "output_type": "execute_result"
    }
   ],
   "source": [
    "dfS.plot(subplots=True)"
   ]
  },
  {
   "cell_type": "markdown",
   "metadata": {},
   "source": [
    "## 03_Northam_Guesthouse"
   ]
  },
  {
   "cell_type": "markdown",
   "metadata": {},
   "source": [
    "- Start Date = 19-05-2021\n",
    "- End Date = 06-07-2021"
   ]
  },
  {
   "cell_type": "code",
   "execution_count": 27,
   "metadata": {},
   "outputs": [],
   "source": [
    "Guesthouse = ['03_Northam_Guesthouse_CO (ppm)',\n",
    "            '03_Northam_Guesthouse_Internal Temperature',\n",
    "            '03_Northam_Guesthouse_NO',\n",
    "            '03_Northam_Guesthouse_NO2 (ppb)',\n",
    "            '03_Northam_Guesthouse_O3 (ppb)',\n",
    "            '03_Northam_Guesthouse_PM10 (ug/m3)',\n",
    "            '03_Northam_Guesthouse_PM2.5 (ug/m3)',\n",
    "            '03_Northam_Guesthouse_Relative Humidity (%)',\n",
    "            '03_Northam_Guesthouse_SO2 (ppb)',\n",
    "            '03_Northam_Guesthouse_Sensor Temperature',\n",
    "            '03_Northam_Guesthouse_VOC']"
   ]
  },
  {
   "cell_type": "code",
   "execution_count": 29,
   "metadata": {},
   "outputs": [],
   "source": [
    "dfG = dfGM[Guesthouse]\n",
    "dfG = dfG.loc['2021-05-19':'2021-07-06'].resample('5min').mean()"
   ]
  },
  {
   "cell_type": "code",
   "execution_count": 30,
   "metadata": {},
   "outputs": [
    {
     "data": {
      "application/vnd.jupyter.widget-view+json": {
       "model_id": "02cb0cc329d54be5b959db628edf7fe0",
       "version_major": 2,
       "version_minor": 0
      },
      "text/plain": [
       "Canvas(toolbar=Toolbar(toolitems=[('Home', 'Reset original view', 'home', 'home'), ('Back', 'Back to previous …"
      ]
     },
     "metadata": {},
     "output_type": "display_data"
    },
    {
     "data": {
      "text/plain": [
       "array([<AxesSubplot:xlabel='Date'>, <AxesSubplot:xlabel='Date'>,\n",
       "       <AxesSubplot:xlabel='Date'>, <AxesSubplot:xlabel='Date'>,\n",
       "       <AxesSubplot:xlabel='Date'>, <AxesSubplot:xlabel='Date'>,\n",
       "       <AxesSubplot:xlabel='Date'>, <AxesSubplot:xlabel='Date'>,\n",
       "       <AxesSubplot:xlabel='Date'>, <AxesSubplot:xlabel='Date'>,\n",
       "       <AxesSubplot:xlabel='Date'>], dtype=object)"
      ]
     },
     "execution_count": 30,
     "metadata": {},
     "output_type": "execute_result"
    }
   ],
   "source": [
    "dfG.plot(subplots=True)"
   ]
  },
  {
   "cell_type": "markdown",
   "metadata": {},
   "source": [
    "## 04_Northam_NorthamLT"
   ]
  },
  {
   "cell_type": "markdown",
   "metadata": {},
   "source": [
    "- Start Date = 19-05-2021\n",
    "- End Date = 01-09-2021"
   ]
  },
  {
   "cell_type": "code",
   "execution_count": 31,
   "metadata": {},
   "outputs": [],
   "source": [
    "NorthamLT = ['04_Northam_NorthamLongTerm_CO (ppm)',\n",
    "        '04_Northam_NorthamLongTerm_Internal Temperature',\n",
    "        '04_Northam_NorthamLongTerm_NO',\n",
    "        '04_Northam_NorthamLongTerm_NO2 (ppb)',\n",
    "        '04_Northam_NorthamLongTerm_O3 (ppb)',\n",
    "        '04_Northam_NorthamLongTerm_PM10 (ug/m3)',\n",
    "        '04_Northam_NorthamLongTerm_PM2.5 (ug/m3)',\n",
    "        '04_Northam_NorthamLongTerm_Relative Humidity (%)',\n",
    "        '04_Northam_NorthamLongTerm_SO2 (ppb)',\n",
    "        '04_Northam_NorthamLongTerm_Sensor Temperature',\n",
    "        '04_Northam_NorthamLongTerm_VOC']"
   ]
  },
  {
   "cell_type": "code",
   "execution_count": 32,
   "metadata": {},
   "outputs": [],
   "source": [
    "dfnLT = dfGM[NorthamLT]\n",
    "dfnLT = dfnLT.loc['2021-05-19':].resample('5min').mean()"
   ]
  },
  {
   "cell_type": "code",
   "execution_count": 33,
   "metadata": {},
   "outputs": [
    {
     "name": "stdout",
     "output_type": "stream",
     "text": [
      "<class 'pandas.core.frame.DataFrame'>\n",
      "DatetimeIndex: 30957 entries, 2021-05-19 00:00:00 to 2021-09-03 11:40:00\n",
      "Freq: 5T\n",
      "Data columns (total 11 columns):\n",
      " #   Column                                            Non-Null Count  Dtype  \n",
      "---  ------                                            --------------  -----  \n",
      " 0   04_Northam_NorthamLongTerm_CO (ppm)               27581 non-null  float64\n",
      " 1   04_Northam_NorthamLongTerm_Internal Temperature   27581 non-null  float64\n",
      " 2   04_Northam_NorthamLongTerm_NO                     27581 non-null  float64\n",
      " 3   04_Northam_NorthamLongTerm_NO2 (ppb)              27581 non-null  float64\n",
      " 4   04_Northam_NorthamLongTerm_O3 (ppb)               27581 non-null  float64\n",
      " 5   04_Northam_NorthamLongTerm_PM10 (ug/m3)           27581 non-null  float64\n",
      " 6   04_Northam_NorthamLongTerm_PM2.5 (ug/m3)          27581 non-null  float64\n",
      " 7   04_Northam_NorthamLongTerm_Relative Humidity (%)  27581 non-null  float64\n",
      " 8   04_Northam_NorthamLongTerm_SO2 (ppb)              27581 non-null  float64\n",
      " 9   04_Northam_NorthamLongTerm_Sensor Temperature     27581 non-null  float64\n",
      " 10  04_Northam_NorthamLongTerm_VOC                    27581 non-null  float64\n",
      "dtypes: float64(11)\n",
      "memory usage: 2.8 MB\n"
     ]
    }
   ],
   "source": [
    "dfnLT.info()"
   ]
  },
  {
   "cell_type": "code",
   "execution_count": 34,
   "metadata": {},
   "outputs": [
    {
     "data": {
      "application/vnd.jupyter.widget-view+json": {
       "model_id": "b6ddb907aef943df9ad03bd66b775b64",
       "version_major": 2,
       "version_minor": 0
      },
      "text/plain": [
       "Canvas(toolbar=Toolbar(toolitems=[('Home', 'Reset original view', 'home', 'home'), ('Back', 'Back to previous …"
      ]
     },
     "metadata": {},
     "output_type": "display_data"
    },
    {
     "data": {
      "text/plain": [
       "array([<AxesSubplot:xlabel='Date'>, <AxesSubplot:xlabel='Date'>,\n",
       "       <AxesSubplot:xlabel='Date'>, <AxesSubplot:xlabel='Date'>,\n",
       "       <AxesSubplot:xlabel='Date'>, <AxesSubplot:xlabel='Date'>,\n",
       "       <AxesSubplot:xlabel='Date'>, <AxesSubplot:xlabel='Date'>,\n",
       "       <AxesSubplot:xlabel='Date'>, <AxesSubplot:xlabel='Date'>,\n",
       "       <AxesSubplot:xlabel='Date'>], dtype=object)"
      ]
     },
     "execution_count": 34,
     "metadata": {},
     "output_type": "execute_result"
    }
   ],
   "source": [
    "dfnLT.plot(subplots=True)"
   ]
  },
  {
   "cell_type": "markdown",
   "metadata": {},
   "source": [
    "## 05_Rustenburg_Bokomoso"
   ]
  },
  {
   "cell_type": "markdown",
   "metadata": {},
   "source": [
    "- Start Date = 20-05-2021\n",
    "- End Date = 06-07-2021"
   ]
  },
  {
   "cell_type": "code",
   "execution_count": 35,
   "metadata": {},
   "outputs": [],
   "source": [
    "Bokomoso = ['05_Rustenburg_Bokomoso_CO (ppm)',\n",
    "            '05_Rustenburg_Bokomoso_Internal Temperature',\n",
    "            '05_Rustenburg_Bokomoso_NO',\n",
    "            '05_Rustenburg_Bokomoso_NO2 (ppb)',\n",
    "            '05_Rustenburg_Bokomoso_O3 (ppb)',\n",
    "            '05_Rustenburg_Bokomoso_PM10 (ug/m3)',\n",
    "            '05_Rustenburg_Bokomoso_PM2.5 (ug/m3)',\n",
    "            '05_Rustenburg_Bokomoso_Relative Humidity (%)',\n",
    "            '05_Rustenburg_Bokomoso_SO2 (ppb)',\n",
    "            '05_Rustenburg_Bokomoso_Sensor Temperature',\n",
    "            '05_Rustenburg_Bokomoso_VOC']"
   ]
  },
  {
   "cell_type": "code",
   "execution_count": 36,
   "metadata": {},
   "outputs": [],
   "source": [
    "dfB = dfGM[Bokomoso]\n",
    "dfB = dfB.loc['2021-05-20':].resample('5min').mean()"
   ]
  },
  {
   "cell_type": "code",
   "execution_count": 37,
   "metadata": {},
   "outputs": [
    {
     "data": {
      "application/vnd.jupyter.widget-view+json": {
       "model_id": "52201cc59d4d40e19e9cb80172b9eb83",
       "version_major": 2,
       "version_minor": 0
      },
      "text/plain": [
       "Canvas(toolbar=Toolbar(toolitems=[('Home', 'Reset original view', 'home', 'home'), ('Back', 'Back to previous …"
      ]
     },
     "metadata": {},
     "output_type": "display_data"
    },
    {
     "data": {
      "text/plain": [
       "array([<AxesSubplot:xlabel='Date'>, <AxesSubplot:xlabel='Date'>,\n",
       "       <AxesSubplot:xlabel='Date'>, <AxesSubplot:xlabel='Date'>,\n",
       "       <AxesSubplot:xlabel='Date'>, <AxesSubplot:xlabel='Date'>,\n",
       "       <AxesSubplot:xlabel='Date'>, <AxesSubplot:xlabel='Date'>,\n",
       "       <AxesSubplot:xlabel='Date'>, <AxesSubplot:xlabel='Date'>,\n",
       "       <AxesSubplot:xlabel='Date'>], dtype=object)"
      ]
     },
     "execution_count": 37,
     "metadata": {},
     "output_type": "execute_result"
    }
   ],
   "source": [
    "dfB.plot(subplots=True)"
   ]
  },
  {
   "cell_type": "markdown",
   "metadata": {},
   "source": [
    "## 06_Rustenburg_Ikemeleng"
   ]
  },
  {
   "cell_type": "markdown",
   "metadata": {},
   "source": [
    "- Start Date = 11-03-2021\n",
    "- End Date = 31-08-2021"
   ]
  },
  {
   "cell_type": "code",
   "execution_count": 38,
   "metadata": {},
   "outputs": [],
   "source": [
    "Ikemeleng = ['06_Rustenburg_Ikemeleng_CO (ppm)',\n",
    "            '06_Rustenburg_Ikemeleng_Internal Temperature',\n",
    "            '06_Rustenburg_Ikemeleng_NO',\n",
    "            '06_Rustenburg_Ikemeleng_NO2 (ppb)',\n",
    "            '06_Rustenburg_Ikemeleng_O3 (ppb)',\n",
    "            '06_Rustenburg_Ikemeleng_PM10 (ug/m3)',\n",
    "            '06_Rustenburg_Ikemeleng_PM2.5 (ug/m3)',\n",
    "            '06_Rustenburg_Ikemeleng_Relative Humidity (%)',\n",
    "            '06_Rustenburg_Ikemeleng_SO2 (ppb)',\n",
    "            '06_Rustenburg_Ikemeleng_Sensor Temperature',\n",
    "            '06_Rustenburg_Ikemeleng_VOC']"
   ]
  },
  {
   "cell_type": "code",
   "execution_count": 39,
   "metadata": {},
   "outputs": [],
   "source": [
    "dfI = dfGM[Ikemeleng]\n",
    "dfI = dfI.loc['2021-03-11':].resample('5min').mean()"
   ]
  },
  {
   "cell_type": "code",
   "execution_count": 40,
   "metadata": {},
   "outputs": [
    {
     "data": {
      "application/vnd.jupyter.widget-view+json": {
       "model_id": "e41c8d94d1b241f9bcf344183f4e4edc",
       "version_major": 2,
       "version_minor": 0
      },
      "text/plain": [
       "Canvas(toolbar=Toolbar(toolitems=[('Home', 'Reset original view', 'home', 'home'), ('Back', 'Back to previous …"
      ]
     },
     "metadata": {},
     "output_type": "display_data"
    },
    {
     "data": {
      "text/plain": [
       "array([<AxesSubplot:xlabel='Date'>, <AxesSubplot:xlabel='Date'>,\n",
       "       <AxesSubplot:xlabel='Date'>, <AxesSubplot:xlabel='Date'>,\n",
       "       <AxesSubplot:xlabel='Date'>, <AxesSubplot:xlabel='Date'>,\n",
       "       <AxesSubplot:xlabel='Date'>, <AxesSubplot:xlabel='Date'>,\n",
       "       <AxesSubplot:xlabel='Date'>, <AxesSubplot:xlabel='Date'>,\n",
       "       <AxesSubplot:xlabel='Date'>], dtype=object)"
      ]
     },
     "execution_count": 40,
     "metadata": {},
     "output_type": "execute_result"
    }
   ],
   "source": [
    "dfI.plot(subplots=True)"
   ]
  },
  {
   "cell_type": "code",
   "execution_count": 41,
   "metadata": {},
   "outputs": [],
   "source": [
    "clearplots()"
   ]
  },
  {
   "cell_type": "markdown",
   "metadata": {},
   "source": [
    "## 07_Rustenburg_MfidikweChurch"
   ]
  },
  {
   "cell_type": "markdown",
   "metadata": {},
   "source": [
    "- Start Date = 20-05-2021\n",
    "- End Date = 16-07-2021"
   ]
  },
  {
   "cell_type": "code",
   "execution_count": 42,
   "metadata": {},
   "outputs": [],
   "source": [
    "MfidikweChurch = ['07_Rustenburg_Mfidikwe_CO (ppm)',\n",
    "                '07_Rustenburg_Mfidikwe_Internal Temperature',\n",
    "                '07_Rustenburg_Mfidikwe_NO',\n",
    "                '07_Rustenburg_Mfidikwe_NO2 (ppb)',\n",
    "                '07_Rustenburg_Mfidikwe_O3 (ppb)',\n",
    "                '07_Rustenburg_Mfidikwe_PM10 (ug/m3)',\n",
    "                '07_Rustenburg_Mfidikwe_PM2.5 (ug/m3)',\n",
    "                '07_Rustenburg_Mfidikwe_Relative Humidity (%)',\n",
    "                '07_Rustenburg_Mfidikwe_SO2 (ppb)',\n",
    "                '07_Rustenburg_Mfidikwe_Sensor Temperature',\n",
    "                '07_Rustenburg_Mfidikwe_VOC']"
   ]
  },
  {
   "cell_type": "code",
   "execution_count": 43,
   "metadata": {},
   "outputs": [],
   "source": [
    "dfMC = dfGM[MfidikweChurch]\n",
    "dfMC = dfMC.loc['2021-05-20':].resample('5min').mean()"
   ]
  },
  {
   "cell_type": "code",
   "execution_count": 44,
   "metadata": {},
   "outputs": [
    {
     "data": {
      "application/vnd.jupyter.widget-view+json": {
       "model_id": "817bdda5f0b747eaa76280a8a9c68592",
       "version_major": 2,
       "version_minor": 0
      },
      "text/plain": [
       "Canvas(toolbar=Toolbar(toolitems=[('Home', 'Reset original view', 'home', 'home'), ('Back', 'Back to previous …"
      ]
     },
     "metadata": {},
     "output_type": "display_data"
    },
    {
     "data": {
      "text/plain": [
       "array([<AxesSubplot:xlabel='Date'>, <AxesSubplot:xlabel='Date'>,\n",
       "       <AxesSubplot:xlabel='Date'>, <AxesSubplot:xlabel='Date'>,\n",
       "       <AxesSubplot:xlabel='Date'>, <AxesSubplot:xlabel='Date'>,\n",
       "       <AxesSubplot:xlabel='Date'>, <AxesSubplot:xlabel='Date'>,\n",
       "       <AxesSubplot:xlabel='Date'>, <AxesSubplot:xlabel='Date'>,\n",
       "       <AxesSubplot:xlabel='Date'>], dtype=object)"
      ]
     },
     "execution_count": 44,
     "metadata": {},
     "output_type": "execute_result"
    }
   ],
   "source": [
    "dfMC.plot(subplots=True)"
   ]
  },
  {
   "cell_type": "code",
   "execution_count": 45,
   "metadata": {},
   "outputs": [],
   "source": [
    "clearplots()"
   ]
  },
  {
   "cell_type": "markdown",
   "metadata": {},
   "source": [
    "## 08_Rustenburg_WatervalLT"
   ]
  },
  {
   "cell_type": "markdown",
   "metadata": {},
   "source": [
    "- Start Date = 20-05-2021\n",
    "- End Date = 31-08-2021"
   ]
  },
  {
   "cell_type": "code",
   "execution_count": 46,
   "metadata": {},
   "outputs": [],
   "source": [
    "WatervalLT = ['08_Rustenburg_WatervalLongTerm_CO (ppm)',\n",
    "            '08_Rustenburg_WatervalLongTerm_Internal Temperature',\n",
    "            '08_Rustenburg_WatervalLongTerm_NO',\n",
    "            '08_Rustenburg_WatervalLongTerm_NO2 (ppb)',\n",
    "            '08_Rustenburg_WatervalLongTerm_O3 (ppb)',\n",
    "            '08_Rustenburg_WatervalLongTerm_PM10 (ug/m3)',\n",
    "            '08_Rustenburg_WatervalLongTerm_PM2.5 (ug/m3)',\n",
    "            '08_Rustenburg_WatervalLongTerm_Relative Humidity (%)',\n",
    "            '08_Rustenburg_WatervalLongTerm_SO2 (ppb)',\n",
    "            '08_Rustenburg_WatervalLongTerm_Sensor Temperature',\n",
    "            '08_Rustenburg_WatervalLongTerm_VOC']"
   ]
  },
  {
   "cell_type": "code",
   "execution_count": 47,
   "metadata": {},
   "outputs": [],
   "source": [
    "dfwLT = dfGM[WatervalLT]\n",
    "dfwLT = dfwLT.loc['2021-05-20':].resample('5min').mean()"
   ]
  },
  {
   "cell_type": "code",
   "execution_count": 48,
   "metadata": {},
   "outputs": [
    {
     "data": {
      "application/vnd.jupyter.widget-view+json": {
       "model_id": "4d32457f078340a5b6ef6d1de906ceeb",
       "version_major": 2,
       "version_minor": 0
      },
      "text/plain": [
       "Canvas(toolbar=Toolbar(toolitems=[('Home', 'Reset original view', 'home', 'home'), ('Back', 'Back to previous …"
      ]
     },
     "metadata": {},
     "output_type": "display_data"
    },
    {
     "data": {
      "text/plain": [
       "array([<AxesSubplot:xlabel='Date'>, <AxesSubplot:xlabel='Date'>,\n",
       "       <AxesSubplot:xlabel='Date'>, <AxesSubplot:xlabel='Date'>,\n",
       "       <AxesSubplot:xlabel='Date'>, <AxesSubplot:xlabel='Date'>,\n",
       "       <AxesSubplot:xlabel='Date'>, <AxesSubplot:xlabel='Date'>,\n",
       "       <AxesSubplot:xlabel='Date'>, <AxesSubplot:xlabel='Date'>,\n",
       "       <AxesSubplot:xlabel='Date'>], dtype=object)"
      ]
     },
     "execution_count": 48,
     "metadata": {},
     "output_type": "execute_result"
    }
   ],
   "source": [
    "dfwLT.plot(subplots=True)"
   ]
  },
  {
   "cell_type": "code",
   "execution_count": null,
   "metadata": {},
   "outputs": [],
   "source": []
  }
 ],
 "metadata": {
  "kernelspec": {
   "display_name": "Python3 (Air Quality)",
   "language": "python",
   "name": "conda-python3-env"
  },
  "language_info": {
   "codemirror_mode": {
    "name": "ipython",
    "version": 3
   },
   "file_extension": ".py",
   "mimetype": "text/x-python",
   "name": "python",
   "nbconvert_exporter": "python",
   "pygments_lexer": "ipython3",
   "version": "3.10.0"
  },
  "toc": {
   "base_numbering": 1,
   "nav_menu": {},
   "number_sections": true,
   "sideBar": true,
   "skip_h1_title": false,
   "title_cell": "Table of Contents",
   "title_sidebar": "Contents",
   "toc_cell": true,
   "toc_position": {
    "height": "calc(100% - 180px)",
    "left": "10px",
    "top": "150px",
    "width": "302px"
   },
   "toc_section_display": true,
   "toc_window_display": true
  }
 },
 "nbformat": 4,
 "nbformat_minor": 4
}
