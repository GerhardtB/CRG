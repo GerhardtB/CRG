{
 "cells": [
  {
   "cell_type": "markdown",
   "metadata": {
    "toc": true
   },
   "source": [
    "<h1>Table of Contents<span class=\"tocSkip\"></span></h1>\n",
    "<div class=\"toc\"><ul class=\"toc-item\"><li><span><a href=\"#Import-libraries\" data-toc-modified-id=\"Import-libraries-1\"><span class=\"toc-item-num\">1&nbsp;&nbsp;</span>Import libraries</a></span></li><li><span><a href=\"#Define-directories\" data-toc-modified-id=\"Define-directories-2\"><span class=\"toc-item-num\">2&nbsp;&nbsp;</span>Define directories</a></span></li><li><span><a href=\"#ANGLO-LONG-TERM-SITES\" data-toc-modified-id=\"ANGLO-LONG-TERM-SITES-3\"><span class=\"toc-item-num\">3&nbsp;&nbsp;</span>ANGLO LONG TERM SITES</a></span><ul class=\"toc-item\"><li><span><a href=\"#Waterval-Long-Term-Station\" data-toc-modified-id=\"Waterval-Long-Term-Station-3.1\"><span class=\"toc-item-num\">3.1&nbsp;&nbsp;</span>Waterval Long-Term Station</a></span><ul class=\"toc-item\"><li><span><a href=\"#Explore-directory\" data-toc-modified-id=\"Explore-directory-3.1.1\"><span class=\"toc-item-num\">3.1.1&nbsp;&nbsp;</span>Explore directory</a></span></li><li><span><a href=\"#Import-data\" data-toc-modified-id=\"Import-data-3.1.2\"><span class=\"toc-item-num\">3.1.2&nbsp;&nbsp;</span>Import data</a></span></li><li><span><a href=\"#Create-new-dataframe-for-Waterval-with-prefix-&quot;W&quot;\" data-toc-modified-id=\"Create-new-dataframe-for-Waterval-with-prefix-&quot;W&quot;-3.1.3\"><span class=\"toc-item-num\">3.1.3&nbsp;&nbsp;</span>Create new dataframe for Waterval with prefix \"W\"</a></span></li></ul></li><li><span><a href=\"#Northam-Long-Term-Station\" data-toc-modified-id=\"Northam-Long-Term-Station-3.2\"><span class=\"toc-item-num\">3.2&nbsp;&nbsp;</span>Northam Long-Term Station</a></span><ul class=\"toc-item\"><li><span><a href=\"#Explore-directory\" data-toc-modified-id=\"Explore-directory-3.2.1\"><span class=\"toc-item-num\">3.2.1&nbsp;&nbsp;</span>Explore directory</a></span></li><li><span><a href=\"#Import-data\" data-toc-modified-id=\"Import-data-3.2.2\"><span class=\"toc-item-num\">3.2.2&nbsp;&nbsp;</span>Import data</a></span></li><li><span><a href=\"#Create-new-dataframe-for-Northam-with-prefix-&quot;N&quot;\" data-toc-modified-id=\"Create-new-dataframe-for-Northam-with-prefix-&quot;N&quot;-3.2.3\"><span class=\"toc-item-num\">3.2.3&nbsp;&nbsp;</span>Create new dataframe for Northam with prefix \"N\"</a></span></li></ul></li><li><span><a href=\"#Combine-Long_Term-Data\" data-toc-modified-id=\"Combine-Long_Term-Data-3.3\"><span class=\"toc-item-num\">3.3&nbsp;&nbsp;</span>Combine Long_Term Data</a></span></li></ul></li><li><span><a href=\"#ANGLO-LOW-COST-SITES\" data-toc-modified-id=\"ANGLO-LOW-COST-SITES-4\"><span class=\"toc-item-num\">4&nbsp;&nbsp;</span>ANGLO LOW COST SITES</a></span><ul class=\"toc-item\"><li><span><a href=\"#ES642-2020\" data-toc-modified-id=\"ES642-2020-4.1\"><span class=\"toc-item-num\">4.1&nbsp;&nbsp;</span>ES642 2020</a></span><ul class=\"toc-item\"><li><span><a href=\"#Import-2020-ES642-Data\" data-toc-modified-id=\"Import-2020-ES642-Data-4.1.1\"><span class=\"toc-item-num\">4.1.1&nbsp;&nbsp;</span>Import 2020 ES642 Data</a></span></li><li><span><a href=\"#Create-new-dataframe-for-2020-ES642-Data-with-Prefix-&quot;ES&quot;\" data-toc-modified-id=\"Create-new-dataframe-for-2020-ES642-Data-with-Prefix-&quot;ES&quot;-4.1.2\"><span class=\"toc-item-num\">4.1.2&nbsp;&nbsp;</span>Create new dataframe for 2020 ES642 Data with Prefix \"ES\"</a></span></li></ul></li><li><span><a href=\"#ES642-2021\" data-toc-modified-id=\"ES642-2021-4.2\"><span class=\"toc-item-num\">4.2&nbsp;&nbsp;</span>ES642 2021</a></span><ul class=\"toc-item\"><li><span><a href=\"#Northam-Long-Term-PM2.5-ES642\" data-toc-modified-id=\"Northam-Long-Term-PM2.5-ES642-4.2.1\"><span class=\"toc-item-num\">4.2.1&nbsp;&nbsp;</span>Northam Long-Term PM2.5 ES642</a></span></li><li><span><a href=\"#Waterval-Long-Term-ES642\" data-toc-modified-id=\"Waterval-Long-Term-ES642-4.2.2\"><span class=\"toc-item-num\">4.2.2&nbsp;&nbsp;</span>Waterval Long-Term ES642</a></span></li><li><span><a href=\"#Northam-Long-Term-PM10-ES642\" data-toc-modified-id=\"Northam-Long-Term-PM10-ES642-4.2.3\"><span class=\"toc-item-num\">4.2.3&nbsp;&nbsp;</span>Northam Long-Term PM10 ES642</a></span></li><li><span><a href=\"#Waterval-Long-Term-PM10-ES642\" data-toc-modified-id=\"Waterval-Long-Term-PM10-ES642-4.2.4\"><span class=\"toc-item-num\">4.2.4&nbsp;&nbsp;</span>Waterval Long-Term PM10 ES642</a></span></li><li><span><a href=\"#Sefikile-Battery-2021-PM2.5-ES642\" data-toc-modified-id=\"Sefikile-Battery-2021-PM2.5-ES642-4.2.5\"><span class=\"toc-item-num\">4.2.5&nbsp;&nbsp;</span>Sefikile Battery 2021 PM2.5 ES642</a></span></li></ul></li><li><span><a href=\"#Merge-2021-&amp;-2020-ES642-Data\" data-toc-modified-id=\"Merge-2021-&amp;-2020-ES642-Data-4.3\"><span class=\"toc-item-num\">4.3&nbsp;&nbsp;</span>Merge 2021 &amp; 2020 ES642 Data</a></span><ul class=\"toc-item\"><li><span><a href=\"#Update-old-sites\" data-toc-modified-id=\"Update-old-sites-4.3.1\"><span class=\"toc-item-num\">4.3.1&nbsp;&nbsp;</span>Update old sites</a></span></li><li><span><a href=\"#Add-new-sites\" data-toc-modified-id=\"Add-new-sites-4.3.2\"><span class=\"toc-item-num\">4.3.2&nbsp;&nbsp;</span>Add new sites</a></span></li><li><span><a href=\"#Write-Complete-ES642-Dataset-to-FinalData\" data-toc-modified-id=\"Write-Complete-ES642-Dataset-to-FinalData-4.3.3\"><span class=\"toc-item-num\">4.3.3&nbsp;&nbsp;</span>Write Complete ES642 Dataset to FinalData</a></span></li></ul></li><li><span><a href=\"#GM5000-2021\" data-toc-modified-id=\"GM5000-2021-4.4\"><span class=\"toc-item-num\">4.4&nbsp;&nbsp;</span>GM5000 2021</a></span><ul class=\"toc-item\"><li><span><a href=\"#Import-MET-Data\" data-toc-modified-id=\"Import-MET-Data-4.4.1\"><span class=\"toc-item-num\">4.4.1&nbsp;&nbsp;</span>Import MET Data</a></span></li></ul></li><li><span><a href=\"#Mantserre-MET\" data-toc-modified-id=\"Mantserre-MET-4.5\"><span class=\"toc-item-num\">4.5&nbsp;&nbsp;</span>Mantserre MET</a></span></li><li><span><a href=\"#Sefikile-MET\" data-toc-modified-id=\"Sefikile-MET-4.6\"><span class=\"toc-item-num\">4.6&nbsp;&nbsp;</span>Sefikile MET</a></span></li><li><span><a href=\"#Northam-Guesthouse-MET\" data-toc-modified-id=\"Northam-Guesthouse-MET-4.7\"><span class=\"toc-item-num\">4.7&nbsp;&nbsp;</span>Northam Guesthouse MET</a></span></li><li><span><a href=\"#Northam-LongTerm-MET\" data-toc-modified-id=\"Northam-LongTerm-MET-4.8\"><span class=\"toc-item-num\">4.8&nbsp;&nbsp;</span>Northam LongTerm MET</a></span></li><li><span><a href=\"#Waterval-MET\" data-toc-modified-id=\"Waterval-MET-4.9\"><span class=\"toc-item-num\">4.9&nbsp;&nbsp;</span>Waterval MET</a></span></li></ul></li></ul></div>"
   ]
  },
  {
   "cell_type": "markdown",
   "metadata": {},
   "source": [
    "# Import libraries"
   ]
  },
  {
   "cell_type": "code",
   "execution_count": 1,
   "metadata": {},
   "outputs": [],
   "source": [
    "# The pandas data science library that gives a 'spreadsheet'-like capabilities to python\n",
    "import pandas as pd\n",
    "# The matplotlih library is used to visualize data\n",
    "import matplotlib.pyplot as plt\n",
    "# The pathlib library is used to manage access to disk. It helps us to keep things the same between Windows and Linux\n",
    "from pathlib import Path\n",
    "# The os library is used to list and access files and directories on the hard drive\n",
    "import os\n",
    "# Numpy is the numerical library. It is used by many of the ones before, but we import it for in case\n",
    "import numpy as np\n",
    "# From Numpy we also import the nan 'missing-value' object that we use alot\n",
    "from numpy import nan\n",
    "# For fancy matching of strings, we use re\n",
    "import re\n",
    "# String libary for temporary file import\n",
    "from io import StringIO\n",
    "# Create tooltips for interactive plots\n",
    "import mpld3\n",
    "# For connect to google sheet\n",
    "import gspread\n",
    "from oauth2client.service_account import ServiceAccountCredentials\n",
    "\n",
    "from scipy import interpolate\n",
    "from windrose import WindroseAxes\n",
    "from matplotlib.colors import BoundaryNorm\n",
    "from matplotlib.ticker import MaxNLocator\n",
    "import matplotlib.cm as cm\n",
    "\n",
    "import ipywidgets as widgets\n",
    "from ipywidgets import interact, interact_manual\n",
    "\n",
    "import seaborn as sns\n",
    "sns.set_theme(style=\"darkgrid\")\n",
    "\n",
    "import seaborn as sns\n",
    "#sns.set_theme(style=\"darkgrid\")\n",
    "\n",
    "\n",
    "#Import google forms\n",
    "\n",
    "# Configure the connection \n",
    "scope = ['https://spreadsheets.google.com/feeds']\n",
    "\n",
    "# Give the path to the Service Account Credential json file \n",
    "# 1. Go to Google Development Console (https://console.developers.google.com/project)\n",
    "# 2. Create new project\n",
    "# 3. Go to “APIs & Services > Credentials” and choose “Create credentials > Service account key”.\n",
    "# 4. Fill out the form\n",
    "# 5. Click “Create key”\n",
    "# 6. Select “JSON” and click “Create”\n",
    "\n",
    "credentials = ServiceAccountCredentials.from_json_keyfile_name('key/crgprojects-b66f872bd816.json',\n",
    "                                                               scope)\n",
    "# Authorise your Notebook\n",
    "gc = gspread.authorize(credentials)\n",
    "\n",
    "# The sprad sheet ID, which can be taken from the link to the sheet\n",
    "#https://docs.google.com/spreadsheets/d/1Fe1P2QEiCjl7KK6YEckzGLC_VqOuGtaChaDGbn2SOhE/edit?usp=sharing\n",
    "#spreadsheet_key = '1pwJDzIl1O8gQSHD8SekW6442rrLRgLVTYA90dQb7chg'\n",
    "spreadsheet_key = '1Fe1P2QEiCjl7KK6YEckzGLC_VqOuGtaChaDGbn2SOhE'\n",
    "\n",
    "#Opening the worksheet by using Worksheet ID\n",
    "def readSheet():\n",
    "    workbook = gc.open_by_key(spreadsheet_key)#Selecting which sheet to pulling the data\n",
    "    reports = workbook.worksheet('Instrument Failure report')#Pulling the data and transform it to the data frame\n",
    "    values = reports.get_all_values()\n",
    "    Reports = pd.DataFrame(values[1:], columns=values[0])\n",
    "    Reports=Reports[Reports['What is the site']=='Waterkloof AQMS']\n",
    "    return(reports,Reports)\n",
    "reports, Reports = readSheet()\n",
    "\n",
    "#Import functions \n",
    "\n",
    "def head(filename,N=10):\n",
    "    n=0\n",
    "    with open(Path(filename)) as fp:\n",
    "        for l in fp.readlines():\n",
    "            if n<N:\n",
    "                print(l,end=\"\")\n",
    "                n=n+1\n",
    "                \n",
    "def tail(filename,N=10):\n",
    "    n=0\n",
    "    with open(Path(filename)) as fp:\n",
    "        lines=[i for i in fp.readlines()]\n",
    "        Nlines=len(lines)\n",
    "        for l in lines[Nlines-N:]:\n",
    "            if n<N:\n",
    "                print(l,end=\"\")\n",
    "                n=n+1\n",
    "                \n",
    "def ConvertNumeric(df,var):\n",
    "    df[var]= pd.to_numeric(df[var],errors='coerce')\n",
    "\n",
    "def testLogger(filename):\n",
    "    Sep=\",\"\n",
    "    Data=[]\n",
    "    with open(filename) as fp:\n",
    "        for line in fp.readlines():\n",
    "            row=line.split(Sep)\n",
    "            Data.append(len(row))\n",
    "    print(pd.DataFrame({\"Columns\":Data}).describe())\n",
    "    \n",
    "def ncolumnsLogger(filename):\n",
    "    Sep=\",\"\n",
    "    Data=[]\n",
    "    with open(filename) as fp:\n",
    "        for line in fp.readlines():\n",
    "            row=line.split(Sep)\n",
    "            Data.append(len(row))\n",
    "    return(np.median(np.array(Data)))\n",
    "\n",
    "def readLogger(filename, nLines=18):\n",
    "    DataString=\"\"\n",
    "    Sep=\",\"\n",
    "    with open(filename) as fp:\n",
    "        for line in fp.readlines():\n",
    "            row=line.split(Sep)\n",
    "            if isinstance(nLines, list):\n",
    "                if len(row) in nLines and re.match('\\W*(\\d{4})[/.-](\\d{2})[/.-](\\d{2})\\s{1}(\\d{2}):(\\d{2}):(\\d{2})\\W*',row[0]):\n",
    "                    DataString=DataString+line                \n",
    "            else:\n",
    "                if len(row) == nLines and re.match('\\W*(\\d{4})[/.-](\\d{2})[/.-](\\d{2})\\s{1}(\\d{2}):(\\d{2}):(\\d{2})\\W*',row[0]):\n",
    "                    DataString=DataString+line\n",
    "    return(DataString)\n",
    "\n",
    "def readRM(filename, nLines=18):\n",
    "    DataString=\"\"\n",
    "    Sep=\",\"\n",
    "    with open(filename) as fp:\n",
    "        for line in fp.readlines():\n",
    "            row=line.split(Sep)\n",
    "            if len(row) == nLines and re.match('\\W*(\\d{4})[/.-](\\d{2})[/.-](\\d{2})\\s{1}(\\d{2}):(\\d{2}):(\\d{2})\\W*',row[0]):\n",
    "                DataString=DataString+line\n",
    "    return(DataString)\n",
    "\n",
    "def lsR(dir,pattern=\".csv\",prefix=\"\",postfix=\"\"):\n",
    "    list=[]\n",
    "    for path,dirs,files in os.walk(Path(dir)):\n",
    "        for f in files:\n",
    "            if f.count(pattern) > 0 and f.startswith(prefix) and f.endswith(postfix):\n",
    "                list.append(os.path.join(path,f))\n",
    "    return(list)\n",
    "\n",
    "# This 'widget' is used to give us interactive graph capabilities in the matplotlib figures\n",
    "%matplotlib widget"
   ]
  },
  {
   "cell_type": "markdown",
   "metadata": {},
   "source": [
    "# Define directories"
   ]
  },
  {
   "cell_type": "code",
   "execution_count": 2,
   "metadata": {},
   "outputs": [],
   "source": [
    "DataDir = Path('/home/roelof/Dropbox (NWU)/CRG_Projects/01_Research_Campaigns/Anglo_SA/03_FinalData')\n",
    "HomeDir = Path('/home/roelof/Dropbox (NWU)/CRG_Projects/01_Research_Campaigns/Anglo_SA/')"
   ]
  },
  {
   "cell_type": "markdown",
   "metadata": {},
   "source": [
    "# ANGLO LONG TERM SITES"
   ]
  },
  {
   "cell_type": "markdown",
   "metadata": {},
   "source": [
    "## Waterval Long-Term Station"
   ]
  },
  {
   "cell_type": "markdown",
   "metadata": {},
   "source": [
    "### Explore directory"
   ]
  },
  {
   "cell_type": "code",
   "execution_count": 3,
   "metadata": {},
   "outputs": [
    {
     "data": {
      "text/plain": [
       "['ES642-data-level0.csv',\n",
       " 'Roadside_Round2_Raw',\n",
       " 'ES642-data-level1.csv',\n",
       " 'Northam_data_level2.csv',\n",
       " 'AngloSA_ES642_2020_2021_Level0.csv',\n",
       " 'Full_roadside',\n",
       " 'Northam_data_level2_20210901.csv',\n",
       " 'RustenburgWaterval_level2_20210810.csv',\n",
       " 'GM5000_raw',\n",
       " 'Rustenburg-Roadside',\n",
       " 'Northam_data_level2_20210519.csv',\n",
       " 'RustenburgWaterval_level2_20210518.csv',\n",
       " 'Sifekile_GM5000_level1.csv',\n",
       " 'RustenburgWaterval_level1.csv',\n",
       " 'Mantserre_updated_20210518.csv',\n",
       " 'Northam_data_level2_2021810.csv',\n",
       " 'RustenburgWaterval_level2_20210820.csv',\n",
       " 'Northam-Roadside',\n",
       " 'RustenburgWaterval_level2.csv',\n",
       " 'Road Dust Monitoring technical Report.docx',\n",
       " 'Mantserre_GM5000.csv',\n",
       " 'RoadsideConsolidated',\n",
       " 'ES642-summary.csv',\n",
       " 'Waterval_data.csv',\n",
       " 'Northam_data.csv',\n",
       " 'Northam_data_level1.csv',\n",
       " 'Mantserre.csv']"
      ]
     },
     "execution_count": 3,
     "metadata": {},
     "output_type": "execute_result"
    }
   ],
   "source": [
    "os.listdir(DataDir)"
   ]
  },
  {
   "cell_type": "code",
   "execution_count": 83,
   "metadata": {},
   "outputs": [
    {
     "name": "stdout",
     "output_type": "stream",
     "text": [
      "Date,Ambient_Temperature (degC),Battery_Voltage (V),Line_Voltage (V),Logger_Temperature (degC),NO (ppb),NO2 (ppb),NOx (ppb),O3 (ppb),PM10 (ug/m3),PM2.5_logger (ug/m3),Rainfall (mm),Relative_Humidity (%),SO2 (ppb),Temperature (degC),Wind_Direction (deg),Wind_Direction_Std (deg),Wind_Speed (m/s),Wind_Speed_Std (m/s),Power_status,NO_status,NORaw,NO2_status,NO2Raw,O3_status,O3Raw,PM10_status,PM10Raw,SO2_status,SO2Raw,PM10 (ug/m3)_logger,03_status,NOX_status,TempFlag,RH_flag,RHFlag,PM2.5 (ug/m3),PM2.5_ConcHR (ug/m3),PM2.5_Flow (lpm),PM2.5_Wind_Speed (m/s),PM2.5_Wind_Direction (Deg),PM2.5_Ambient_Temperature (C),PM2.5_Relative_Humidity (%),PM2.5_BP (mmHg),PM2.5_FT (C),PM2.5_FRH (%),PM2.5_Battery_Voltage (V),PM2.5_PM (none),PM2.5_Status (none),PM2.5_status,PM2.5Raw\n",
      "2020-08-05 13:55:00,24.28,13.255920000000001,209.8417,27.960259999999998,,,,,0.585309,13.34503,0.0,17.75,4.704582,23.6,342.0,17.07,4.29,3.435,0,0,-346.8626,0,-586.8942,0,-370.5277,0,0.585309,,4.704582,,,2.0,,,,,,,,,,,,,,,,,,\n",
      "2020-08-05 13:56:00,24.36,13.2559,209.9254,27.987370000000002,,,,,1.036045,12.91676,0.0,17.63,5.268023,24.05,326.7,24.77,3.81,2.418,0,0,-346.185,0,-586.8918,0,-370.6388,0,1.036045,,5.268023,,,2.0,,,,,,,,,,,,,,,,,,\n",
      "2020-08-05 13:57:00,24.5,13.25601,209.8904,28.02314,,,,,0.8106293999999999,11.97011,0.0,17.42,5.380694,23.59,333.9,15.82,5.49,3.7230000000000003,0,0,-346.4084,0,-587.0012,0,-370.5241,0,0.8106293999999999,,5.380694,,,2.0,,,,,,,,,,,,,,,,,,\n",
      "2020-08-05 13:58:00,24.46,13.256470000000002,209.9306,28.06532,,,,,1.0362069999999999,10.79838,0.0,17.8,5.606175,23.78,349.1,9.86,7.03,5.355,0,0,-346.1935,0,-586.6808,0,-371.2114,0,1.0362069999999999,,5.606175,,,2.0,,,,,,,,,,,,,,,,,,\n",
      "2020-08-05 13:59:00,24.61,13.25641,209.8992,28.112759999999998,,,,,0.9235890999999999,10.933710000000001,0.0,18.06,5.71892,23.75,19.23,16.56,7.2,4.197,0,0,-346.1977,0,-587.1387,0,-370.7651,0,0.9235890999999999,,5.71892,,,2.0,,,,,,,,,,,,,,,,,,\n",
      "2020-08-05 14:00:00,24.95,13.256120000000001,209.8782,28.150609999999997,,,,,0.9234633,11.57589,0.0,17.66,5.38077,23.41,58.32,12.58,4.01,3.1319999999999997,0,0,-345.7401,0,-587.1271,0,-371.5466,0,0.9234633,,5.38077,,,2.0,,,,,,,,,,,,,,,,,,\n",
      "2020-08-05 14:01:00,25.22,13.256089999999999,209.7236,28.19673,,,,,0.6980045,11.22644,0.0,17.67,6.169567,23.45,84.4,9.47,3.45,2.717,0,0,-346.1867,0,-587.1201,0,-370.7534,0,0.6980045,,6.169567,,,2.0,,,,,,,,,,,,,,,,,,\n",
      "2020-08-05 14:02:00,25.48,13.25526,209.6713,28.24512,,,,,0.9233372999999999,11.51937,0.0,17.13,6.282225,23.48,97.8,15.78,2.89,1.945,0,0,-345.1699,0,-587.0029,0,-371.2013,0,0.9233372999999999,,6.282225,,,2.0,,,,,,,,,,,,,,,,,,\n",
      "2020-08-05 14:03:00,25.73,13.255329999999999,209.7379,28.2807,,,,,0.8106175,11.13619,0.0,17.49,6.620274,24.08,70.17,20.38,5.46,2.3930000000000002,0,0,-345.2809,0,-586.4367,0,-370.5234,0,0.8106175,,6.620274,,,2.0,,,,,,,,,,,,,,,,,,\n"
     ]
    }
   ],
   "source": [
    "head(DataDir/'RustenburgWaterval_level2_20210820.csv')"
   ]
  },
  {
   "cell_type": "markdown",
   "metadata": {},
   "source": [
    "### Import data"
   ]
  },
  {
   "cell_type": "code",
   "execution_count": 4,
   "metadata": {},
   "outputs": [],
   "source": [
    "df01 = pd.read_csv(DataDir/'RustenburgWaterval_level2_20210820.csv', parse_dates=[0],index_col=0)"
   ]
  },
  {
   "cell_type": "code",
   "execution_count": 5,
   "metadata": {},
   "outputs": [
    {
     "data": {
      "text/html": [
       "<div>\n",
       "<style scoped>\n",
       "    .dataframe tbody tr th:only-of-type {\n",
       "        vertical-align: middle;\n",
       "    }\n",
       "\n",
       "    .dataframe tbody tr th {\n",
       "        vertical-align: top;\n",
       "    }\n",
       "\n",
       "    .dataframe thead th {\n",
       "        text-align: right;\n",
       "    }\n",
       "</style>\n",
       "<table border=\"1\" class=\"dataframe\">\n",
       "  <thead>\n",
       "    <tr style=\"text-align: right;\">\n",
       "      <th></th>\n",
       "      <th>Ambient_Temperature (degC)</th>\n",
       "      <th>Battery_Voltage (V)</th>\n",
       "      <th>Line_Voltage (V)</th>\n",
       "      <th>Logger_Temperature (degC)</th>\n",
       "      <th>NO (ppb)</th>\n",
       "      <th>NO2 (ppb)</th>\n",
       "      <th>NOx (ppb)</th>\n",
       "      <th>O3 (ppb)</th>\n",
       "      <th>PM10 (ug/m3)</th>\n",
       "      <th>PM2.5_logger (ug/m3)</th>\n",
       "      <th>...</th>\n",
       "      <th>PM2.5_Ambient_Temperature (C)</th>\n",
       "      <th>PM2.5_Relative_Humidity (%)</th>\n",
       "      <th>PM2.5_BP (mmHg)</th>\n",
       "      <th>PM2.5_FT (C)</th>\n",
       "      <th>PM2.5_FRH (%)</th>\n",
       "      <th>PM2.5_Battery_Voltage (V)</th>\n",
       "      <th>PM2.5_PM (none)</th>\n",
       "      <th>PM2.5_Status (none)</th>\n",
       "      <th>PM2.5_status</th>\n",
       "      <th>PM2.5Raw</th>\n",
       "    </tr>\n",
       "    <tr>\n",
       "      <th>Date</th>\n",
       "      <th></th>\n",
       "      <th></th>\n",
       "      <th></th>\n",
       "      <th></th>\n",
       "      <th></th>\n",
       "      <th></th>\n",
       "      <th></th>\n",
       "      <th></th>\n",
       "      <th></th>\n",
       "      <th></th>\n",
       "      <th></th>\n",
       "      <th></th>\n",
       "      <th></th>\n",
       "      <th></th>\n",
       "      <th></th>\n",
       "      <th></th>\n",
       "      <th></th>\n",
       "      <th></th>\n",
       "      <th></th>\n",
       "      <th></th>\n",
       "      <th></th>\n",
       "    </tr>\n",
       "  </thead>\n",
       "  <tbody>\n",
       "    <tr>\n",
       "      <th>2020-08-05 13:55:00</th>\n",
       "      <td>24.28</td>\n",
       "      <td>13.25592</td>\n",
       "      <td>209.8417</td>\n",
       "      <td>27.96026</td>\n",
       "      <td>NaN</td>\n",
       "      <td>NaN</td>\n",
       "      <td>NaN</td>\n",
       "      <td>NaN</td>\n",
       "      <td>0.585309</td>\n",
       "      <td>13.34503</td>\n",
       "      <td>...</td>\n",
       "      <td>NaN</td>\n",
       "      <td>NaN</td>\n",
       "      <td>NaN</td>\n",
       "      <td>NaN</td>\n",
       "      <td>NaN</td>\n",
       "      <td>NaN</td>\n",
       "      <td>NaN</td>\n",
       "      <td>NaN</td>\n",
       "      <td>NaN</td>\n",
       "      <td>NaN</td>\n",
       "    </tr>\n",
       "    <tr>\n",
       "      <th>2020-08-05 13:56:00</th>\n",
       "      <td>24.36</td>\n",
       "      <td>13.25590</td>\n",
       "      <td>209.9254</td>\n",
       "      <td>27.98737</td>\n",
       "      <td>NaN</td>\n",
       "      <td>NaN</td>\n",
       "      <td>NaN</td>\n",
       "      <td>NaN</td>\n",
       "      <td>1.036045</td>\n",
       "      <td>12.91676</td>\n",
       "      <td>...</td>\n",
       "      <td>NaN</td>\n",
       "      <td>NaN</td>\n",
       "      <td>NaN</td>\n",
       "      <td>NaN</td>\n",
       "      <td>NaN</td>\n",
       "      <td>NaN</td>\n",
       "      <td>NaN</td>\n",
       "      <td>NaN</td>\n",
       "      <td>NaN</td>\n",
       "      <td>NaN</td>\n",
       "    </tr>\n",
       "    <tr>\n",
       "      <th>2020-08-05 13:57:00</th>\n",
       "      <td>24.50</td>\n",
       "      <td>13.25601</td>\n",
       "      <td>209.8904</td>\n",
       "      <td>28.02314</td>\n",
       "      <td>NaN</td>\n",
       "      <td>NaN</td>\n",
       "      <td>NaN</td>\n",
       "      <td>NaN</td>\n",
       "      <td>0.810629</td>\n",
       "      <td>11.97011</td>\n",
       "      <td>...</td>\n",
       "      <td>NaN</td>\n",
       "      <td>NaN</td>\n",
       "      <td>NaN</td>\n",
       "      <td>NaN</td>\n",
       "      <td>NaN</td>\n",
       "      <td>NaN</td>\n",
       "      <td>NaN</td>\n",
       "      <td>NaN</td>\n",
       "      <td>NaN</td>\n",
       "      <td>NaN</td>\n",
       "    </tr>\n",
       "    <tr>\n",
       "      <th>2020-08-05 13:58:00</th>\n",
       "      <td>24.46</td>\n",
       "      <td>13.25647</td>\n",
       "      <td>209.9306</td>\n",
       "      <td>28.06532</td>\n",
       "      <td>NaN</td>\n",
       "      <td>NaN</td>\n",
       "      <td>NaN</td>\n",
       "      <td>NaN</td>\n",
       "      <td>1.036207</td>\n",
       "      <td>10.79838</td>\n",
       "      <td>...</td>\n",
       "      <td>NaN</td>\n",
       "      <td>NaN</td>\n",
       "      <td>NaN</td>\n",
       "      <td>NaN</td>\n",
       "      <td>NaN</td>\n",
       "      <td>NaN</td>\n",
       "      <td>NaN</td>\n",
       "      <td>NaN</td>\n",
       "      <td>NaN</td>\n",
       "      <td>NaN</td>\n",
       "    </tr>\n",
       "    <tr>\n",
       "      <th>2020-08-05 13:59:00</th>\n",
       "      <td>24.61</td>\n",
       "      <td>13.25641</td>\n",
       "      <td>209.8992</td>\n",
       "      <td>28.11276</td>\n",
       "      <td>NaN</td>\n",
       "      <td>NaN</td>\n",
       "      <td>NaN</td>\n",
       "      <td>NaN</td>\n",
       "      <td>0.923589</td>\n",
       "      <td>10.93371</td>\n",
       "      <td>...</td>\n",
       "      <td>NaN</td>\n",
       "      <td>NaN</td>\n",
       "      <td>NaN</td>\n",
       "      <td>NaN</td>\n",
       "      <td>NaN</td>\n",
       "      <td>NaN</td>\n",
       "      <td>NaN</td>\n",
       "      <td>NaN</td>\n",
       "      <td>NaN</td>\n",
       "      <td>NaN</td>\n",
       "    </tr>\n",
       "  </tbody>\n",
       "</table>\n",
       "<p>5 rows × 50 columns</p>\n",
       "</div>"
      ],
      "text/plain": [
       "                     Ambient_Temperature (degC)  Battery_Voltage (V)  \\\n",
       "Date                                                                   \n",
       "2020-08-05 13:55:00                       24.28             13.25592   \n",
       "2020-08-05 13:56:00                       24.36             13.25590   \n",
       "2020-08-05 13:57:00                       24.50             13.25601   \n",
       "2020-08-05 13:58:00                       24.46             13.25647   \n",
       "2020-08-05 13:59:00                       24.61             13.25641   \n",
       "\n",
       "                     Line_Voltage (V)  Logger_Temperature (degC)  NO (ppb)  \\\n",
       "Date                                                                         \n",
       "2020-08-05 13:55:00          209.8417                   27.96026       NaN   \n",
       "2020-08-05 13:56:00          209.9254                   27.98737       NaN   \n",
       "2020-08-05 13:57:00          209.8904                   28.02314       NaN   \n",
       "2020-08-05 13:58:00          209.9306                   28.06532       NaN   \n",
       "2020-08-05 13:59:00          209.8992                   28.11276       NaN   \n",
       "\n",
       "                     NO2 (ppb)  NOx (ppb)  O3 (ppb)  PM10 (ug/m3)  \\\n",
       "Date                                                                \n",
       "2020-08-05 13:55:00        NaN        NaN       NaN      0.585309   \n",
       "2020-08-05 13:56:00        NaN        NaN       NaN      1.036045   \n",
       "2020-08-05 13:57:00        NaN        NaN       NaN      0.810629   \n",
       "2020-08-05 13:58:00        NaN        NaN       NaN      1.036207   \n",
       "2020-08-05 13:59:00        NaN        NaN       NaN      0.923589   \n",
       "\n",
       "                     PM2.5_logger (ug/m3)  ...  PM2.5_Ambient_Temperature (C)  \\\n",
       "Date                                       ...                                  \n",
       "2020-08-05 13:55:00              13.34503  ...                            NaN   \n",
       "2020-08-05 13:56:00              12.91676  ...                            NaN   \n",
       "2020-08-05 13:57:00              11.97011  ...                            NaN   \n",
       "2020-08-05 13:58:00              10.79838  ...                            NaN   \n",
       "2020-08-05 13:59:00              10.93371  ...                            NaN   \n",
       "\n",
       "                     PM2.5_Relative_Humidity (%)  PM2.5_BP (mmHg)  \\\n",
       "Date                                                                \n",
       "2020-08-05 13:55:00                          NaN              NaN   \n",
       "2020-08-05 13:56:00                          NaN              NaN   \n",
       "2020-08-05 13:57:00                          NaN              NaN   \n",
       "2020-08-05 13:58:00                          NaN              NaN   \n",
       "2020-08-05 13:59:00                          NaN              NaN   \n",
       "\n",
       "                     PM2.5_FT (C)  PM2.5_FRH (%)  PM2.5_Battery_Voltage (V)  \\\n",
       "Date                                                                          \n",
       "2020-08-05 13:55:00           NaN            NaN                        NaN   \n",
       "2020-08-05 13:56:00           NaN            NaN                        NaN   \n",
       "2020-08-05 13:57:00           NaN            NaN                        NaN   \n",
       "2020-08-05 13:58:00           NaN            NaN                        NaN   \n",
       "2020-08-05 13:59:00           NaN            NaN                        NaN   \n",
       "\n",
       "                     PM2.5_PM (none)  PM2.5_Status (none)  PM2.5_status  \\\n",
       "Date                                                                      \n",
       "2020-08-05 13:55:00              NaN                  NaN           NaN   \n",
       "2020-08-05 13:56:00              NaN                  NaN           NaN   \n",
       "2020-08-05 13:57:00              NaN                  NaN           NaN   \n",
       "2020-08-05 13:58:00              NaN                  NaN           NaN   \n",
       "2020-08-05 13:59:00              NaN                  NaN           NaN   \n",
       "\n",
       "                     PM2.5Raw  \n",
       "Date                           \n",
       "2020-08-05 13:55:00       NaN  \n",
       "2020-08-05 13:56:00       NaN  \n",
       "2020-08-05 13:57:00       NaN  \n",
       "2020-08-05 13:58:00       NaN  \n",
       "2020-08-05 13:59:00       NaN  \n",
       "\n",
       "[5 rows x 50 columns]"
      ]
     },
     "execution_count": 5,
     "metadata": {},
     "output_type": "execute_result"
    }
   ],
   "source": [
    "df01.head()"
   ]
  },
  {
   "cell_type": "code",
   "execution_count": 6,
   "metadata": {},
   "outputs": [
    {
     "data": {
      "text/plain": [
       "Index(['Ambient_Temperature (degC)', 'Battery_Voltage (V)', 'Line_Voltage (V)',\n",
       "       'Logger_Temperature (degC)', 'NO (ppb)', 'NO2 (ppb)', 'NOx (ppb)',\n",
       "       'O3 (ppb)', 'PM10 (ug/m3)', 'PM2.5_logger (ug/m3)', 'Rainfall (mm)',\n",
       "       'Relative_Humidity (%)', 'SO2 (ppb)', 'Temperature (degC)',\n",
       "       'Wind_Direction (deg)', 'Wind_Direction_Std (deg)', 'Wind_Speed (m/s)',\n",
       "       'Wind_Speed_Std (m/s)', 'Power_status', 'NO_status', 'NORaw',\n",
       "       'NO2_status', 'NO2Raw', 'O3_status', 'O3Raw', 'PM10_status', 'PM10Raw',\n",
       "       'SO2_status', 'SO2Raw', 'PM10 (ug/m3)_logger', '03_status',\n",
       "       'NOX_status', 'TempFlag', 'RH_flag', 'RHFlag', 'PM2.5 (ug/m3)',\n",
       "       'PM2.5_ConcHR (ug/m3)', 'PM2.5_Flow (lpm)', 'PM2.5_Wind_Speed (m/s)',\n",
       "       'PM2.5_Wind_Direction (Deg)', 'PM2.5_Ambient_Temperature (C)',\n",
       "       'PM2.5_Relative_Humidity (%)', 'PM2.5_BP (mmHg)', 'PM2.5_FT (C)',\n",
       "       'PM2.5_FRH (%)', 'PM2.5_Battery_Voltage (V)', 'PM2.5_PM (none)',\n",
       "       'PM2.5_Status (none)', 'PM2.5_status', 'PM2.5Raw'],\n",
       "      dtype='object')"
      ]
     },
     "execution_count": 6,
     "metadata": {},
     "output_type": "execute_result"
    }
   ],
   "source": [
    "df01.columns"
   ]
  },
  {
   "cell_type": "markdown",
   "metadata": {},
   "source": [
    "### Create new dataframe for Waterval with prefix \"W\""
   ]
  },
  {
   "cell_type": "code",
   "execution_count": 7,
   "metadata": {},
   "outputs": [],
   "source": [
    "dfW = pd.DataFrame()\n",
    "for i in df01.columns:\n",
    "    s = 'W_{}'.format(i)\n",
    "    dfW[s] = df01[i]"
   ]
  },
  {
   "cell_type": "code",
   "execution_count": 201,
   "metadata": {},
   "outputs": [
    {
     "name": "stdout",
     "output_type": "stream",
     "text": [
      "<class 'pandas.core.frame.DataFrame'>\n",
      "DatetimeIndex: 546882 entries, 2020-08-05 13:55:00 to 2021-08-20 08:36:00\n",
      "Data columns (total 50 columns):\n",
      " #   Column                           Non-Null Count   Dtype  \n",
      "---  ------                           --------------   -----  \n",
      " 0   W_Ambient_Temperature (degC)     515574 non-null  float64\n",
      " 1   W_Battery_Voltage (V)            542041 non-null  float64\n",
      " 2   W_Line_Voltage (V)               542041 non-null  float64\n",
      " 3   W_Logger_Temperature (degC)      542041 non-null  float64\n",
      " 4   W_NO (ppb)                       208349 non-null  float64\n",
      " 5   W_NO2 (ppb)                      208202 non-null  float64\n",
      " 6   W_NOx (ppb)                      479062 non-null  float64\n",
      " 7   W_O3 (ppb)                       422495 non-null  float64\n",
      " 8   W_PM10 (ug/m3)                   308719 non-null  float64\n",
      " 9   W_PM2.5_logger (ug/m3)           542041 non-null  float64\n",
      " 10  W_Rainfall (mm)                  542041 non-null  float64\n",
      " 11  W_Relative_Humidity (%)          520355 non-null  float64\n",
      " 12  W_SO2 (ppb)                      310806 non-null  float64\n",
      " 13  W_Temperature (degC)             487239 non-null  float64\n",
      " 14  W_Wind_Direction (deg)           487249 non-null  float64\n",
      " 15  W_Wind_Direction_Std (deg)       542041 non-null  float64\n",
      " 16  W_Wind_Speed (m/s)               487249 non-null  float64\n",
      " 17  W_Wind_Speed_Std (m/s)           487239 non-null  float64\n",
      " 18  W_Power_status                   546882 non-null  int64  \n",
      " 19  W_NO_status                      546882 non-null  int64  \n",
      " 20  W_NORaw                          542041 non-null  float64\n",
      " 21  W_NO2_status                     546882 non-null  int64  \n",
      " 22  W_NO2Raw                         542041 non-null  float64\n",
      " 23  W_O3_status                      546882 non-null  int64  \n",
      " 24  W_O3Raw                          542037 non-null  float64\n",
      " 25  W_PM10_status                    546882 non-null  int64  \n",
      " 26  W_PM10Raw                        542041 non-null  float64\n",
      " 27  W_SO2_status                     144105 non-null  float64\n",
      " 28  W_SO2Raw                         542041 non-null  float64\n",
      " 29  W_PM10 (ug/m3)_logger            0 non-null       float64\n",
      " 30  W_03_status                      0 non-null       float64\n",
      " 31  W_NOX_status                     247287 non-null  float64\n",
      " 32  W_TempFlag                       0 non-null       float64\n",
      " 33  W_RH_flag                        0 non-null       float64\n",
      " 34  W_RHFlag                         21686 non-null   float64\n",
      " 35  W_PM2.5 (ug/m3)                  1360 non-null    float64\n",
      " 36  W_PM2.5_ConcHR (ug/m3)           67076 non-null   float64\n",
      " 37  W_PM2.5_Flow (lpm)               67076 non-null   float64\n",
      " 38  W_PM2.5_Wind_Speed (m/s)         67076 non-null   float64\n",
      " 39  W_PM2.5_Wind_Direction (Deg)     67076 non-null   float64\n",
      " 40  W_PM2.5_Ambient_Temperature (C)  67076 non-null   float64\n",
      " 41  W_PM2.5_Relative_Humidity (%)    67076 non-null   float64\n",
      " 42  W_PM2.5_BP (mmHg)                67076 non-null   float64\n",
      " 43  W_PM2.5_FT (C)                   67076 non-null   float64\n",
      " 44  W_PM2.5_FRH (%)                  67076 non-null   float64\n",
      " 45  W_PM2.5_Battery_Voltage (V)      67076 non-null   float64\n",
      " 46  W_PM2.5_PM (none)                67076 non-null   float64\n",
      " 47  W_PM2.5_Status (none)            0 non-null       float64\n",
      " 48  W_PM2.5_status                   162971 non-null  float64\n",
      " 49  W_PM2.5Raw                       67076 non-null   float64\n",
      "dtypes: float64(45), int64(5)\n",
      "memory usage: 212.8 MB\n"
     ]
    }
   ],
   "source": [
    "dfW.info()"
   ]
  },
  {
   "cell_type": "code",
   "execution_count": 9,
   "metadata": {},
   "outputs": [
    {
     "data": {
      "text/plain": [
       "<AxesSubplot:>"
      ]
     },
     "execution_count": 9,
     "metadata": {},
     "output_type": "execute_result"
    },
    {
     "data": {
      "image/png": "[encoded data removed]",
      "text/plain": [
       "<Figure size 432x288 with 1 Axes>"
      ]
     },
     "metadata": {
      "needs_background": "light"
     },
     "output_type": "display_data"
    }
   ],
   "source": [
    "%matplotlib inline\n",
    "dfW['W_PM2.5Raw'].plot()"
   ]
  },
  {
   "cell_type": "code",
   "execution_count": 203,
   "metadata": {},
   "outputs": [
    {
     "data": {
      "text/plain": [
       "<AxesSubplot:>"
      ]
     },
     "execution_count": 203,
     "metadata": {},
     "output_type": "execute_result"
    }
   ],
   "source": [
    "dfW['W_PM2.5 (ug/m3)'].plot()"
   ]
  },
  {
   "cell_type": "code",
   "execution_count": 204,
   "metadata": {},
   "outputs": [
    {
     "data": {
      "text/plain": [
       "<AxesSubplot:>"
      ]
     },
     "execution_count": 204,
     "metadata": {},
     "output_type": "execute_result"
    }
   ],
   "source": [
    "dfW['W_PM2.5_logger (ug/m3)'].plot()"
   ]
  },
  {
   "cell_type": "code",
   "execution_count": null,
   "metadata": {},
   "outputs": [],
   "source": []
  },
  {
   "cell_type": "markdown",
   "metadata": {},
   "source": [
    "## Northam Long-Term Station"
   ]
  },
  {
   "cell_type": "markdown",
   "metadata": {},
   "source": [
    "### Explore directory"
   ]
  },
  {
   "cell_type": "code",
   "execution_count": 92,
   "metadata": {},
   "outputs": [
    {
     "data": {
      "text/plain": [
       "['ES642-data-level0.csv',\n",
       " 'Roadside_Round2_Raw',\n",
       " 'ES642-data-level1.csv',\n",
       " 'Northam_data_level2.csv',\n",
       " 'AngloSA_ES642_2020_2021_Level0.csv',\n",
       " 'Full_roadside',\n",
       " 'Northam_data_level2_20210901.csv',\n",
       " 'RustenburgWaterval_level2_20210810.csv',\n",
       " 'GM5000_raw',\n",
       " 'Rustenburg-Roadside',\n",
       " 'Northam_data_level2_20210519.csv',\n",
       " 'RustenburgWaterval_level2_20210518.csv',\n",
       " 'Sifekile_GM5000_level1.csv',\n",
       " 'RustenburgWaterval_level1.csv',\n",
       " 'Mantserre_updated_20210518.csv',\n",
       " 'Northam_data_level2_2021810.csv',\n",
       " 'RustenburgWaterval_level2_20210820.csv',\n",
       " 'Northam-Roadside',\n",
       " 'RustenburgWaterval_level2.csv',\n",
       " 'Road Dust Monitoring technical Report.docx',\n",
       " 'Mantserre_GM5000.csv',\n",
       " 'RoadsideConsolidated',\n",
       " 'ES642-summary.csv',\n",
       " 'Waterval_data.csv',\n",
       " 'Northam_data.csv',\n",
       " 'Northam_data_level1.csv',\n",
       " 'Mantserre.csv']"
      ]
     },
     "execution_count": 92,
     "metadata": {},
     "output_type": "execute_result"
    }
   ],
   "source": [
    "os.listdir(DataDir)"
   ]
  },
  {
   "cell_type": "code",
   "execution_count": 93,
   "metadata": {
    "scrolled": true
   },
   "outputs": [
    {
     "name": "stdout",
     "output_type": "stream",
     "text": [
      "Date,Ambient_Temperature (degC),Battery_Voltage (V),CO (ppm),Line_Voltage (V),Logger_Temperature (degC),NO (ppb),NO2 (ppb),O3 (ppb),PM10_logger (ug/m3),PM2.5_logger (ug/m3),Rainfall (mm),Relative_Humidity (%),SO2 (ppb),Temperature (degC),Wind_Direction (deg),Wind_Direction_Std (deg),Wind_Speed_Max (m/s),Wind_Speed_Std (m/s),Power_status,CO_status,CORaw,NO_status,NORaw,NO2_status,NO2Raw,O3_status,O3Raw,PM10_logger_status,PM10_loggerRaw,PM2.5_logger_status,PM2.5_loggerRaw,SO2_status,SO2Raw,decimalhour,SO2Flag,03Flag,O3Flag,NOXFlag,COFlag,WSFlag,WDFlag,PM10 (ug/m3),PM10_ConcHR (ug/m3),PM10_Flow (lpm),PM10_Wind_Speed (m/s),PM10_Wind_Direction (Deg),PM10_Ambient_Temperature (C),PM10_Relative_Humidity (%),PM10_BP (mmHg),PM10_FT (C),PM10_FRH (%),PM10_Battery_Voltage (V),PM10_PM (none),PM10_Status (none),PM2.5 (ug/m3),PM2.5_ConcHR (ug/m3),PM2.5_Flow (lpm),PM2.5_Wind_Speed (m/s),PM2.5_Wind_Direction (Deg),PM2.5_Ambient_Temperature (C),PM2.5_Relative_Humidity (%),PM2.5_BP (mmHg),PM2.5_FT (C),PM2.5_FRH (%),PM2.5_Battery_Voltage (V),PM2.5_PM (none),PM2.5_Status (none)\n",
      "2020-07-31 00:00:00,7.459,12.553289999999999,,215.5085,18.078110000000002,1.342732,5.370928,6.93745,,,0.0,45.94,0.335683,10.57,104.8,0.897,1.7,1.639,0.0,0.0,-2.245828,0.0,1.342732,0.0,5.370928,0.0,6.93745,0.0,,0.0,,0.0,0.335683,0.0,,,,,,,,91.0,169.0,16.7,0.3,77.0,7.8,40.0,683.0,24.3,11.0,12.4,1.0,0.0,62.0,65.0,16.7,0.3,14.0,9.9,41.0,683.0,25.5,10.0,12.3,0.0,0.0\n",
      "2020-07-31 00:01:00,7.425,12.55054,,215.5085,18.18467,1.342732,5.370928,7.161238000000001,,,0.0,45.96,-0.1118943,10.58,105.1,0.862,1.76,1.633,0.0,0.0,-2.469617,0.0,1.342732,0.0,5.370928,0.0,7.161238000000001,0.0,,0.0,,0.0,-0.1118943,0.016666666666666666,,,,,,,,80.0,169.0,16.1,0.3,77.0,7.7,40.0,683.0,24.2,11.0,12.4,1.0,0.0,61.0,65.0,16.1,0.3,14.0,9.8,41.0,683.0,25.3,10.0,12.3,0.0,0.0\n",
      "2020-07-31 00:02:00,7.393,12.55283,,215.5085,18.295379999999998,2.57357,4.028196,7.496921,,,0.0,45.99,0.2237887,10.66,104.4,0.9540000000000001,1.88,1.796,0.0,0.0,-2.245828,0.0,2.57357,0.0,4.028196,0.0,7.496921,0.0,,0.0,,0.0,0.2237887,0.03333333333333333,,,,,,,,80.0,169.0,16.1,0.3,77.0,7.7,40.0,683.0,24.2,11.0,12.4,1.0,0.0,61.0,65.0,16.1,0.3,14.0,9.8,41.0,683.0,25.3,10.0,12.3,0.0,0.0\n",
      "2020-07-31 00:03:00,7.371,12.55512,,215.4749,18.40664,2.2378869999999997,4.028196,6.713661,,,0.0,46.02,1.007049,10.82,106.4,1.115,2.04,1.742,0.0,0.0,-2.133934,0.0,2.2378869999999997,0.0,4.028196,0.0,6.713661,0.0,,0.0,,0.0,1.007049,0.05,,,,,,,,80.0,169.0,16.1,0.3,77.0,7.7,40.0,683.0,24.2,11.0,12.4,1.0,0.0,61.0,65.0,16.1,0.3,14.0,9.8,41.0,683.0,25.3,10.0,12.3,0.0,0.0\n",
      "2020-07-31 00:04:00,7.347,12.55649,,215.3071,18.47009,1.342732,4.028196,6.713661,,,0.0,46.11,0.1118943,10.88,112.7,5.399,1.87,1.494,0.0,0.0,-2.469617,0.0,1.342732,0.0,4.028196,0.0,6.713661,0.0,,0.0,,0.0,0.1118943,0.06666666666666667,,,,,,,,80.0,169.0,16.1,0.3,77.0,7.7,40.0,683.0,24.2,11.0,12.4,1.0,0.0,61.0,65.0,16.1,0.3,14.0,9.8,41.0,683.0,25.3,10.0,12.3,0.0,0.0\n",
      "2020-07-31 00:05:00,7.315,12.553289999999999,,215.3071,18.48045,1.342732,3.804407,6.713661,,,0.0,46.41,0.335683,10.9,113.4,4.071000000000001,1.84,1.565,0.0,0.0,-2.245828,0.0,1.342732,0.0,3.804407,0.0,6.713661,0.0,,0.0,,0.0,0.335683,0.08333333333333333,,,,,,,,80.0,169.0,16.1,0.3,77.0,7.7,40.0,683.0,24.2,11.0,12.4,1.0,0.0,61.0,65.0,16.1,0.3,14.0,9.8,41.0,683.0,25.3,10.0,12.3,0.0,0.0\n",
      "2020-07-31 00:06:00,7.306,12.54917,,215.3071,18.46388,1.342732,3.9163019999999995,6.713661,,,0.0,46.69,-0.1118943,10.89,120.2,5.4270000000000005,1.97,1.412,0.0,0.0,-2.245828,0.0,1.342732,0.0,3.9163019999999995,0.0,6.713661,0.0,,0.0,,0.0,-0.1118943,0.1,,,,,,,,66.0,169.0,16.7,0.3,77.0,7.7,40.0,683.0,24.2,11.0,12.4,1.0,0.0,58.0,65.0,16.7,0.3,14.0,9.7,42.0,683.0,25.3,10.0,12.3,0.0,0.0\n",
      "2020-07-31 00:07:00,7.332000000000001,12.55283,,215.3071,18.42792,1.342732,4.028196,6.713661,,,0.0,46.85,-0.1118943,10.87,122.7,12.5,2.04,1.5290000000000001,0.0,0.0,-2.693406,0.0,1.342732,0.0,4.028196,0.0,6.713661,0.0,,0.0,,0.0,-0.1118943,0.11666666666666667,,,,,,,,66.0,169.0,16.7,0.3,77.0,7.7,40.0,683.0,24.2,11.0,12.4,1.0,0.0,58.0,65.0,16.7,0.3,14.0,9.7,42.0,683.0,25.3,10.0,12.3,0.0,0.0\n",
      "2020-07-31 00:08:00,7.362,12.55466,,215.3071,18.36184,1.342732,4.028196,6.713661,,,0.0,46.94,1.2308379999999999,10.58,119.8,14.97,2.02,1.508,0.0,0.0,-1.79825,0.0,1.342732,0.0,4.028196,0.0,6.713661,0.0,,0.0,,0.0,1.2308379999999999,0.13333333333333333,,,,,,,,66.0,169.0,16.7,0.3,77.0,7.7,40.0,683.0,24.2,11.0,12.4,1.0,0.0,58.0,65.0,16.7,0.3,14.0,9.7,42.0,683.0,25.3,10.0,12.3,0.0,0.0\n"
     ]
    }
   ],
   "source": [
    "head(DataDir/'Northam_data_level2_20210901.csv')"
   ]
  },
  {
   "cell_type": "markdown",
   "metadata": {},
   "source": [
    "### Import data"
   ]
  },
  {
   "cell_type": "code",
   "execution_count": 193,
   "metadata": {},
   "outputs": [],
   "source": [
    "df02 = pd.read_csv(DataDir/'Northam_data_level2_20210901.csv', parse_dates=[0],index_col=0)"
   ]
  },
  {
   "cell_type": "code",
   "execution_count": 194,
   "metadata": {},
   "outputs": [
    {
     "name": "stdout",
     "output_type": "stream",
     "text": [
      "<class 'pandas.core.frame.DataFrame'>\n",
      "DatetimeIndex: 572481 entries, 2020-07-31 00:00:00 to 2021-09-01 13:20:00\n",
      "Data columns (total 67 columns):\n",
      " #   Column                         Non-Null Count   Dtype  \n",
      "---  ------                         --------------   -----  \n",
      " 0   Ambient_Temperature (degC)     528101 non-null  float64\n",
      " 1   Battery_Voltage (V)            528102 non-null  float64\n",
      " 2   CO (ppm)                       163515 non-null  float64\n",
      " 3   Line_Voltage (V)               528102 non-null  float64\n",
      " 4   Logger_Temperature (degC)      528102 non-null  float64\n",
      " 5   NO (ppb)                       246752 non-null  float64\n",
      " 6   NO2 (ppb)                      258309 non-null  float64\n",
      " 7   O3 (ppb)                       334495 non-null  float64\n",
      " 8   PM10_logger (ug/m3)            387400 non-null  float64\n",
      " 9   PM2.5_logger (ug/m3)           278842 non-null  float64\n",
      " 10  Rainfall (mm)                  528102 non-null  float64\n",
      " 11  Relative_Humidity (%)          528102 non-null  float64\n",
      " 12  SO2 (ppb)                      432751 non-null  float64\n",
      " 13  Temperature (degC)             520730 non-null  float64\n",
      " 14  Wind_Direction (deg)           520722 non-null  float64\n",
      " 15  Wind_Direction_Std (deg)       528102 non-null  float64\n",
      " 16  Wind_Speed_Max (m/s)           520730 non-null  float64\n",
      " 17  Wind_Speed_Std (m/s)           520730 non-null  float64\n",
      " 18  Power_status                   553561 non-null  float64\n",
      " 19  CO_status                      553561 non-null  float64\n",
      " 20  CORaw                          528102 non-null  float64\n",
      " 21  NO_status                      553561 non-null  float64\n",
      " 22  NORaw                          528102 non-null  float64\n",
      " 23  NO2_status                     553561 non-null  float64\n",
      " 24  NO2Raw                         528102 non-null  float64\n",
      " 25  O3_status                      553561 non-null  float64\n",
      " 26  O3Raw                          528102 non-null  float64\n",
      " 27  PM10_logger_status             553561 non-null  float64\n",
      " 28  PM10_loggerRaw                 430879 non-null  float64\n",
      " 29  PM2.5_logger_status            553561 non-null  float64\n",
      " 30  PM2.5_loggerRaw                430879 non-null  float64\n",
      " 31  SO2_status                     553561 non-null  float64\n",
      " 32  SO2Raw                         528102 non-null  float64\n",
      " 33  decimalhour                    553561 non-null  float64\n",
      " 34  SO2Flag                        2927 non-null    float64\n",
      " 35  03Flag                         0 non-null       float64\n",
      " 36  O3Flag                         0 non-null       float64\n",
      " 37  NOXFlag                        0 non-null       float64\n",
      " 38  COFlag                         269496 non-null  float64\n",
      " 39  WSFlag                         0 non-null       float64\n",
      " 40  WDFlag                         7380 non-null    float64\n",
      " 41  PM10 (ug/m3)                   337140 non-null  float64\n",
      " 42  PM10_ConcHR (ug/m3)            312061 non-null  float64\n",
      " 43  PM10_Flow (lpm)                312061 non-null  float64\n",
      " 44  PM10_Wind_Speed (m/s)          312061 non-null  float64\n",
      " 45  PM10_Wind_Direction (Deg)      312061 non-null  float64\n",
      " 46  PM10_Ambient_Temperature (C)   312061 non-null  float64\n",
      " 47  PM10_Relative_Humidity (%)     312061 non-null  float64\n",
      " 48  PM10_BP (mmHg)                 312061 non-null  float64\n",
      " 49  PM10_FT (C)                    312061 non-null  float64\n",
      " 50  PM10_FRH (%)                   312061 non-null  float64\n",
      " 51  PM10_Battery_Voltage (V)       312061 non-null  float64\n",
      " 52  PM10_PM (none)                 312061 non-null  float64\n",
      " 53  PM10_Status (none)             312056 non-null  float64\n",
      " 54  PM2.5 (ug/m3)                  353479 non-null  float64\n",
      " 55  PM2.5_ConcHR (ug/m3)           360846 non-null  float64\n",
      " 56  PM2.5_Flow (lpm)               360846 non-null  float64\n",
      " 57  PM2.5_Wind_Speed (m/s)         360846 non-null  float64\n",
      " 58  PM2.5_Wind_Direction (Deg)     360846 non-null  float64\n",
      " 59  PM2.5_Ambient_Temperature (C)  360846 non-null  float64\n",
      " 60  PM2.5_Relative_Humidity (%)    360846 non-null  float64\n",
      " 61  PM2.5_BP (mmHg)                360846 non-null  float64\n",
      " 62  PM2.5_FT (C)                   360846 non-null  float64\n",
      " 63  PM2.5_FRH (%)                  360846 non-null  float64\n",
      " 64  PM2.5_Battery_Voltage (V)      360846 non-null  float64\n",
      " 65  PM2.5_PM (none)                360846 non-null  float64\n",
      " 66  PM2.5_Status (none)            360846 non-null  float64\n",
      "dtypes: float64(67)\n",
      "memory usage: 297.0 MB\n"
     ]
    },
    {
     "data": {
      "text/html": [
       "<div>\n",
       "<style scoped>\n",
       "    .dataframe tbody tr th:only-of-type {\n",
       "        vertical-align: middle;\n",
       "    }\n",
       "\n",
       "    .dataframe tbody tr th {\n",
       "        vertical-align: top;\n",
       "    }\n",
       "\n",
       "    .dataframe thead th {\n",
       "        text-align: right;\n",
       "    }\n",
       "</style>\n",
       "<table border=\"1\" class=\"dataframe\">\n",
       "  <thead>\n",
       "    <tr style=\"text-align: right;\">\n",
       "      <th></th>\n",
       "      <th>Ambient_Temperature (degC)</th>\n",
       "      <th>Battery_Voltage (V)</th>\n",
       "      <th>CO (ppm)</th>\n",
       "      <th>Line_Voltage (V)</th>\n",
       "      <th>Logger_Temperature (degC)</th>\n",
       "      <th>NO (ppb)</th>\n",
       "      <th>NO2 (ppb)</th>\n",
       "      <th>O3 (ppb)</th>\n",
       "      <th>PM10_logger (ug/m3)</th>\n",
       "      <th>PM2.5_logger (ug/m3)</th>\n",
       "      <th>...</th>\n",
       "      <th>PM2.5_Wind_Speed (m/s)</th>\n",
       "      <th>PM2.5_Wind_Direction (Deg)</th>\n",
       "      <th>PM2.5_Ambient_Temperature (C)</th>\n",
       "      <th>PM2.5_Relative_Humidity (%)</th>\n",
       "      <th>PM2.5_BP (mmHg)</th>\n",
       "      <th>PM2.5_FT (C)</th>\n",
       "      <th>PM2.5_FRH (%)</th>\n",
       "      <th>PM2.5_Battery_Voltage (V)</th>\n",
       "      <th>PM2.5_PM (none)</th>\n",
       "      <th>PM2.5_Status (none)</th>\n",
       "    </tr>\n",
       "    <tr>\n",
       "      <th>Date</th>\n",
       "      <th></th>\n",
       "      <th></th>\n",
       "      <th></th>\n",
       "      <th></th>\n",
       "      <th></th>\n",
       "      <th></th>\n",
       "      <th></th>\n",
       "      <th></th>\n",
       "      <th></th>\n",
       "      <th></th>\n",
       "      <th></th>\n",
       "      <th></th>\n",
       "      <th></th>\n",
       "      <th></th>\n",
       "      <th></th>\n",
       "      <th></th>\n",
       "      <th></th>\n",
       "      <th></th>\n",
       "      <th></th>\n",
       "      <th></th>\n",
       "      <th></th>\n",
       "    </tr>\n",
       "  </thead>\n",
       "  <tbody>\n",
       "    <tr>\n",
       "      <th>2020-07-31 00:00:00</th>\n",
       "      <td>7.459</td>\n",
       "      <td>12.55329</td>\n",
       "      <td>NaN</td>\n",
       "      <td>215.5085</td>\n",
       "      <td>18.07811</td>\n",
       "      <td>1.342732</td>\n",
       "      <td>5.370928</td>\n",
       "      <td>6.937450</td>\n",
       "      <td>NaN</td>\n",
       "      <td>NaN</td>\n",
       "      <td>...</td>\n",
       "      <td>0.3</td>\n",
       "      <td>14.0</td>\n",
       "      <td>9.9</td>\n",
       "      <td>41.0</td>\n",
       "      <td>683.0</td>\n",
       "      <td>25.5</td>\n",
       "      <td>10.0</td>\n",
       "      <td>12.3</td>\n",
       "      <td>0.0</td>\n",
       "      <td>0.0</td>\n",
       "    </tr>\n",
       "    <tr>\n",
       "      <th>2020-07-31 00:01:00</th>\n",
       "      <td>7.425</td>\n",
       "      <td>12.55054</td>\n",
       "      <td>NaN</td>\n",
       "      <td>215.5085</td>\n",
       "      <td>18.18467</td>\n",
       "      <td>1.342732</td>\n",
       "      <td>5.370928</td>\n",
       "      <td>7.161238</td>\n",
       "      <td>NaN</td>\n",
       "      <td>NaN</td>\n",
       "      <td>...</td>\n",
       "      <td>0.3</td>\n",
       "      <td>14.0</td>\n",
       "      <td>9.8</td>\n",
       "      <td>41.0</td>\n",
       "      <td>683.0</td>\n",
       "      <td>25.3</td>\n",
       "      <td>10.0</td>\n",
       "      <td>12.3</td>\n",
       "      <td>0.0</td>\n",
       "      <td>0.0</td>\n",
       "    </tr>\n",
       "    <tr>\n",
       "      <th>2020-07-31 00:02:00</th>\n",
       "      <td>7.393</td>\n",
       "      <td>12.55283</td>\n",
       "      <td>NaN</td>\n",
       "      <td>215.5085</td>\n",
       "      <td>18.29538</td>\n",
       "      <td>2.573570</td>\n",
       "      <td>4.028196</td>\n",
       "      <td>7.496921</td>\n",
       "      <td>NaN</td>\n",
       "      <td>NaN</td>\n",
       "      <td>...</td>\n",
       "      <td>0.3</td>\n",
       "      <td>14.0</td>\n",
       "      <td>9.8</td>\n",
       "      <td>41.0</td>\n",
       "      <td>683.0</td>\n",
       "      <td>25.3</td>\n",
       "      <td>10.0</td>\n",
       "      <td>12.3</td>\n",
       "      <td>0.0</td>\n",
       "      <td>0.0</td>\n",
       "    </tr>\n",
       "    <tr>\n",
       "      <th>2020-07-31 00:03:00</th>\n",
       "      <td>7.371</td>\n",
       "      <td>12.55512</td>\n",
       "      <td>NaN</td>\n",
       "      <td>215.4749</td>\n",
       "      <td>18.40664</td>\n",
       "      <td>2.237887</td>\n",
       "      <td>4.028196</td>\n",
       "      <td>6.713661</td>\n",
       "      <td>NaN</td>\n",
       "      <td>NaN</td>\n",
       "      <td>...</td>\n",
       "      <td>0.3</td>\n",
       "      <td>14.0</td>\n",
       "      <td>9.8</td>\n",
       "      <td>41.0</td>\n",
       "      <td>683.0</td>\n",
       "      <td>25.3</td>\n",
       "      <td>10.0</td>\n",
       "      <td>12.3</td>\n",
       "      <td>0.0</td>\n",
       "      <td>0.0</td>\n",
       "    </tr>\n",
       "    <tr>\n",
       "      <th>2020-07-31 00:04:00</th>\n",
       "      <td>7.347</td>\n",
       "      <td>12.55649</td>\n",
       "      <td>NaN</td>\n",
       "      <td>215.3071</td>\n",
       "      <td>18.47009</td>\n",
       "      <td>1.342732</td>\n",
       "      <td>4.028196</td>\n",
       "      <td>6.713661</td>\n",
       "      <td>NaN</td>\n",
       "      <td>NaN</td>\n",
       "      <td>...</td>\n",
       "      <td>0.3</td>\n",
       "      <td>14.0</td>\n",
       "      <td>9.8</td>\n",
       "      <td>41.0</td>\n",
       "      <td>683.0</td>\n",
       "      <td>25.3</td>\n",
       "      <td>10.0</td>\n",
       "      <td>12.3</td>\n",
       "      <td>0.0</td>\n",
       "      <td>0.0</td>\n",
       "    </tr>\n",
       "  </tbody>\n",
       "</table>\n",
       "<p>5 rows × 67 columns</p>\n",
       "</div>"
      ],
      "text/plain": [
       "                     Ambient_Temperature (degC)  Battery_Voltage (V)  \\\n",
       "Date                                                                   \n",
       "2020-07-31 00:00:00                       7.459             12.55329   \n",
       "2020-07-31 00:01:00                       7.425             12.55054   \n",
       "2020-07-31 00:02:00                       7.393             12.55283   \n",
       "2020-07-31 00:03:00                       7.371             12.55512   \n",
       "2020-07-31 00:04:00                       7.347             12.55649   \n",
       "\n",
       "                     CO (ppm)  Line_Voltage (V)  Logger_Temperature (degC)  \\\n",
       "Date                                                                         \n",
       "2020-07-31 00:00:00       NaN          215.5085                   18.07811   \n",
       "2020-07-31 00:01:00       NaN          215.5085                   18.18467   \n",
       "2020-07-31 00:02:00       NaN          215.5085                   18.29538   \n",
       "2020-07-31 00:03:00       NaN          215.4749                   18.40664   \n",
       "2020-07-31 00:04:00       NaN          215.3071                   18.47009   \n",
       "\n",
       "                     NO (ppb)  NO2 (ppb)  O3 (ppb)  PM10_logger (ug/m3)  \\\n",
       "Date                                                                      \n",
       "2020-07-31 00:00:00  1.342732   5.370928  6.937450                  NaN   \n",
       "2020-07-31 00:01:00  1.342732   5.370928  7.161238                  NaN   \n",
       "2020-07-31 00:02:00  2.573570   4.028196  7.496921                  NaN   \n",
       "2020-07-31 00:03:00  2.237887   4.028196  6.713661                  NaN   \n",
       "2020-07-31 00:04:00  1.342732   4.028196  6.713661                  NaN   \n",
       "\n",
       "                     PM2.5_logger (ug/m3)  ...  PM2.5_Wind_Speed (m/s)  \\\n",
       "Date                                       ...                           \n",
       "2020-07-31 00:00:00                   NaN  ...                     0.3   \n",
       "2020-07-31 00:01:00                   NaN  ...                     0.3   \n",
       "2020-07-31 00:02:00                   NaN  ...                     0.3   \n",
       "2020-07-31 00:03:00                   NaN  ...                     0.3   \n",
       "2020-07-31 00:04:00                   NaN  ...                     0.3   \n",
       "\n",
       "                     PM2.5_Wind_Direction (Deg)  \\\n",
       "Date                                              \n",
       "2020-07-31 00:00:00                        14.0   \n",
       "2020-07-31 00:01:00                        14.0   \n",
       "2020-07-31 00:02:00                        14.0   \n",
       "2020-07-31 00:03:00                        14.0   \n",
       "2020-07-31 00:04:00                        14.0   \n",
       "\n",
       "                     PM2.5_Ambient_Temperature (C)  \\\n",
       "Date                                                 \n",
       "2020-07-31 00:00:00                            9.9   \n",
       "2020-07-31 00:01:00                            9.8   \n",
       "2020-07-31 00:02:00                            9.8   \n",
       "2020-07-31 00:03:00                            9.8   \n",
       "2020-07-31 00:04:00                            9.8   \n",
       "\n",
       "                     PM2.5_Relative_Humidity (%)  PM2.5_BP (mmHg)  \\\n",
       "Date                                                                \n",
       "2020-07-31 00:00:00                         41.0            683.0   \n",
       "2020-07-31 00:01:00                         41.0            683.0   \n",
       "2020-07-31 00:02:00                         41.0            683.0   \n",
       "2020-07-31 00:03:00                         41.0            683.0   \n",
       "2020-07-31 00:04:00                         41.0            683.0   \n",
       "\n",
       "                     PM2.5_FT (C)  PM2.5_FRH (%)  PM2.5_Battery_Voltage (V)  \\\n",
       "Date                                                                          \n",
       "2020-07-31 00:00:00          25.5           10.0                       12.3   \n",
       "2020-07-31 00:01:00          25.3           10.0                       12.3   \n",
       "2020-07-31 00:02:00          25.3           10.0                       12.3   \n",
       "2020-07-31 00:03:00          25.3           10.0                       12.3   \n",
       "2020-07-31 00:04:00          25.3           10.0                       12.3   \n",
       "\n",
       "                     PM2.5_PM (none)  PM2.5_Status (none)  \n",
       "Date                                                       \n",
       "2020-07-31 00:00:00              0.0                  0.0  \n",
       "2020-07-31 00:01:00              0.0                  0.0  \n",
       "2020-07-31 00:02:00              0.0                  0.0  \n",
       "2020-07-31 00:03:00              0.0                  0.0  \n",
       "2020-07-31 00:04:00              0.0                  0.0  \n",
       "\n",
       "[5 rows x 67 columns]"
      ]
     },
     "execution_count": 194,
     "metadata": {},
     "output_type": "execute_result"
    }
   ],
   "source": [
    "df02.info()\n",
    "df02.head()"
   ]
  },
  {
   "cell_type": "markdown",
   "metadata": {},
   "source": [
    "### Create new dataframe for Northam with prefix \"N\""
   ]
  },
  {
   "cell_type": "code",
   "execution_count": 195,
   "metadata": {},
   "outputs": [],
   "source": [
    "dfN = pd.DataFrame()\n",
    "for i in df02.columns:\n",
    "    s = 'N_{}'.format(i)\n",
    "    dfN[s] = df02[i]"
   ]
  },
  {
   "cell_type": "code",
   "execution_count": 196,
   "metadata": {},
   "outputs": [
    {
     "name": "stdout",
     "output_type": "stream",
     "text": [
      "<class 'pandas.core.frame.DataFrame'>\n",
      "DatetimeIndex: 572481 entries, 2020-07-31 00:00:00 to 2021-09-01 13:20:00\n",
      "Data columns (total 67 columns):\n",
      " #   Column                           Non-Null Count   Dtype  \n",
      "---  ------                           --------------   -----  \n",
      " 0   N_Ambient_Temperature (degC)     528101 non-null  float64\n",
      " 1   N_Battery_Voltage (V)            528102 non-null  float64\n",
      " 2   N_CO (ppm)                       163515 non-null  float64\n",
      " 3   N_Line_Voltage (V)               528102 non-null  float64\n",
      " 4   N_Logger_Temperature (degC)      528102 non-null  float64\n",
      " 5   N_NO (ppb)                       246752 non-null  float64\n",
      " 6   N_NO2 (ppb)                      258309 non-null  float64\n",
      " 7   N_O3 (ppb)                       334495 non-null  float64\n",
      " 8   N_PM10_logger (ug/m3)            387400 non-null  float64\n",
      " 9   N_PM2.5_logger (ug/m3)           278842 non-null  float64\n",
      " 10  N_Rainfall (mm)                  528102 non-null  float64\n",
      " 11  N_Relative_Humidity (%)          528102 non-null  float64\n",
      " 12  N_SO2 (ppb)                      432751 non-null  float64\n",
      " 13  N_Temperature (degC)             520730 non-null  float64\n",
      " 14  N_Wind_Direction (deg)           520722 non-null  float64\n",
      " 15  N_Wind_Direction_Std (deg)       528102 non-null  float64\n",
      " 16  N_Wind_Speed_Max (m/s)           520730 non-null  float64\n",
      " 17  N_Wind_Speed_Std (m/s)           520730 non-null  float64\n",
      " 18  N_Power_status                   553561 non-null  float64\n",
      " 19  N_CO_status                      553561 non-null  float64\n",
      " 20  N_CORaw                          528102 non-null  float64\n",
      " 21  N_NO_status                      553561 non-null  float64\n",
      " 22  N_NORaw                          528102 non-null  float64\n",
      " 23  N_NO2_status                     553561 non-null  float64\n",
      " 24  N_NO2Raw                         528102 non-null  float64\n",
      " 25  N_O3_status                      553561 non-null  float64\n",
      " 26  N_O3Raw                          528102 non-null  float64\n",
      " 27  N_PM10_logger_status             553561 non-null  float64\n",
      " 28  N_PM10_loggerRaw                 430879 non-null  float64\n",
      " 29  N_PM2.5_logger_status            553561 non-null  float64\n",
      " 30  N_PM2.5_loggerRaw                430879 non-null  float64\n",
      " 31  N_SO2_status                     553561 non-null  float64\n",
      " 32  N_SO2Raw                         528102 non-null  float64\n",
      " 33  N_decimalhour                    553561 non-null  float64\n",
      " 34  N_SO2Flag                        2927 non-null    float64\n",
      " 35  N_03Flag                         0 non-null       float64\n",
      " 36  N_O3Flag                         0 non-null       float64\n",
      " 37  N_NOXFlag                        0 non-null       float64\n",
      " 38  N_COFlag                         269496 non-null  float64\n",
      " 39  N_WSFlag                         0 non-null       float64\n",
      " 40  N_WDFlag                         7380 non-null    float64\n",
      " 41  N_PM10 (ug/m3)                   337140 non-null  float64\n",
      " 42  N_PM10_ConcHR (ug/m3)            312061 non-null  float64\n",
      " 43  N_PM10_Flow (lpm)                312061 non-null  float64\n",
      " 44  N_PM10_Wind_Speed (m/s)          312061 non-null  float64\n",
      " 45  N_PM10_Wind_Direction (Deg)      312061 non-null  float64\n",
      " 46  N_PM10_Ambient_Temperature (C)   312061 non-null  float64\n",
      " 47  N_PM10_Relative_Humidity (%)     312061 non-null  float64\n",
      " 48  N_PM10_BP (mmHg)                 312061 non-null  float64\n",
      " 49  N_PM10_FT (C)                    312061 non-null  float64\n",
      " 50  N_PM10_FRH (%)                   312061 non-null  float64\n",
      " 51  N_PM10_Battery_Voltage (V)       312061 non-null  float64\n",
      " 52  N_PM10_PM (none)                 312061 non-null  float64\n",
      " 53  N_PM10_Status (none)             312056 non-null  float64\n",
      " 54  N_PM2.5 (ug/m3)                  353479 non-null  float64\n",
      " 55  N_PM2.5_ConcHR (ug/m3)           360846 non-null  float64\n",
      " 56  N_PM2.5_Flow (lpm)               360846 non-null  float64\n",
      " 57  N_PM2.5_Wind_Speed (m/s)         360846 non-null  float64\n",
      " 58  N_PM2.5_Wind_Direction (Deg)     360846 non-null  float64\n",
      " 59  N_PM2.5_Ambient_Temperature (C)  360846 non-null  float64\n",
      " 60  N_PM2.5_Relative_Humidity (%)    360846 non-null  float64\n",
      " 61  N_PM2.5_BP (mmHg)                360846 non-null  float64\n",
      " 62  N_PM2.5_FT (C)                   360846 non-null  float64\n",
      " 63  N_PM2.5_FRH (%)                  360846 non-null  float64\n",
      " 64  N_PM2.5_Battery_Voltage (V)      360846 non-null  float64\n",
      " 65  N_PM2.5_PM (none)                360846 non-null  float64\n",
      " 66  N_PM2.5_Status (none)            360846 non-null  float64\n",
      "dtypes: float64(67)\n",
      "memory usage: 297.0 MB\n"
     ]
    }
   ],
   "source": [
    "dfN.info()"
   ]
  },
  {
   "cell_type": "markdown",
   "metadata": {},
   "source": [
    "## Combine Long_Term Data"
   ]
  },
  {
   "cell_type": "code",
   "execution_count": 205,
   "metadata": {},
   "outputs": [],
   "source": [
    "dfLT = pd.DataFrame()\n",
    "\n",
    "dfLT = pd.concat([dfW,dfN], axis=1)"
   ]
  },
  {
   "cell_type": "code",
   "execution_count": 206,
   "metadata": {
    "scrolled": true
   },
   "outputs": [
    {
     "name": "stdout",
     "output_type": "stream",
     "text": [
      "<class 'pandas.core.frame.DataFrame'>\n",
      "DatetimeIndex: 572481 entries, 2020-07-31 00:00:00 to 2021-09-01 13:20:00\n",
      "Freq: T\n",
      "Columns: 117 entries, W_Ambient_Temperature (degC) to N_PM2.5_Status (none)\n",
      "dtypes: float64(117)\n",
      "memory usage: 515.4 MB\n"
     ]
    }
   ],
   "source": [
    "dfLT.info()"
   ]
  },
  {
   "cell_type": "markdown",
   "metadata": {},
   "source": [
    "# ANGLO LOW COST SITES"
   ]
  },
  {
   "cell_type": "markdown",
   "metadata": {},
   "source": [
    "## ES642 2020"
   ]
  },
  {
   "cell_type": "code",
   "execution_count": 101,
   "metadata": {},
   "outputs": [
    {
     "data": {
      "text/plain": [
       "['ES642-data-level0.csv',\n",
       " 'Roadside_Round2_Raw',\n",
       " 'ES642-data-level1.csv',\n",
       " 'Northam_data_level2.csv',\n",
       " 'AngloSA_ES642_2020_2021_Level0.csv',\n",
       " 'Full_roadside',\n",
       " 'Northam_data_level2_20210901.csv',\n",
       " 'RustenburgWaterval_level2_20210810.csv',\n",
       " 'GM5000_raw',\n",
       " 'Rustenburg-Roadside',\n",
       " 'Northam_data_level2_20210519.csv',\n",
       " 'RustenburgWaterval_level2_20210518.csv',\n",
       " 'Sifekile_GM5000_level1.csv',\n",
       " 'RustenburgWaterval_level1.csv',\n",
       " 'Mantserre_updated_20210518.csv',\n",
       " 'Northam_data_level2_2021810.csv',\n",
       " 'RustenburgWaterval_level2_20210820.csv',\n",
       " 'Northam-Roadside',\n",
       " 'RustenburgWaterval_level2.csv',\n",
       " 'Road Dust Monitoring technical Report.docx',\n",
       " 'Mantserre_GM5000.csv',\n",
       " 'RoadsideConsolidated',\n",
       " 'ES642-summary.csv',\n",
       " 'Waterval_data.csv',\n",
       " 'Northam_data.csv',\n",
       " 'Northam_data_level1.csv',\n",
       " 'Mantserre.csv']"
      ]
     },
     "execution_count": 101,
     "metadata": {},
     "output_type": "execute_result"
    }
   ],
   "source": [
    "os.listdir(DataDir)"
   ]
  },
  {
   "cell_type": "code",
   "execution_count": 102,
   "metadata": {},
   "outputs": [
    {
     "name": "stdout",
     "output_type": "stream",
     "text": [
      "Date,Mfidikwe_clinic_ST_Wind_Speed (m/s),Mfidikwe_clinic_ST_Wind_Direction (deg),Mfidikwe_clinic_ST_PM2.5 (ug/m3),Mfidikwe_clinic_ST_Flow (l/m),Mfidikwe_clinic_ST_Temperature (degC),Mfidikwe_clinic_ST_Humidity (%),Mfidikwe_clinic_ST_Pressure (%),Sefikile_ST_Wind_Speed (m/s),Sefikile_ST_Wind_Direction (deg),Sefikile_ST_PM2.5 (ug/m3),Sefikile_ST_Flow (l/m),Sefikile_ST_Temperature (degC),Sefikile_ST_Humidity (%),Sefikile_ST_Pressure (%),Northam_Guesthouse_ST_Wind_Speed (m/s),Northam_Guesthouse_ST_Wind_Direction (deg),Northam_Guesthouse_ST_PM2.5 (ug/m3),Northam_Guesthouse_ST_Flow (l/m),Northam_Guesthouse_ST_Temperature (degC),Northam_Guesthouse_ST_Humidity (%),Northam_Guesthouse_ST_Pressure (%),Mfidikwe_church ST_Wind_Speed (m/s),Mfidikwe_church ST_Wind_Direction (deg),Mfidikwe_church ST_PM2.5 (ug/m3),Mfidikwe_church ST_Flow (l/m),Mfidikwe_church ST_Temperature (degC),Mfidikwe_church ST_Humidity (%),Mfidikwe_church ST_Pressure (%),Mantserre_ST_Wind_Speed (m/s),Mantserre_ST_Wind_Direction (deg),Mantserre_ST_PM2.5 (ug/m3),Mantserre_ST_Flow (l/m),Mantserre_ST_Temperature (degC),Mantserre_ST_Humidity (%),Mantserre_ST_Pressure (%),Bokamoso_ST_Wind_Speed (m/s),Bokamoso_ST_Wind_Direction (deg),Bokamoso_ST_PM2.5 (ug/m3),Bokamoso_ST_Flow (l/m),Bokamoso_ST_Temperature (degC),Bokamoso_ST_Humidity (%),Bokamoso_ST_Pressure (%),Northam_AQMS_Wind_Speed (m/s),Northam_AQMS_Wind_Direction (deg),Northam_AQMS_Temperature (degC),Northam_AQMS_Humidity (%),Northam_AQMS_Pressure (%),Northam_AQMS_PM2.5 (ug/m3),Northam_AQMS_Flow (l/m),Waterval_AQMS_Wind_Speed (m/s),Waterval_AQMS_Wind_Direction (deg),Waterval_AQMS_Temperature (degC),Waterval_AQMS_Humidity (%),Waterval_AQMS_Pressure (%),Waterval_AQMS_PM2.5 (ug/m3),Waterval_AQMS_Flow (l/m),decimalhour\n",
      "2020-07-01 00:00:00,,,,,,,,,,,,,,,,,,,,,,,,,,,,,,,,,,,,,,,,,,,,,,,,,,,,,,,,,0.0\n",
      "2020-07-01 00:05:00,,,,,,,,,,,,,,,,,,,,,,,,,,,,,,,,,,,,,,,,,,,,,,,,,,,,,,,,,0.08333333333333333\n",
      "2020-07-01 00:10:00,,,,,,,,,,,,,,,,,,,,,,,,,,,,,,,,,,,,,,,,,,,,,,,,,,,,,,,,,0.16666666666666666\n",
      "2020-07-01 00:15:00,,,,,,,,,,,,,,,,,,,,,,,,,,,,,,,,,,,,,,,,,,,,,,,,,,,,,,,,,0.25\n",
      "2020-07-01 00:20:00,,,,,,,,,,,,,,,,,,,,,,,,,,,,,,,,,,,,,,,,,,,,,,,,,,,,,,,,,0.3333333333333333\n",
      "2020-07-01 00:25:00,,,,,,,,,,,,,,,,,,,,,,,,,,,,,,,,,,,,,,,,,,,,,,,,,,,,,,,,,0.4166666666666667\n",
      "2020-07-01 00:30:00,,,,,,,,,,,,,,,,,,,,,,,,,,,,,,,,,,,,,,,,,,,,,,,,,,,,,,,,,0.5\n",
      "2020-07-01 00:35:00,,,,,,,,,,,,,,,,,,,,,,,,,,,,,,,,,,,,,,,,,,,,,,,,,,,,,,,,,0.5833333333333334\n",
      "2020-07-01 00:40:00,,,,,,,,,,,,,,,,,,,,,,,,,,,,,,,,,,,,,,,,,,,,,,,,,,,,,,,,,0.6666666666666666\n"
     ]
    }
   ],
   "source": [
    "head(DataDir/'ES642-data-level1.csv')"
   ]
  },
  {
   "cell_type": "markdown",
   "metadata": {},
   "source": [
    "### Import 2020 ES642 Data"
   ]
  },
  {
   "cell_type": "code",
   "execution_count": 103,
   "metadata": {},
   "outputs": [],
   "source": [
    "df03 = pd.read_csv(DataDir/'ES642-data-level1.csv',parse_dates=[0],index_col=0)"
   ]
  },
  {
   "cell_type": "code",
   "execution_count": 104,
   "metadata": {},
   "outputs": [
    {
     "name": "stdout",
     "output_type": "stream",
     "text": [
      "<class 'pandas.core.frame.DataFrame'>\n",
      "DatetimeIndex: 42130 entries, 2020-07-01 00:00:00 to 2020-11-24 06:45:00\n",
      "Data columns (total 57 columns):\n",
      " #   Column                                      Non-Null Count  Dtype  \n",
      "---  ------                                      --------------  -----  \n",
      " 0   Mfidikwe_clinic_ST_Wind_Speed (m/s)         5828 non-null   float64\n",
      " 1   Mfidikwe_clinic_ST_Wind_Direction (deg)     5827 non-null   float64\n",
      " 2   Mfidikwe_clinic_ST_PM2.5 (ug/m3)            8903 non-null   float64\n",
      " 3   Mfidikwe_clinic_ST_Flow (l/m)               5933 non-null   float64\n",
      " 4   Mfidikwe_clinic_ST_Temperature (degC)       9035 non-null   float64\n",
      " 5   Mfidikwe_clinic_ST_Humidity (%)             9035 non-null   float64\n",
      " 6   Mfidikwe_clinic_ST_Pressure (%)             9034 non-null   float64\n",
      " 7   Sefikile_ST_Wind_Speed (m/s)                6462 non-null   float64\n",
      " 8   Sefikile_ST_Wind_Direction (deg)            6462 non-null   float64\n",
      " 9   Sefikile_ST_PM2.5 (ug/m3)                   25380 non-null  float64\n",
      " 10  Sefikile_ST_Flow (l/m)                      25368 non-null  float64\n",
      " 11  Sefikile_ST_Temperature (degC)              25385 non-null  float64\n",
      " 12  Sefikile_ST_Humidity (%)                    25385 non-null  float64\n",
      " 13  Sefikile_ST_Pressure (%)                    25385 non-null  float64\n",
      " 14  Northam_Guesthouse_ST_Wind_Speed (m/s)      6323 non-null   float64\n",
      " 15  Northam_Guesthouse_ST_Wind_Direction (deg)  6323 non-null   float64\n",
      " 16  Northam_Guesthouse_ST_PM2.5 (ug/m3)         26962 non-null  float64\n",
      " 17  Northam_Guesthouse_ST_Flow (l/m)            26962 non-null  float64\n",
      " 18  Northam_Guesthouse_ST_Temperature (degC)    26962 non-null  float64\n",
      " 19  Northam_Guesthouse_ST_Humidity (%)          26962 non-null  float64\n",
      " 20  Northam_Guesthouse_ST_Pressure (%)          26962 non-null  float64\n",
      " 21  Mfidikwe_church ST_Wind_Speed (m/s)         5143 non-null   float64\n",
      " 22  Mfidikwe_church ST_Wind_Direction (deg)     5143 non-null   float64\n",
      " 23  Mfidikwe_church ST_PM2.5 (ug/m3)            31853 non-null  float64\n",
      " 24  Mfidikwe_church ST_Flow (l/m)               31859 non-null  float64\n",
      " 25  Mfidikwe_church ST_Temperature (degC)       31861 non-null  float64\n",
      " 26  Mfidikwe_church ST_Humidity (%)             31861 non-null  float64\n",
      " 27  Mfidikwe_church ST_Pressure (%)             31861 non-null  float64\n",
      " 28  Mantserre_ST_Wind_Speed (m/s)               5644 non-null   float64\n",
      " 29  Mantserre_ST_Wind_Direction (deg)           5644 non-null   float64\n",
      " 30  Mantserre_ST_PM2.5 (ug/m3)                  3754 non-null   float64\n",
      " 31  Mantserre_ST_Flow (l/m)                     1776 non-null   float64\n",
      " 32  Mantserre_ST_Temperature (degC)             6247 non-null   float64\n",
      " 33  Mantserre_ST_Humidity (%)                   6247 non-null   float64\n",
      " 34  Mantserre_ST_Pressure (%)                   6247 non-null   float64\n",
      " 35  Bokamoso_ST_Wind_Speed (m/s)                2996 non-null   float64\n",
      " 36  Bokamoso_ST_Wind_Direction (deg)            2995 non-null   float64\n",
      " 37  Bokamoso_ST_PM2.5 (ug/m3)                   12465 non-null  float64\n",
      " 38  Bokamoso_ST_Flow (l/m)                      11626 non-null  float64\n",
      " 39  Bokamoso_ST_Temperature (degC)              12465 non-null  float64\n",
      " 40  Bokamoso_ST_Humidity (%)                    12465 non-null  float64\n",
      " 41  Bokamoso_ST_Pressure (%)                    12465 non-null  float64\n",
      " 42  Northam_AQMS_Wind_Speed (m/s)               2409 non-null   float64\n",
      " 43  Northam_AQMS_Wind_Direction (deg)           2409 non-null   float64\n",
      " 44  Northam_AQMS_Temperature (degC)             19300 non-null  float64\n",
      " 45  Northam_AQMS_Humidity (%)                   19300 non-null  float64\n",
      " 46  Northam_AQMS_Pressure (%)                   19300 non-null  float64\n",
      " 47  Northam_AQMS_PM2.5 (ug/m3)                  19300 non-null  float64\n",
      " 48  Northam_AQMS_Flow (l/m)                     19300 non-null  float64\n",
      " 49  Waterval_AQMS_Wind_Speed (m/s)              2735 non-null   float64\n",
      " 50  Waterval_AQMS_Wind_Direction (deg)          2735 non-null   float64\n",
      " 51  Waterval_AQMS_Temperature (degC)            13297 non-null  float64\n",
      " 52  Waterval_AQMS_Humidity (%)                  13297 non-null  float64\n",
      " 53  Waterval_AQMS_Pressure (%)                  13297 non-null  float64\n",
      " 54  Waterval_AQMS_PM2.5 (ug/m3)                 13297 non-null  float64\n",
      " 55  Waterval_AQMS_Flow (l/m)                    13290 non-null  float64\n",
      " 56  decimalhour                                 42130 non-null  float64\n",
      "dtypes: float64(57)\n",
      "memory usage: 18.6 MB\n"
     ]
    }
   ],
   "source": [
    "df03.info()"
   ]
  },
  {
   "cell_type": "code",
   "execution_count": 173,
   "metadata": {},
   "outputs": [],
   "source": [
    "MF = ['Mfidikwe_clinic_ST_Wind_Speed (m/s)',\n",
    "       'Mfidikwe_clinic_ST_Wind_Direction (deg)',\n",
    "       'Mfidikwe_clinic_ST_PM2.5 (ug/m3)', 'Mfidikwe_clinic_ST_Flow (l/m)',\n",
    "       'Mfidikwe_clinic_ST_Temperature (degC)',\n",
    "       'Mfidikwe_clinic_ST_Humidity (%)', 'Mfidikwe_clinic_ST_Pressure (%)']"
   ]
  },
  {
   "cell_type": "code",
   "execution_count": 174,
   "metadata": {},
   "outputs": [],
   "source": [
    "SF = ['Sefikile_ST_Wind_Speed (m/s)', 'Sefikile_ST_Wind_Direction (deg)',\n",
    "       'Sefikile_ST_PM2.5 (ug/m3)', 'Sefikile_ST_Flow (l/m)',\n",
    "       'Sefikile_ST_Temperature (degC)', 'Sefikile_ST_Humidity (%)',\n",
    "       'Sefikile_ST_Pressure (%)']"
   ]
  },
  {
   "cell_type": "code",
   "execution_count": 177,
   "metadata": {},
   "outputs": [
    {
     "data": {
      "application/vnd.jupyter.widget-view+json": {
       "model_id": "7ddc95ba25d24505aaebefc8a3059f82",
       "version_major": 2,
       "version_minor": 0
      },
      "text/plain": [
       "Canvas(toolbar=Toolbar(toolitems=[('Home', 'Reset original view', 'home', 'home'), ('Back', 'Back to previous …"
      ]
     },
     "metadata": {},
     "output_type": "display_data"
    },
    {
     "data": {
      "text/plain": [
       "array([<AxesSubplot:xlabel='Date'>, <AxesSubplot:xlabel='Date'>,\n",
       "       <AxesSubplot:xlabel='Date'>, <AxesSubplot:xlabel='Date'>,\n",
       "       <AxesSubplot:xlabel='Date'>, <AxesSubplot:xlabel='Date'>,\n",
       "       <AxesSubplot:xlabel='Date'>, <AxesSubplot:xlabel='Date'>],\n",
       "      dtype=object)"
      ]
     },
     "execution_count": 177,
     "metadata": {},
     "output_type": "execute_result"
    }
   ],
   "source": [
    "wind = ['Mfidikwe_clinic_ST_Wind_Speed (m/s)',\n",
    "'Sefikile_ST_Wind_Speed (m/s)',\n",
    "'Northam_Guesthouse_ST_Wind_Speed (m/s)',\n",
    "'Mfidikwe_church ST_Wind_Speed (m/s)',\n",
    "'Mantserre_ST_Wind_Speed (m/s)',\n",
    "'Bokamoso_ST_Wind_Speed (m/s)',\n",
    "'Northam_AQMS_Wind_Speed (m/s)',\n",
    "'Waterval_AQMS_Wind_Speed (m/s)']\n",
    "\n",
    "df03[wind].plot(subplots=True)"
   ]
  },
  {
   "cell_type": "code",
   "execution_count": 179,
   "metadata": {},
   "outputs": [
    {
     "data": {
      "application/vnd.jupyter.widget-view+json": {
       "model_id": "a8dd1516d2534018851473e83e3ab9e9",
       "version_major": 2,
       "version_minor": 0
      },
      "text/plain": [
       "Canvas(toolbar=Toolbar(toolitems=[('Home', 'Reset original view', 'home', 'home'), ('Back', 'Back to previous …"
      ]
     },
     "metadata": {},
     "output_type": "display_data"
    },
    {
     "data": {
      "text/plain": [
       "<AxesSubplot:xlabel='Date'>"
      ]
     },
     "execution_count": 179,
     "metadata": {},
     "output_type": "execute_result"
    }
   ],
   "source": [
    "windd = [\"Mfidikwe_clinic_ST_Wind_Direction (deg)\",\n",
    "\"Sefikile_ST_Wind_Direction (deg)\",\n",
    "\"Northam_Guesthouse_ST_Wind_Direction (deg)\",\n",
    "\"Mfidikwe_church ST_Wind_Direction (deg)\",\n",
    "\"Mantserre_ST_Wind_Direction (deg)\",\n",
    "\"Bokamoso_ST_Wind_Direction (deg)\",\n",
    "\"Northam_AQMS_Wind_Direction (deg)\",\n",
    "\"Waterval_AQMS_Wind_Direction (deg)\"]\n",
    "\n",
    "df03[windd].plot()"
   ]
  },
  {
   "cell_type": "markdown",
   "metadata": {},
   "source": [
    "### Create new dataframe for 2020 ES642 Data with Prefix \"ES\""
   ]
  },
  {
   "cell_type": "code",
   "execution_count": 180,
   "metadata": {},
   "outputs": [],
   "source": [
    "dfES2020 = pd.DataFrame()\n",
    "for i in df03.columns:\n",
    "    s = 'ES_{}'.format(i)\n",
    "    dfES2020[s] = df03[i]"
   ]
  },
  {
   "cell_type": "code",
   "execution_count": 181,
   "metadata": {},
   "outputs": [
    {
     "name": "stdout",
     "output_type": "stream",
     "text": [
      "<class 'pandas.core.frame.DataFrame'>\n",
      "DatetimeIndex: 42130 entries, 2020-07-01 00:00:00 to 2020-11-24 06:45:00\n",
      "Data columns (total 57 columns):\n",
      " #   Column                                         Non-Null Count  Dtype  \n",
      "---  ------                                         --------------  -----  \n",
      " 0   ES_Mfidikwe_clinic_ST_Wind_Speed (m/s)         5828 non-null   float64\n",
      " 1   ES_Mfidikwe_clinic_ST_Wind_Direction (deg)     5827 non-null   float64\n",
      " 2   ES_Mfidikwe_clinic_ST_PM2.5 (ug/m3)            8903 non-null   float64\n",
      " 3   ES_Mfidikwe_clinic_ST_Flow (l/m)               5933 non-null   float64\n",
      " 4   ES_Mfidikwe_clinic_ST_Temperature (degC)       9035 non-null   float64\n",
      " 5   ES_Mfidikwe_clinic_ST_Humidity (%)             9035 non-null   float64\n",
      " 6   ES_Mfidikwe_clinic_ST_Pressure (%)             9034 non-null   float64\n",
      " 7   ES_Sefikile_ST_Wind_Speed (m/s)                6462 non-null   float64\n",
      " 8   ES_Sefikile_ST_Wind_Direction (deg)            6462 non-null   float64\n",
      " 9   ES_Sefikile_ST_PM2.5 (ug/m3)                   25380 non-null  float64\n",
      " 10  ES_Sefikile_ST_Flow (l/m)                      25368 non-null  float64\n",
      " 11  ES_Sefikile_ST_Temperature (degC)              25385 non-null  float64\n",
      " 12  ES_Sefikile_ST_Humidity (%)                    25385 non-null  float64\n",
      " 13  ES_Sefikile_ST_Pressure (%)                    25385 non-null  float64\n",
      " 14  ES_Northam_Guesthouse_ST_Wind_Speed (m/s)      6323 non-null   float64\n",
      " 15  ES_Northam_Guesthouse_ST_Wind_Direction (deg)  6323 non-null   float64\n",
      " 16  ES_Northam_Guesthouse_ST_PM2.5 (ug/m3)         26962 non-null  float64\n",
      " 17  ES_Northam_Guesthouse_ST_Flow (l/m)            26962 non-null  float64\n",
      " 18  ES_Northam_Guesthouse_ST_Temperature (degC)    26962 non-null  float64\n",
      " 19  ES_Northam_Guesthouse_ST_Humidity (%)          26962 non-null  float64\n",
      " 20  ES_Northam_Guesthouse_ST_Pressure (%)          26962 non-null  float64\n",
      " 21  ES_Mfidikwe_church ST_Wind_Speed (m/s)         5143 non-null   float64\n",
      " 22  ES_Mfidikwe_church ST_Wind_Direction (deg)     5143 non-null   float64\n",
      " 23  ES_Mfidikwe_church ST_PM2.5 (ug/m3)            31853 non-null  float64\n",
      " 24  ES_Mfidikwe_church ST_Flow (l/m)               31859 non-null  float64\n",
      " 25  ES_Mfidikwe_church ST_Temperature (degC)       31861 non-null  float64\n",
      " 26  ES_Mfidikwe_church ST_Humidity (%)             31861 non-null  float64\n",
      " 27  ES_Mfidikwe_church ST_Pressure (%)             31861 non-null  float64\n",
      " 28  ES_Mantserre_ST_Wind_Speed (m/s)               5644 non-null   float64\n",
      " 29  ES_Mantserre_ST_Wind_Direction (deg)           5644 non-null   float64\n",
      " 30  ES_Mantserre_ST_PM2.5 (ug/m3)                  3754 non-null   float64\n",
      " 31  ES_Mantserre_ST_Flow (l/m)                     1776 non-null   float64\n",
      " 32  ES_Mantserre_ST_Temperature (degC)             6247 non-null   float64\n",
      " 33  ES_Mantserre_ST_Humidity (%)                   6247 non-null   float64\n",
      " 34  ES_Mantserre_ST_Pressure (%)                   6247 non-null   float64\n",
      " 35  ES_Bokamoso_ST_Wind_Speed (m/s)                2996 non-null   float64\n",
      " 36  ES_Bokamoso_ST_Wind_Direction (deg)            2995 non-null   float64\n",
      " 37  ES_Bokamoso_ST_PM2.5 (ug/m3)                   12465 non-null  float64\n",
      " 38  ES_Bokamoso_ST_Flow (l/m)                      11626 non-null  float64\n",
      " 39  ES_Bokamoso_ST_Temperature (degC)              12465 non-null  float64\n",
      " 40  ES_Bokamoso_ST_Humidity (%)                    12465 non-null  float64\n",
      " 41  ES_Bokamoso_ST_Pressure (%)                    12465 non-null  float64\n",
      " 42  ES_Northam_AQMS_Wind_Speed (m/s)               2409 non-null   float64\n",
      " 43  ES_Northam_AQMS_Wind_Direction (deg)           2409 non-null   float64\n",
      " 44  ES_Northam_AQMS_Temperature (degC)             19300 non-null  float64\n",
      " 45  ES_Northam_AQMS_Humidity (%)                   19300 non-null  float64\n",
      " 46  ES_Northam_AQMS_Pressure (%)                   19300 non-null  float64\n",
      " 47  ES_Northam_AQMS_PM2.5 (ug/m3)                  19300 non-null  float64\n",
      " 48  ES_Northam_AQMS_Flow (l/m)                     19300 non-null  float64\n",
      " 49  ES_Waterval_AQMS_Wind_Speed (m/s)              2735 non-null   float64\n",
      " 50  ES_Waterval_AQMS_Wind_Direction (deg)          2735 non-null   float64\n",
      " 51  ES_Waterval_AQMS_Temperature (degC)            13297 non-null  float64\n",
      " 52  ES_Waterval_AQMS_Humidity (%)                  13297 non-null  float64\n",
      " 53  ES_Waterval_AQMS_Pressure (%)                  13297 non-null  float64\n",
      " 54  ES_Waterval_AQMS_PM2.5 (ug/m3)                 13297 non-null  float64\n",
      " 55  ES_Waterval_AQMS_Flow (l/m)                    13290 non-null  float64\n",
      " 56  ES_decimalhour                                 42130 non-null  float64\n",
      "dtypes: float64(57)\n",
      "memory usage: 18.6 MB\n"
     ]
    }
   ],
   "source": [
    "dfES2020.info()"
   ]
  },
  {
   "cell_type": "markdown",
   "metadata": {},
   "source": [
    "## ES642 2021"
   ]
  },
  {
   "cell_type": "markdown",
   "metadata": {},
   "source": [
    "### Northam Long-Term PM2.5 ES642"
   ]
  },
  {
   "cell_type": "markdown",
   "metadata": {},
   "source": [
    "#### Import 2021 Northam LT PM2.5 ES642 Data"
   ]
  },
  {
   "cell_type": "code",
   "execution_count": null,
   "metadata": {},
   "outputs": [],
   "source": [
    "os.listdir(HomeDir/'01_Field Campaigns/ES642 - All Locations/2021_RawData')"
   ]
  },
  {
   "cell_type": "code",
   "execution_count": null,
   "metadata": {},
   "outputs": [],
   "source": [
    "def readRM(filename, nLines=18, nChars=40):\n",
    "    DataString=\"\"\n",
    "    Sep=\",\"\n",
    "    with open(filename,encoding='ISO-8859-1') as fp:\n",
    "        for line in fp.readlines():\n",
    "            if len(line)==nChars:\n",
    "                row=line.split(Sep)\n",
    "                if len(row) == nLines and re.match('\\W*(\\d{4})[/.-](\\d{2})[/.-](\\d{2})\\s{1}(\\d{2}):(\\d{2}):(\\d{2})',row[0]):\n",
    "                    DataString=DataString+line\n",
    "    return(DataString)"
   ]
  },
  {
   "cell_type": "code",
   "execution_count": null,
   "metadata": {},
   "outputs": [],
   "source": [
    "ESvariables=['Northam_AQMS_PM2.5 (ug/m3)','Northam_AQMS_Flow (l/m)',\n",
    "             'Northam_AQMS_Temperature (degC)', 'Northam_AQMS_Humidity (%)',\n",
    "             'Northam_AQMS_Pressure (%)']\n",
    "\n",
    "df04 = pd.DataFrame()\n",
    "files=[f for f in os.listdir(HomeDir/'01_Field Campaigns/ES642 - All Locations/2021_RawData') if f.startswith(\"ES642_DES07\")]\n",
    "n=1\n",
    "for f in files:\n",
    "    print(\"{} of {}: \".format(n,len(files)),end=\"\")\n",
    "    n=n+1\n",
    "    fullpath = os.path.join(HomeDir/'01_Field Campaigns/ES642 - All Locations/2021_RawData',f)\n",
    "    if f.endswith(\".csv\") and fullpath.count(f) > 0:\n",
    "            print(\"Reading \",f)\n",
    "            Data = readRM(fullpath,nLines=8,nChars=59)\n",
    "            dftmp = pd.read_csv(StringIO(Data),error_bad_lines=False,index_col=0,parse_dates=[0],names=[\"Date\",'Northam_AQMS_PM2.5 (mg/m3)',\n",
    "                                                                                                        'Northam_AQMS_Flow (l/m)',\n",
    "                                                                                                         'Northam_AQMS_Temperature (degC)', 'Northam_AQMS_Humidity (%)',\n",
    "                                                                                                            'Northam_AQMS_Pressure (%)',\"Status2\",\"Checksum\"])\n",
    "            dftmp['Northam_AQMS_PM2.5 (ug/m3)']=dftmp['Northam_AQMS_PM2.5 (mg/m3)']*1000\n",
    "            if len(dftmp) == 0:\n",
    "                df04 = dftmp\n",
    "            else:\n",
    "                df04 = df04.combine_first(dftmp)\n",
    "                \n",
    "    print(\"Finished with {}\".format(f))            \n",
    "    if len(df04) > 0:    \n",
    "        # Make sure time ingest was succesful\n",
    "        for v in ESvariables:\n",
    "            ConvertNumeric(df04,v)\n",
    "\n",
    "        df04.index=pd.to_datetime(df04.index, errors='coerce')\n",
    "\n",
    "        # Resample datasets to 5 minute interval\n",
    "        df04=df04[ESvariables].resample('5min').mean()"
   ]
  },
  {
   "cell_type": "code",
   "execution_count": null,
   "metadata": {},
   "outputs": [],
   "source": [
    "df04.info()"
   ]
  },
  {
   "cell_type": "code",
   "execution_count": null,
   "metadata": {
    "scrolled": true
   },
   "outputs": [],
   "source": [
    "df04.plot(subplots=True)"
   ]
  },
  {
   "cell_type": "markdown",
   "metadata": {},
   "source": [
    "### Waterval Long-Term ES642"
   ]
  },
  {
   "cell_type": "code",
   "execution_count": null,
   "metadata": {},
   "outputs": [],
   "source": [
    "ESvariables=['Waterval_AQMS_PM2.5 (ug/m3)','Waterval_AQMS_Flow (l/m)',\n",
    "             'Waterval_AQMS_Temperature (degC)', 'Waterval_AQMS_Humidity (%)',\n",
    "             'Waterval_AQMS_Pressure (%)']\n",
    "\n",
    "df05 = pd.DataFrame()\n",
    "files=[f for f in os.listdir(HomeDir/'01_Field Campaigns/ES642 - All Locations/2021_RawData') if f.startswith(\"ES642_DES08\")]\n",
    "n=1\n",
    "for f in files:\n",
    "    print(\"{} of {}: \".format(n,len(files)),end=\"\")\n",
    "    n=n+1\n",
    "    fullpath = os.path.join(HomeDir/'01_Field Campaigns/ES642 - All Locations/2021_RawData',f)\n",
    "    if f.endswith(\".csv\") and fullpath.count(f) > 0:\n",
    "            print(\"Reading \",f)\n",
    "            Data = readRM(fullpath,nLines=8,nChars=59)\n",
    "            dftmp = pd.read_csv(StringIO(Data),error_bad_lines=False,index_col=0,parse_dates=[0],names=[\"Date\",'Waterval_AQMS_PM2.5 (mg/m3)',\n",
    "                                                                                                        'Waterval_AQMS_Flow (l/m)',\n",
    "                                                                                                         'Waterval_AQMS_Temperature (degC)', 'Waterval_AQMS_Humidity (%)',\n",
    "                                                                                                            'Waterval_AQMS_Pressure (%)',\"Status2\",\"Checksum\"])\n",
    "            dftmp['Waterval_AQMS_PM2.5 (ug/m3)']=dftmp['Waterval_AQMS_PM2.5 (mg/m3)']*1000\n",
    "            if len(dftmp) == 0:\n",
    "                df05 = dftmp\n",
    "            else:\n",
    "                df05 = df05.combine_first(dftmp)\n",
    "                \n",
    "    print(\"Finished with {}\".format(f))            \n",
    "    if len(df05) > 0:    \n",
    "        # Make sure time ingest was succesful\n",
    "        for v in ESvariables:\n",
    "            ConvertNumeric(df05,v)\n",
    "\n",
    "        df05.index=pd.to_datetime(df05.index, errors='coerce')\n",
    "\n",
    "        # Resample datasets to 5 minute interval\n",
    "        df05=df05[ESvariables].resample('5min').mean()"
   ]
  },
  {
   "cell_type": "code",
   "execution_count": null,
   "metadata": {},
   "outputs": [],
   "source": [
    "df05.info()"
   ]
  },
  {
   "cell_type": "code",
   "execution_count": null,
   "metadata": {},
   "outputs": [],
   "source": [
    "df05.plot(subplots=True)"
   ]
  },
  {
   "cell_type": "markdown",
   "metadata": {},
   "source": [
    "### Northam Long-Term PM10 ES642"
   ]
  },
  {
   "cell_type": "code",
   "execution_count": null,
   "metadata": {},
   "outputs": [],
   "source": [
    "os.listdir(HomeDir/'01_Field Campaigns/ES642 - All Locations/2021_RawData')"
   ]
  },
  {
   "cell_type": "code",
   "execution_count": null,
   "metadata": {},
   "outputs": [],
   "source": [
    "ESvariables=['Northam_AQMS_PM10 (ug/m3)','Northam_AQMS_PM10_Flow (l/m)',\n",
    "             'Northam_AQMS_PM10_Temperature (degC)', 'Northam_AQMS_PM10_Humidity (%)',\n",
    "             'Northam_AQMS_PM10_Pressure (%)']\n",
    "\n",
    "df06 = pd.DataFrame()\n",
    "files=[f for f in os.listdir(HomeDir/'01_Field Campaigns/ES642 - All Locations/2021_RawData') if f.startswith(\"ES642_NorthamLT_PM10\")]\n",
    "n=1\n",
    "for f in files:\n",
    "    print(\"{} of {}: \".format(n,len(files)),end=\"\")\n",
    "    n=n+1\n",
    "    fullpath = os.path.join(HomeDir/'01_Field Campaigns/ES642 - All Locations/2021_RawData',f)\n",
    "    if f.endswith(\".csv\") and fullpath.count(f) > 0:\n",
    "            print(\"Reading \",f)\n",
    "            Data = readRM(fullpath,nLines=8,nChars=59)\n",
    "            dftmp = pd.read_csv(StringIO(Data),error_bad_lines=False,index_col=0,parse_dates=[0],names=[\"Date\",'Northam_AQMS_PM10 (mg/m3)',\n",
    "                                                                                                        'Northam_AQMS_PM10_Flow (l/m)',\n",
    "                                                                                                         'Northam_AQMS_PM10_Temperature (degC)', 'Northam_AQMS_PM10_Humidity (%)',\n",
    "                                                                                                            'Northam_AQMS_PM10_Pressure (%)',\"Status2\",\"Checksum\"])\n",
    "            dftmp['Northam_AQMS_PM10 (ug/m3)']=dftmp['Northam_AQMS_PM10 (mg/m3)']*1000\n",
    "            if len(dftmp) == 0:\n",
    "                df06 = dftmp\n",
    "            else:\n",
    "                df06 = df06.combine_first(dftmp)\n",
    "                \n",
    "    print(\"Finished with {}\".format(f))            \n",
    "    if len(df06) > 0:    \n",
    "        # Make sure time ingest was succesful\n",
    "        for v in ESvariables:\n",
    "            ConvertNumeric(df06,v)\n",
    "\n",
    "        df06.index=pd.to_datetime(df06.index, errors='coerce')\n",
    "\n",
    "        # Resample datasets to 5 minute interval\n",
    "        df06=df06[ESvariables].resample('5min').mean()"
   ]
  },
  {
   "cell_type": "code",
   "execution_count": null,
   "metadata": {},
   "outputs": [],
   "source": [
    "df06.info()"
   ]
  },
  {
   "cell_type": "code",
   "execution_count": null,
   "metadata": {},
   "outputs": [],
   "source": [
    "df06.plot(subplots=True)"
   ]
  },
  {
   "cell_type": "markdown",
   "metadata": {},
   "source": [
    "### Waterval Long-Term PM10 ES642"
   ]
  },
  {
   "cell_type": "code",
   "execution_count": null,
   "metadata": {},
   "outputs": [],
   "source": [
    "ESvariables=['Waterval_AQMS_PM10 (ug/m3)','Waterval_AQMS_PM10_Flow (l/m)',\n",
    "             'Waterval_AQMS_PM10_Temperature (degC)', 'Waterval_AQMS_PM10_Humidity (%)',\n",
    "             'Waterval_AQMS_PM10_Pressure (%)']\n",
    "\n",
    "df07 = pd.DataFrame()\n",
    "files=[f for f in os.listdir(HomeDir/'01_Field Campaigns/ES642 - All Locations/2021_RawData') if f.startswith(\"ES642_WatervalLT_PM10\")]\n",
    "n=1\n",
    "for f in files:\n",
    "    print(\"{} of {}: \".format(n,len(files)),end=\"\")\n",
    "    n=n+1\n",
    "    fullpath = os.path.join(HomeDir/'01_Field Campaigns/ES642 - All Locations/2021_RawData',f)\n",
    "    if f.endswith(\".csv\") and fullpath.count(f) > 0:\n",
    "            print(\"Reading \",f)\n",
    "            Data = readRM(fullpath,nLines=8,nChars=59)\n",
    "            dftmp = pd.read_csv(StringIO(Data),error_bad_lines=False,index_col=0,parse_dates=[0],names=[\"Date\",'Waterval_AQMS_PM10 (mg/m3)',\n",
    "                                                                                                        'Waterval_AQMS_PM10_Flow (l/m)',\n",
    "                                                                                                         'Waterval_AQMS_PM10_Temperature (degC)', 'Waterval_AQMS_PM10_Humidity (%)',\n",
    "                                                                                                            'Waterval_AQMS_PM10_Pressure (%)',\"Status2\",\"Checksum\"])\n",
    "            dftmp['Waterval_AQMS_PM10 (ug/m3)']=dftmp['Waterval_AQMS_PM10 (mg/m3)']*1000\n",
    "            if len(dftmp) == 0:\n",
    "                df07 = dftmp\n",
    "            else:\n",
    "                df07 = df07.combine_first(dftmp)\n",
    "                \n",
    "    print(\"Finished with {}\".format(f))            \n",
    "    if len(df07) > 0:    \n",
    "        # Make sure time ingest was succesful\n",
    "        for v in ESvariables:\n",
    "            ConvertNumeric(df07,v)\n",
    "\n",
    "        df07.index=pd.to_datetime(df07.index, errors='coerce')\n",
    "\n",
    "        # Resample datasets to 5 minute interval\n",
    "        df07=df07[ESvariables].resample('5min').mean()"
   ]
  },
  {
   "cell_type": "code",
   "execution_count": null,
   "metadata": {},
   "outputs": [],
   "source": [
    "df07.info()"
   ]
  },
  {
   "cell_type": "code",
   "execution_count": null,
   "metadata": {},
   "outputs": [],
   "source": [
    "df07.plot(subplots=True)"
   ]
  },
  {
   "cell_type": "markdown",
   "metadata": {},
   "source": [
    "### Sefikile Battery 2021 PM2.5 ES642"
   ]
  },
  {
   "cell_type": "code",
   "execution_count": null,
   "metadata": {},
   "outputs": [],
   "source": [
    "ESvariables=['Sefikile_BT_PM2.5 (ug/m3)','Sefikile_BT_Flow (l/m)',\n",
    "             'Sefikile_BT_Temperature (degC)', 'Sefikile_BT_Humidity (%)',\n",
    "             'Sefikile_BT_Pressure (%)']\n",
    "\n",
    "dfbt = pd.DataFrame()\n",
    "files=[f for f in os.listdir(HomeDir/'01_Field Campaigns/ES642 - All Locations/2021_RawData') if f.startswith(\"ES642_Sefikile_BT\")]\n",
    "n=1\n",
    "for f in files:\n",
    "    print(\"{} of {}: \".format(n,len(files)),end=\"\")\n",
    "    n=n+1\n",
    "    fullpath = os.path.join(HomeDir/'01_Field Campaigns/ES642 - All Locations/2021_RawData',f)\n",
    "    if f.endswith(\".csv\") and fullpath.count(f) > 0:\n",
    "            print(\"Reading \",f)\n",
    "            Data = readRM(fullpath,nLines=8,nChars=59)\n",
    "            dftmp = pd.read_csv(StringIO(Data),error_bad_lines=False,index_col=0,parse_dates=[0],names=[\"Date\",'Sefikile_BT PM2.5 (mg/m3)',\n",
    "                                                                                                        'Sefikile_BT_Flow (l/m)',\n",
    "                                                                                                         'Sefikile_BT_Temperature (degC)', 'Sefikile_BT_Humidity (%)',\n",
    "                                                                                                            'Sefikile_BT_Pressure (%)',\"Status2\",\"Checksum\"])\n",
    "            dftmp['Sefikile_BT_PM2.5 (ug/m3)']=dftmp['Sefikile_BT_PM2.5 (mg/m3)']*1000\n",
    "            if len(dftmp) == 0:\n",
    "                dfbt = dftmp\n",
    "            else:\n",
    "                dfbt = dfbt.combine_first(dftmp)\n",
    "                \n",
    "    print(\"Finished with {}\".format(f))            \n",
    "    if len(dfbt) > 0:    \n",
    "        # Make sure time ingest was succesful\n",
    "        for v in ESvariables:\n",
    "            ConvertNumeric(dfbt,v)\n",
    "\n",
    "        dfbt.index=pd.to_datetime(dfbt.index, errors='coerce')\n",
    "\n",
    "        # Resample datasets to 5 minute interval\n",
    "        dfbt=dfbt[ESvariables].resample('5min').mean()"
   ]
  },
  {
   "cell_type": "code",
   "execution_count": null,
   "metadata": {},
   "outputs": [],
   "source": [
    "dfbt.info()"
   ]
  },
  {
   "cell_type": "markdown",
   "metadata": {},
   "source": [
    "## Merge 2021 & 2020 ES642 Data"
   ]
  },
  {
   "cell_type": "markdown",
   "metadata": {},
   "source": [
    "### Update old sites"
   ]
  },
  {
   "cell_type": "code",
   "execution_count": null,
   "metadata": {},
   "outputs": [],
   "source": [
    "df08 = pd.DataFrame()\n",
    "\n",
    "df08 = pd.concat([df06,df07], axis=1)"
   ]
  },
  {
   "cell_type": "code",
   "execution_count": null,
   "metadata": {},
   "outputs": [],
   "source": [
    "df08.info()"
   ]
  },
  {
   "cell_type": "code",
   "execution_count": null,
   "metadata": {},
   "outputs": [],
   "source": [
    "dfes10 = pd.DataFrame()\n",
    "\n",
    "for i in df08.columns:\n",
    "    s = 'ES_{}'.format(i)\n",
    "    dfes10[s] = df08[i]"
   ]
  },
  {
   "cell_type": "code",
   "execution_count": null,
   "metadata": {},
   "outputs": [],
   "source": [
    "dfes10.info()"
   ]
  },
  {
   "cell_type": "code",
   "execution_count": null,
   "metadata": {},
   "outputs": [],
   "source": [
    "dfes = pd.DataFrame()\n",
    "\n",
    "dfes = pd.concat([df04,df05],axis=1)"
   ]
  },
  {
   "cell_type": "code",
   "execution_count": null,
   "metadata": {},
   "outputs": [],
   "source": [
    "dfes.info()"
   ]
  },
  {
   "cell_type": "code",
   "execution_count": null,
   "metadata": {},
   "outputs": [],
   "source": [
    "dfes2021 = pd.DataFrame()\n",
    "\n",
    "for i in dfes.columns:\n",
    "    s = 'ES_{}'.format(i)\n",
    "    dfes2021[s] = dfes[i]"
   ]
  },
  {
   "cell_type": "code",
   "execution_count": null,
   "metadata": {},
   "outputs": [],
   "source": [
    "dfes2021.info()"
   ]
  },
  {
   "cell_type": "code",
   "execution_count": null,
   "metadata": {},
   "outputs": [],
   "source": [
    "dfES2020 = dfES2020.combine_first(dfes2021)"
   ]
  },
  {
   "cell_type": "code",
   "execution_count": null,
   "metadata": {},
   "outputs": [],
   "source": [
    "dfES2020.info()"
   ]
  },
  {
   "cell_type": "markdown",
   "metadata": {},
   "source": [
    "### Add new sites "
   ]
  },
  {
   "cell_type": "code",
   "execution_count": null,
   "metadata": {},
   "outputs": [],
   "source": [
    "dfES = pd.DataFrame()\n",
    "dfES = pd.concat([dfES2020,dfes10],axis=1)"
   ]
  },
  {
   "cell_type": "code",
   "execution_count": null,
   "metadata": {},
   "outputs": [],
   "source": [
    "dfES.info()"
   ]
  },
  {
   "cell_type": "code",
   "execution_count": null,
   "metadata": {},
   "outputs": [],
   "source": [
    "for i in dfES.columns:\n",
    "    if \"(ug/m3)\" in i:\n",
    "        print(i)"
   ]
  },
  {
   "cell_type": "code",
   "execution_count": null,
   "metadata": {},
   "outputs": [],
   "source": [
    "PMvars = ['ES_Bokamoso_ST_PM2.5 (ug/m3)',\n",
    "            'ES_Mantserre_ST_PM2.5 (ug/m3)',\n",
    "            'ES_Mfidikwe_church ST_PM2.5 (ug/m3)',\n",
    "            'ES_Mfidikwe_clinic_ST_PM2.5 (ug/m3)',\n",
    "            'ES_Northam_AQMS_PM2.5 (ug/m3)',\n",
    "            'ES_Northam_Guesthouse_ST_PM2.5 (ug/m3)',\n",
    "            'ES_Sefikile_ST_PM2.5 (ug/m3)',\n",
    "            'ES_Waterval_AQMS_PM2.5 (ug/m3)',\n",
    "            'ES_Northam_AQMS_PM10 (ug/m3)',\n",
    "            'ES_Waterval_AQMS_PM10 (ug/m3)']"
   ]
  },
  {
   "cell_type": "code",
   "execution_count": null,
   "metadata": {},
   "outputs": [],
   "source": [
    "dfES[PMvars].plot(subplots=True)"
   ]
  },
  {
   "cell_type": "markdown",
   "metadata": {},
   "source": [
    "### Write Complete ES642 Dataset to FinalData"
   ]
  },
  {
   "cell_type": "code",
   "execution_count": null,
   "metadata": {},
   "outputs": [],
   "source": [
    "os.listdir(DataDir)"
   ]
  },
  {
   "cell_type": "code",
   "execution_count": null,
   "metadata": {},
   "outputs": [],
   "source": [
    "dfES.to_csv(DataDir/'AngloSA_ES642_2020_2021_Level0.csv')"
   ]
  },
  {
   "cell_type": "markdown",
   "metadata": {},
   "source": [
    "## GM5000 2021"
   ]
  },
  {
   "cell_type": "code",
   "execution_count": null,
   "metadata": {},
   "outputs": [],
   "source": [
    "RawDir = Path('/home/roelof//Dropbox (NWU)/CRG_Projects/01_Research_Campaigns/Anglo_SA/01_Field Campaigns/GM_All_Locations/01_RawData/01_GM5000/')\n",
    "LocalDir = Path('/home/roelof//Dropbox (NWU)/CRG_Projects/01_Research_Campaigns/Anglo_SA/01_Field Campaigns/GM_All_Locations/02_Level_0/')\n",
    "\n",
    "stations = ['01_Northam_Mantserre','02_Northam_Sefikile','03_Northam_Guesthouse','04_Northam_NorthamLongTerm',\n",
    "            '05_Rustenburg_Bokomoso', '06_Rustenburg_Ikemeleng',\n",
    "            '07_Rustenburg_Mfidikwe','08_Rustenburg_WatervalLongTerm']\n",
    "\n",
    "names = ['Date','CO (ppm)','Internal Temperature','NO','NO2 (ppb)','O3 (ppb)','PM1','PM10 (ug/m3)','PM2.5 (ug/m3)','PRGM','Relative Humidity (%)',\n",
    "         'Sensor Temperature','SO2 (ppb)','VOC']\n",
    "\n",
    "dfL = pd.DataFrame()\n",
    "dfE = pd.DataFrame()\n",
    "dfGM = pd.DataFrame()\n",
    "\n",
    "\n",
    "for s in stations:\n",
    "    files = [f for f in os.listdir(LocalDir) if s in f]\n",
    "    for f in files:\n",
    "        if f.startswith(s) and 'Ecostat' not in f:\n",
    "            fullpath = os.path.join(LocalDir,f)\n",
    "            print('reading',f)\n",
    "            dftmp = pd.read_csv(fullpath,parse_dates=[[2,3]],index_col=0,error_bad_lines=False)\n",
    "            dftmp.index.names= ['Date']\n",
    "            dftmp.rename(columns={'co':'{}_CO (ppm)'.format(s),'internalTemp':'{}_Internal Temperature'.format(s),\n",
    "                              'no':'{}_NO'.format(s),'no2':'{}_NO2 (ppb)'.format(s),'o3':'{}_O3 (ppb)'.format(s),\n",
    "                              'pm10':'{}_PM10 (ug/m3)'.format(s),\n",
    "                              'pm2p5':'{}_PM2.5 (ug/m3)'.format(s),'rh':'{}_Relative Humidity (%)'.format(s)\n",
    "                              ,'sensorTemp':'{}_Sensor Temperature'.format(s),'so2':'{}_SO2 (ppb)'.format(s),\n",
    "                              'voc':'{}_VOC'.format(s)}, inplace=True)\n",
    "            dftmp = dftmp.drop_duplicates()\n",
    "            print('finished with', f)\n",
    "            \n",
    "            if len(dfL) == 0:\n",
    "                dfL = dftmp\n",
    "            else:\n",
    "                dfL = dfL.combine_first(dftmp)\n",
    "                dfL = dfL.drop_duplicates()\n",
    "                \n",
    "    files = [f for f in os.listdir(RawDir) if s in f]                     \n",
    "    for f in files:\n",
    "        if f.startswith(s) and 'Ecostat' in f:\n",
    "            fullpath = os.path.join(RawDir,f)\n",
    "            print('reading',f)\n",
    "            dftmp = pd.read_csv(fullpath,parse_dates=[0],index_col=0,skiprows=2,names=names,error_bad_lines=False)\n",
    "            dftmp.index.names= ['Date']\n",
    "            dftmp.rename(columns={'CO (ppm)':'{}_CO (ppm)'.format(s),'Internal Temperature':'{}_Internal Temperature'.format(s),\n",
    "                              'NO':'{}_NO'.format(s),'NO2 (ppb)':'{}_NO2 (ppb)'.format(s),'O3 (ppb)':'{}_O3 (ppb)'.format(s),\n",
    "                              'PM1':'{}_PM1'.format(s),'PM10 (ug/m3)':'{}_PM10 (ug/m3)'.format(s),\n",
    "                              'PM2.5 (ug/m3)':'{}_PM2.5 (ug/m3)'.format(s),'Relative Humidity (%)':'{}_Relative Humidity (%)'.format(s)\n",
    "                              ,'Sensor Temperature':'{}_Sensor Temperature'.format(s),'SO2 (ppb)':'{}_SO2 (ppb)'.format(s),\n",
    "                              'VOC':'{}_VOC'.format(s)}, inplace=True)\n",
    "            dftmp = dftmp.drop_duplicates()\n",
    "            print('finished with', f)\n",
    "            if len(dfE) == 0:\n",
    "                dfE = dftmp\n",
    "            else:\n",
    "                dfE = dfE.combine_first(dftmp)\n",
    "                dfE = dfE.drop_duplicates()\n",
    "                \n",
    "dfGM = pd.concat([dfL,dfE],axis=0,join='inner')\n",
    "dfGM = dfGM.drop_duplicates()\n",
    "dfGM = dfGM.loc['2021']"
   ]
  },
  {
   "cell_type": "code",
   "execution_count": null,
   "metadata": {},
   "outputs": [],
   "source": [
    "dfGM.info()"
   ]
  },
  {
   "cell_type": "markdown",
   "metadata": {},
   "source": [
    "### Import MET Data"
   ]
  },
  {
   "cell_type": "code",
   "execution_count": 146,
   "metadata": {},
   "outputs": [
    {
     "data": {
      "text/plain": [
       "['01_Northam_Mantserre.dat',\n",
       " '01_Northam_Mantserre20210326.dat',\n",
       " '01_Northam_Mantserre20210511.dat',\n",
       " '01_Northam_Mantserre20210519.dat',\n",
       " '01_Northam_Mantserre20210719.csv',\n",
       " '01_Northam_Mantserre20210719.dat',\n",
       " '01_Northam_Mantserre_09192021.dat',\n",
       " '01_Northam_Mantserre_19072021.dat',\n",
       " '01_Northam_Mantserre_20210326.dat',\n",
       " '01_Northam_Mantserre_20210413.dat',\n",
       " '01_Northam_Mantserre_20210414.dat',\n",
       " '01_Northam_Mantserre_20210519.dat',\n",
       " '01_Northam_Mantserre_20210625.dat',\n",
       " '01_Northam_Mantserre_20210706.dat',\n",
       " '01_Northam_Mantserre_20210719.csv',\n",
       " '01_Northam_Mantserre_20210719.dat',\n",
       " '01_Northam_Mantserre_20210903.dat',\n",
       " '01_Northam_Mantserre_TableMin_2021-06-25.dat',\n",
       " '02_Northam_Sefikile200Series_Sefikile_TableMin_20210715_2021_07_15_13_50_32.dat',\n",
       " '02_Northam_Sefikile_17062021.dat',\n",
       " '02_Northam_Sefikile_20210519.dat',\n",
       " '02_Northam_Sefikile_20210713.dat',\n",
       " '02_Northam_Sefikile_20210714.dat',\n",
       " '02_Northam_Sefikile_20210715.dat',\n",
       " '03_Northam_Guesthouse_20210617.dat',\n",
       " '03_Northam_Guesthouse_20210706.dat',\n",
       " '03_Northam_Guesthouse_20210715.dat',\n",
       " '03_Northam_Guesthouse_TableMin.2021-06-17.dat',\n",
       " '03_Northam_Guesthouse_TableMin_20210706_2021_07_06_09_14_25.dat',\n",
       " '03_Northam_Guesthouse_TableMin_20210715_2021_07_15_11_18_06.dat',\n",
       " '05_Rustenburg_Bokomoso_01.dat',\n",
       " '05_Rustenburg_Bokomoso_20210624.dat',\n",
       " '05_Rustenburg_Bokomoso_20210630.dat',\n",
       " '05_Rustenburg_Bokomoso_20210706.dat',\n",
       " '05_Rustenburg_Bokomoso_Met_TableMin-2021-07-06.dat',\n",
       " '06_Rustenburg_Ikemeleng_20210510.dat',\n",
       " '06_Rustenburg_Ikemeleng_20210520.dat',\n",
       " '06_Rustenburg_Ikemeleng_20210624.dat',\n",
       " '06_Rustenburg_Ikemeleng_20210903.dat',\n",
       " '06_Rustenburg_Ikemeleng_TableMin_2021_06_24_15_58_56.dat',\n",
       " '07_Rustenburg_Mfidikwe_20210624.dat',\n",
       " '07_Rustenburg_Mfidikwe_30062021.dat',\n",
       " '07_Rustenburg_Mfidkwe.dat']"
      ]
     },
     "execution_count": 146,
     "metadata": {},
     "output_type": "execute_result"
    }
   ],
   "source": [
    "sorted(os.listdir(HomeDir/'01_Field Campaigns/GM_All_Locations/01_RawData/02_MET'))"
   ]
  },
  {
   "cell_type": "markdown",
   "metadata": {},
   "source": [
    "## Mantserre MET"
   ]
  },
  {
   "cell_type": "code",
   "execution_count": 148,
   "metadata": {},
   "outputs": [],
   "source": [
    "DataFiles = ['01_Northam_Mantserre.dat',\n",
    " '01_Northam_Mantserre20210326.dat',\n",
    " '01_Northam_Mantserre20210511.dat',\n",
    " '01_Northam_Mantserre20210519.dat',\n",
    " '01_Northam_Mantserre20210719.csv',\n",
    " '01_Northam_Mantserre20210719.dat',\n",
    " '01_Northam_Mantserre_09192021.dat',\n",
    " '01_Northam_Mantserre_19072021.dat',\n",
    " '01_Northam_Mantserre_20210326.dat',\n",
    " '01_Northam_Mantserre_20210413.dat',\n",
    " '01_Northam_Mantserre_20210414.dat',\n",
    " '01_Northam_Mantserre_20210519.dat',\n",
    " '01_Northam_Mantserre_20210625.dat',\n",
    " '01_Northam_Mantserre_20210706.dat',\n",
    " '01_Northam_Mantserre_20210719.csv',\n",
    " '01_Northam_Mantserre_20210719.dat',\n",
    " '01_Northam_Mantserre_20210903.dat',\n",
    " '01_Northam_Mantserre_TableMin_2021-06-25.dat']"
   ]
  },
  {
   "cell_type": "code",
   "execution_count": 337,
   "metadata": {},
   "outputs": [
    {
     "name": "stdout",
     "output_type": "stream",
     "text": [
      "01_Northam_Mantserre.dat\n",
      "01_Northam_Mantserre20210326.dat\n",
      "01_Northam_Mantserre20210511.dat\n",
      "01_Northam_Mantserre20210519.dat\n",
      "01_Northam_Mantserre20210719.csv\n",
      "01_Northam_Mantserre20210719.dat\n",
      "01_Northam_Mantserre_09192021.dat\n",
      "01_Northam_Mantserre_19072021.dat\n",
      "01_Northam_Mantserre_20210326.dat\n",
      "01_Northam_Mantserre_20210413.dat\n",
      "01_Northam_Mantserre_20210414.dat\n",
      "01_Northam_Mantserre_20210519.dat\n",
      "01_Northam_Mantserre_20210625.dat\n",
      "01_Northam_Mantserre_20210706.dat\n",
      "01_Northam_Mantserre_20210719.csv\n",
      "01_Northam_Mantserre_20210719.dat\n",
      "01_Northam_Mantserre_20210903.dat\n",
      "01_Northam_Mantserre_TableMin_2021-06-25.dat\n"
     ]
    }
   ],
   "source": [
    "Vars=[\"RECORD\",\"BattV\",\"AirTC_Avg\",\"RH_Avg\",\"WSpeed_Avg\",\"WDir_Avg\"]\n",
    "\n",
    "DataFiles = ['01_Northam_Mantserre.dat',\n",
    " '01_Northam_Mantserre20210326.dat',\n",
    " '01_Northam_Mantserre20210511.dat',\n",
    " '01_Northam_Mantserre20210519.dat',\n",
    " '01_Northam_Mantserre20210719.csv',\n",
    " '01_Northam_Mantserre20210719.dat',\n",
    " '01_Northam_Mantserre_09192021.dat',\n",
    " '01_Northam_Mantserre_19072021.dat',\n",
    " '01_Northam_Mantserre_20210326.dat',\n",
    " '01_Northam_Mantserre_20210413.dat',\n",
    " '01_Northam_Mantserre_20210414.dat',\n",
    " '01_Northam_Mantserre_20210519.dat',\n",
    " '01_Northam_Mantserre_20210625.dat',\n",
    " '01_Northam_Mantserre_20210706.dat',\n",
    " '01_Northam_Mantserre_20210719.csv',\n",
    " '01_Northam_Mantserre_20210719.dat',\n",
    " '01_Northam_Mantserre_20210903.dat',\n",
    " '01_Northam_Mantserre_TableMin_2021-06-25.dat']\n",
    "\n",
    "dfMet = pd.DataFrame() \n",
    "for File in DataFiles:                                                                                                                                                                                                                                                           \n",
    "  print(File)                                                                                                                                                                                                                                                                  \n",
    "  if File.endswith(\".dat\"):                                                                                                                                                                                                                                                                                                                                                                                                                                                                                                                            \n",
    "    df = pd.read_csv(Path(HomeDir/'01_Field Campaigns/GM_All_Locations/01_RawData/02_MET/', File),skiprows=2, header= 1, index_col=0, parse_dates=[0])                                                                                                                                                 \n",
    "    df = df.drop_duplicates()                                                                                                                                                                                                                      \n",
    "    df.columns = Vars                                                                                                                                                                                                                                                              \n",
    "                                                                                                                                                                                                                                        \n",
    "    if len(dfMet) == 0:                                                                                                                                                                                                                                                    \n",
    "        dfMet = df                                                                                                                                                                                                                                                         \n",
    "    else:                                                                                                                                                                                                                                                                        \n",
    "        dfMet = dfMet.combine_first(df)                                                                                                                                                                                                                              \n",
    "dfMet = dfMet['2021']                                                                                                                                                                                                                                     \n",
    "                                                                                                                                                                                                                                        "
   ]
  },
  {
   "cell_type": "code",
   "execution_count": 1,
   "metadata": {},
   "outputs": [
    {
     "ename": "NameError",
     "evalue": "name 'dfMet' is not defined",
     "output_type": "error",
     "traceback": [
      "\u001b[0;31m---------------------------------------------------------------------------\u001b[0m",
      "\u001b[0;31mNameError\u001b[0m                                 Traceback (most recent call last)",
      "\u001b[0;32m/tmp/ipykernel_7705/3338561423.py\u001b[0m in \u001b[0;36m<module>\u001b[0;34m\u001b[0m\n\u001b[0;32m----> 1\u001b[0;31m \u001b[0mdfMet\u001b[0m\u001b[0;34m.\u001b[0m\u001b[0mplot\u001b[0m\u001b[0;34m(\u001b[0m\u001b[0msubplots\u001b[0m\u001b[0;34m=\u001b[0m\u001b[0;32mTrue\u001b[0m\u001b[0;34m)\u001b[0m\u001b[0;34m\u001b[0m\u001b[0;34m\u001b[0m\u001b[0m\n\u001b[0m",
      "\u001b[0;31mNameError\u001b[0m: name 'dfMet' is not defined"
     ]
    }
   ],
   "source": [
    "dfMet.plot(subplots=True)"
   ]
  },
  {
   "cell_type": "code",
   "execution_count": 349,
   "metadata": {},
   "outputs": [
    {
     "data": {
      "text/plain": [
       "Index(['ES_Mfidikwe_clinic_ST_Wind_Speed (m/s)',\n",
       "       'ES_Mfidikwe_clinic_ST_Wind_Direction (deg)',\n",
       "       'ES_Mfidikwe_clinic_ST_PM2.5 (ug/m3)',\n",
       "       'ES_Mfidikwe_clinic_ST_Flow (l/m)',\n",
       "       'ES_Mfidikwe_clinic_ST_Temperature (degC)',\n",
       "       'ES_Mfidikwe_clinic_ST_Humidity (%)',\n",
       "       'ES_Mfidikwe_clinic_ST_Pressure (%)', 'ES_Sefikile_ST_Wind_Speed (m/s)',\n",
       "       'ES_Sefikile_ST_Wind_Direction (deg)', 'ES_Sefikile_ST_PM2.5 (ug/m3)',\n",
       "       'ES_Sefikile_ST_Flow (l/m)', 'ES_Sefikile_ST_Temperature (degC)',\n",
       "       'ES_Sefikile_ST_Humidity (%)', 'ES_Sefikile_ST_Pressure (%)',\n",
       "       'ES_Northam_Guesthouse_ST_Wind_Speed (m/s)',\n",
       "       'ES_Northam_Guesthouse_ST_Wind_Direction (deg)',\n",
       "       'ES_Northam_Guesthouse_ST_PM2.5 (ug/m3)',\n",
       "       'ES_Northam_Guesthouse_ST_Flow (l/m)',\n",
       "       'ES_Northam_Guesthouse_ST_Temperature (degC)',\n",
       "       'ES_Northam_Guesthouse_ST_Humidity (%)',\n",
       "       'ES_Northam_Guesthouse_ST_Pressure (%)',\n",
       "       'ES_Mfidikwe_church ST_Wind_Speed (m/s)',\n",
       "       'ES_Mfidikwe_church ST_Wind_Direction (deg)',\n",
       "       'ES_Mfidikwe_church ST_PM2.5 (ug/m3)',\n",
       "       'ES_Mfidikwe_church ST_Flow (l/m)',\n",
       "       'ES_Mfidikwe_church ST_Temperature (degC)',\n",
       "       'ES_Mfidikwe_church ST_Humidity (%)',\n",
       "       'ES_Mfidikwe_church ST_Pressure (%)',\n",
       "       'ES_Mantserre_ST_Wind_Speed (m/s)',\n",
       "       'ES_Mantserre_ST_Wind_Direction (deg)', 'ES_Mantserre_ST_PM2.5 (ug/m3)',\n",
       "       'ES_Mantserre_ST_Flow (l/m)', 'ES_Mantserre_ST_Temperature (degC)',\n",
       "       'ES_Mantserre_ST_Humidity (%)', 'ES_Mantserre_ST_Pressure (%)',\n",
       "       'ES_Bokamoso_ST_Wind_Speed (m/s)',\n",
       "       'ES_Bokamoso_ST_Wind_Direction (deg)', 'ES_Bokamoso_ST_PM2.5 (ug/m3)',\n",
       "       'ES_Bokamoso_ST_Flow (l/m)', 'ES_Bokamoso_ST_Temperature (degC)',\n",
       "       'ES_Bokamoso_ST_Humidity (%)', 'ES_Bokamoso_ST_Pressure (%)',\n",
       "       'ES_Northam_AQMS_Wind_Speed (m/s)',\n",
       "       'ES_Northam_AQMS_Wind_Direction (deg)',\n",
       "       'ES_Northam_AQMS_Temperature (degC)', 'ES_Northam_AQMS_Humidity (%)',\n",
       "       'ES_Northam_AQMS_Pressure (%)', 'ES_Northam_AQMS_PM2.5 (ug/m3)',\n",
       "       'ES_Northam_AQMS_Flow (l/m)', 'ES_Waterval_AQMS_Wind_Speed (m/s)',\n",
       "       'ES_Waterval_AQMS_Wind_Direction (deg)',\n",
       "       'ES_Waterval_AQMS_Temperature (degC)', 'ES_Waterval_AQMS_Humidity (%)',\n",
       "       'ES_Waterval_AQMS_Pressure (%)', 'ES_Waterval_AQMS_PM2.5 (ug/m3)',\n",
       "       'ES_Waterval_AQMS_Flow (l/m)', 'ES_decimalhour'],\n",
       "      dtype='object')"
      ]
     },
     "execution_count": 349,
     "metadata": {},
     "output_type": "execute_result"
    }
   ],
   "source": [
    "dfES2020.columns"
   ]
  },
  {
   "cell_type": "code",
   "execution_count": 351,
   "metadata": {},
   "outputs": [
    {
     "data": {
      "application/vnd.jupyter.widget-view+json": {
       "model_id": "6e4a5878211648c19e8825ef1893181d",
       "version_major": 2,
       "version_minor": 0
      },
      "text/plain": [
       "Canvas(toolbar=Toolbar(toolitems=[('Home', 'Reset original view', 'home', 'home'), ('Back', 'Back to previous …"
      ]
     },
     "metadata": {},
     "output_type": "display_data"
    },
    {
     "data": {
      "text/plain": [
       "<AxesSubplot:>"
      ]
     },
     "execution_count": 351,
     "metadata": {},
     "output_type": "execute_result"
    }
   ],
   "source": [
    "dfES2020[['ES_Mantserre_ST_Wind_Direction (deg)','ES_Mantserre_ST_Wind_Speed (m/s)' ]].plot()"
   ]
  },
  {
   "cell_type": "code",
   "execution_count": null,
   "metadata": {},
   "outputs": [],
   "source": []
  },
  {
   "cell_type": "code",
   "execution_count": 10,
   "metadata": {},
   "outputs": [
    {
     "ename": "NameError",
     "evalue": "name 'dfES2020' is not defined",
     "output_type": "error",
     "traceback": [
      "\u001b[0;31m---------------------------------------------------------------------------\u001b[0m",
      "\u001b[0;31mNameError\u001b[0m                                 Traceback (most recent call last)",
      "\u001b[0;32m/tmp/ipykernel_30013/932361399.py\u001b[0m in \u001b[0;36m<module>\u001b[0;34m\u001b[0m\n\u001b[1;32m     27\u001b[0m     \u001b[0;31m#          bbox_to_anchor=(1.1,0.5), bbox_transform=None, frameon=None, handler_map=None)\u001b[0m\u001b[0;34m\u001b[0m\u001b[0;34m\u001b[0m\u001b[0m\n\u001b[1;32m     28\u001b[0m \u001b[0;34m\u001b[0m\u001b[0m\n\u001b[0;32m---> 29\u001b[0;31m \u001b[0mplot_windrose\u001b[0m\u001b[0;34m(\u001b[0m\u001b[0mdfES2020\u001b[0m\u001b[0;34m)\u001b[0m\u001b[0;34m\u001b[0m\u001b[0;34m\u001b[0m\u001b[0m\n\u001b[0m",
      "\u001b[0;31mNameError\u001b[0m: name 'dfES2020' is not defined"
     ]
    }
   ],
   "source": [
    "def plot_windrose(dfES2020,WD=\"ES_Mantserre_ST_Wind_Direction (deg)\",WS=\"ES_Mantserre_ST_Wind_Speed (m/s)\"):                                                                                                                                                                                                                                                   \n",
    "    \n",
    "    # THe following two lines rounds the edges of the windrose bars to follow the bend in the circles, otherwise it is just a straight line.\n",
    "    #plt.hist([0, 1])\n",
    "    #plt.close()\n",
    "    ax = WindroseAxes.from_ax()\n",
    "\n",
    "    ax.bar(direction=dfES2020[WD], \n",
    "           var=dfES2020[WS],\n",
    "           bins=np.arange(0, 8, 1), \n",
    "           normed=True, opening=0.95, \n",
    "           edgecolor='white', \n",
    "           cmap=cm.viridis, linewidth=0.5)\n",
    "    #ax.set_xticklabels(['N','NE','E','SE','S','SW','W','NW'])\n",
    "    #ax.set_theta_zero_location(\"N\")\n",
    "    #ax.set_theta_direction(-1)\n",
    "    ax.set_yticks(np.arange(0, 60, step=5))\n",
    "    ax.set_yticklabels(np.arange(0, 60, step=5))\n",
    "    ax.set_title('ES642_2020_Mantserre')\n",
    "    ax.set_legend()\n",
    "    ##ax.legend(loc='center left', numpoints=2, markerscale=0.5, markerfirst=True, \n",
    "    #          scatterpoints=None, scatteryoffsets=None, prop=None, fontsize=12.0, \n",
    "    #          borderpad=0.5, labelspacing=0.5, handlelength=2.0, handleheight=0.5, \n",
    "    #          handletextpad=1.0, borderaxespad=1.0, columnspacing=1.0, ncol=1, mode=None, \n",
    "    #          fancybox=True, shadow=True, title='Wind Speed (m/s)', title_fontsize=12.0, \n",
    "    #          framealpha=0.95, edgecolor='inherit', facecolor='inherit', \n",
    "    #          bbox_to_anchor=(1.1,0.5), bbox_transform=None, frameon=None, handler_map=None)\n",
    "    \n",
    "plot_windrose(dfES2020)"
   ]
  },
  {
   "cell_type": "code",
   "execution_count": 340,
   "metadata": {},
   "outputs": [
    {
     "data": {
      "application/vnd.jupyter.widget-view+json": {
       "model_id": "76b38735337b4381b30ca2e322b18e4b",
       "version_major": 2,
       "version_minor": 0
      },
      "text/plain": [
       "Canvas(toolbar=Toolbar(toolitems=[('Home', 'Reset original view', 'home', 'home'), ('Back', 'Back to previous …"
      ]
     },
     "metadata": {},
     "output_type": "display_data"
    }
   ],
   "source": [
    "def plot_windrose(dfMet,WD=\"WDir_Avg\",WS=\"WSpeed_Avg\"):                                                                                                                                                                                                                                                   \n",
    "    \n",
    "    # THe following two lines rounds the edges of the windrose bars to follow the bend in the circles, otherwise it is just a straight line.\n",
    "    #plt.hist([0, 1])\n",
    "    #plt.close()\n",
    "    ax = WindroseAxes.from_ax()\n",
    "\n",
    "    ax.bar(direction=dfMet[WD], \n",
    "           var=dfMet[WS],\n",
    "           bins=np.arange(0, 8, 1), \n",
    "           normed=True, opening=0.95, \n",
    "           edgecolor='white', \n",
    "           cmap=cm.viridis, linewidth=0.5)\n",
    "    ax.set_xticklabels(['N','NE','E','SE','S','SW','W','NW'])\n",
    "    ax.set_theta_zero_location(\"N\")\n",
    "    ax.set_theta_direction(-1)\n",
    "    ax.set_yticks(np.arange(0, 60, step=5))\n",
    "    ax.set_yticklabels(np.arange(0, 60, step=5))\n",
    "    ax.set_title('GM5000_2021_Mantserre')\n",
    "    \n",
    "    ax.set_legend()\n",
    "    ax.legend(loc='center left', numpoints=2, markerscale=0.5, markerfirst=True, \n",
    "              scatterpoints=None, scatteryoffsets=None, prop=None, fontsize=12.0, \n",
    "              borderpad=0.5, labelspacing=0.5, handlelength=2.0, handleheight=0.5, \n",
    "              handletextpad=1.0, borderaxespad=1.0, columnspacing=1.0, ncol=1, mode=None, \n",
    "              fancybox=True, shadow=True, title='Wind Speed (m/s)', title_fontsize=12.0, \n",
    "              framealpha=0.95, edgecolor='inherit', facecolor='inherit', \n",
    "              bbox_to_anchor=(1.1,0.5), bbox_transform=None, frameon=None, handler_map=None)\n",
    "    \n",
    "plot_windrose(dfMet)"
   ]
  },
  {
   "cell_type": "markdown",
   "metadata": {},
   "source": [
    "## Sefikile MET"
   ]
  },
  {
   "cell_type": "code",
   "execution_count": 159,
   "metadata": {},
   "outputs": [
    {
     "name": "stdout",
     "output_type": "stream",
     "text": [
      "02_Northam_Sefikile200Series_Sefikile_TableMin_20210715_2021_07_15_13_50_32.dat\n",
      "02_Northam_Sefikile_17062021.dat\n",
      "02_Northam_Sefikile_20210519.dat\n",
      "02_Northam_Sefikile_20210713.dat\n",
      "02_Northam_Sefikile_20210714.dat\n",
      "02_Northam_Sefikile_20210715.dat\n"
     ]
    }
   ],
   "source": [
    "Vars=[\"RECORD\",\"BattV\",\"AirTC_Avg\",\"RH_Avg\",\"WSpeed_Avg\",\"WDir_Avg\"]\n",
    "\n",
    "DataFiles = ['02_Northam_Sefikile200Series_Sefikile_TableMin_20210715_2021_07_15_13_50_32.dat',\n",
    " '02_Northam_Sefikile_17062021.dat',\n",
    " '02_Northam_Sefikile_20210519.dat',\n",
    " '02_Northam_Sefikile_20210713.dat',\n",
    " '02_Northam_Sefikile_20210714.dat',\n",
    " '02_Northam_Sefikile_20210715.dat']\n",
    "\n",
    "dfS = pd.DataFrame() \n",
    "for File in DataFiles:                                                                                                                                                                                                                                                           \n",
    "  print(File)                                                                                                                                                                                                                                                                  \n",
    "  if File.endswith(\".dat\"):                                                                                                                                                                                                                                                                                                                                                                                                                                                                                                                            \n",
    "    df = pd.read_csv(Path(HomeDir/'01_Field Campaigns/GM_All_Locations/01_RawData/02_MET/', File),skiprows=2, header= 1, index_col=0, parse_dates=[0])                                                                                                                                                 \n",
    "    df = df.drop_duplicates()                                                                                                                                                                                                                      \n",
    "    df.columns = Vars                                                                                                                                                                                                                                                              \n",
    "                                                                                                                                                                                                                                        \n",
    "    if len(dfS) == 0:                                                                                                                                                                                                                                                    \n",
    "        dfS = df                                                                                                                                                                                                                                                         \n",
    "    else:                                                                                                                                                                                                                                                                        \n",
    "        dfS = dfS.combine_first(df)                                                                                                                                                                                                                              \n",
    "dfS = dfS['2021']                                                                                                                                                                                                                                        \n",
    "                                                                                                                                                                                                                                        "
   ]
  },
  {
   "cell_type": "code",
   "execution_count": 253,
   "metadata": {},
   "outputs": [
    {
     "name": "stdout",
     "output_type": "stream",
     "text": [
      "ES_Mfidikwe_clinic_ST_Wind_Speed (m/s)\n",
      "ES_Mfidikwe_clinic_ST_Wind_Direction (deg)\n",
      "ES_Sefikile_ST_Wind_Speed (m/s)\n",
      "ES_Sefikile_ST_Wind_Direction (deg)\n",
      "ES_Northam_Guesthouse_ST_Wind_Speed (m/s)\n",
      "ES_Northam_Guesthouse_ST_Wind_Direction (deg)\n",
      "ES_Mfidikwe_church ST_Wind_Speed (m/s)\n",
      "ES_Mfidikwe_church ST_Wind_Direction (deg)\n",
      "ES_Mantserre_ST_Wind_Speed (m/s)\n",
      "ES_Mantserre_ST_Wind_Direction (deg)\n",
      "ES_Bokamoso_ST_Wind_Speed (m/s)\n",
      "ES_Bokamoso_ST_Wind_Direction (deg)\n",
      "ES_Northam_AQMS_Wind_Speed (m/s)\n",
      "ES_Northam_AQMS_Wind_Direction (deg)\n",
      "ES_Waterval_AQMS_Wind_Speed (m/s)\n",
      "ES_Waterval_AQMS_Wind_Direction (deg)\n"
     ]
    }
   ],
   "source": [
    "for i in dfES2020.columns:\n",
    "    if \"Wind\" in i:\n",
    "        print(i)"
   ]
  },
  {
   "cell_type": "code",
   "execution_count": 314,
   "metadata": {},
   "outputs": [
    {
     "data": {
      "application/vnd.jupyter.widget-view+json": {
       "model_id": "b9658e326d89466bade3e2d47ef07d9b",
       "version_major": 2,
       "version_minor": 0
      },
      "text/plain": [
       "Canvas(toolbar=Toolbar(toolitems=[('Home', 'Reset original view', 'home', 'home'), ('Back', 'Back to previous …"
      ]
     },
     "metadata": {},
     "output_type": "display_data"
    }
   ],
   "source": [
    "def plot_windrose(dfES2020,WD=\"ES_Sefikile_ST_Wind_Direction (deg)\",WS=\"ES_Sefikile_ST_Wind_Speed (m/s)\"):                                                                                                                                                                                                                                                   \n",
    "    \n",
    "    # THe following two lines rounds the edges of the windrose bars to follow the bend in the circles, otherwise it is just a straight line.\n",
    "    #plt.hist([0, 1])\n",
    "    #plt.close()\n",
    "    ax = WindroseAxes.from_ax()\n",
    "\n",
    "    ax.bar(direction=dfES2020[WD], \n",
    "           var=dfES2020[WS],\n",
    "           bins=np.arange(0, 8, 1), \n",
    "           normed=True, opening=0.95, \n",
    "           edgecolor='white', \n",
    "           cmap=cm.viridis, linewidth=0.5)\n",
    "    ax.set_xticklabels(['N','NE','E','SE','S','SW','W','NW'])\n",
    "    ax.set_theta_zero_location(\"N\")\n",
    "    ax.set_theta_direction(-1)\n",
    "    ax.set_yticks(np.arange(0, 60, step=5))\n",
    "    ax.set_yticklabels(np.arange(0, 60, step=5))\n",
    "    ax.set_title('ES642_2020_Sefikile')\n",
    "    \n",
    "    ax.set_legend()\n",
    "    ax.legend(loc='center left', numpoints=2, markerscale=0.5, markerfirst=True, \n",
    "              scatterpoints=None, scatteryoffsets=None, prop=None, fontsize=12.0, \n",
    "              borderpad=0.5, labelspacing=0.5, handlelength=2.0, handleheight=0.5, \n",
    "              handletextpad=1.0, borderaxespad=1.0, columnspacing=1.0, ncol=1, mode=None, \n",
    "              fancybox=True, shadow=True, title='Wind Speed (m/s)', title_fontsize=12.0, \n",
    "              framealpha=0.95, edgecolor='inherit', facecolor='inherit', \n",
    "              bbox_to_anchor=(1.1,0.5), bbox_transform=None, frameon=None, handler_map=None)\n",
    "    \n",
    "plot_windrose(dfES2020)"
   ]
  },
  {
   "cell_type": "code",
   "execution_count": 315,
   "metadata": {},
   "outputs": [
    {
     "data": {
      "application/vnd.jupyter.widget-view+json": {
       "model_id": "fb1ca7905fbd427a80277026eb1ad04d",
       "version_major": 2,
       "version_minor": 0
      },
      "text/plain": [
       "Canvas(toolbar=Toolbar(toolitems=[('Home', 'Reset original view', 'home', 'home'), ('Back', 'Back to previous …"
      ]
     },
     "metadata": {},
     "output_type": "display_data"
    }
   ],
   "source": [
    "def plot_windrose(dfS,WD=\"WDir_Avg\",WS=\"WSpeed_Avg\"):                                                                                                                                                                                                                                                   \n",
    "    \n",
    "    # THe following two lines rounds the edges of the windrose bars to follow the bend in the circles, otherwise it is just a straight line.\n",
    "    #plt.hist([0, 1])\n",
    "    #plt.close()\n",
    "    ax = WindroseAxes.from_ax()\n",
    "\n",
    "    ax.bar(direction=dfS[WD], \n",
    "           var=dfS[WS],\n",
    "           bins=np.arange(0, 8, 1), \n",
    "           normed=True, opening=0.95, \n",
    "           edgecolor='white', \n",
    "           cmap=cm.viridis, linewidth=0.5)\n",
    "    ax.set_xticklabels(['N','NE','E','SE','S','SW','W','NW'])\n",
    "    ax.set_theta_zero_location(\"N\")\n",
    "    ax.set_theta_direction(-1)\n",
    "    ax.set_yticks(np.arange(0, 60, step=5))\n",
    "    ax.set_yticklabels(np.arange(0, 60, step=5))\n",
    "    ax.set_title('GM5000_2021_Sefikile')\n",
    "    \n",
    "    ax.set_legend()\n",
    "    ax.legend(loc='center left', numpoints=2, markerscale=0.5, markerfirst=True, \n",
    "              scatterpoints=None, scatteryoffsets=None, prop=None, fontsize=12.0, \n",
    "              borderpad=0.5, labelspacing=0.5, handlelength=2.0, handleheight=0.5, \n",
    "              handletextpad=1.0, borderaxespad=1.0, columnspacing=1.0, ncol=1, mode=None, \n",
    "              fancybox=True, shadow=True, title='Wind Speed (m/s)', title_fontsize=12.0, \n",
    "              framealpha=0.95, edgecolor='inherit', facecolor='inherit', \n",
    "              bbox_to_anchor=(1.1,0.5), bbox_transform=None, frameon=None, handler_map=None)\n",
    "    \n",
    "plot_windrose(dfS)"
   ]
  },
  {
   "cell_type": "markdown",
   "metadata": {},
   "source": [
    "## Northam Guesthouse MET"
   ]
  },
  {
   "cell_type": "code",
   "execution_count": 277,
   "metadata": {},
   "outputs": [
    {
     "name": "stdout",
     "output_type": "stream",
     "text": [
      "03_Northam_Guesthouse_20210617.dat\n",
      "03_Northam_Guesthouse_20210706.dat\n",
      "03_Northam_Guesthouse_20210715.dat\n",
      "03_Northam_Guesthouse_TableMin.2021-06-17.dat\n",
      "03_Northam_Guesthouse_TableMin_20210706_2021_07_06_09_14_25.dat\n",
      "03_Northam_Guesthouse_TableMin_20210715_2021_07_15_11_18_06.dat\n"
     ]
    }
   ],
   "source": [
    "Vars=[\"RECORD\",\"BattV\",\"AirTC_Avg\",\"RH_Avg\",\"WSpeed_Avg\",\"WDir_Avg\"]\n",
    "\n",
    "DataFiles = ['03_Northam_Guesthouse_20210617.dat',\n",
    " '03_Northam_Guesthouse_20210706.dat',\n",
    " '03_Northam_Guesthouse_20210715.dat',\n",
    " '03_Northam_Guesthouse_TableMin.2021-06-17.dat',\n",
    " '03_Northam_Guesthouse_TableMin_20210706_2021_07_06_09_14_25.dat',\n",
    " '03_Northam_Guesthouse_TableMin_20210715_2021_07_15_11_18_06.dat']\n",
    "\n",
    "dfNG = pd.DataFrame() \n",
    "for File in DataFiles:                                                                                                                                                                                                                                                           \n",
    "  print(File)                                                                                                                                                                                                                                                                  \n",
    "  if File.endswith(\".dat\"):                                                                                                                                                                                                                                                                                                                                                                                                                                                                                                                            \n",
    "    df = pd.read_csv(Path(HomeDir/'01_Field Campaigns/GM_All_Locations/01_RawData/02_MET/', File),skiprows=2, header= 1, index_col=0, parse_dates=[0])                                                                                                                                                 \n",
    "    df = df.drop_duplicates()                                                                                                                                                                                                                      \n",
    "    df.columns = Vars                                                                                                                                                                                                                                                              \n",
    "                                                                                                                                                                                                                                        \n",
    "    if len(dfNG) == 0:                                                                                                                                                                                                                                                    \n",
    "        dfNG = df                                                                                                                                                                                                                                                         \n",
    "    else:                                                                                                                                                                                                                                                                        \n",
    "        dfNG = dfNG.combine_first(df)\n",
    "        \n",
    "        for v in Vars:\n",
    "            ConvertNumeric(dfNG,v)                                                                                                                                                                                                                             \n",
    "dfNG = dfNG['2021']\n",
    "\n"
   ]
  },
  {
   "cell_type": "code",
   "execution_count": 278,
   "metadata": {
    "scrolled": true
   },
   "outputs": [
    {
     "name": "stdout",
     "output_type": "stream",
     "text": [
      "<class 'pandas.core.frame.DataFrame'>\n",
      "DatetimeIndex: 13761 entries, 2021-05-19 15:05:00 to 2021-07-15 11:15:00\n",
      "Data columns (total 6 columns):\n",
      " #   Column      Non-Null Count  Dtype  \n",
      "---  ------      --------------  -----  \n",
      " 0   RECORD      13761 non-null  float64\n",
      " 1   BattV       13761 non-null  float64\n",
      " 2   AirTC_Avg   13761 non-null  float64\n",
      " 3   RH_Avg      13761 non-null  float64\n",
      " 4   WSpeed_Avg  13749 non-null  float64\n",
      " 5   WDir_Avg    13761 non-null  float64\n",
      "dtypes: float64(6)\n",
      "memory usage: 752.6 KB\n"
     ]
    }
   ],
   "source": [
    "dfNG.info()"
   ]
  },
  {
   "cell_type": "code",
   "execution_count": 279,
   "metadata": {},
   "outputs": [
    {
     "name": "stdout",
     "output_type": "stream",
     "text": [
      "ES_Northam_Guesthouse_ST_Wind_Speed (m/s)\n",
      "ES_Northam_Guesthouse_ST_Wind_Direction (deg)\n",
      "ES_Northam_Guesthouse_ST_PM2.5 (ug/m3)\n",
      "ES_Northam_Guesthouse_ST_Flow (l/m)\n",
      "ES_Northam_Guesthouse_ST_Temperature (degC)\n",
      "ES_Northam_Guesthouse_ST_Humidity (%)\n",
      "ES_Northam_Guesthouse_ST_Pressure (%)\n"
     ]
    }
   ],
   "source": [
    "for i in dfES2020.columns:\n",
    "    if 'Guesthouse' in i:\n",
    "        print(i)"
   ]
  },
  {
   "cell_type": "code",
   "execution_count": 316,
   "metadata": {},
   "outputs": [
    {
     "data": {
      "application/vnd.jupyter.widget-view+json": {
       "model_id": "31d878423cff4dfea0f673584ef20022",
       "version_major": 2,
       "version_minor": 0
      },
      "text/plain": [
       "Canvas(toolbar=Toolbar(toolitems=[('Home', 'Reset original view', 'home', 'home'), ('Back', 'Back to previous …"
      ]
     },
     "metadata": {},
     "output_type": "display_data"
    }
   ],
   "source": [
    "def plot_windrose(dfES2020,WD=\"ES_Northam_Guesthouse_ST_Wind_Direction (deg)\",WS=\"ES_Northam_Guesthouse_ST_Wind_Speed (m/s)\"):                                                                                                                                                                                                                                                   \n",
    "    \n",
    "    # THe following two lines rounds the edges of the windrose bars to follow the bend in the circles, otherwise it is just a straight line.\n",
    "    #plt.hist([0, 1])\n",
    "    #plt.close()\n",
    "    ax = WindroseAxes.from_ax()\n",
    "\n",
    "    ax.bar(direction=dfES2020[WD], \n",
    "           var=dfES2020[WS],\n",
    "           bins=np.arange(0, 8, 1), \n",
    "           normed=True, opening=0.95, \n",
    "           edgecolor='white', \n",
    "           cmap=cm.viridis, linewidth=0.5)\n",
    "    ax.set_xticklabels(['N','NE','E','SE','S','SW','W','NW'])\n",
    "    ax.set_theta_zero_location(\"N\")\n",
    "    ax.set_theta_direction(-1)\n",
    "    ax.set_yticks(np.arange(0, 60, step=5))\n",
    "    ax.set_yticklabels(np.arange(0, 60, step=5))\n",
    "    ax.set_title('ES642_2020_Northam_Guesthouse')\n",
    "    \n",
    "    ax.set_legend()\n",
    "    ax.legend(loc='center left', numpoints=2, markerscale=0.5, markerfirst=True, \n",
    "              scatterpoints=None, scatteryoffsets=None, prop=None, fontsize=12.0, \n",
    "              borderpad=0.5, labelspacing=0.5, handlelength=2.0, handleheight=0.5, \n",
    "              handletextpad=1.0, borderaxespad=1.0, columnspacing=1.0, ncol=1, mode=None, \n",
    "              fancybox=True, shadow=True, title='Wind Speed (m/s)', title_fontsize=12.0, \n",
    "              framealpha=0.95, edgecolor='inherit', facecolor='inherit', \n",
    "              bbox_to_anchor=(1.1,0.5), bbox_transform=None, frameon=None, handler_map=None)\n",
    "    \n",
    "plot_windrose(dfES2020)"
   ]
  },
  {
   "cell_type": "code",
   "execution_count": 317,
   "metadata": {},
   "outputs": [
    {
     "data": {
      "application/vnd.jupyter.widget-view+json": {
       "model_id": "0aaf38116ea7469fb8c497b212def0e7",
       "version_major": 2,
       "version_minor": 0
      },
      "text/plain": [
       "Canvas(toolbar=Toolbar(toolitems=[('Home', 'Reset original view', 'home', 'home'), ('Back', 'Back to previous …"
      ]
     },
     "metadata": {},
     "output_type": "display_data"
    }
   ],
   "source": [
    "def plot_windrose(dfNG,WD=\"WDir_Avg\",WS=\"WSpeed_Avg\"):                                                                                                                                                                                                                                                   \n",
    "    \n",
    "    # THe following two lines rounds the edges of the windrose bars to follow the bend in the circles, otherwise it is just a straight line.\n",
    "    #plt.hist([0, 1])\n",
    "    #plt.close()\n",
    "    ax = WindroseAxes.from_ax()\n",
    "\n",
    "    ax.bar(direction=dfNG[WD], \n",
    "           var=dfNG[WS],\n",
    "           bins=np.arange(0, 8, 1), \n",
    "           normed=True, opening=0.95, \n",
    "           edgecolor='white', \n",
    "           cmap=cm.viridis, linewidth=0.5)\n",
    "    ax.set_xticklabels(['N','NE','E','SE','S','SW','W','NW'])\n",
    "    ax.set_theta_zero_location(\"N\")\n",
    "    ax.set_theta_direction(-1)\n",
    "    ax.set_yticks(np.arange(0, 60, step=5))\n",
    "    ax.set_yticklabels(np.arange(0, 60, step=5))\n",
    "    ax.set_title('GM5000_2021_Northam_Guesthouse')\n",
    "    \n",
    "    ax.set_legend()\n",
    "    ax.legend(loc='center left', numpoints=2, markerscale=0.5, markerfirst=True, \n",
    "              scatterpoints=None, scatteryoffsets=None, prop=None, fontsize=12.0, \n",
    "              borderpad=0.5, labelspacing=0.5, handlelength=2.0, handleheight=0.5, \n",
    "              handletextpad=1.0, borderaxespad=1.0, columnspacing=1.0, ncol=1, mode=None, \n",
    "              fancybox=True, shadow=True, title='Wind Speed (m/s)', title_fontsize=12.0, \n",
    "              framealpha=0.95, edgecolor='inherit', facecolor='inherit', \n",
    "              bbox_to_anchor=(1.1,0.5), bbox_transform=None, frameon=None, handler_map=None)\n",
    "    \n",
    "plot_windrose(dfNG)"
   ]
  },
  {
   "cell_type": "markdown",
   "metadata": {},
   "source": [
    "## Northam LongTerm MET"
   ]
  },
  {
   "cell_type": "code",
   "execution_count": 318,
   "metadata": {},
   "outputs": [
    {
     "data": {
      "application/vnd.jupyter.widget-view+json": {
       "model_id": "e52fd8130b934ff5a4ea56d68c834ddd",
       "version_major": 2,
       "version_minor": 0
      },
      "text/plain": [
       "Canvas(toolbar=Toolbar(toolitems=[('Home', 'Reset original view', 'home', 'home'), ('Back', 'Back to previous …"
      ]
     },
     "metadata": {},
     "output_type": "display_data"
    }
   ],
   "source": [
    "def plot_windrose(dfES2020,WD=\"ES_Northam_AQMS_Wind_Direction (deg)\",WS=\"ES_Northam_AQMS_Wind_Speed (m/s)\"):                                                                                                                                                                                                                                                   \n",
    "    \n",
    "    # THe following two lines rounds the edges of the windrose bars to follow the bend in the circles, otherwise it is just a straight line.\n",
    "    #plt.hist([0, 1])\n",
    "    #plt.close()\n",
    "    ax = WindroseAxes.from_ax()\n",
    "\n",
    "    ax.bar(direction=dfES2020[WD], \n",
    "           var=dfES2020[WS],\n",
    "           bins=np.arange(0, 8, 1), \n",
    "           normed=True, opening=0.95, \n",
    "           edgecolor='white', \n",
    "           cmap=cm.viridis, linewidth=0.5)\n",
    "    ax.set_xticklabels(['N','NE','E','SE','S','SW','W','NW'])\n",
    "    ax.set_theta_zero_location(\"N\")\n",
    "    ax.set_theta_direction(-1)\n",
    "    ax.set_yticks(np.arange(0, 60, step=5))\n",
    "    ax.set_yticklabels(np.arange(0, 60, step=5))\n",
    "    ax.set_title('ES642_2020_Northam_Longterm')\n",
    "    \n",
    "    ax.set_legend()\n",
    "    ax.legend(loc='center left', numpoints=2, markerscale=0.5, markerfirst=True, \n",
    "              scatterpoints=None, scatteryoffsets=None, prop=None, fontsize=12.0, \n",
    "              borderpad=0.5, labelspacing=0.5, handlelength=2.0, handleheight=0.5, \n",
    "              handletextpad=1.0, borderaxespad=1.0, columnspacing=1.0, ncol=1, mode=None, \n",
    "              fancybox=True, shadow=True, title='Wind Speed (m/s)', title_fontsize=12.0, \n",
    "              framealpha=0.95, edgecolor='inherit', facecolor='inherit', \n",
    "              bbox_to_anchor=(1.1,0.5), bbox_transform=None, frameon=None, handler_map=None)\n",
    "    \n",
    "plot_windrose(dfES2020)"
   ]
  },
  {
   "cell_type": "code",
   "execution_count": 324,
   "metadata": {},
   "outputs": [
    {
     "data": {
      "application/vnd.jupyter.widget-view+json": {
       "model_id": "c219ce31968444cbbfe93fd9c61ef995",
       "version_major": 2,
       "version_minor": 0
      },
      "text/plain": [
       "Canvas(toolbar=Toolbar(toolitems=[('Home', 'Reset original view', 'home', 'home'), ('Back', 'Back to previous …"
      ]
     },
     "metadata": {},
     "output_type": "display_data"
    }
   ],
   "source": [
    "def plot_windrose(dfLT,WD=\"N_Wind_Direction (deg)\",WS=\"N_Wind_Speed_Max (m/s)\"):                                                                                                                                                                                                                                                   \n",
    "    \n",
    "    # THe following two lines rounds the edges of the windrose bars to follow the bend in the circles, otherwise it is just a straight line.\n",
    "    #plt.hist([0, 1])\n",
    "    #plt.close()\n",
    "    ax = WindroseAxes.from_ax()\n",
    "\n",
    "    ax.bar(direction=dfLT[WD], \n",
    "           var=dfLT[WS],\n",
    "           bins=np.arange(0, 8, 1), \n",
    "           normed=True, opening=0.95, \n",
    "           edgecolor='white', \n",
    "           cmap=cm.viridis, linewidth=0.5)\n",
    "    ax.set_xticklabels(['N','NE','E','SE','S','SW','W','NW'])\n",
    "    ax.set_theta_zero_location(\"N\")\n",
    "    ax.set_theta_direction(-1)\n",
    "    ax.set_yticks(np.arange(0, 60, step=5))\n",
    "    ax.set_yticklabels(np.arange(0, 60, step=5))\n",
    "    ax.set_title('Northam_Longterm')\n",
    "    \n",
    "    \n",
    "    ax.set_legend()\n",
    "    #ax.legend(loc='center left', numpoints=2, markerscale=0.5, markerfirst=True, \n",
    "     #         scatterpoints=None, scatteryoffsets=None, prop=None, fontsize=12.0, \n",
    "      #        borderpad=0.5, labelspacing=0.5, handlelength=2.0, handleheight=0.5, \n",
    "       #       handletextpad=1.0, borderaxespad=1.0, columnspacing=1.0, ncol=1, mode=None, \n",
    "        #      fancybox=True, shadow=True, title='Wind Speed (m/s)', title_fontsize=12.0, \n",
    "         #     framealpha=0.95, edgecolor='inherit', facecolor='inherit', \n",
    "          #    bbox_to_anchor=(1.1,0.5), bbox_transform=None, frameon=None, handler_map=None)\n",
    "    \n",
    "plot_windrose(dfLT)"
   ]
  },
  {
   "cell_type": "markdown",
   "metadata": {},
   "source": [
    "## Waterval MET"
   ]
  },
  {
   "cell_type": "code",
   "execution_count": 298,
   "metadata": {},
   "outputs": [
    {
     "name": "stdout",
     "output_type": "stream",
     "text": [
      "ES_Mfidikwe_clinic_ST_Wind_Speed (m/s)\n",
      "ES_Mfidikwe_clinic_ST_Wind_Direction (deg)\n",
      "ES_Sefikile_ST_Wind_Speed (m/s)\n",
      "ES_Sefikile_ST_Wind_Direction (deg)\n",
      "ES_Northam_Guesthouse_ST_Wind_Speed (m/s)\n",
      "ES_Northam_Guesthouse_ST_Wind_Direction (deg)\n",
      "ES_Mfidikwe_church ST_Wind_Speed (m/s)\n",
      "ES_Mfidikwe_church ST_Wind_Direction (deg)\n",
      "ES_Mantserre_ST_Wind_Speed (m/s)\n",
      "ES_Mantserre_ST_Wind_Direction (deg)\n",
      "ES_Bokamoso_ST_Wind_Speed (m/s)\n",
      "ES_Bokamoso_ST_Wind_Direction (deg)\n",
      "ES_Northam_AQMS_Wind_Speed (m/s)\n",
      "ES_Northam_AQMS_Wind_Direction (deg)\n",
      "ES_Waterval_AQMS_Wind_Speed (m/s)\n",
      "ES_Waterval_AQMS_Wind_Direction (deg)\n"
     ]
    }
   ],
   "source": [
    "for i in dfES2020.columns:\n",
    "    if 'Wind' in i:\n",
    "        print(i)"
   ]
  },
  {
   "cell_type": "code",
   "execution_count": 306,
   "metadata": {},
   "outputs": [
    {
     "name": "stdout",
     "output_type": "stream",
     "text": [
      "'W_Wind_Direction (deg)',\n",
      "'W_Wind_Direction_Std (deg)',\n",
      "'W_Wind_Speed (m/s)',\n",
      "'W_Wind_Speed_Std (m/s)',\n",
      "'W_PM2.5_Wind_Speed (m/s)',\n",
      "'W_PM2.5_Wind_Direction (Deg)',\n",
      "'N_Wind_Direction (deg)',\n",
      "'N_Wind_Direction_Std (deg)',\n",
      "'N_Wind_Speed_Max (m/s)',\n",
      "'N_Wind_Speed_Std (m/s)',\n",
      "'N_PM10_Wind_Speed (m/s)',\n",
      "'N_PM10_Wind_Direction (Deg)',\n",
      "'N_PM2.5_Wind_Speed (m/s)',\n",
      "'N_PM2.5_Wind_Direction (Deg)',\n"
     ]
    }
   ],
   "source": [
    "for i in dfLT.columns:\n",
    "    if 'Wind' in i:\n",
    "        print(\"'{}',\".format(i))"
   ]
  },
  {
   "cell_type": "code",
   "execution_count": 307,
   "metadata": {
    "scrolled": true
   },
   "outputs": [
    {
     "data": {
      "application/vnd.jupyter.widget-view+json": {
       "model_id": "a05e8b0007ab4fc59ea6ccfe16abc682",
       "version_major": 2,
       "version_minor": 0
      },
      "text/plain": [
       "Canvas(toolbar=Toolbar(toolitems=[('Home', 'Reset original view', 'home', 'home'), ('Back', 'Back to previous …"
      ]
     },
     "metadata": {},
     "output_type": "display_data"
    },
    {
     "data": {
      "text/plain": [
       "array([<AxesSubplot:>, <AxesSubplot:>, <AxesSubplot:>, <AxesSubplot:>,\n",
       "       <AxesSubplot:>, <AxesSubplot:>], dtype=object)"
      ]
     },
     "execution_count": 307,
     "metadata": {},
     "output_type": "execute_result"
    }
   ],
   "source": [
    "wwind = ['W_Wind_Direction (deg)',\n",
    "'W_Wind_Direction_Std (deg)',\n",
    "'W_Wind_Speed (m/s)',\n",
    "'W_Wind_Speed_Std (m/s)',\n",
    "'W_PM2.5_Wind_Speed (m/s)',\n",
    "'W_PM2.5_Wind_Direction (Deg)']\n",
    "\n",
    "dfLT[wwind].plot(subplots=True)"
   ]
  },
  {
   "cell_type": "code",
   "execution_count": 325,
   "metadata": {},
   "outputs": [
    {
     "data": {
      "application/vnd.jupyter.widget-view+json": {
       "model_id": "6528902d8a114a55b82307ab3a0af507",
       "version_major": 2,
       "version_minor": 0
      },
      "text/plain": [
       "Canvas(toolbar=Toolbar(toolitems=[('Home', 'Reset original view', 'home', 'home'), ('Back', 'Back to previous …"
      ]
     },
     "metadata": {},
     "output_type": "display_data"
    }
   ],
   "source": [
    "def plot_windrose(dfLT,WD=\"W_Wind_Direction (deg)\",WS=\"W_Wind_Speed (m/s)\"):                                                                                                                                                                                                                                                   \n",
    "    \n",
    "    # THe following two lines rounds the edges of the windrose bars to follow the bend in the circles, otherwise it is just a straight line.\n",
    "    #plt.hist([0, 1])\n",
    "    #plt.close()\n",
    "    ax = WindroseAxes.from_ax()\n",
    "\n",
    "    ax.bar(direction=dfLT[WD], \n",
    "           var=dfLT[WS],\n",
    "           bins=np.arange(0, 8, 1), \n",
    "           normed=True, opening=0.95, \n",
    "           edgecolor='white', \n",
    "           cmap=cm.viridis, linewidth=0.5)\n",
    "    ax.set_xticklabels(['N','NE','E','SE','S','SW','W','NW'])\n",
    "    ax.set_theta_zero_location(\"N\")\n",
    "    ax.set_theta_direction(-1)\n",
    "    ax.set_yticks(np.arange(0, 60, step=5))\n",
    "    ax.set_yticklabels(np.arange(0, 60, step=5))\n",
    "    ax.set_title('Waterval_Longterm')\n",
    "    \n",
    "    ax.set_legend()\n",
    "    ax.legend(loc='center left', numpoints=2, markerscale=0.5, markerfirst=True, \n",
    "              scatterpoints=None, scatteryoffsets=None, prop=None, fontsize=12.0, \n",
    "              borderpad=0.5, labelspacing=0.5, handlelength=2.0, handleheight=0.5, \n",
    "              handletextpad=1.0, borderaxespad=1.0, columnspacing=1.0, ncol=1, mode=None, \n",
    "              fancybox=True, shadow=True, title='Wind Speed (m/s)', title_fontsize=12.0, \n",
    "              framealpha=0.95, edgecolor='inherit', facecolor='inherit', \n",
    "              bbox_to_anchor=(1.1,0.5), bbox_transform=None, frameon=None, handler_map=None)\n",
    "    \n",
    "plot_windrose(dfLT)"
   ]
  },
  {
   "cell_type": "code",
   "execution_count": 326,
   "metadata": {},
   "outputs": [
    {
     "data": {
      "application/vnd.jupyter.widget-view+json": {
       "model_id": "ca73141f13724f10a8308961fa87ab38",
       "version_major": 2,
       "version_minor": 0
      },
      "text/plain": [
       "Canvas(toolbar=Toolbar(toolitems=[('Home', 'Reset original view', 'home', 'home'), ('Back', 'Back to previous …"
      ]
     },
     "metadata": {},
     "output_type": "display_data"
    }
   ],
   "source": [
    "def plot_windrose(dfES2020,WD=\"ES_Waterval_AQMS_Wind_Direction (deg)\",WS=\"ES_Waterval_AQMS_Wind_Speed (m/s)\"):                                                                                                                                                                                                                                                   \n",
    "    \n",
    "    # THe following two lines rounds the edges of the windrose bars to follow the bend in the circles, otherwise it is just a straight line.\n",
    "    #plt.hist([0, 1])\n",
    "    #plt.close()\n",
    "    ax = WindroseAxes.from_ax()\n",
    "\n",
    "    ax.bar(direction=dfES2020[WD], \n",
    "           var=dfES2020[WS],\n",
    "           bins=np.arange(0, 8, 1), \n",
    "           normed=True, opening=0.95, \n",
    "           edgecolor='white', \n",
    "           cmap=cm.viridis, linewidth=0.5)\n",
    "    ax.set_xticklabels(['N','NE','E','SE','S','SW','W','NW'])\n",
    "    ax.set_theta_zero_location(\"N\")\n",
    "    ax.set_theta_direction(-1)\n",
    "    ax.set_yticks(np.arange(0, 60, step=5))\n",
    "    ax.set_yticklabels(np.arange(0, 60, step=5))\n",
    "    ax.set_title('ES642_2020_Waterval_Longterm')\n",
    "    \n",
    "    ax.set_legend()\n",
    "    ax.legend(loc='center left', numpoints=2, markerscale=0.5, markerfirst=True, \n",
    "              scatterpoints=None, scatteryoffsets=None, prop=None, fontsize=12.0, \n",
    "              borderpad=0.5, labelspacing=0.5, handlelength=2.0, handleheight=0.5, \n",
    "              handletextpad=1.0, borderaxespad=1.0, columnspacing=1.0, ncol=1, mode=None, \n",
    "              fancybox=True, shadow=True, title='Wind Speed (m/s)', title_fontsize=12.0, \n",
    "              framealpha=0.95, edgecolor='inherit', facecolor='inherit', \n",
    "              bbox_to_anchor=(1.1,0.5), bbox_transform=None, frameon=None, handler_map=None)\n",
    "    \n",
    "plot_windrose(dfES2020)"
   ]
  },
  {
   "cell_type": "code",
   "execution_count": null,
   "metadata": {},
   "outputs": [],
   "source": []
  }
 ],
 "metadata": {
  "kernelspec": {
   "display_name": "conda-python3-env",
   "language": "python",
   "name": "conda-python3-env"
  },
  "language_info": {
   "codemirror_mode": {
    "name": "ipython",
    "version": 3
   },
   "file_extension": ".py",
   "mimetype": "text/x-python",
   "name": "python",
   "nbconvert_exporter": "python",
   "pygments_lexer": "ipython3",
   "version": "3.10.0"
  },
  "toc": {
   "base_numbering": 1,
   "nav_menu": {},
   "number_sections": true,
   "sideBar": true,
   "skip_h1_title": false,
   "title_cell": "Table of Contents",
   "title_sidebar": "Contents",
   "toc_cell": true,
   "toc_position": {
    "height": "calc(100% - 180px)",
    "left": "10px",
    "top": "150px",
    "width": "165px"
   },
   "toc_section_display": true,
   "toc_window_display": true
  }
 },
 "nbformat": 4,
 "nbformat_minor": 4
}
